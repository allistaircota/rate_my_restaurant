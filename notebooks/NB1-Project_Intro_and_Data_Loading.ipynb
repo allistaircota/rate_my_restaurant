{
 "cells": [
  {
   "cell_type": "markdown",
   "id": "0e8075d2",
   "metadata": {},
   "source": [
    "# Notebook 1 - Project Introduction and Data Loading\n",
    "\n",
    "*Allistair Cota*\n",
    "\n",
    "*BrainStation Data Science Bootcamp*\n",
    "\n",
    "*September 2021 Cohort*\n",
    "\n",
    "This is Notebook 1 of the restaurant rating predictor capstone project, titled **Rate My Restaurant**. This notebook discusses the project goal, data acquisition and exploration of supplementary data sources. The data will then be loaded in from the original files, filtered and then exported for use in the next notebook.\n",
    "\n",
    "Below is the reminder of the notebook sequence. Please read the notebooks in sequence.\n",
    "\n",
    "- **Current Notebook:** NB1-Project_Intro_and_Data_Loading\n",
    "\n",
    "- **Next Notebook:** NB2-Data_Cleaning_EDA_Feature_Engineering"
   ]
  },
  {
   "cell_type": "markdown",
   "id": "1165c8f4",
   "metadata": {},
   "source": [
    "<h1>Table of Contents<span class=\"tocSkip\"></span></h1>\n",
    "<div class=\"toc\"><ul class=\"toc-item\"><li><span><a href=\"#Introduction\" data-toc-modified-id=\"Introduction-1\"><span class=\"toc-item-num\">1&nbsp;&nbsp;</span>Introduction</a></span></li><li><span><a href=\"#Project-Goal\" data-toc-modified-id=\"Project-Goal-2\"><span class=\"toc-item-num\">2&nbsp;&nbsp;</span>Project Goal</a></span></li><li><span><a href=\"#Data-Acquisition\" data-toc-modified-id=\"Data-Acquisition-3\"><span class=\"toc-item-num\">3&nbsp;&nbsp;</span>Data Acquisition</a></span></li><li><span><a href=\"#Supplementary-Data-Sources\" data-toc-modified-id=\"Supplementary-Data-Sources-4\"><span class=\"toc-item-num\">4&nbsp;&nbsp;</span>Supplementary Data Sources</a></span></li><li><span><a href=\"#Methodology\" data-toc-modified-id=\"Methodology-5\"><span class=\"toc-item-num\">5&nbsp;&nbsp;</span>Methodology</a></span></li><li><span><a href=\"#Import-the-Required-Libraries\" data-toc-modified-id=\"Import-the-Required-Libraries-6\"><span class=\"toc-item-num\">6&nbsp;&nbsp;</span>Import the Required Libraries</a></span></li><li><span><a href=\"#Load-the-Business-Dataset\" data-toc-modified-id=\"Load-the-Business-Dataset-7\"><span class=\"toc-item-num\">7&nbsp;&nbsp;</span>Load the Business Dataset</a></span></li><li><span><a href=\"#Load-the-Reviews-Dataset\" data-toc-modified-id=\"Load-the-Reviews-Dataset-8\"><span class=\"toc-item-num\">8&nbsp;&nbsp;</span>Load the Reviews Dataset</a></span></li></ul></div>"
   ]
  },
  {
   "cell_type": "markdown",
   "id": "b490402d",
   "metadata": {},
   "source": [
    "## Introduction\n",
    "\n",
    "The restaurant industry in the United States generated \\\\$833.1 billion in revenue in 2018 and was projected to reach $863 billion in 2019 [1]. Restaurants reviews and ratings on popular review websites are important factors in attracting new customers. Yelp is one of the most popular review websites, including over 135 million restaurant and business reviews and over 90 million users visiting the website per month. A study found that a one star increase in a Yelp rating leads to a 5% - 9% increase in revenue for a restaurant [2]. This underlines the financial importance of Yelp ratings on restaurants."
   ]
  },
  {
   "cell_type": "markdown",
   "id": "8b00552d",
   "metadata": {},
   "source": [
    "## Project Goal\n",
    "\n",
    "The goal of this project is to help aspiring restaurant owners understand the ratings their planned restaurant might get on a review website, given the amenities they plan to include, and feedback received from soft openings. By using a combination of numerical, categorical, and text data, we utilize Natural Language Processing (NLP) and machine learning techniques to build a regression model that can predict the rating of a restaurant assigned by a customer. This will give restauranteurs an advanced awareness of customers’ sentiment towards the restaurants, allowing them to make any changes prior to opening to avoid receiving low ratings once in operation."
   ]
  },
  {
   "cell_type": "markdown",
   "id": "29133fdd",
   "metadata": {},
   "source": [
    "## Data Acquisition\n",
    "\n",
    "The data for this project was acquired from the Yelp Open Dataset [3], which is published by Yelp on its [website](https://www.yelp.com/dataset) for educational and non-commercial purposes. It consists of a subset of Yelp's businesses, reviews, and user data. The entire dataset is divided among separate JSON files, namely:\n",
    "- Business dataset, which contains information about each business including ID, name, address, category, attributes and operating hours\n",
    "- Reviews dataset, which contains reviews by Yelp users on different businesses\n",
    "- User dataset, which contains information about the Yelp activity of each user\n",
    "- Tips dataset, which contains tips on different businesses\n",
    "- Check-ins dataset, which contains the timestamps for each time a Yelp user checks in at a business\n",
    "\n",
    "For this project, I will only utilize the business and review datasets."
   ]
  },
  {
   "cell_type": "markdown",
   "id": "488b9109",
   "metadata": {},
   "source": [
    "## Supplementary Data Sources\n",
    "\n",
    "Additional data sources were researched in the early stages of the project to gain information about restaurant menu items, since this information is not included in the Yelp dataset. The only source found with this information was [Documenu API](https://documenu.com/) which claims to provide access to over 600,000 US restaurant menus with over 40 million individual menu items. However, after trialling this service, it was found that the service limited  menu query results to a maximum of 25 restaurants per API call, with some restaurants returning missing menu information. In addition, the service limits the user to just 25 API calls per month before introducing paid tiers to increase the number of API calls. Due to these limitations, exploring this data source was abandoned early in the project due to the unknown value that this information would bring. Given more time, budget, and also foresight about what the size of the final filtered dataset for this project would look like, it would have been interesting to supplement our main data source with the Documenu data."
   ]
  },
  {
   "cell_type": "markdown",
   "id": "f6cdd147",
   "metadata": {},
   "source": [
    "## Methodology\n",
    "\n",
    "In this notebook, we will load the required JSON files from the Yelp Open dataset, keeping only the required records that pertain to restaurants in Massachusetts, and export the data into CSV files for the next step in this project which is data cleaning and EDA."
   ]
  },
  {
   "cell_type": "markdown",
   "id": "0a4c5d02",
   "metadata": {},
   "source": [
    "## Import the Required Libraries\n",
    "\n",
    "We will require the Pandas and JSON libraries for this notebook."
   ]
  },
  {
   "cell_type": "code",
   "execution_count": 2,
   "id": "e82719f3",
   "metadata": {},
   "outputs": [],
   "source": [
    "import pandas as pd\n",
    "import json"
   ]
  },
  {
   "cell_type": "markdown",
   "id": "1e9e73d4",
   "metadata": {},
   "source": [
    "## Load the Business Dataset"
   ]
  },
  {
   "cell_type": "markdown",
   "id": "5bfbb298",
   "metadata": {},
   "source": [
    "We will begin by loading business dataset JSON file into a Pandas data frame."
   ]
  },
  {
   "cell_type": "code",
   "execution_count": 3,
   "id": "bbe87ae8",
   "metadata": {},
   "outputs": [
    {
     "name": "stdout",
     "output_type": "stream",
     "text": [
      "CPU times: user 3.09 s, sys: 780 ms, total: 3.86 s\n",
      "Wall time: 3.94 s\n"
     ]
    },
    {
     "data": {
      "text/html": [
       "<div>\n",
       "<style scoped>\n",
       "    .dataframe tbody tr th:only-of-type {\n",
       "        vertical-align: middle;\n",
       "    }\n",
       "\n",
       "    .dataframe tbody tr th {\n",
       "        vertical-align: top;\n",
       "    }\n",
       "\n",
       "    .dataframe thead th {\n",
       "        text-align: right;\n",
       "    }\n",
       "</style>\n",
       "<table border=\"1\" class=\"dataframe\">\n",
       "  <thead>\n",
       "    <tr style=\"text-align: right;\">\n",
       "      <th></th>\n",
       "      <th>business_id</th>\n",
       "      <th>name</th>\n",
       "      <th>address</th>\n",
       "      <th>city</th>\n",
       "      <th>state</th>\n",
       "      <th>postal_code</th>\n",
       "      <th>latitude</th>\n",
       "      <th>longitude</th>\n",
       "      <th>stars</th>\n",
       "      <th>review_count</th>\n",
       "      <th>is_open</th>\n",
       "      <th>attributes</th>\n",
       "      <th>categories</th>\n",
       "      <th>hours</th>\n",
       "    </tr>\n",
       "  </thead>\n",
       "  <tbody>\n",
       "    <tr>\n",
       "      <th>0</th>\n",
       "      <td>6iYb2HFDywm3zjuRg0shjw</td>\n",
       "      <td>Oskar Blues Taproom</td>\n",
       "      <td>921 Pearl St</td>\n",
       "      <td>Boulder</td>\n",
       "      <td>CO</td>\n",
       "      <td>80302</td>\n",
       "      <td>40.017544</td>\n",
       "      <td>-105.283348</td>\n",
       "      <td>4.0</td>\n",
       "      <td>86</td>\n",
       "      <td>1</td>\n",
       "      <td>{'RestaurantsTableService': 'True', 'WiFi': 'u...</td>\n",
       "      <td>Gastropubs, Food, Beer Gardens, Restaurants, B...</td>\n",
       "      <td>{'Monday': '11:0-23:0', 'Tuesday': '11:0-23:0'...</td>\n",
       "    </tr>\n",
       "    <tr>\n",
       "      <th>1</th>\n",
       "      <td>tCbdrRPZA0oiIYSmHG3J0w</td>\n",
       "      <td>Flying Elephants at PDX</td>\n",
       "      <td>7000 NE Airport Way</td>\n",
       "      <td>Portland</td>\n",
       "      <td>OR</td>\n",
       "      <td>97218</td>\n",
       "      <td>45.588906</td>\n",
       "      <td>-122.593331</td>\n",
       "      <td>4.0</td>\n",
       "      <td>126</td>\n",
       "      <td>1</td>\n",
       "      <td>{'RestaurantsTakeOut': 'True', 'RestaurantsAtt...</td>\n",
       "      <td>Salad, Soup, Sandwiches, Delis, Restaurants, C...</td>\n",
       "      <td>{'Monday': '5:0-18:0', 'Tuesday': '5:0-17:0', ...</td>\n",
       "    </tr>\n",
       "    <tr>\n",
       "      <th>2</th>\n",
       "      <td>bvN78flM8NLprQ1a1y5dRg</td>\n",
       "      <td>The Reclaimory</td>\n",
       "      <td>4720 Hawthorne Ave</td>\n",
       "      <td>Portland</td>\n",
       "      <td>OR</td>\n",
       "      <td>97214</td>\n",
       "      <td>45.511907</td>\n",
       "      <td>-122.613693</td>\n",
       "      <td>4.5</td>\n",
       "      <td>13</td>\n",
       "      <td>1</td>\n",
       "      <td>{'BusinessAcceptsCreditCards': 'True', 'Restau...</td>\n",
       "      <td>Antiques, Fashion, Used, Vintage &amp; Consignment...</td>\n",
       "      <td>{'Thursday': '11:0-18:0', 'Friday': '11:0-18:0...</td>\n",
       "    </tr>\n",
       "    <tr>\n",
       "      <th>3</th>\n",
       "      <td>oaepsyvc0J17qwi8cfrOWg</td>\n",
       "      <td>Great Clips</td>\n",
       "      <td>2566 Enterprise Rd</td>\n",
       "      <td>Orange City</td>\n",
       "      <td>FL</td>\n",
       "      <td>32763</td>\n",
       "      <td>28.914482</td>\n",
       "      <td>-81.295979</td>\n",
       "      <td>3.0</td>\n",
       "      <td>8</td>\n",
       "      <td>1</td>\n",
       "      <td>{'RestaurantsPriceRange2': '1', 'BusinessAccep...</td>\n",
       "      <td>Beauty &amp; Spas, Hair Salons</td>\n",
       "      <td>None</td>\n",
       "    </tr>\n",
       "    <tr>\n",
       "      <th>4</th>\n",
       "      <td>PE9uqAjdw0E4-8mjGl3wVA</td>\n",
       "      <td>Crossfit Terminus</td>\n",
       "      <td>1046 Memorial Dr SE</td>\n",
       "      <td>Atlanta</td>\n",
       "      <td>GA</td>\n",
       "      <td>30316</td>\n",
       "      <td>33.747027</td>\n",
       "      <td>-84.353424</td>\n",
       "      <td>4.0</td>\n",
       "      <td>14</td>\n",
       "      <td>1</td>\n",
       "      <td>{'GoodForKids': 'False', 'BusinessParking': '{...</td>\n",
       "      <td>Gyms, Active Life, Interval Training Gyms, Fit...</td>\n",
       "      <td>{'Monday': '16:0-19:0', 'Tuesday': '16:0-19:0'...</td>\n",
       "    </tr>\n",
       "  </tbody>\n",
       "</table>\n",
       "</div>"
      ],
      "text/plain": [
       "              business_id                     name              address  \\\n",
       "0  6iYb2HFDywm3zjuRg0shjw      Oskar Blues Taproom         921 Pearl St   \n",
       "1  tCbdrRPZA0oiIYSmHG3J0w  Flying Elephants at PDX  7000 NE Airport Way   \n",
       "2  bvN78flM8NLprQ1a1y5dRg           The Reclaimory   4720 Hawthorne Ave   \n",
       "3  oaepsyvc0J17qwi8cfrOWg              Great Clips   2566 Enterprise Rd   \n",
       "4  PE9uqAjdw0E4-8mjGl3wVA        Crossfit Terminus  1046 Memorial Dr SE   \n",
       "\n",
       "          city state postal_code   latitude   longitude  stars  review_count  \\\n",
       "0      Boulder    CO       80302  40.017544 -105.283348    4.0            86   \n",
       "1     Portland    OR       97218  45.588906 -122.593331    4.0           126   \n",
       "2     Portland    OR       97214  45.511907 -122.613693    4.5            13   \n",
       "3  Orange City    FL       32763  28.914482  -81.295979    3.0             8   \n",
       "4      Atlanta    GA       30316  33.747027  -84.353424    4.0            14   \n",
       "\n",
       "   is_open                                         attributes  \\\n",
       "0        1  {'RestaurantsTableService': 'True', 'WiFi': 'u...   \n",
       "1        1  {'RestaurantsTakeOut': 'True', 'RestaurantsAtt...   \n",
       "2        1  {'BusinessAcceptsCreditCards': 'True', 'Restau...   \n",
       "3        1  {'RestaurantsPriceRange2': '1', 'BusinessAccep...   \n",
       "4        1  {'GoodForKids': 'False', 'BusinessParking': '{...   \n",
       "\n",
       "                                          categories  \\\n",
       "0  Gastropubs, Food, Beer Gardens, Restaurants, B...   \n",
       "1  Salad, Soup, Sandwiches, Delis, Restaurants, C...   \n",
       "2  Antiques, Fashion, Used, Vintage & Consignment...   \n",
       "3                         Beauty & Spas, Hair Salons   \n",
       "4  Gyms, Active Life, Interval Training Gyms, Fit...   \n",
       "\n",
       "                                               hours  \n",
       "0  {'Monday': '11:0-23:0', 'Tuesday': '11:0-23:0'...  \n",
       "1  {'Monday': '5:0-18:0', 'Tuesday': '5:0-17:0', ...  \n",
       "2  {'Thursday': '11:0-18:0', 'Friday': '11:0-18:0...  \n",
       "3                                               None  \n",
       "4  {'Monday': '16:0-19:0', 'Tuesday': '16:0-19:0'...  "
      ]
     },
     "execution_count": 3,
     "metadata": {},
     "output_type": "execute_result"
    }
   ],
   "source": [
    "%%time\n",
    "business_df = pd.read_json('../data/business.json', lines=True)\n",
    "business_df.head()"
   ]
  },
  {
   "cell_type": "markdown",
   "id": "b2c4831e",
   "metadata": {},
   "source": [
    "We can see that there is a `categories` column that includes string descriptions of the business category. We will filter for the word *'restaurant'* which is the category of interest for this project."
   ]
  },
  {
   "cell_type": "code",
   "execution_count": 4,
   "id": "fc67ad5e",
   "metadata": {},
   "outputs": [
    {
     "data": {
      "text/html": [
       "<div>\n",
       "<style scoped>\n",
       "    .dataframe tbody tr th:only-of-type {\n",
       "        vertical-align: middle;\n",
       "    }\n",
       "\n",
       "    .dataframe tbody tr th {\n",
       "        vertical-align: top;\n",
       "    }\n",
       "\n",
       "    .dataframe thead th {\n",
       "        text-align: right;\n",
       "    }\n",
       "</style>\n",
       "<table border=\"1\" class=\"dataframe\">\n",
       "  <thead>\n",
       "    <tr style=\"text-align: right;\">\n",
       "      <th></th>\n",
       "      <th>business_id</th>\n",
       "      <th>name</th>\n",
       "      <th>address</th>\n",
       "      <th>city</th>\n",
       "      <th>state</th>\n",
       "      <th>postal_code</th>\n",
       "      <th>latitude</th>\n",
       "      <th>longitude</th>\n",
       "      <th>stars</th>\n",
       "      <th>review_count</th>\n",
       "      <th>is_open</th>\n",
       "      <th>attributes</th>\n",
       "      <th>categories</th>\n",
       "      <th>hours</th>\n",
       "    </tr>\n",
       "  </thead>\n",
       "  <tbody>\n",
       "    <tr>\n",
       "      <th>0</th>\n",
       "      <td>6iYb2HFDywm3zjuRg0shjw</td>\n",
       "      <td>Oskar Blues Taproom</td>\n",
       "      <td>921 Pearl St</td>\n",
       "      <td>Boulder</td>\n",
       "      <td>CO</td>\n",
       "      <td>80302</td>\n",
       "      <td>40.017544</td>\n",
       "      <td>-105.283348</td>\n",
       "      <td>4.0</td>\n",
       "      <td>86</td>\n",
       "      <td>1</td>\n",
       "      <td>{'RestaurantsTableService': 'True', 'WiFi': 'u...</td>\n",
       "      <td>Gastropubs, Food, Beer Gardens, Restaurants, B...</td>\n",
       "      <td>{'Monday': '11:0-23:0', 'Tuesday': '11:0-23:0'...</td>\n",
       "    </tr>\n",
       "    <tr>\n",
       "      <th>1</th>\n",
       "      <td>tCbdrRPZA0oiIYSmHG3J0w</td>\n",
       "      <td>Flying Elephants at PDX</td>\n",
       "      <td>7000 NE Airport Way</td>\n",
       "      <td>Portland</td>\n",
       "      <td>OR</td>\n",
       "      <td>97218</td>\n",
       "      <td>45.588906</td>\n",
       "      <td>-122.593331</td>\n",
       "      <td>4.0</td>\n",
       "      <td>126</td>\n",
       "      <td>1</td>\n",
       "      <td>{'RestaurantsTakeOut': 'True', 'RestaurantsAtt...</td>\n",
       "      <td>Salad, Soup, Sandwiches, Delis, Restaurants, C...</td>\n",
       "      <td>{'Monday': '5:0-18:0', 'Tuesday': '5:0-17:0', ...</td>\n",
       "    </tr>\n",
       "    <tr>\n",
       "      <th>2</th>\n",
       "      <td>D4JtQNTI4X3KcbzacDJsMw</td>\n",
       "      <td>Bob Likes Thai Food</td>\n",
       "      <td>3755 Main St</td>\n",
       "      <td>Vancouver</td>\n",
       "      <td>BC</td>\n",
       "      <td>V5V</td>\n",
       "      <td>49.251342</td>\n",
       "      <td>-123.101333</td>\n",
       "      <td>3.5</td>\n",
       "      <td>169</td>\n",
       "      <td>1</td>\n",
       "      <td>{'GoodForKids': 'True', 'Alcohol': 'u'none'', ...</td>\n",
       "      <td>Restaurants, Thai</td>\n",
       "      <td>{'Monday': '17:0-21:0', 'Tuesday': '17:0-21:0'...</td>\n",
       "    </tr>\n",
       "    <tr>\n",
       "      <th>3</th>\n",
       "      <td>jFYIsSb7r1QeESVUnXPHBw</td>\n",
       "      <td>Boxwood Biscuit</td>\n",
       "      <td>740 S High St</td>\n",
       "      <td>Columbus</td>\n",
       "      <td>OH</td>\n",
       "      <td>43206</td>\n",
       "      <td>39.947007</td>\n",
       "      <td>-82.997471</td>\n",
       "      <td>4.5</td>\n",
       "      <td>11</td>\n",
       "      <td>1</td>\n",
       "      <td>None</td>\n",
       "      <td>Breakfast &amp; Brunch, Restaurants</td>\n",
       "      <td>{'Saturday': '8:0-14:0', 'Sunday': '8:0-14:0'}</td>\n",
       "    </tr>\n",
       "    <tr>\n",
       "      <th>4</th>\n",
       "      <td>HPA_qyMEddpAEtFof02ixg</td>\n",
       "      <td>Mr G's Pizza &amp; Subs</td>\n",
       "      <td>474 Lowell St</td>\n",
       "      <td>Peabody</td>\n",
       "      <td>MA</td>\n",
       "      <td>01960</td>\n",
       "      <td>42.541155</td>\n",
       "      <td>-70.973438</td>\n",
       "      <td>4.0</td>\n",
       "      <td>39</td>\n",
       "      <td>1</td>\n",
       "      <td>{'RestaurantsGoodForGroups': 'True', 'HasTV': ...</td>\n",
       "      <td>Food, Pizza, Restaurants</td>\n",
       "      <td>{'Monday': '11:0-21:0', 'Tuesday': '11:0-21:0'...</td>\n",
       "    </tr>\n",
       "  </tbody>\n",
       "</table>\n",
       "</div>"
      ],
      "text/plain": [
       "              business_id                     name              address  \\\n",
       "0  6iYb2HFDywm3zjuRg0shjw      Oskar Blues Taproom         921 Pearl St   \n",
       "1  tCbdrRPZA0oiIYSmHG3J0w  Flying Elephants at PDX  7000 NE Airport Way   \n",
       "2  D4JtQNTI4X3KcbzacDJsMw      Bob Likes Thai Food         3755 Main St   \n",
       "3  jFYIsSb7r1QeESVUnXPHBw          Boxwood Biscuit        740 S High St   \n",
       "4  HPA_qyMEddpAEtFof02ixg      Mr G's Pizza & Subs        474 Lowell St   \n",
       "\n",
       "        city state postal_code   latitude   longitude  stars  review_count  \\\n",
       "0    Boulder    CO       80302  40.017544 -105.283348    4.0            86   \n",
       "1   Portland    OR       97218  45.588906 -122.593331    4.0           126   \n",
       "2  Vancouver    BC         V5V  49.251342 -123.101333    3.5           169   \n",
       "3   Columbus    OH       43206  39.947007  -82.997471    4.5            11   \n",
       "4    Peabody    MA       01960  42.541155  -70.973438    4.0            39   \n",
       "\n",
       "   is_open                                         attributes  \\\n",
       "0        1  {'RestaurantsTableService': 'True', 'WiFi': 'u...   \n",
       "1        1  {'RestaurantsTakeOut': 'True', 'RestaurantsAtt...   \n",
       "2        1  {'GoodForKids': 'True', 'Alcohol': 'u'none'', ...   \n",
       "3        1                                               None   \n",
       "4        1  {'RestaurantsGoodForGroups': 'True', 'HasTV': ...   \n",
       "\n",
       "                                          categories  \\\n",
       "0  Gastropubs, Food, Beer Gardens, Restaurants, B...   \n",
       "1  Salad, Soup, Sandwiches, Delis, Restaurants, C...   \n",
       "2                                  Restaurants, Thai   \n",
       "3                    Breakfast & Brunch, Restaurants   \n",
       "4                           Food, Pizza, Restaurants   \n",
       "\n",
       "                                               hours  \n",
       "0  {'Monday': '11:0-23:0', 'Tuesday': '11:0-23:0'...  \n",
       "1  {'Monday': '5:0-18:0', 'Tuesday': '5:0-17:0', ...  \n",
       "2  {'Monday': '17:0-21:0', 'Tuesday': '17:0-21:0'...  \n",
       "3     {'Saturday': '8:0-14:0', 'Sunday': '8:0-14:0'}  \n",
       "4  {'Monday': '11:0-21:0', 'Tuesday': '11:0-21:0'...  "
      ]
     },
     "execution_count": 4,
     "metadata": {},
     "output_type": "execute_result"
    }
   ],
   "source": [
    "# Filter for restaurnts that contain a restauarant description in the categories column\n",
    "# and save to new dataframe\n",
    "restaurant_df = business_df[business_df['categories'].str.contains('restaurant', case=False)==True].reset_index().drop('index', axis=1)\n",
    "restaurant_df.head()"
   ]
  },
  {
   "cell_type": "code",
   "execution_count": 5,
   "id": "86116838",
   "metadata": {},
   "outputs": [
    {
     "data": {
      "text/plain": [
       "(50793, 14)"
      ]
     },
     "execution_count": 5,
     "metadata": {},
     "output_type": "execute_result"
    }
   ],
   "source": [
    "restaurant_df.shape"
   ]
  },
  {
   "cell_type": "markdown",
   "id": "ef638159",
   "metadata": {},
   "source": [
    "The resulting shape of our restaurant data frame is 50,793 rows and 14 columns.\n",
    "\n",
    "We now look at the value counts for the different states in this data frame."
   ]
  },
  {
   "cell_type": "code",
   "execution_count": 6,
   "id": "e85a1c4e",
   "metadata": {},
   "outputs": [
    {
     "data": {
      "text/plain": [
       "MA     10551\n",
       "FL      7711\n",
       "BC      7508\n",
       "OR      7402\n",
       "GA      6142\n",
       "TX      5452\n",
       "OH      4380\n",
       "CO       866\n",
       "WA       774\n",
       "KS         1\n",
       "MN         1\n",
       "VA         1\n",
       "WY         1\n",
       "KY         1\n",
       "NH         1\n",
       "ABE        1\n",
       "Name: state, dtype: int64"
      ]
     },
     "execution_count": 6,
     "metadata": {},
     "output_type": "execute_result"
    }
   ],
   "source": [
    "restaurant_df['state'].value_counts()"
   ]
  },
  {
   "cell_type": "markdown",
   "id": "affa4788",
   "metadata": {},
   "source": [
    "We can see that the state of Massachusetts (abbreviated as MA) has the most restaurants in the dataset. We will now filter for only Massachusetts restaurants."
   ]
  },
  {
   "cell_type": "code",
   "execution_count": 7,
   "id": "58c6ae9d",
   "metadata": {},
   "outputs": [
    {
     "name": "stdout",
     "output_type": "stream",
     "text": [
      "<class 'pandas.core.frame.DataFrame'>\n",
      "RangeIndex: 10551 entries, 0 to 10550\n",
      "Data columns (total 14 columns):\n",
      " #   Column        Non-Null Count  Dtype  \n",
      "---  ------        --------------  -----  \n",
      " 0   business_id   10551 non-null  object \n",
      " 1   name          10551 non-null  object \n",
      " 2   address       10551 non-null  object \n",
      " 3   city          10551 non-null  object \n",
      " 4   state         10551 non-null  object \n",
      " 5   postal_code   10551 non-null  object \n",
      " 6   latitude      10551 non-null  float64\n",
      " 7   longitude     10551 non-null  float64\n",
      " 8   stars         10551 non-null  float64\n",
      " 9   review_count  10551 non-null  int64  \n",
      " 10  is_open       10551 non-null  int64  \n",
      " 11  attributes    10481 non-null  object \n",
      " 12  categories    10551 non-null  object \n",
      " 13  hours         8701 non-null   object \n",
      "dtypes: float64(3), int64(2), object(9)\n",
      "memory usage: 1.1+ MB\n"
     ]
    }
   ],
   "source": [
    "# Extract restaurants in Massachusetts\n",
    "restaurant_df = restaurant_df[restaurant_df['state']=='MA'].reset_index(drop=True)\n",
    "\n",
    "# Delete the business data frame from memory\n",
    "del business_df\n",
    "\n",
    "# View the info summary\n",
    "restaurant_df.info()"
   ]
  },
  {
   "cell_type": "markdown",
   "id": "0cd01071",
   "metadata": {},
   "source": [
    "## Load the Reviews Dataset\n",
    "\n",
    "We now read in the reviews dataset JSON file into a Pandas data frame. Since the JSON file is large (6.94 GB), we will read the file contents in chunks to reduce the data loading time, as proposed by Eve Law in this blog post:\n",
    "https://towardsdatascience.com/load-yelp-reviews-or-other-huge-json-files-with-ease-ad804c2f1537\n",
    "\n",
    "We will only add the records for businesses that are present in the restaurant data frame."
   ]
  },
  {
   "cell_type": "code",
   "execution_count": 8,
   "id": "5ee5c7c5",
   "metadata": {},
   "outputs": [
    {
     "name": "stdout",
     "output_type": "stream",
     "text": [
      "CPU times: user 2min 37s, sys: 8.46 s, total: 2min 45s\n",
      "Wall time: 2min 47s\n"
     ]
    }
   ],
   "source": [
    "%%time\n",
    "data_lines = []\n",
    "\n",
    "with open(\"../data/review.json\", \"r\") as f:\n",
    "    reader = pd.read_json(f, orient=\"records\", lines=True, \n",
    "                          chunksize=1000)\n",
    "        \n",
    "    for chunk in reader:\n",
    "        # Only include records for businesses in restaurant data frame\n",
    "        chunk = chunk[chunk['business_id'].isin(restaurant_df['business_id'])]\n",
    "        data_lines.append(chunk)\n",
    "    \n",
    "review_df = pd.concat(data_lines, ignore_index=True)"
   ]
  },
  {
   "cell_type": "code",
   "execution_count": 9,
   "id": "545599c4",
   "metadata": {},
   "outputs": [
    {
     "data": {
      "text/html": [
       "<div>\n",
       "<style scoped>\n",
       "    .dataframe tbody tr th:only-of-type {\n",
       "        vertical-align: middle;\n",
       "    }\n",
       "\n",
       "    .dataframe tbody tr th {\n",
       "        vertical-align: top;\n",
       "    }\n",
       "\n",
       "    .dataframe thead th {\n",
       "        text-align: right;\n",
       "    }\n",
       "</style>\n",
       "<table border=\"1\" class=\"dataframe\">\n",
       "  <thead>\n",
       "    <tr style=\"text-align: right;\">\n",
       "      <th></th>\n",
       "      <th>review_id</th>\n",
       "      <th>user_id</th>\n",
       "      <th>business_id</th>\n",
       "      <th>stars</th>\n",
       "      <th>useful</th>\n",
       "      <th>funny</th>\n",
       "      <th>cool</th>\n",
       "      <th>text</th>\n",
       "      <th>date</th>\n",
       "    </tr>\n",
       "  </thead>\n",
       "  <tbody>\n",
       "    <tr>\n",
       "      <th>0</th>\n",
       "      <td>lWC-xP3rd6obsecCYsGZRg</td>\n",
       "      <td>ak0TdVmGKo4pwqdJSTLwWw</td>\n",
       "      <td>buF9druCkbuXLX526sGELQ</td>\n",
       "      <td>4</td>\n",
       "      <td>3</td>\n",
       "      <td>1</td>\n",
       "      <td>1</td>\n",
       "      <td>Apparently Prides Osteria had a rough summer a...</td>\n",
       "      <td>2014-10-11 03:34:02</td>\n",
       "    </tr>\n",
       "    <tr>\n",
       "      <th>1</th>\n",
       "      <td>J4a2TuhDasjn2k3wWtHZnQ</td>\n",
       "      <td>RNm_RWkcd02Li2mKPRe7Eg</td>\n",
       "      <td>xGXzsc-hzam-VArK6eTvtw</td>\n",
       "      <td>1</td>\n",
       "      <td>2</td>\n",
       "      <td>0</td>\n",
       "      <td>0</td>\n",
       "      <td>This place used to be a cool, chill place. Now...</td>\n",
       "      <td>2018-01-21 04:41:03</td>\n",
       "    </tr>\n",
       "    <tr>\n",
       "      <th>2</th>\n",
       "      <td>28gGfkLs3igtjVy61lh77Q</td>\n",
       "      <td>Q8c91v7luItVB0cMFF_mRA</td>\n",
       "      <td>EXOsmAB1s71WePlQk0WZrA</td>\n",
       "      <td>2</td>\n",
       "      <td>0</td>\n",
       "      <td>0</td>\n",
       "      <td>0</td>\n",
       "      <td>The setting is perfectly adequate, and the foo...</td>\n",
       "      <td>2006-04-16 02:58:44</td>\n",
       "    </tr>\n",
       "    <tr>\n",
       "      <th>3</th>\n",
       "      <td>KKVFopqzcVfcubIBxmIjVA</td>\n",
       "      <td>99RsBrARhhx60UnAC4yDoA</td>\n",
       "      <td>EEHhKSxUvJkoPSzeGKkpVg</td>\n",
       "      <td>5</td>\n",
       "      <td>0</td>\n",
       "      <td>0</td>\n",
       "      <td>0</td>\n",
       "      <td>I work in the Pru and this is the most afforda...</td>\n",
       "      <td>2014-05-07 18:10:21</td>\n",
       "    </tr>\n",
       "    <tr>\n",
       "      <th>4</th>\n",
       "      <td>btNWW2kdJYfwpTDyzJO3Iw</td>\n",
       "      <td>DECuRZwkUw8ELQZfNGef2Q</td>\n",
       "      <td>zmZ3HkVCeZPBefJJxzdJ7A</td>\n",
       "      <td>4</td>\n",
       "      <td>0</td>\n",
       "      <td>0</td>\n",
       "      <td>0</td>\n",
       "      <td>Nothing special but good enough.  I like anoth...</td>\n",
       "      <td>2012-12-04 04:29:47</td>\n",
       "    </tr>\n",
       "  </tbody>\n",
       "</table>\n",
       "</div>"
      ],
      "text/plain": [
       "                review_id                 user_id             business_id  \\\n",
       "0  lWC-xP3rd6obsecCYsGZRg  ak0TdVmGKo4pwqdJSTLwWw  buF9druCkbuXLX526sGELQ   \n",
       "1  J4a2TuhDasjn2k3wWtHZnQ  RNm_RWkcd02Li2mKPRe7Eg  xGXzsc-hzam-VArK6eTvtw   \n",
       "2  28gGfkLs3igtjVy61lh77Q  Q8c91v7luItVB0cMFF_mRA  EXOsmAB1s71WePlQk0WZrA   \n",
       "3  KKVFopqzcVfcubIBxmIjVA  99RsBrARhhx60UnAC4yDoA  EEHhKSxUvJkoPSzeGKkpVg   \n",
       "4  btNWW2kdJYfwpTDyzJO3Iw  DECuRZwkUw8ELQZfNGef2Q  zmZ3HkVCeZPBefJJxzdJ7A   \n",
       "\n",
       "   stars  useful  funny  cool  \\\n",
       "0      4       3      1     1   \n",
       "1      1       2      0     0   \n",
       "2      2       0      0     0   \n",
       "3      5       0      0     0   \n",
       "4      4       0      0     0   \n",
       "\n",
       "                                                text                date  \n",
       "0  Apparently Prides Osteria had a rough summer a... 2014-10-11 03:34:02  \n",
       "1  This place used to be a cool, chill place. Now... 2018-01-21 04:41:03  \n",
       "2  The setting is perfectly adequate, and the foo... 2006-04-16 02:58:44  \n",
       "3  I work in the Pru and this is the most afforda... 2014-05-07 18:10:21  \n",
       "4  Nothing special but good enough.  I like anoth... 2012-12-04 04:29:47  "
      ]
     },
     "execution_count": 9,
     "metadata": {},
     "output_type": "execute_result"
    }
   ],
   "source": [
    "review_df.head()"
   ]
  },
  {
   "cell_type": "code",
   "execution_count": 10,
   "id": "bd0ff83c",
   "metadata": {},
   "outputs": [
    {
     "name": "stdout",
     "output_type": "stream",
     "text": [
      "<class 'pandas.core.frame.DataFrame'>\n",
      "RangeIndex: 1365575 entries, 0 to 1365574\n",
      "Data columns (total 9 columns):\n",
      " #   Column       Non-Null Count    Dtype         \n",
      "---  ------       --------------    -----         \n",
      " 0   review_id    1365575 non-null  object        \n",
      " 1   user_id      1365575 non-null  object        \n",
      " 2   business_id  1365575 non-null  object        \n",
      " 3   stars        1365575 non-null  int64         \n",
      " 4   useful       1365575 non-null  int64         \n",
      " 5   funny        1365575 non-null  int64         \n",
      " 6   cool         1365575 non-null  int64         \n",
      " 7   text         1365575 non-null  object        \n",
      " 8   date         1365575 non-null  datetime64[ns]\n",
      "dtypes: datetime64[ns](1), int64(4), object(4)\n",
      "memory usage: 93.8+ MB\n"
     ]
    }
   ],
   "source": [
    "review_df.info()"
   ]
  },
  {
   "cell_type": "code",
   "execution_count": 11,
   "id": "53eed7df",
   "metadata": {},
   "outputs": [
    {
     "data": {
      "text/plain": [
       "(1365575, 9)"
      ]
     },
     "execution_count": 11,
     "metadata": {},
     "output_type": "execute_result"
    }
   ],
   "source": [
    "review_df.shape"
   ]
  },
  {
   "cell_type": "markdown",
   "id": "f53a774b",
   "metadata": {},
   "source": [
    "We can now export our data frames to CSV files for use in upcoming notebooks for this project."
   ]
  },
  {
   "cell_type": "code",
   "execution_count": 40,
   "id": "bdab4bd4",
   "metadata": {},
   "outputs": [
    {
     "name": "stdout",
     "output_type": "stream",
     "text": [
      "CPU times: user 32.6 s, sys: 1.62 s, total: 34.2 s\n",
      "Wall time: 35.1 s\n"
     ]
    }
   ],
   "source": [
    "%%time\n",
    "restaurant_df.to_csv('../data/ma_restaurant.csv', index=False)\n",
    "review_df.to_csv('../data/ma_review.csv', index=False)\n"
   ]
  },
  {
   "cell_type": "markdown",
   "id": "f1a778d0",
   "metadata": {},
   "source": [
    "Please proceed to the next notebook in the sequence - **NB2-Data_Cleaning_EDA_Feature_Engineering**."
   ]
  },
  {
   "cell_type": "markdown",
   "id": "52cebf6d",
   "metadata": {},
   "source": [
    "# References\n",
    "\n",
    "[1] R. Ruggless, \"U.S. restaurant sales to reach record $863B in 2019, NRA says,\" Nation's Restaurant News, 5 April 2019. [Online]. Available: [https://www.nrn.com/sales-trends/us-restaurant-sales-reach-record-863b-2019-nra-says](https://www.nrn.com/sales-trends/us-restaurant-sales-reach-record-863b-2019-nra-says).\n",
    "\n",
    "[2] M. Luca, \"Reviews, Reputation, and Revenue: The Case of Yelp.Com,\" Harvard Business School NOM Unit Working Paper No. 12-016, vol. 12, no. 06, 2016. \n",
    "\n",
    "[3] Yelp Inc., \"Yelp Open Dataset,\" n.d.. [Online]. Available: [https://www.yelp.com/dataset](https://www.yelp.com/dataset). [Accessed 21 October 2021].\n",
    "\n"
   ]
  }
 ],
 "metadata": {
  "kernelspec": {
   "display_name": "yelp_capstone",
   "language": "python",
   "name": "yelp_capstone"
  },
  "language_info": {
   "codemirror_mode": {
    "name": "ipython",
    "version": 3
   },
   "file_extension": ".py",
   "mimetype": "text/x-python",
   "name": "python",
   "nbconvert_exporter": "python",
   "pygments_lexer": "ipython3",
   "version": "3.8.12"
  },
  "latex_envs": {
   "LaTeX_envs_menu_present": true,
   "autoclose": false,
   "autocomplete": true,
   "bibliofile": "biblio.bib",
   "cite_by": "apalike",
   "current_citInitial": 1,
   "eqLabelWithNumbers": true,
   "eqNumInitial": 1,
   "hotkeys": {
    "equation": "Ctrl-E",
    "itemize": "Ctrl-I"
   },
   "labels_anchors": false,
   "latex_user_defs": false,
   "report_style_numbering": false,
   "user_envs_cfg": false
  },
  "toc": {
   "base_numbering": 1,
   "nav_menu": {},
   "number_sections": true,
   "sideBar": true,
   "skip_h1_title": true,
   "title_cell": "Table of Contents",
   "title_sidebar": "Contents",
   "toc_cell": false,
   "toc_position": {
    "height": "calc(100% - 180px)",
    "left": "10px",
    "top": "150px",
    "width": "305.455px"
   },
   "toc_section_display": true,
   "toc_window_display": true
  },
  "varInspector": {
   "cols": {
    "lenName": 16,
    "lenType": 16,
    "lenVar": 40
   },
   "kernels_config": {
    "python": {
     "delete_cmd_postfix": "",
     "delete_cmd_prefix": "del ",
     "library": "var_list.py",
     "varRefreshCmd": "print(var_dic_list())"
    },
    "r": {
     "delete_cmd_postfix": ") ",
     "delete_cmd_prefix": "rm(",
     "library": "var_list.r",
     "varRefreshCmd": "cat(var_dic_list()) "
    }
   },
   "position": {
    "height": "372.699px",
    "left": "1123.43px",
    "right": "20px",
    "top": "124.989px",
    "width": "350px"
   },
   "types_to_exclude": [
    "module",
    "function",
    "builtin_function_or_method",
    "instance",
    "_Feature"
   ],
   "window_display": false
  }
 },
 "nbformat": 4,
 "nbformat_minor": 5
}
