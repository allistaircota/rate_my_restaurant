{
 "cells": [
  {
   "cell_type": "markdown",
   "id": "d021867d",
   "metadata": {},
   "source": [
    "# Notebook 3: Model Setup and Evaluation"
   ]
  },
  {
   "cell_type": "markdown",
   "id": "760cdf1f",
   "metadata": {},
   "source": [
    "## Introduction"
   ]
  },
  {
   "cell_type": "markdown",
   "id": "5f554b1e",
   "metadata": {},
   "source": [
    "## Methodology"
   ]
  },
  {
   "cell_type": "markdown",
   "id": "a38e11d0",
   "metadata": {},
   "source": [
    "## Model Preprocessing\n",
    "\n",
    "### Import Libraries\n",
    "We begin by importing all the libraries required to run this notebook."
   ]
  },
  {
   "cell_type": "code",
   "execution_count": 1,
   "id": "261080e6",
   "metadata": {},
   "outputs": [
    {
     "data": {
      "text/html": [
       "\n",
       "<style>\n",
       ".output_png {\n",
       "    display: table-cell;\n",
       "    text-align: center;\n",
       "    vertical-align: middle;\n",
       "}\n",
       "</style>\n"
      ],
      "text/plain": [
       "<IPython.core.display.HTML object>"
      ]
     },
     "execution_count": 1,
     "metadata": {},
     "output_type": "execute_result"
    }
   ],
   "source": [
    "import numpy as np\n",
    "import pandas as pd\n",
    "import matplotlib.pyplot as plt\n",
    "import seaborn as sns\n",
    "\n",
    "from scipy import stats\n",
    "import statsmodels.api as sm\n",
    "from statsmodels.stats.outliers_influence import variance_inflation_factor\n",
    "\n",
    "from sklearn.utils import resample\n",
    "from sklearn.base import BaseEstimator, TransformerMixin\n",
    "from sklearn.pipeline import Pipeline\n",
    "from sklearn.compose import ColumnTransformer\n",
    "from sklearn.feature_extraction.text import CountVectorizer\n",
    "from sklearn.preprocessing import MinMaxScaler, OneHotEncoder\n",
    "from sklearn.feature_selection import SelectKBest, f_regression\n",
    "from sklearn.model_selection import train_test_split, cross_val_score, cross_validate, GridSearchCV\n",
    "from sklearn.linear_model import LinearRegression, Ridge, Lasso\n",
    "from sklearn.tree import DecisionTreeRegressor, plot_tree\n",
    "from sklearn.ensemble import RandomForestRegressor\n",
    "from sklearn.metrics import r2_score, mean_squared_error, mean_absolute_error, make_scorer\n",
    "\n",
    "\n",
    "\n",
    "# Define some default visualizaiton display properties\n",
    "\n",
    "# Ensure plots are always centered\n",
    "from IPython.core.display import HTML\n",
    "HTML(\"\"\"\n",
    "<style>\n",
    ".output_png {\n",
    "    display: table-cell;\n",
    "    text-align: center;\n",
    "    vertical-align: middle;\n",
    "}\n",
    "</style>\n",
    "\"\"\")\n"
   ]
  },
  {
   "cell_type": "markdown",
   "id": "1525da72",
   "metadata": {},
   "source": [
    "### Read in Dataset\n",
    "\n",
    "We now read in the review dataset that was cleaned in Notebook 2."
   ]
  },
  {
   "cell_type": "code",
   "execution_count": 2,
   "id": "fe59a672",
   "metadata": {},
   "outputs": [
    {
     "data": {
      "text/html": [
       "<div>\n",
       "<style scoped>\n",
       "    .dataframe tbody tr th:only-of-type {\n",
       "        vertical-align: middle;\n",
       "    }\n",
       "\n",
       "    .dataframe tbody tr th {\n",
       "        vertical-align: top;\n",
       "    }\n",
       "\n",
       "    .dataframe thead th {\n",
       "        text-align: right;\n",
       "    }\n",
       "</style>\n",
       "<table border=\"1\" class=\"dataframe\">\n",
       "  <thead>\n",
       "    <tr style=\"text-align: right;\">\n",
       "      <th></th>\n",
       "      <th>date</th>\n",
       "      <th>latitude</th>\n",
       "      <th>longitude</th>\n",
       "      <th>review_count</th>\n",
       "      <th>is_open</th>\n",
       "      <th>RestaurantsGoodForGroups</th>\n",
       "      <th>HasTV</th>\n",
       "      <th>GoodForKids</th>\n",
       "      <th>RestaurantsTakeOut</th>\n",
       "      <th>RestaurantsPriceRange2</th>\n",
       "      <th>...</th>\n",
       "      <th>Specialty Food</th>\n",
       "      <th>stars</th>\n",
       "      <th>useful</th>\n",
       "      <th>funny</th>\n",
       "      <th>cool</th>\n",
       "      <th>text</th>\n",
       "      <th>fans</th>\n",
       "      <th>checkins_per_week</th>\n",
       "      <th>reviews_per_week</th>\n",
       "      <th>tips_per_week</th>\n",
       "    </tr>\n",
       "  </thead>\n",
       "  <tbody>\n",
       "    <tr>\n",
       "      <th>0</th>\n",
       "      <td>2016-03-07 17:58:53</td>\n",
       "      <td>42.541155</td>\n",
       "      <td>-70.973438</td>\n",
       "      <td>39</td>\n",
       "      <td>1</td>\n",
       "      <td>1</td>\n",
       "      <td>1</td>\n",
       "      <td>1</td>\n",
       "      <td>1</td>\n",
       "      <td>2</td>\n",
       "      <td>...</td>\n",
       "      <td>0</td>\n",
       "      <td>4</td>\n",
       "      <td>0</td>\n",
       "      <td>0</td>\n",
       "      <td>0</td>\n",
       "      <td>Pizza here is delicious. I tried it once a few...</td>\n",
       "      <td>0</td>\n",
       "      <td>0.076064</td>\n",
       "      <td>0.058773</td>\n",
       "      <td>0.041854</td>\n",
       "    </tr>\n",
       "    <tr>\n",
       "      <th>1</th>\n",
       "      <td>2014-05-10 11:35:46</td>\n",
       "      <td>42.475805</td>\n",
       "      <td>-70.926544</td>\n",
       "      <td>201</td>\n",
       "      <td>1</td>\n",
       "      <td>1</td>\n",
       "      <td>0</td>\n",
       "      <td>0</td>\n",
       "      <td>1</td>\n",
       "      <td>2</td>\n",
       "      <td>...</td>\n",
       "      <td>0</td>\n",
       "      <td>5</td>\n",
       "      <td>0</td>\n",
       "      <td>0</td>\n",
       "      <td>0</td>\n",
       "      <td>Delicious!  My co-workers came back from lunch...</td>\n",
       "      <td>0</td>\n",
       "      <td>0.271863</td>\n",
       "      <td>0.355628</td>\n",
       "      <td>0.075452</td>\n",
       "    </tr>\n",
       "    <tr>\n",
       "      <th>2</th>\n",
       "      <td>2014-07-18 14:36:15</td>\n",
       "      <td>42.520691</td>\n",
       "      <td>-70.894220</td>\n",
       "      <td>141</td>\n",
       "      <td>1</td>\n",
       "      <td>1</td>\n",
       "      <td>0</td>\n",
       "      <td>1</td>\n",
       "      <td>1</td>\n",
       "      <td>1</td>\n",
       "      <td>...</td>\n",
       "      <td>0</td>\n",
       "      <td>5</td>\n",
       "      <td>0</td>\n",
       "      <td>0</td>\n",
       "      <td>1</td>\n",
       "      <td>I really miss this place.  I used to work in S...</td>\n",
       "      <td>0</td>\n",
       "      <td>0.728551</td>\n",
       "      <td>0.194107</td>\n",
       "      <td>0.053206</td>\n",
       "    </tr>\n",
       "    <tr>\n",
       "      <th>3</th>\n",
       "      <td>2010-01-10 17:33:51</td>\n",
       "      <td>42.541155</td>\n",
       "      <td>-70.973438</td>\n",
       "      <td>39</td>\n",
       "      <td>1</td>\n",
       "      <td>1</td>\n",
       "      <td>1</td>\n",
       "      <td>1</td>\n",
       "      <td>1</td>\n",
       "      <td>2</td>\n",
       "      <td>...</td>\n",
       "      <td>0</td>\n",
       "      <td>4</td>\n",
       "      <td>1</td>\n",
       "      <td>0</td>\n",
       "      <td>0</td>\n",
       "      <td>love this place! really good pizza and probabl...</td>\n",
       "      <td>0</td>\n",
       "      <td>0.076064</td>\n",
       "      <td>0.058773</td>\n",
       "      <td>0.041854</td>\n",
       "    </tr>\n",
       "    <tr>\n",
       "      <th>4</th>\n",
       "      <td>2012-02-13 05:53:37</td>\n",
       "      <td>42.540409</td>\n",
       "      <td>-71.153318</td>\n",
       "      <td>66</td>\n",
       "      <td>1</td>\n",
       "      <td>1</td>\n",
       "      <td>1</td>\n",
       "      <td>1</td>\n",
       "      <td>1</td>\n",
       "      <td>1</td>\n",
       "      <td>...</td>\n",
       "      <td>0</td>\n",
       "      <td>2</td>\n",
       "      <td>5</td>\n",
       "      <td>1</td>\n",
       "      <td>0</td>\n",
       "      <td>Saw that they won a \"Sandie\" award from Phanto...</td>\n",
       "      <td>0</td>\n",
       "      <td>0.054909</td>\n",
       "      <td>0.110338</td>\n",
       "      <td>0.017194</td>\n",
       "    </tr>\n",
       "  </tbody>\n",
       "</table>\n",
       "<p>5 rows × 47 columns</p>\n",
       "</div>"
      ],
      "text/plain": [
       "                  date   latitude  longitude  review_count  is_open  \\\n",
       "0  2016-03-07 17:58:53  42.541155 -70.973438            39        1   \n",
       "1  2014-05-10 11:35:46  42.475805 -70.926544           201        1   \n",
       "2  2014-07-18 14:36:15  42.520691 -70.894220           141        1   \n",
       "3  2010-01-10 17:33:51  42.541155 -70.973438            39        1   \n",
       "4  2012-02-13 05:53:37  42.540409 -71.153318            66        1   \n",
       "\n",
       "   RestaurantsGoodForGroups  HasTV  GoodForKids  RestaurantsTakeOut  \\\n",
       "0                         1      1            1                   1   \n",
       "1                         1      0            0                   1   \n",
       "2                         1      0            1                   1   \n",
       "3                         1      1            1                   1   \n",
       "4                         1      1            1                   1   \n",
       "\n",
       "   RestaurantsPriceRange2  ...  Specialty Food stars  useful  funny cool  \\\n",
       "0                       2  ...               0     4       0      0    0   \n",
       "1                       2  ...               0     5       0      0    0   \n",
       "2                       1  ...               0     5       0      0    1   \n",
       "3                       2  ...               0     4       1      0    0   \n",
       "4                       1  ...               0     2       5      1    0   \n",
       "\n",
       "                                                text  fans checkins_per_week  \\\n",
       "0  Pizza here is delicious. I tried it once a few...     0          0.076064   \n",
       "1  Delicious!  My co-workers came back from lunch...     0          0.271863   \n",
       "2  I really miss this place.  I used to work in S...     0          0.728551   \n",
       "3  love this place! really good pizza and probabl...     0          0.076064   \n",
       "4  Saw that they won a \"Sandie\" award from Phanto...     0          0.054909   \n",
       "\n",
       "   reviews_per_week  tips_per_week  \n",
       "0          0.058773       0.041854  \n",
       "1          0.355628       0.075452  \n",
       "2          0.194107       0.053206  \n",
       "3          0.058773       0.041854  \n",
       "4          0.110338       0.017194  \n",
       "\n",
       "[5 rows x 47 columns]"
      ]
     },
     "execution_count": 2,
     "metadata": {},
     "output_type": "execute_result"
    }
   ],
   "source": [
    "df = pd.read_csv('../data/review_data_cleaned.csv')\n",
    "df.head()"
   ]
  },
  {
   "cell_type": "code",
   "execution_count": 3,
   "id": "b44cd15c",
   "metadata": {},
   "outputs": [
    {
     "name": "stdout",
     "output_type": "stream",
     "text": [
      "<class 'pandas.core.frame.DataFrame'>\n",
      "RangeIndex: 1364840 entries, 0 to 1364839\n",
      "Data columns (total 47 columns):\n",
      " #   Column                      Non-Null Count    Dtype  \n",
      "---  ------                      --------------    -----  \n",
      " 0   date                        1364840 non-null  object \n",
      " 1   latitude                    1364840 non-null  float64\n",
      " 2   longitude                   1364840 non-null  float64\n",
      " 3   review_count                1364840 non-null  int64  \n",
      " 4   is_open                     1364840 non-null  int64  \n",
      " 5   RestaurantsGoodForGroups    1364840 non-null  int64  \n",
      " 6   HasTV                       1364840 non-null  int64  \n",
      " 7   GoodForKids                 1364840 non-null  int64  \n",
      " 8   RestaurantsTakeOut          1364840 non-null  int64  \n",
      " 9   RestaurantsPriceRange2      1364840 non-null  int64  \n",
      " 10  RestaurantsReservations     1364840 non-null  int64  \n",
      " 11  RestaurantsAttire           1364840 non-null  object \n",
      " 12  RestaurantsDelivery         1364840 non-null  int64  \n",
      " 13  OutdoorSeating              1364840 non-null  int64  \n",
      " 14  NoiseLevel                  1364840 non-null  object \n",
      " 15  Alcohol                     1364840 non-null  object \n",
      " 16  BusinessAcceptsCreditCards  1364840 non-null  int64  \n",
      " 17  WiFi                        1364840 non-null  object \n",
      " 18  Sandwiches                  1364840 non-null  int64  \n",
      " 19  Nightlife                   1364840 non-null  int64  \n",
      " 20  Pizza                       1364840 non-null  int64  \n",
      " 21  Bars                        1364840 non-null  int64  \n",
      " 22  American (Traditional)      1364840 non-null  int64  \n",
      " 23  American (New)              1364840 non-null  int64  \n",
      " 24  Italian                     1364840 non-null  int64  \n",
      " 25  Breakfast & Brunch          1364840 non-null  int64  \n",
      " 26  Coffee & Tea                1364840 non-null  int64  \n",
      " 27  Chinese                     1364840 non-null  int64  \n",
      " 28  Seafood                     1364840 non-null  int64  \n",
      " 29  Burgers                     1364840 non-null  int64  \n",
      " 30  Fast Food                   1364840 non-null  int64  \n",
      " 31  Salad                       1364840 non-null  int64  \n",
      " 32  Cafes                       1364840 non-null  int64  \n",
      " 33  Mexican                     1364840 non-null  int64  \n",
      " 34  Bakeries                    1364840 non-null  int64  \n",
      " 35  Japanese                    1364840 non-null  int64  \n",
      " 36  Delis                       1364840 non-null  int64  \n",
      " 37  Specialty Food              1364840 non-null  int64  \n",
      " 38  stars                       1364840 non-null  int64  \n",
      " 39  useful                      1364840 non-null  int64  \n",
      " 40  funny                       1364840 non-null  int64  \n",
      " 41  cool                        1364840 non-null  int64  \n",
      " 42  text                        1364840 non-null  object \n",
      " 43  fans                        1364840 non-null  int64  \n",
      " 44  checkins_per_week           1364840 non-null  float64\n",
      " 45  reviews_per_week            1364840 non-null  float64\n",
      " 46  tips_per_week               1364840 non-null  float64\n",
      "dtypes: float64(5), int64(36), object(6)\n",
      "memory usage: 489.4+ MB\n"
     ]
    }
   ],
   "source": [
    "df.info()"
   ]
  },
  {
   "cell_type": "markdown",
   "id": "5e428331",
   "metadata": {},
   "source": [
    "### Converting Date Column"
   ]
  },
  {
   "cell_type": "markdown",
   "id": "86080de3",
   "metadata": {},
   "source": [
    "We can see that the `date` column is of an object data type. It would be more convenient, if we could extract the individual components of the date as separate numeric columns (e.g. year, month, etc., of the review). To do this, we first convert the `date` column to a `datetime` format and then extract the components of interest. "
   ]
  },
  {
   "cell_type": "code",
   "execution_count": 4,
   "id": "14aeaad7",
   "metadata": {},
   "outputs": [
    {
     "name": "stdout",
     "output_type": "stream",
     "text": [
      "<class 'pandas.core.frame.DataFrame'>\n",
      "RangeIndex: 1364840 entries, 0 to 1364839\n",
      "Data columns (total 52 columns):\n",
      " #   Column                      Non-Null Count    Dtype  \n",
      "---  ------                      --------------    -----  \n",
      " 0   Year                        1364840 non-null  int64  \n",
      " 1   Month                       1364840 non-null  int64  \n",
      " 2   Day                         1364840 non-null  int64  \n",
      " 3   Day of Week                 1364840 non-null  int64  \n",
      " 4   Hour                        1364840 non-null  int64  \n",
      " 5   Minute                      1364840 non-null  int64  \n",
      " 6   latitude                    1364840 non-null  float64\n",
      " 7   longitude                   1364840 non-null  float64\n",
      " 8   review_count                1364840 non-null  int64  \n",
      " 9   is_open                     1364840 non-null  int64  \n",
      " 10  RestaurantsGoodForGroups    1364840 non-null  int64  \n",
      " 11  HasTV                       1364840 non-null  int64  \n",
      " 12  GoodForKids                 1364840 non-null  int64  \n",
      " 13  RestaurantsTakeOut          1364840 non-null  int64  \n",
      " 14  RestaurantsPriceRange2      1364840 non-null  int64  \n",
      " 15  RestaurantsReservations     1364840 non-null  int64  \n",
      " 16  RestaurantsAttire           1364840 non-null  object \n",
      " 17  RestaurantsDelivery         1364840 non-null  int64  \n",
      " 18  OutdoorSeating              1364840 non-null  int64  \n",
      " 19  NoiseLevel                  1364840 non-null  object \n",
      " 20  Alcohol                     1364840 non-null  object \n",
      " 21  BusinessAcceptsCreditCards  1364840 non-null  int64  \n",
      " 22  WiFi                        1364840 non-null  object \n",
      " 23  Sandwiches                  1364840 non-null  int64  \n",
      " 24  Nightlife                   1364840 non-null  int64  \n",
      " 25  Pizza                       1364840 non-null  int64  \n",
      " 26  Bars                        1364840 non-null  int64  \n",
      " 27  American (Traditional)      1364840 non-null  int64  \n",
      " 28  American (New)              1364840 non-null  int64  \n",
      " 29  Italian                     1364840 non-null  int64  \n",
      " 30  Breakfast & Brunch          1364840 non-null  int64  \n",
      " 31  Coffee & Tea                1364840 non-null  int64  \n",
      " 32  Chinese                     1364840 non-null  int64  \n",
      " 33  Seafood                     1364840 non-null  int64  \n",
      " 34  Burgers                     1364840 non-null  int64  \n",
      " 35  Fast Food                   1364840 non-null  int64  \n",
      " 36  Salad                       1364840 non-null  int64  \n",
      " 37  Cafes                       1364840 non-null  int64  \n",
      " 38  Mexican                     1364840 non-null  int64  \n",
      " 39  Bakeries                    1364840 non-null  int64  \n",
      " 40  Japanese                    1364840 non-null  int64  \n",
      " 41  Delis                       1364840 non-null  int64  \n",
      " 42  Specialty Food              1364840 non-null  int64  \n",
      " 43  stars                       1364840 non-null  int64  \n",
      " 44  useful                      1364840 non-null  int64  \n",
      " 45  funny                       1364840 non-null  int64  \n",
      " 46  cool                        1364840 non-null  int64  \n",
      " 47  text                        1364840 non-null  object \n",
      " 48  fans                        1364840 non-null  int64  \n",
      " 49  checkins_per_week           1364840 non-null  float64\n",
      " 50  reviews_per_week            1364840 non-null  float64\n",
      " 51  tips_per_week               1364840 non-null  float64\n",
      "dtypes: float64(5), int64(42), object(5)\n",
      "memory usage: 541.5+ MB\n"
     ]
    }
   ],
   "source": [
    "df['date'] = pd.to_datetime(df['date'])\n",
    "df.insert(loc=0, column='Year', value=df['date'].dt.year)\n",
    "df.insert(loc=1, column='Month', value=df['date'].dt.month)\n",
    "df.insert(loc=2, column='Day', value=df['date'].dt.day)\n",
    "df.insert(loc=3, column='Day of Week', value=df['date'].dt.weekday)\n",
    "df.insert(loc=4, column='Hour', value=df['date'].dt.hour)\n",
    "df.insert(loc=5, column='Minute', value=df['date'].dt.minute)\n",
    "df.drop('date', axis=1, inplace=True)\n",
    "df.info()"
   ]
  },
  {
   "cell_type": "markdown",
   "id": "e6ce2122",
   "metadata": {},
   "source": [
    "We have successfully converted the date components to separate integer columns."
   ]
  },
  {
   "cell_type": "markdown",
   "id": "908ba300",
   "metadata": {},
   "source": [
    "### Ordering the columns"
   ]
  },
  {
   "cell_type": "code",
   "execution_count": 6,
   "id": "9df95f61",
   "metadata": {},
   "outputs": [
    {
     "data": {
      "text/plain": [
       "['RestaurantsAttire', 'NoiseLevel', 'Alcohol', 'WiFi', 'text']"
      ]
     },
     "execution_count": 6,
     "metadata": {},
     "output_type": "execute_result"
    }
   ],
   "source": [
    "# Get  columns whose data type is object\n",
    "object_columns = df.dtypes[df.dtypes == 'object']\n",
    "\n",
    "# Put the object column names into a list\n",
    "object_columns = object_columns.index.tolist()\n",
    "object_columns"
   ]
  },
  {
   "cell_type": "code",
   "execution_count": 7,
   "id": "806d6a04",
   "metadata": {},
   "outputs": [
    {
     "data": {
      "text/html": [
       "<div>\n",
       "<style scoped>\n",
       "    .dataframe tbody tr th:only-of-type {\n",
       "        vertical-align: middle;\n",
       "    }\n",
       "\n",
       "    .dataframe tbody tr th {\n",
       "        vertical-align: top;\n",
       "    }\n",
       "\n",
       "    .dataframe thead th {\n",
       "        text-align: right;\n",
       "    }\n",
       "</style>\n",
       "<table border=\"1\" class=\"dataframe\">\n",
       "  <thead>\n",
       "    <tr style=\"text-align: right;\">\n",
       "      <th></th>\n",
       "      <th>RestaurantsAttire</th>\n",
       "      <th>NoiseLevel</th>\n",
       "      <th>Alcohol</th>\n",
       "      <th>WiFi</th>\n",
       "      <th>text</th>\n",
       "    </tr>\n",
       "  </thead>\n",
       "  <tbody>\n",
       "    <tr>\n",
       "      <th>0</th>\n",
       "      <td>casual</td>\n",
       "      <td>average</td>\n",
       "      <td>none</td>\n",
       "      <td>free</td>\n",
       "      <td>Pizza here is delicious. I tried it once a few...</td>\n",
       "    </tr>\n",
       "    <tr>\n",
       "      <th>1</th>\n",
       "      <td>casual</td>\n",
       "      <td>average</td>\n",
       "      <td>full_bar</td>\n",
       "      <td>free</td>\n",
       "      <td>Delicious!  My co-workers came back from lunch...</td>\n",
       "    </tr>\n",
       "    <tr>\n",
       "      <th>2</th>\n",
       "      <td>casual</td>\n",
       "      <td>average</td>\n",
       "      <td>none</td>\n",
       "      <td>no</td>\n",
       "      <td>I really miss this place.  I used to work in S...</td>\n",
       "    </tr>\n",
       "    <tr>\n",
       "      <th>3</th>\n",
       "      <td>casual</td>\n",
       "      <td>average</td>\n",
       "      <td>none</td>\n",
       "      <td>free</td>\n",
       "      <td>love this place! really good pizza and probabl...</td>\n",
       "    </tr>\n",
       "    <tr>\n",
       "      <th>4</th>\n",
       "      <td>casual</td>\n",
       "      <td>average</td>\n",
       "      <td>none</td>\n",
       "      <td>no</td>\n",
       "      <td>Saw that they won a \"Sandie\" award from Phanto...</td>\n",
       "    </tr>\n",
       "    <tr>\n",
       "      <th>...</th>\n",
       "      <td>...</td>\n",
       "      <td>...</td>\n",
       "      <td>...</td>\n",
       "      <td>...</td>\n",
       "      <td>...</td>\n",
       "    </tr>\n",
       "    <tr>\n",
       "      <th>1364835</th>\n",
       "      <td>casual</td>\n",
       "      <td>average</td>\n",
       "      <td>beer_and_wine</td>\n",
       "      <td>no</td>\n",
       "      <td>We need restaurants like this to remind us whe...</td>\n",
       "    </tr>\n",
       "    <tr>\n",
       "      <th>1364836</th>\n",
       "      <td>casual</td>\n",
       "      <td>average</td>\n",
       "      <td>beer_and_wine</td>\n",
       "      <td>no</td>\n",
       "      <td>Food is good but small portions ! A bit overly...</td>\n",
       "    </tr>\n",
       "    <tr>\n",
       "      <th>1364837</th>\n",
       "      <td>casual</td>\n",
       "      <td>average</td>\n",
       "      <td>beer_and_wine</td>\n",
       "      <td>no</td>\n",
       "      <td>I had orders the pasta carbonara for a pick up...</td>\n",
       "    </tr>\n",
       "    <tr>\n",
       "      <th>1364838</th>\n",
       "      <td>casual</td>\n",
       "      <td>average</td>\n",
       "      <td>full_bar</td>\n",
       "      <td>no</td>\n",
       "      <td>As I said, my family and I gave the Jury Room ...</td>\n",
       "    </tr>\n",
       "    <tr>\n",
       "      <th>1364839</th>\n",
       "      <td>casual</td>\n",
       "      <td>average</td>\n",
       "      <td>full_bar</td>\n",
       "      <td>no</td>\n",
       "      <td>Been there twice for dinner, the first time th...</td>\n",
       "    </tr>\n",
       "  </tbody>\n",
       "</table>\n",
       "<p>1364840 rows × 5 columns</p>\n",
       "</div>"
      ],
      "text/plain": [
       "        RestaurantsAttire NoiseLevel        Alcohol  WiFi  \\\n",
       "0                  casual    average           none  free   \n",
       "1                  casual    average       full_bar  free   \n",
       "2                  casual    average           none    no   \n",
       "3                  casual    average           none  free   \n",
       "4                  casual    average           none    no   \n",
       "...                   ...        ...            ...   ...   \n",
       "1364835            casual    average  beer_and_wine    no   \n",
       "1364836            casual    average  beer_and_wine    no   \n",
       "1364837            casual    average  beer_and_wine    no   \n",
       "1364838            casual    average       full_bar    no   \n",
       "1364839            casual    average       full_bar    no   \n",
       "\n",
       "                                                      text  \n",
       "0        Pizza here is delicious. I tried it once a few...  \n",
       "1        Delicious!  My co-workers came back from lunch...  \n",
       "2        I really miss this place.  I used to work in S...  \n",
       "3        love this place! really good pizza and probabl...  \n",
       "4        Saw that they won a \"Sandie\" award from Phanto...  \n",
       "...                                                    ...  \n",
       "1364835  We need restaurants like this to remind us whe...  \n",
       "1364836  Food is good but small portions ! A bit overly...  \n",
       "1364837  I had orders the pasta carbonara for a pick up...  \n",
       "1364838  As I said, my family and I gave the Jury Room ...  \n",
       "1364839  Been there twice for dinner, the first time th...  \n",
       "\n",
       "[1364840 rows x 5 columns]"
      ]
     },
     "execution_count": 7,
     "metadata": {},
     "output_type": "execute_result"
    }
   ],
   "source": [
    "temp_df = df[object_columns]\n",
    "temp_df"
   ]
  },
  {
   "cell_type": "code",
   "execution_count": 8,
   "id": "9d826b37",
   "metadata": {},
   "outputs": [
    {
     "data": {
      "text/html": [
       "<div>\n",
       "<style scoped>\n",
       "    .dataframe tbody tr th:only-of-type {\n",
       "        vertical-align: middle;\n",
       "    }\n",
       "\n",
       "    .dataframe tbody tr th {\n",
       "        vertical-align: top;\n",
       "    }\n",
       "\n",
       "    .dataframe thead th {\n",
       "        text-align: right;\n",
       "    }\n",
       "</style>\n",
       "<table border=\"1\" class=\"dataframe\">\n",
       "  <thead>\n",
       "    <tr style=\"text-align: right;\">\n",
       "      <th></th>\n",
       "      <th>Year</th>\n",
       "      <th>Month</th>\n",
       "      <th>Day</th>\n",
       "      <th>Day of Week</th>\n",
       "      <th>Hour</th>\n",
       "      <th>Minute</th>\n",
       "      <th>latitude</th>\n",
       "      <th>longitude</th>\n",
       "      <th>review_count</th>\n",
       "      <th>is_open</th>\n",
       "      <th>...</th>\n",
       "      <th>cool</th>\n",
       "      <th>fans</th>\n",
       "      <th>checkins_per_week</th>\n",
       "      <th>reviews_per_week</th>\n",
       "      <th>tips_per_week</th>\n",
       "      <th>RestaurantsAttire</th>\n",
       "      <th>NoiseLevel</th>\n",
       "      <th>Alcohol</th>\n",
       "      <th>WiFi</th>\n",
       "      <th>text</th>\n",
       "    </tr>\n",
       "  </thead>\n",
       "  <tbody>\n",
       "    <tr>\n",
       "      <th>0</th>\n",
       "      <td>2016</td>\n",
       "      <td>3</td>\n",
       "      <td>7</td>\n",
       "      <td>0</td>\n",
       "      <td>17</td>\n",
       "      <td>58</td>\n",
       "      <td>42.541155</td>\n",
       "      <td>-70.973438</td>\n",
       "      <td>39</td>\n",
       "      <td>1</td>\n",
       "      <td>...</td>\n",
       "      <td>0</td>\n",
       "      <td>0</td>\n",
       "      <td>0.076064</td>\n",
       "      <td>0.058773</td>\n",
       "      <td>0.041854</td>\n",
       "      <td>casual</td>\n",
       "      <td>average</td>\n",
       "      <td>none</td>\n",
       "      <td>free</td>\n",
       "      <td>Pizza here is delicious. I tried it once a few...</td>\n",
       "    </tr>\n",
       "    <tr>\n",
       "      <th>1</th>\n",
       "      <td>2014</td>\n",
       "      <td>5</td>\n",
       "      <td>10</td>\n",
       "      <td>5</td>\n",
       "      <td>11</td>\n",
       "      <td>35</td>\n",
       "      <td>42.475805</td>\n",
       "      <td>-70.926544</td>\n",
       "      <td>201</td>\n",
       "      <td>1</td>\n",
       "      <td>...</td>\n",
       "      <td>0</td>\n",
       "      <td>0</td>\n",
       "      <td>0.271863</td>\n",
       "      <td>0.355628</td>\n",
       "      <td>0.075452</td>\n",
       "      <td>casual</td>\n",
       "      <td>average</td>\n",
       "      <td>full_bar</td>\n",
       "      <td>free</td>\n",
       "      <td>Delicious!  My co-workers came back from lunch...</td>\n",
       "    </tr>\n",
       "    <tr>\n",
       "      <th>2</th>\n",
       "      <td>2014</td>\n",
       "      <td>7</td>\n",
       "      <td>18</td>\n",
       "      <td>4</td>\n",
       "      <td>14</td>\n",
       "      <td>36</td>\n",
       "      <td>42.520691</td>\n",
       "      <td>-70.894220</td>\n",
       "      <td>141</td>\n",
       "      <td>1</td>\n",
       "      <td>...</td>\n",
       "      <td>1</td>\n",
       "      <td>0</td>\n",
       "      <td>0.728551</td>\n",
       "      <td>0.194107</td>\n",
       "      <td>0.053206</td>\n",
       "      <td>casual</td>\n",
       "      <td>average</td>\n",
       "      <td>none</td>\n",
       "      <td>no</td>\n",
       "      <td>I really miss this place.  I used to work in S...</td>\n",
       "    </tr>\n",
       "    <tr>\n",
       "      <th>3</th>\n",
       "      <td>2010</td>\n",
       "      <td>1</td>\n",
       "      <td>10</td>\n",
       "      <td>6</td>\n",
       "      <td>17</td>\n",
       "      <td>33</td>\n",
       "      <td>42.541155</td>\n",
       "      <td>-70.973438</td>\n",
       "      <td>39</td>\n",
       "      <td>1</td>\n",
       "      <td>...</td>\n",
       "      <td>0</td>\n",
       "      <td>0</td>\n",
       "      <td>0.076064</td>\n",
       "      <td>0.058773</td>\n",
       "      <td>0.041854</td>\n",
       "      <td>casual</td>\n",
       "      <td>average</td>\n",
       "      <td>none</td>\n",
       "      <td>free</td>\n",
       "      <td>love this place! really good pizza and probabl...</td>\n",
       "    </tr>\n",
       "    <tr>\n",
       "      <th>4</th>\n",
       "      <td>2012</td>\n",
       "      <td>2</td>\n",
       "      <td>13</td>\n",
       "      <td>0</td>\n",
       "      <td>5</td>\n",
       "      <td>53</td>\n",
       "      <td>42.540409</td>\n",
       "      <td>-71.153318</td>\n",
       "      <td>66</td>\n",
       "      <td>1</td>\n",
       "      <td>...</td>\n",
       "      <td>0</td>\n",
       "      <td>0</td>\n",
       "      <td>0.054909</td>\n",
       "      <td>0.110338</td>\n",
       "      <td>0.017194</td>\n",
       "      <td>casual</td>\n",
       "      <td>average</td>\n",
       "      <td>none</td>\n",
       "      <td>no</td>\n",
       "      <td>Saw that they won a \"Sandie\" award from Phanto...</td>\n",
       "    </tr>\n",
       "  </tbody>\n",
       "</table>\n",
       "<p>5 rows × 52 columns</p>\n",
       "</div>"
      ],
      "text/plain": [
       "   Year  Month  Day  Day of Week  Hour  Minute   latitude  longitude  \\\n",
       "0  2016      3    7            0    17      58  42.541155 -70.973438   \n",
       "1  2014      5   10            5    11      35  42.475805 -70.926544   \n",
       "2  2014      7   18            4    14      36  42.520691 -70.894220   \n",
       "3  2010      1   10            6    17      33  42.541155 -70.973438   \n",
       "4  2012      2   13            0     5      53  42.540409 -71.153318   \n",
       "\n",
       "   review_count  is_open  ...  cool  fans  checkins_per_week  \\\n",
       "0            39        1  ...     0     0           0.076064   \n",
       "1           201        1  ...     0     0           0.271863   \n",
       "2           141        1  ...     1     0           0.728551   \n",
       "3            39        1  ...     0     0           0.076064   \n",
       "4            66        1  ...     0     0           0.054909   \n",
       "\n",
       "   reviews_per_week  tips_per_week  RestaurantsAttire  NoiseLevel   Alcohol  \\\n",
       "0          0.058773       0.041854             casual     average      none   \n",
       "1          0.355628       0.075452             casual     average  full_bar   \n",
       "2          0.194107       0.053206             casual     average      none   \n",
       "3          0.058773       0.041854             casual     average      none   \n",
       "4          0.110338       0.017194             casual     average      none   \n",
       "\n",
       "   WiFi                                               text  \n",
       "0  free  Pizza here is delicious. I tried it once a few...  \n",
       "1  free  Delicious!  My co-workers came back from lunch...  \n",
       "2    no  I really miss this place.  I used to work in S...  \n",
       "3  free  love this place! really good pizza and probabl...  \n",
       "4    no  Saw that they won a \"Sandie\" award from Phanto...  \n",
       "\n",
       "[5 rows x 52 columns]"
      ]
     },
     "execution_count": 8,
     "metadata": {},
     "output_type": "execute_result"
    }
   ],
   "source": [
    "df = pd.concat([df.drop(columns = object_columns), temp_df], axis=1)\n",
    "df.head()\n"
   ]
  },
  {
   "cell_type": "markdown",
   "id": "2478de63",
   "metadata": {},
   "source": [
    "### Define X and y"
   ]
  },
  {
   "cell_type": "code",
   "execution_count": 9,
   "id": "f0de9ba9",
   "metadata": {},
   "outputs": [
    {
     "data": {
      "text/html": [
       "<div>\n",
       "<style scoped>\n",
       "    .dataframe tbody tr th:only-of-type {\n",
       "        vertical-align: middle;\n",
       "    }\n",
       "\n",
       "    .dataframe tbody tr th {\n",
       "        vertical-align: top;\n",
       "    }\n",
       "\n",
       "    .dataframe thead th {\n",
       "        text-align: right;\n",
       "    }\n",
       "</style>\n",
       "<table border=\"1\" class=\"dataframe\">\n",
       "  <thead>\n",
       "    <tr style=\"text-align: right;\">\n",
       "      <th></th>\n",
       "      <th>Year</th>\n",
       "      <th>Month</th>\n",
       "      <th>Day</th>\n",
       "      <th>Day of Week</th>\n",
       "      <th>Hour</th>\n",
       "      <th>Minute</th>\n",
       "      <th>latitude</th>\n",
       "      <th>longitude</th>\n",
       "      <th>review_count</th>\n",
       "      <th>is_open</th>\n",
       "      <th>...</th>\n",
       "      <th>cool</th>\n",
       "      <th>fans</th>\n",
       "      <th>checkins_per_week</th>\n",
       "      <th>reviews_per_week</th>\n",
       "      <th>tips_per_week</th>\n",
       "      <th>RestaurantsAttire</th>\n",
       "      <th>NoiseLevel</th>\n",
       "      <th>Alcohol</th>\n",
       "      <th>WiFi</th>\n",
       "      <th>text</th>\n",
       "    </tr>\n",
       "  </thead>\n",
       "  <tbody>\n",
       "    <tr>\n",
       "      <th>0</th>\n",
       "      <td>2016</td>\n",
       "      <td>3</td>\n",
       "      <td>7</td>\n",
       "      <td>0</td>\n",
       "      <td>17</td>\n",
       "      <td>58</td>\n",
       "      <td>42.541155</td>\n",
       "      <td>-70.973438</td>\n",
       "      <td>39</td>\n",
       "      <td>1</td>\n",
       "      <td>...</td>\n",
       "      <td>0</td>\n",
       "      <td>0</td>\n",
       "      <td>0.076064</td>\n",
       "      <td>0.058773</td>\n",
       "      <td>0.041854</td>\n",
       "      <td>casual</td>\n",
       "      <td>average</td>\n",
       "      <td>none</td>\n",
       "      <td>free</td>\n",
       "      <td>Pizza here is delicious. I tried it once a few...</td>\n",
       "    </tr>\n",
       "    <tr>\n",
       "      <th>1</th>\n",
       "      <td>2014</td>\n",
       "      <td>5</td>\n",
       "      <td>10</td>\n",
       "      <td>5</td>\n",
       "      <td>11</td>\n",
       "      <td>35</td>\n",
       "      <td>42.475805</td>\n",
       "      <td>-70.926544</td>\n",
       "      <td>201</td>\n",
       "      <td>1</td>\n",
       "      <td>...</td>\n",
       "      <td>0</td>\n",
       "      <td>0</td>\n",
       "      <td>0.271863</td>\n",
       "      <td>0.355628</td>\n",
       "      <td>0.075452</td>\n",
       "      <td>casual</td>\n",
       "      <td>average</td>\n",
       "      <td>full_bar</td>\n",
       "      <td>free</td>\n",
       "      <td>Delicious!  My co-workers came back from lunch...</td>\n",
       "    </tr>\n",
       "    <tr>\n",
       "      <th>2</th>\n",
       "      <td>2014</td>\n",
       "      <td>7</td>\n",
       "      <td>18</td>\n",
       "      <td>4</td>\n",
       "      <td>14</td>\n",
       "      <td>36</td>\n",
       "      <td>42.520691</td>\n",
       "      <td>-70.894220</td>\n",
       "      <td>141</td>\n",
       "      <td>1</td>\n",
       "      <td>...</td>\n",
       "      <td>1</td>\n",
       "      <td>0</td>\n",
       "      <td>0.728551</td>\n",
       "      <td>0.194107</td>\n",
       "      <td>0.053206</td>\n",
       "      <td>casual</td>\n",
       "      <td>average</td>\n",
       "      <td>none</td>\n",
       "      <td>no</td>\n",
       "      <td>I really miss this place.  I used to work in S...</td>\n",
       "    </tr>\n",
       "    <tr>\n",
       "      <th>3</th>\n",
       "      <td>2010</td>\n",
       "      <td>1</td>\n",
       "      <td>10</td>\n",
       "      <td>6</td>\n",
       "      <td>17</td>\n",
       "      <td>33</td>\n",
       "      <td>42.541155</td>\n",
       "      <td>-70.973438</td>\n",
       "      <td>39</td>\n",
       "      <td>1</td>\n",
       "      <td>...</td>\n",
       "      <td>0</td>\n",
       "      <td>0</td>\n",
       "      <td>0.076064</td>\n",
       "      <td>0.058773</td>\n",
       "      <td>0.041854</td>\n",
       "      <td>casual</td>\n",
       "      <td>average</td>\n",
       "      <td>none</td>\n",
       "      <td>free</td>\n",
       "      <td>love this place! really good pizza and probabl...</td>\n",
       "    </tr>\n",
       "    <tr>\n",
       "      <th>4</th>\n",
       "      <td>2012</td>\n",
       "      <td>2</td>\n",
       "      <td>13</td>\n",
       "      <td>0</td>\n",
       "      <td>5</td>\n",
       "      <td>53</td>\n",
       "      <td>42.540409</td>\n",
       "      <td>-71.153318</td>\n",
       "      <td>66</td>\n",
       "      <td>1</td>\n",
       "      <td>...</td>\n",
       "      <td>0</td>\n",
       "      <td>0</td>\n",
       "      <td>0.054909</td>\n",
       "      <td>0.110338</td>\n",
       "      <td>0.017194</td>\n",
       "      <td>casual</td>\n",
       "      <td>average</td>\n",
       "      <td>none</td>\n",
       "      <td>no</td>\n",
       "      <td>Saw that they won a \"Sandie\" award from Phanto...</td>\n",
       "    </tr>\n",
       "  </tbody>\n",
       "</table>\n",
       "<p>5 rows × 51 columns</p>\n",
       "</div>"
      ],
      "text/plain": [
       "   Year  Month  Day  Day of Week  Hour  Minute   latitude  longitude  \\\n",
       "0  2016      3    7            0    17      58  42.541155 -70.973438   \n",
       "1  2014      5   10            5    11      35  42.475805 -70.926544   \n",
       "2  2014      7   18            4    14      36  42.520691 -70.894220   \n",
       "3  2010      1   10            6    17      33  42.541155 -70.973438   \n",
       "4  2012      2   13            0     5      53  42.540409 -71.153318   \n",
       "\n",
       "   review_count  is_open  ...  cool  fans  checkins_per_week  \\\n",
       "0            39        1  ...     0     0           0.076064   \n",
       "1           201        1  ...     0     0           0.271863   \n",
       "2           141        1  ...     1     0           0.728551   \n",
       "3            39        1  ...     0     0           0.076064   \n",
       "4            66        1  ...     0     0           0.054909   \n",
       "\n",
       "   reviews_per_week  tips_per_week  RestaurantsAttire  NoiseLevel   Alcohol  \\\n",
       "0          0.058773       0.041854             casual     average      none   \n",
       "1          0.355628       0.075452             casual     average  full_bar   \n",
       "2          0.194107       0.053206             casual     average      none   \n",
       "3          0.058773       0.041854             casual     average      none   \n",
       "4          0.110338       0.017194             casual     average      none   \n",
       "\n",
       "   WiFi                                               text  \n",
       "0  free  Pizza here is delicious. I tried it once a few...  \n",
       "1  free  Delicious!  My co-workers came back from lunch...  \n",
       "2    no  I really miss this place.  I used to work in S...  \n",
       "3  free  love this place! really good pizza and probabl...  \n",
       "4    no  Saw that they won a \"Sandie\" award from Phanto...  \n",
       "\n",
       "[5 rows x 51 columns]"
      ]
     },
     "execution_count": 9,
     "metadata": {},
     "output_type": "execute_result"
    }
   ],
   "source": [
    "X = df.drop(['stars'], axis=1)\n",
    "X.head()"
   ]
  },
  {
   "cell_type": "code",
   "execution_count": 10,
   "id": "dd0a5cc0",
   "metadata": {},
   "outputs": [
    {
     "data": {
      "text/plain": [
       "0    4\n",
       "1    5\n",
       "2    5\n",
       "3    4\n",
       "4    2\n",
       "Name: stars, dtype: int64"
      ]
     },
     "execution_count": 10,
     "metadata": {},
     "output_type": "execute_result"
    }
   ],
   "source": [
    "y = df['stars']\n",
    "y.head()"
   ]
  },
  {
   "cell_type": "code",
   "execution_count": 11,
   "id": "78256272",
   "metadata": {},
   "outputs": [
    {
     "data": {
      "image/png": "[encoded data removed]",
      "text/plain": [
       "<Figure size 1080x360 with 1 Axes>"
      ]
     },
     "metadata": {
      "needs_background": "light"
     },
     "output_type": "display_data"
    }
   ],
   "source": [
    "plt.figure(figsize=(15,5))\n",
    "plt.bar(y.value_counts().sort_index().index.astype('str'),\n",
    "        y.value_counts().sort_index())\n",
    "plt.title('Distribution of Stars in the Test Set')\n",
    "plt.xlabel('stars')\n",
    "plt.ylabel('Counts')\n",
    "plt.show()"
   ]
  },
  {
   "cell_type": "code",
   "execution_count": 12,
   "id": "074037c9",
   "metadata": {},
   "outputs": [],
   "source": [
    "X_sampled, y_sampled = resample(X, y, random_state=0, \n",
    "                                    n_samples = 0.01*X.shape[0],\n",
    "                                    replace=False, stratify=y)"
   ]
  },
  {
   "cell_type": "code",
   "execution_count": 13,
   "id": "91f5a032",
   "metadata": {},
   "outputs": [
    {
     "name": "stdout",
     "output_type": "stream",
     "text": [
      "X_sampled_shape: (13648, 51)\n",
      "y_sampled_shape: (13648,)\n"
     ]
    }
   ],
   "source": [
    "print(f'X_sampled_shape: {X_sampled.shape}')\n",
    "print(f'y_sampled_shape: {y_sampled.shape}')"
   ]
  },
  {
   "cell_type": "code",
   "execution_count": 14,
   "id": "a736730f",
   "metadata": {},
   "outputs": [
    {
     "data": {
      "image/png": "[encoded data removed]",
      "text/plain": [
       "<Figure size 1080x360 with 1 Axes>"
      ]
     },
     "metadata": {
      "needs_background": "light"
     },
     "output_type": "display_data"
    }
   ],
   "source": [
    "plt.figure(figsize=(15,5))\n",
    "plt.bar(y_sampled.value_counts().sort_index().index.astype('str'),\n",
    "        y_sampled.value_counts().sort_index())\n",
    "plt.title('Distribution of Stars in the Test Set')\n",
    "plt.xlabel('stars')\n",
    "plt.ylabel('Counts')\n",
    "plt.show()"
   ]
  },
  {
   "cell_type": "markdown",
   "id": "03ae4f82",
   "metadata": {},
   "source": [
    "### Check Correlation with Number of stars"
   ]
  },
  {
   "cell_type": "code",
   "execution_count": 15,
   "id": "7ccbeb1b",
   "metadata": {},
   "outputs": [],
   "source": [
    "def correlation_coeff(X, y):\n",
    "    \n",
    "    correlation_df = pd.DataFrame(columns=['Variable', 'Correlation Coefficient', 'p-value'])\n",
    "    \n",
    "    for column in X.columns:\n",
    "        corr_coef, p_value = stats.pearsonr(X[column], y)\n",
    "        correlation_df = correlation_df.append({'Variable': column,\n",
    "                                                'Correlation Coefficient': corr_coef,\n",
    "                                                'p-value': p_value}, ignore_index=True)\n",
    "        correlation_df.sort_values(by='Correlation Coefficient', ascending=False, inplace=True)\n",
    "    \n",
    "    return correlation_df\n"
   ]
  },
  {
   "cell_type": "code",
   "execution_count": 16,
   "id": "42f88bd6",
   "metadata": {},
   "outputs": [],
   "source": [
    "#correlation_coeff(X,y)"
   ]
  },
  {
   "cell_type": "code",
   "execution_count": null,
   "id": "85b2e15c",
   "metadata": {},
   "outputs": [],
   "source": []
  },
  {
   "cell_type": "markdown",
   "id": "f7c401ca",
   "metadata": {},
   "source": [
    "### Check for Multicollinearity"
   ]
  },
  {
   "cell_type": "code",
   "execution_count": 17,
   "id": "a0260357",
   "metadata": {},
   "outputs": [
    {
     "data": {
      "text/plain": [
       "\"def high_correlation(x, color):\\n    threshold = 0.5\\n    return f'color: {color};' if x < -1*(threshold) or x > threshold else None\\n\\nX.corr().style.applymap(high_correlation, color='red')\""
      ]
     },
     "execution_count": 17,
     "metadata": {},
     "output_type": "execute_result"
    }
   ],
   "source": [
    "'''def high_correlation(x, color):\n",
    "    threshold = 0.5\n",
    "    return f'color: {color};' if x < -1*(threshold) or x > threshold else None\n",
    "\n",
    "X.corr().style.applymap(high_correlation, color='red')'''"
   ]
  },
  {
   "cell_type": "code",
   "execution_count": 18,
   "id": "f1b4ccad",
   "metadata": {},
   "outputs": [
    {
     "data": {
      "image/png": "[encoded data removed]",
      "text/plain": [
       "<Figure size 1440x1080 with 2 Axes>"
      ]
     },
     "metadata": {
      "needs_background": "light"
     },
     "output_type": "display_data"
    }
   ],
   "source": [
    "plt.figure(figsize=(20,15))\n",
    "mask = np.triu(np.ones_like(X.corr()))\n",
    "\n",
    "sns.heatmap(X.corr(), cmap='coolwarm', mask=mask, vmin=-1, vmax=1)\n",
    "plt.show()"
   ]
  },
  {
   "cell_type": "markdown",
   "id": "5e558744",
   "metadata": {},
   "source": [
    "## Modelling"
   ]
  },
  {
   "cell_type": "markdown",
   "id": "3274e98a",
   "metadata": {},
   "source": [
    "### Defining Train and Test Sets"
   ]
  },
  {
   "cell_type": "code",
   "execution_count": 19,
   "id": "750e1994",
   "metadata": {},
   "outputs": [
    {
     "name": "stdout",
     "output_type": "stream",
     "text": [
      "Shape of X_train: (10918, 51). Shaper of y_train: (10918,)\n",
      "Shape of X_test: (2730, 51). Shaper of y_test: (2730,)\n"
     ]
    }
   ],
   "source": [
    "# Splitting out 20% for test set\n",
    "X_train, X_test, y_train, y_test = train_test_split(X_sampled, y_sampled, test_size = 0.2, stratify=y_sampled, random_state=0)\n",
    "\n",
    "print(f'Shape of X_train: {X_train.shape}. Shaper of y_train: {y_train.shape}')\n",
    "print(f'Shape of X_test: {X_test.shape}. Shaper of y_test: {y_test.shape}')"
   ]
  },
  {
   "cell_type": "code",
   "execution_count": 20,
   "id": "fe3e9ad8",
   "metadata": {},
   "outputs": [
    {
     "data": {
      "image/png": "[encoded data removed]",
      "text/plain": [
       "<Figure size 1080x360 with 1 Axes>"
      ]
     },
     "metadata": {
      "needs_background": "light"
     },
     "output_type": "display_data"
    }
   ],
   "source": [
    "plt.figure(figsize=(15,5))\n",
    "plt.bar(y_test.value_counts().sort_index().index.astype('str'),\n",
    "        y_test.value_counts().sort_index())\n",
    "plt.title('Distribution of Stars in the Test Set')\n",
    "plt.xlabel('stars')\n",
    "plt.ylabel('Counts')\n",
    "plt.show()"
   ]
  },
  {
   "cell_type": "code",
   "execution_count": 21,
   "id": "a2e31688",
   "metadata": {},
   "outputs": [
    {
     "name": "stdout",
     "output_type": "stream",
     "text": [
      "<class 'pandas.core.frame.DataFrame'>\n",
      "Int64Index: 10918 entries, 118838 to 910818\n",
      "Data columns (total 51 columns):\n",
      " #   Column                      Non-Null Count  Dtype  \n",
      "---  ------                      --------------  -----  \n",
      " 0   Year                        10918 non-null  int64  \n",
      " 1   Month                       10918 non-null  int64  \n",
      " 2   Day                         10918 non-null  int64  \n",
      " 3   Day of Week                 10918 non-null  int64  \n",
      " 4   Hour                        10918 non-null  int64  \n",
      " 5   Minute                      10918 non-null  int64  \n",
      " 6   latitude                    10918 non-null  float64\n",
      " 7   longitude                   10918 non-null  float64\n",
      " 8   review_count                10918 non-null  int64  \n",
      " 9   is_open                     10918 non-null  int64  \n",
      " 10  RestaurantsGoodForGroups    10918 non-null  int64  \n",
      " 11  HasTV                       10918 non-null  int64  \n",
      " 12  GoodForKids                 10918 non-null  int64  \n",
      " 13  RestaurantsTakeOut          10918 non-null  int64  \n",
      " 14  RestaurantsPriceRange2      10918 non-null  int64  \n",
      " 15  RestaurantsReservations     10918 non-null  int64  \n",
      " 16  RestaurantsDelivery         10918 non-null  int64  \n",
      " 17  OutdoorSeating              10918 non-null  int64  \n",
      " 18  BusinessAcceptsCreditCards  10918 non-null  int64  \n",
      " 19  Sandwiches                  10918 non-null  int64  \n",
      " 20  Nightlife                   10918 non-null  int64  \n",
      " 21  Pizza                       10918 non-null  int64  \n",
      " 22  Bars                        10918 non-null  int64  \n",
      " 23  American (Traditional)      10918 non-null  int64  \n",
      " 24  American (New)              10918 non-null  int64  \n",
      " 25  Italian                     10918 non-null  int64  \n",
      " 26  Breakfast & Brunch          10918 non-null  int64  \n",
      " 27  Coffee & Tea                10918 non-null  int64  \n",
      " 28  Chinese                     10918 non-null  int64  \n",
      " 29  Seafood                     10918 non-null  int64  \n",
      " 30  Burgers                     10918 non-null  int64  \n",
      " 31  Fast Food                   10918 non-null  int64  \n",
      " 32  Salad                       10918 non-null  int64  \n",
      " 33  Cafes                       10918 non-null  int64  \n",
      " 34  Mexican                     10918 non-null  int64  \n",
      " 35  Bakeries                    10918 non-null  int64  \n",
      " 36  Japanese                    10918 non-null  int64  \n",
      " 37  Delis                       10918 non-null  int64  \n",
      " 38  Specialty Food              10918 non-null  int64  \n",
      " 39  useful                      10918 non-null  int64  \n",
      " 40  funny                       10918 non-null  int64  \n",
      " 41  cool                        10918 non-null  int64  \n",
      " 42  fans                        10918 non-null  int64  \n",
      " 43  checkins_per_week           10918 non-null  float64\n",
      " 44  reviews_per_week            10918 non-null  float64\n",
      " 45  tips_per_week               10918 non-null  float64\n",
      " 46  RestaurantsAttire           10918 non-null  object \n",
      " 47  NoiseLevel                  10918 non-null  object \n",
      " 48  Alcohol                     10918 non-null  object \n",
      " 49  WiFi                        10918 non-null  object \n",
      " 50  text                        10918 non-null  object \n",
      "dtypes: float64(5), int64(41), object(5)\n",
      "memory usage: 4.3+ MB\n"
     ]
    }
   ],
   "source": [
    "X_train.info()"
   ]
  },
  {
   "cell_type": "markdown",
   "id": "9f169c17",
   "metadata": {},
   "source": [
    "### Column Transformer"
   ]
  },
  {
   "cell_type": "code",
   "execution_count": 22,
   "id": "1675c4dd",
   "metadata": {},
   "outputs": [
    {
     "data": {
      "text/plain": [
       "['Year',\n",
       " 'Month',\n",
       " 'Day',\n",
       " 'Day of Week',\n",
       " 'Hour',\n",
       " 'Minute',\n",
       " 'latitude',\n",
       " 'longitude',\n",
       " 'review_count',\n",
       " 'is_open',\n",
       " 'RestaurantsGoodForGroups',\n",
       " 'HasTV',\n",
       " 'GoodForKids',\n",
       " 'RestaurantsTakeOut',\n",
       " 'RestaurantsPriceRange2',\n",
       " 'RestaurantsReservations',\n",
       " 'RestaurantsDelivery',\n",
       " 'OutdoorSeating',\n",
       " 'BusinessAcceptsCreditCards',\n",
       " 'Sandwiches',\n",
       " 'Nightlife',\n",
       " 'Pizza',\n",
       " 'Bars',\n",
       " 'American (Traditional)',\n",
       " 'American (New)',\n",
       " 'Italian',\n",
       " 'Breakfast & Brunch',\n",
       " 'Coffee & Tea',\n",
       " 'Chinese',\n",
       " 'Seafood',\n",
       " 'Burgers',\n",
       " 'Fast Food',\n",
       " 'Salad',\n",
       " 'Cafes',\n",
       " 'Mexican',\n",
       " 'Bakeries',\n",
       " 'Japanese',\n",
       " 'Delis',\n",
       " 'Specialty Food',\n",
       " 'useful',\n",
       " 'funny',\n",
       " 'cool',\n",
       " 'fans',\n",
       " 'checkins_per_week',\n",
       " 'reviews_per_week',\n",
       " 'tips_per_week']"
      ]
     },
     "execution_count": 22,
     "metadata": {},
     "output_type": "execute_result"
    }
   ],
   "source": [
    "numeric_columns = X_train.dtypes[df.dtypes != 'object'].index.to_list()\n",
    "numeric_columns"
   ]
  },
  {
   "cell_type": "code",
   "execution_count": 23,
   "id": "a66d5bc1",
   "metadata": {},
   "outputs": [
    {
     "data": {
      "text/plain": [
       "['RestaurantsAttire', 'NoiseLevel', 'Alcohol', 'WiFi']"
      ]
     },
     "execution_count": 23,
     "metadata": {},
     "output_type": "execute_result"
    }
   ],
   "source": [
    "categorical_columns = X_train.drop('text', axis=1).dtypes[df.dtypes == 'object'].index.to_list()\n",
    "categorical_columns"
   ]
  },
  {
   "cell_type": "code",
   "execution_count": 24,
   "id": "bf8ad405",
   "metadata": {},
   "outputs": [
    {
     "name": "stdout",
     "output_type": "stream",
     "text": [
      "CPU times: user 1.53 s, sys: 105 ms, total: 1.63 s\n",
      "Wall time: 1.45 s\n"
     ]
    }
   ],
   "source": [
    "%%time\n",
    "\n",
    "# full_pipeline = ColumnTransformer([\n",
    "#     ('num', MinMaxScaler(), numeric_columns),\n",
    "#     ('cat', OneHotEncoder(drop='first'), categorical_columns),\n",
    "#     ('review', ReviewTextTransformer(), 'text')\n",
    "# ])\n",
    "\n",
    "full_pipeline = ColumnTransformer([\n",
    "    ('num', MinMaxScaler(), numeric_columns),\n",
    "    ('cat', OneHotEncoder(drop='first'), categorical_columns),\n",
    "    ('review', CountVectorizer(stop_words= 'english', min_df=10), 'text')\n",
    "])\n",
    "\n",
    "full_pipeline.fit(X_train)\n",
    "temp_df = full_pipeline.transform(X_train).todense()"
   ]
  },
  {
   "cell_type": "code",
   "execution_count": 25,
   "id": "f01606c8",
   "metadata": {},
   "outputs": [
    {
     "data": {
      "text/plain": [
       "(10918, 4666)"
      ]
     },
     "execution_count": 25,
     "metadata": {},
     "output_type": "execute_result"
    }
   ],
   "source": [
    "temp_df.shape"
   ]
  },
  {
   "cell_type": "code",
   "execution_count": 26,
   "id": "f51a9a8c",
   "metadata": {},
   "outputs": [
    {
     "data": {
      "text/plain": [
       "array(['RestaurantsAttire_dressy', 'NoiseLevel_loud', 'NoiseLevel_quiet',\n",
       "       'NoiseLevel_very_loud', 'Alcohol_full_bar', 'Alcohol_none',\n",
       "       'WiFi_no', 'WiFi_paid'], dtype=object)"
      ]
     },
     "execution_count": 26,
     "metadata": {},
     "output_type": "execute_result"
    }
   ],
   "source": [
    "encoded_columns1 = full_pipeline.transformers_[1][1].get_feature_names_out()\n",
    "encoded_columns1"
   ]
  },
  {
   "cell_type": "code",
   "execution_count": 27,
   "id": "6c48ccbd",
   "metadata": {},
   "outputs": [
    {
     "data": {
      "text/plain": [
       "array(['00', '00pm', '10', ..., 'zero', 'ziti', 'zucchini'], dtype=object)"
      ]
     },
     "execution_count": 27,
     "metadata": {},
     "output_type": "execute_result"
    }
   ],
   "source": [
    "encoded_columns2 = full_pipeline.transformers_[2][1].get_feature_names_out()\n",
    "encoded_columns2\n",
    "# clf.named_steps['preprocessor'].transformers_[1][1]\\\n",
    "#    .named_steps['onehot'].get_feature_names(categorical_features)"
   ]
  },
  {
   "cell_type": "code",
   "execution_count": 28,
   "id": "8e5c401c",
   "metadata": {},
   "outputs": [
    {
     "name": "stdout",
     "output_type": "stream",
     "text": [
      "<class 'list'>\n"
     ]
    },
    {
     "data": {
      "text/plain": [
       "46"
      ]
     },
     "execution_count": 28,
     "metadata": {},
     "output_type": "execute_result"
    }
   ],
   "source": [
    "print(type(numeric_columns))\n",
    "len(numeric_columns)"
   ]
  },
  {
   "cell_type": "code",
   "execution_count": 29,
   "id": "1cb9ac79",
   "metadata": {},
   "outputs": [
    {
     "data": {
      "text/plain": [
       "(4666,)"
      ]
     },
     "execution_count": 29,
     "metadata": {},
     "output_type": "execute_result"
    }
   ],
   "source": [
    "columns = np.concatenate([numeric_columns, encoded_columns1, encoded_columns2])\n",
    "columns.shape"
   ]
  },
  {
   "cell_type": "code",
   "execution_count": 30,
   "id": "e4f7be64",
   "metadata": {},
   "outputs": [
    {
     "name": "stdout",
     "output_type": "stream",
     "text": [
      "(10918, 4666)\n"
     ]
    },
    {
     "data": {
      "text/html": [
       "<div>\n",
       "<style scoped>\n",
       "    .dataframe tbody tr th:only-of-type {\n",
       "        vertical-align: middle;\n",
       "    }\n",
       "\n",
       "    .dataframe tbody tr th {\n",
       "        vertical-align: top;\n",
       "    }\n",
       "\n",
       "    .dataframe thead th {\n",
       "        text-align: right;\n",
       "    }\n",
       "</style>\n",
       "<table border=\"1\" class=\"dataframe\">\n",
       "  <thead>\n",
       "    <tr style=\"text-align: right;\">\n",
       "      <th></th>\n",
       "      <th>Year</th>\n",
       "      <th>Month</th>\n",
       "      <th>Day</th>\n",
       "      <th>Day of Week</th>\n",
       "      <th>Hour</th>\n",
       "      <th>Minute</th>\n",
       "      <th>latitude</th>\n",
       "      <th>longitude</th>\n",
       "      <th>review_count</th>\n",
       "      <th>is_open</th>\n",
       "      <th>...</th>\n",
       "      <th>younger</th>\n",
       "      <th>yr</th>\n",
       "      <th>yuck</th>\n",
       "      <th>yum</th>\n",
       "      <th>yummy</th>\n",
       "      <th>yup</th>\n",
       "      <th>zen</th>\n",
       "      <th>zero</th>\n",
       "      <th>ziti</th>\n",
       "      <th>zucchini</th>\n",
       "    </tr>\n",
       "  </thead>\n",
       "  <tbody>\n",
       "    <tr>\n",
       "      <th>0</th>\n",
       "      <td>0.3125</td>\n",
       "      <td>0.909091</td>\n",
       "      <td>0.200000</td>\n",
       "      <td>1.0</td>\n",
       "      <td>0.521739</td>\n",
       "      <td>0.728814</td>\n",
       "      <td>0.586507</td>\n",
       "      <td>0.001951</td>\n",
       "      <td>0.047306</td>\n",
       "      <td>1.0</td>\n",
       "      <td>...</td>\n",
       "      <td>0.0</td>\n",
       "      <td>0.0</td>\n",
       "      <td>0.0</td>\n",
       "      <td>0.0</td>\n",
       "      <td>0.0</td>\n",
       "      <td>0.0</td>\n",
       "      <td>0.0</td>\n",
       "      <td>0.0</td>\n",
       "      <td>0.0</td>\n",
       "      <td>0.0</td>\n",
       "    </tr>\n",
       "    <tr>\n",
       "      <th>1</th>\n",
       "      <td>0.8125</td>\n",
       "      <td>0.818182</td>\n",
       "      <td>0.100000</td>\n",
       "      <td>0.5</td>\n",
       "      <td>0.608696</td>\n",
       "      <td>0.135593</td>\n",
       "      <td>0.503246</td>\n",
       "      <td>0.002397</td>\n",
       "      <td>0.008501</td>\n",
       "      <td>1.0</td>\n",
       "      <td>...</td>\n",
       "      <td>0.0</td>\n",
       "      <td>0.0</td>\n",
       "      <td>0.0</td>\n",
       "      <td>0.0</td>\n",
       "      <td>0.0</td>\n",
       "      <td>0.0</td>\n",
       "      <td>0.0</td>\n",
       "      <td>0.0</td>\n",
       "      <td>0.0</td>\n",
       "      <td>0.0</td>\n",
       "    </tr>\n",
       "    <tr>\n",
       "      <th>2</th>\n",
       "      <td>0.9375</td>\n",
       "      <td>0.636364</td>\n",
       "      <td>0.266667</td>\n",
       "      <td>1.0</td>\n",
       "      <td>0.043478</td>\n",
       "      <td>0.322034</td>\n",
       "      <td>0.478006</td>\n",
       "      <td>0.002232</td>\n",
       "      <td>0.058001</td>\n",
       "      <td>1.0</td>\n",
       "      <td>...</td>\n",
       "      <td>0.0</td>\n",
       "      <td>0.0</td>\n",
       "      <td>0.0</td>\n",
       "      <td>0.0</td>\n",
       "      <td>0.0</td>\n",
       "      <td>0.0</td>\n",
       "      <td>0.0</td>\n",
       "      <td>0.0</td>\n",
       "      <td>0.0</td>\n",
       "      <td>0.0</td>\n",
       "    </tr>\n",
       "    <tr>\n",
       "      <th>3</th>\n",
       "      <td>0.1875</td>\n",
       "      <td>0.545455</td>\n",
       "      <td>0.533333</td>\n",
       "      <td>0.5</td>\n",
       "      <td>0.000000</td>\n",
       "      <td>0.288136</td>\n",
       "      <td>0.524001</td>\n",
       "      <td>0.002089</td>\n",
       "      <td>0.033731</td>\n",
       "      <td>0.0</td>\n",
       "      <td>...</td>\n",
       "      <td>0.0</td>\n",
       "      <td>0.0</td>\n",
       "      <td>0.0</td>\n",
       "      <td>0.0</td>\n",
       "      <td>0.0</td>\n",
       "      <td>0.0</td>\n",
       "      <td>0.0</td>\n",
       "      <td>0.0</td>\n",
       "      <td>0.0</td>\n",
       "      <td>0.0</td>\n",
       "    </tr>\n",
       "    <tr>\n",
       "      <th>4</th>\n",
       "      <td>0.8750</td>\n",
       "      <td>0.000000</td>\n",
       "      <td>1.000000</td>\n",
       "      <td>0.5</td>\n",
       "      <td>0.869565</td>\n",
       "      <td>0.847458</td>\n",
       "      <td>0.439284</td>\n",
       "      <td>0.001572</td>\n",
       "      <td>0.043878</td>\n",
       "      <td>1.0</td>\n",
       "      <td>...</td>\n",
       "      <td>0.0</td>\n",
       "      <td>0.0</td>\n",
       "      <td>0.0</td>\n",
       "      <td>0.0</td>\n",
       "      <td>0.0</td>\n",
       "      <td>0.0</td>\n",
       "      <td>0.0</td>\n",
       "      <td>0.0</td>\n",
       "      <td>0.0</td>\n",
       "      <td>0.0</td>\n",
       "    </tr>\n",
       "  </tbody>\n",
       "</table>\n",
       "<p>5 rows × 4666 columns</p>\n",
       "</div>"
      ],
      "text/plain": [
       "     Year     Month       Day  Day of Week      Hour    Minute  latitude  \\\n",
       "0  0.3125  0.909091  0.200000          1.0  0.521739  0.728814  0.586507   \n",
       "1  0.8125  0.818182  0.100000          0.5  0.608696  0.135593  0.503246   \n",
       "2  0.9375  0.636364  0.266667          1.0  0.043478  0.322034  0.478006   \n",
       "3  0.1875  0.545455  0.533333          0.5  0.000000  0.288136  0.524001   \n",
       "4  0.8750  0.000000  1.000000          0.5  0.869565  0.847458  0.439284   \n",
       "\n",
       "   longitude  review_count  is_open  ...  younger   yr  yuck  yum  yummy  yup  \\\n",
       "0   0.001951      0.047306      1.0  ...      0.0  0.0   0.0  0.0    0.0  0.0   \n",
       "1   0.002397      0.008501      1.0  ...      0.0  0.0   0.0  0.0    0.0  0.0   \n",
       "2   0.002232      0.058001      1.0  ...      0.0  0.0   0.0  0.0    0.0  0.0   \n",
       "3   0.002089      0.033731      0.0  ...      0.0  0.0   0.0  0.0    0.0  0.0   \n",
       "4   0.001572      0.043878      1.0  ...      0.0  0.0   0.0  0.0    0.0  0.0   \n",
       "\n",
       "   zen  zero  ziti  zucchini  \n",
       "0  0.0   0.0   0.0       0.0  \n",
       "1  0.0   0.0   0.0       0.0  \n",
       "2  0.0   0.0   0.0       0.0  \n",
       "3  0.0   0.0   0.0       0.0  \n",
       "4  0.0   0.0   0.0       0.0  \n",
       "\n",
       "[5 rows x 4666 columns]"
      ]
     },
     "execution_count": 30,
     "metadata": {},
     "output_type": "execute_result"
    }
   ],
   "source": [
    "X_train_scaled = pd.DataFrame(columns=columns,data=temp_df)\n",
    "print(X_train_scaled.shape)\n",
    "X_train_scaled.head()"
   ]
  },
  {
   "cell_type": "code",
   "execution_count": 31,
   "id": "2c3c44a0",
   "metadata": {},
   "outputs": [
    {
     "data": {
      "text/html": [
       "<div>\n",
       "<style scoped>\n",
       "    .dataframe tbody tr th:only-of-type {\n",
       "        vertical-align: middle;\n",
       "    }\n",
       "\n",
       "    .dataframe tbody tr th {\n",
       "        vertical-align: top;\n",
       "    }\n",
       "\n",
       "    .dataframe thead th {\n",
       "        text-align: right;\n",
       "    }\n",
       "</style>\n",
       "<table border=\"1\" class=\"dataframe\">\n",
       "  <thead>\n",
       "    <tr style=\"text-align: right;\">\n",
       "      <th></th>\n",
       "      <th>Year</th>\n",
       "      <th>Month</th>\n",
       "      <th>Day</th>\n",
       "      <th>Day of Week</th>\n",
       "      <th>Hour</th>\n",
       "      <th>Minute</th>\n",
       "      <th>latitude</th>\n",
       "      <th>longitude</th>\n",
       "      <th>review_count</th>\n",
       "      <th>is_open</th>\n",
       "      <th>...</th>\n",
       "      <th>cool</th>\n",
       "      <th>fans</th>\n",
       "      <th>checkins_per_week</th>\n",
       "      <th>reviews_per_week</th>\n",
       "      <th>tips_per_week</th>\n",
       "      <th>RestaurantsAttire</th>\n",
       "      <th>NoiseLevel</th>\n",
       "      <th>Alcohol</th>\n",
       "      <th>WiFi</th>\n",
       "      <th>text</th>\n",
       "    </tr>\n",
       "  </thead>\n",
       "  <tbody>\n",
       "    <tr>\n",
       "      <th>118838</th>\n",
       "      <td>2010</td>\n",
       "      <td>11</td>\n",
       "      <td>7</td>\n",
       "      <td>6</td>\n",
       "      <td>12</td>\n",
       "      <td>43</td>\n",
       "      <td>42.395293</td>\n",
       "      <td>-71.121620</td>\n",
       "      <td>350</td>\n",
       "      <td>1</td>\n",
       "      <td>...</td>\n",
       "      <td>0</td>\n",
       "      <td>20</td>\n",
       "      <td>0.568873</td>\n",
       "      <td>0.454122</td>\n",
       "      <td>0.043941</td>\n",
       "      <td>casual</td>\n",
       "      <td>average</td>\n",
       "      <td>beer_and_wine</td>\n",
       "      <td>no</td>\n",
       "      <td>I've been waiting for the longest time to chec...</td>\n",
       "    </tr>\n",
       "    <tr>\n",
       "      <th>984277</th>\n",
       "      <td>2018</td>\n",
       "      <td>10</td>\n",
       "      <td>4</td>\n",
       "      <td>3</td>\n",
       "      <td>14</td>\n",
       "      <td>8</td>\n",
       "      <td>42.353567</td>\n",
       "      <td>-71.058031</td>\n",
       "      <td>67</td>\n",
       "      <td>1</td>\n",
       "      <td>...</td>\n",
       "      <td>0</td>\n",
       "      <td>0</td>\n",
       "      <td>0.724138</td>\n",
       "      <td>0.512568</td>\n",
       "      <td>1.000000</td>\n",
       "      <td>casual</td>\n",
       "      <td>average</td>\n",
       "      <td>beer_and_wine</td>\n",
       "      <td>free</td>\n",
       "      <td>Great service and a very nice vibe to the plac...</td>\n",
       "    </tr>\n",
       "    <tr>\n",
       "      <th>778602</th>\n",
       "      <td>2020</td>\n",
       "      <td>8</td>\n",
       "      <td>9</td>\n",
       "      <td>6</td>\n",
       "      <td>1</td>\n",
       "      <td>19</td>\n",
       "      <td>42.340918</td>\n",
       "      <td>-71.081615</td>\n",
       "      <td>428</td>\n",
       "      <td>1</td>\n",
       "      <td>...</td>\n",
       "      <td>0</td>\n",
       "      <td>0</td>\n",
       "      <td>1.698991</td>\n",
       "      <td>1.745120</td>\n",
       "      <td>0.088950</td>\n",
       "      <td>dressy</td>\n",
       "      <td>average</td>\n",
       "      <td>full_bar</td>\n",
       "      <td>no</td>\n",
       "      <td>Wow, what a treat! Friends raved about this re...</td>\n",
       "    </tr>\n",
       "    <tr>\n",
       "      <th>483464</th>\n",
       "      <td>2008</td>\n",
       "      <td>7</td>\n",
       "      <td>17</td>\n",
       "      <td>3</td>\n",
       "      <td>0</td>\n",
       "      <td>17</td>\n",
       "      <td>42.363968</td>\n",
       "      <td>-71.101869</td>\n",
       "      <td>251</td>\n",
       "      <td>0</td>\n",
       "      <td>...</td>\n",
       "      <td>0</td>\n",
       "      <td>7</td>\n",
       "      <td>0.814356</td>\n",
       "      <td>0.581037</td>\n",
       "      <td>0.084580</td>\n",
       "      <td>casual</td>\n",
       "      <td>average</td>\n",
       "      <td>full_bar</td>\n",
       "      <td>no</td>\n",
       "      <td>You know, for how pricey the food is, I'm surp...</td>\n",
       "    </tr>\n",
       "    <tr>\n",
       "      <th>496132</th>\n",
       "      <td>2019</td>\n",
       "      <td>1</td>\n",
       "      <td>31</td>\n",
       "      <td>3</td>\n",
       "      <td>20</td>\n",
       "      <td>50</td>\n",
       "      <td>42.321512</td>\n",
       "      <td>-71.175672</td>\n",
       "      <td>325</td>\n",
       "      <td>1</td>\n",
       "      <td>...</td>\n",
       "      <td>0</td>\n",
       "      <td>0</td>\n",
       "      <td>0.858462</td>\n",
       "      <td>1.037719</td>\n",
       "      <td>0.071828</td>\n",
       "      <td>casual</td>\n",
       "      <td>average</td>\n",
       "      <td>full_bar</td>\n",
       "      <td>free</td>\n",
       "      <td>It's my favorite place for a special dinner I ...</td>\n",
       "    </tr>\n",
       "  </tbody>\n",
       "</table>\n",
       "<p>5 rows × 51 columns</p>\n",
       "</div>"
      ],
      "text/plain": [
       "        Year  Month  Day  Day of Week  Hour  Minute   latitude  longitude  \\\n",
       "118838  2010     11    7            6    12      43  42.395293 -71.121620   \n",
       "984277  2018     10    4            3    14       8  42.353567 -71.058031   \n",
       "778602  2020      8    9            6     1      19  42.340918 -71.081615   \n",
       "483464  2008      7   17            3     0      17  42.363968 -71.101869   \n",
       "496132  2019      1   31            3    20      50  42.321512 -71.175672   \n",
       "\n",
       "        review_count  is_open  ...  cool  fans  checkins_per_week  \\\n",
       "118838           350        1  ...     0    20           0.568873   \n",
       "984277            67        1  ...     0     0           0.724138   \n",
       "778602           428        1  ...     0     0           1.698991   \n",
       "483464           251        0  ...     0     7           0.814356   \n",
       "496132           325        1  ...     0     0           0.858462   \n",
       "\n",
       "        reviews_per_week  tips_per_week  RestaurantsAttire  NoiseLevel  \\\n",
       "118838          0.454122       0.043941             casual     average   \n",
       "984277          0.512568       1.000000             casual     average   \n",
       "778602          1.745120       0.088950             dressy     average   \n",
       "483464          0.581037       0.084580             casual     average   \n",
       "496132          1.037719       0.071828             casual     average   \n",
       "\n",
       "              Alcohol  WiFi                                               text  \n",
       "118838  beer_and_wine    no  I've been waiting for the longest time to chec...  \n",
       "984277  beer_and_wine  free  Great service and a very nice vibe to the plac...  \n",
       "778602       full_bar    no  Wow, what a treat! Friends raved about this re...  \n",
       "483464       full_bar    no  You know, for how pricey the food is, I'm surp...  \n",
       "496132       full_bar  free  It's my favorite place for a special dinner I ...  \n",
       "\n",
       "[5 rows x 51 columns]"
      ]
     },
     "execution_count": 31,
     "metadata": {},
     "output_type": "execute_result"
    }
   ],
   "source": [
    "X_train.head()"
   ]
  },
  {
   "cell_type": "code",
   "execution_count": 32,
   "id": "86ca7581",
   "metadata": {},
   "outputs": [
    {
     "data": {
      "text/plain": [
       "(2730, 4666)"
      ]
     },
     "execution_count": 32,
     "metadata": {},
     "output_type": "execute_result"
    }
   ],
   "source": [
    "temp_df = full_pipeline.transform(X_test).todense()\n",
    "temp_df.shape"
   ]
  },
  {
   "cell_type": "code",
   "execution_count": 33,
   "id": "fa63cefd",
   "metadata": {},
   "outputs": [
    {
     "name": "stdout",
     "output_type": "stream",
     "text": [
      "(2730, 4666)\n"
     ]
    },
    {
     "data": {
      "text/html": [
       "<div>\n",
       "<style scoped>\n",
       "    .dataframe tbody tr th:only-of-type {\n",
       "        vertical-align: middle;\n",
       "    }\n",
       "\n",
       "    .dataframe tbody tr th {\n",
       "        vertical-align: top;\n",
       "    }\n",
       "\n",
       "    .dataframe thead th {\n",
       "        text-align: right;\n",
       "    }\n",
       "</style>\n",
       "<table border=\"1\" class=\"dataframe\">\n",
       "  <thead>\n",
       "    <tr style=\"text-align: right;\">\n",
       "      <th></th>\n",
       "      <th>Year</th>\n",
       "      <th>Month</th>\n",
       "      <th>Day</th>\n",
       "      <th>Day of Week</th>\n",
       "      <th>Hour</th>\n",
       "      <th>Minute</th>\n",
       "      <th>latitude</th>\n",
       "      <th>longitude</th>\n",
       "      <th>review_count</th>\n",
       "      <th>is_open</th>\n",
       "      <th>...</th>\n",
       "      <th>younger</th>\n",
       "      <th>yr</th>\n",
       "      <th>yuck</th>\n",
       "      <th>yum</th>\n",
       "      <th>yummy</th>\n",
       "      <th>yup</th>\n",
       "      <th>zen</th>\n",
       "      <th>zero</th>\n",
       "      <th>ziti</th>\n",
       "      <th>zucchini</th>\n",
       "    </tr>\n",
       "  </thead>\n",
       "  <tbody>\n",
       "    <tr>\n",
       "      <th>0</th>\n",
       "      <td>0.8750</td>\n",
       "      <td>0.272727</td>\n",
       "      <td>0.666667</td>\n",
       "      <td>1.000000</td>\n",
       "      <td>0.956522</td>\n",
       "      <td>0.593220</td>\n",
       "      <td>0.475821</td>\n",
       "      <td>0.002164</td>\n",
       "      <td>0.018237</td>\n",
       "      <td>1.0</td>\n",
       "      <td>...</td>\n",
       "      <td>0.0</td>\n",
       "      <td>0.0</td>\n",
       "      <td>0.0</td>\n",
       "      <td>0.0</td>\n",
       "      <td>0.0</td>\n",
       "      <td>0.0</td>\n",
       "      <td>0.0</td>\n",
       "      <td>0.0</td>\n",
       "      <td>0.0</td>\n",
       "      <td>0.0</td>\n",
       "    </tr>\n",
       "    <tr>\n",
       "      <th>1</th>\n",
       "      <td>0.9375</td>\n",
       "      <td>0.000000</td>\n",
       "      <td>0.366667</td>\n",
       "      <td>1.000000</td>\n",
       "      <td>0.086957</td>\n",
       "      <td>0.525424</td>\n",
       "      <td>0.693166</td>\n",
       "      <td>0.001199</td>\n",
       "      <td>0.053476</td>\n",
       "      <td>1.0</td>\n",
       "      <td>...</td>\n",
       "      <td>0.0</td>\n",
       "      <td>0.0</td>\n",
       "      <td>0.0</td>\n",
       "      <td>0.0</td>\n",
       "      <td>0.0</td>\n",
       "      <td>0.0</td>\n",
       "      <td>0.0</td>\n",
       "      <td>0.0</td>\n",
       "      <td>0.0</td>\n",
       "      <td>0.0</td>\n",
       "    </tr>\n",
       "    <tr>\n",
       "      <th>2</th>\n",
       "      <td>0.4375</td>\n",
       "      <td>0.545455</td>\n",
       "      <td>0.233333</td>\n",
       "      <td>1.000000</td>\n",
       "      <td>0.086957</td>\n",
       "      <td>0.949153</td>\n",
       "      <td>0.570383</td>\n",
       "      <td>0.001972</td>\n",
       "      <td>0.086384</td>\n",
       "      <td>1.0</td>\n",
       "      <td>...</td>\n",
       "      <td>0.0</td>\n",
       "      <td>0.0</td>\n",
       "      <td>0.0</td>\n",
       "      <td>0.0</td>\n",
       "      <td>0.0</td>\n",
       "      <td>0.0</td>\n",
       "      <td>0.0</td>\n",
       "      <td>0.0</td>\n",
       "      <td>0.0</td>\n",
       "      <td>0.0</td>\n",
       "    </tr>\n",
       "    <tr>\n",
       "      <th>3</th>\n",
       "      <td>0.6250</td>\n",
       "      <td>1.000000</td>\n",
       "      <td>0.466667</td>\n",
       "      <td>0.166667</td>\n",
       "      <td>0.043478</td>\n",
       "      <td>0.474576</td>\n",
       "      <td>0.514237</td>\n",
       "      <td>0.002389</td>\n",
       "      <td>0.091320</td>\n",
       "      <td>1.0</td>\n",
       "      <td>...</td>\n",
       "      <td>0.0</td>\n",
       "      <td>1.0</td>\n",
       "      <td>0.0</td>\n",
       "      <td>0.0</td>\n",
       "      <td>0.0</td>\n",
       "      <td>0.0</td>\n",
       "      <td>0.0</td>\n",
       "      <td>0.0</td>\n",
       "      <td>0.0</td>\n",
       "      <td>0.0</td>\n",
       "    </tr>\n",
       "    <tr>\n",
       "      <th>4</th>\n",
       "      <td>0.3750</td>\n",
       "      <td>0.636364</td>\n",
       "      <td>0.833333</td>\n",
       "      <td>0.666667</td>\n",
       "      <td>0.826087</td>\n",
       "      <td>0.067797</td>\n",
       "      <td>0.555869</td>\n",
       "      <td>0.002142</td>\n",
       "      <td>0.013300</td>\n",
       "      <td>0.0</td>\n",
       "      <td>...</td>\n",
       "      <td>0.0</td>\n",
       "      <td>0.0</td>\n",
       "      <td>0.0</td>\n",
       "      <td>0.0</td>\n",
       "      <td>0.0</td>\n",
       "      <td>0.0</td>\n",
       "      <td>0.0</td>\n",
       "      <td>0.0</td>\n",
       "      <td>0.0</td>\n",
       "      <td>0.0</td>\n",
       "    </tr>\n",
       "  </tbody>\n",
       "</table>\n",
       "<p>5 rows × 4666 columns</p>\n",
       "</div>"
      ],
      "text/plain": [
       "     Year     Month       Day  Day of Week      Hour    Minute  latitude  \\\n",
       "0  0.8750  0.272727  0.666667     1.000000  0.956522  0.593220  0.475821   \n",
       "1  0.9375  0.000000  0.366667     1.000000  0.086957  0.525424  0.693166   \n",
       "2  0.4375  0.545455  0.233333     1.000000  0.086957  0.949153  0.570383   \n",
       "3  0.6250  1.000000  0.466667     0.166667  0.043478  0.474576  0.514237   \n",
       "4  0.3750  0.636364  0.833333     0.666667  0.826087  0.067797  0.555869   \n",
       "\n",
       "   longitude  review_count  is_open  ...  younger   yr  yuck  yum  yummy  yup  \\\n",
       "0   0.002164      0.018237      1.0  ...      0.0  0.0   0.0  0.0    0.0  0.0   \n",
       "1   0.001199      0.053476      1.0  ...      0.0  0.0   0.0  0.0    0.0  0.0   \n",
       "2   0.001972      0.086384      1.0  ...      0.0  0.0   0.0  0.0    0.0  0.0   \n",
       "3   0.002389      0.091320      1.0  ...      0.0  1.0   0.0  0.0    0.0  0.0   \n",
       "4   0.002142      0.013300      0.0  ...      0.0  0.0   0.0  0.0    0.0  0.0   \n",
       "\n",
       "   zen  zero  ziti  zucchini  \n",
       "0  0.0   0.0   0.0       0.0  \n",
       "1  0.0   0.0   0.0       0.0  \n",
       "2  0.0   0.0   0.0       0.0  \n",
       "3  0.0   0.0   0.0       0.0  \n",
       "4  0.0   0.0   0.0       0.0  \n",
       "\n",
       "[5 rows x 4666 columns]"
      ]
     },
     "execution_count": 33,
     "metadata": {},
     "output_type": "execute_result"
    }
   ],
   "source": [
    "X_test_scaled = pd.DataFrame(columns=columns,data=temp_df)\n",
    "print(X_test_scaled.shape)\n",
    "X_test_scaled.head()"
   ]
  },
  {
   "cell_type": "code",
   "execution_count": 34,
   "id": "7fb469e6",
   "metadata": {},
   "outputs": [
    {
     "data": {
      "text/html": [
       "<div>\n",
       "<style scoped>\n",
       "    .dataframe tbody tr th:only-of-type {\n",
       "        vertical-align: middle;\n",
       "    }\n",
       "\n",
       "    .dataframe tbody tr th {\n",
       "        vertical-align: top;\n",
       "    }\n",
       "\n",
       "    .dataframe thead th {\n",
       "        text-align: right;\n",
       "    }\n",
       "</style>\n",
       "<table border=\"1\" class=\"dataframe\">\n",
       "  <thead>\n",
       "    <tr style=\"text-align: right;\">\n",
       "      <th></th>\n",
       "      <th>Year</th>\n",
       "      <th>Month</th>\n",
       "      <th>Day</th>\n",
       "      <th>Day of Week</th>\n",
       "      <th>Hour</th>\n",
       "      <th>Minute</th>\n",
       "      <th>latitude</th>\n",
       "      <th>longitude</th>\n",
       "      <th>review_count</th>\n",
       "      <th>is_open</th>\n",
       "      <th>...</th>\n",
       "      <th>younger</th>\n",
       "      <th>yr</th>\n",
       "      <th>yuck</th>\n",
       "      <th>yum</th>\n",
       "      <th>yummy</th>\n",
       "      <th>yup</th>\n",
       "      <th>zen</th>\n",
       "      <th>zero</th>\n",
       "      <th>ziti</th>\n",
       "      <th>zucchini</th>\n",
       "    </tr>\n",
       "  </thead>\n",
       "  <tbody>\n",
       "    <tr>\n",
       "      <th>0</th>\n",
       "      <td>0.8750</td>\n",
       "      <td>0.272727</td>\n",
       "      <td>0.666667</td>\n",
       "      <td>1.000000</td>\n",
       "      <td>0.956522</td>\n",
       "      <td>0.593220</td>\n",
       "      <td>0.475821</td>\n",
       "      <td>0.002164</td>\n",
       "      <td>0.018237</td>\n",
       "      <td>1.0</td>\n",
       "      <td>...</td>\n",
       "      <td>0.0</td>\n",
       "      <td>0.0</td>\n",
       "      <td>0.0</td>\n",
       "      <td>0.0</td>\n",
       "      <td>0.0</td>\n",
       "      <td>0.0</td>\n",
       "      <td>0.0</td>\n",
       "      <td>0.0</td>\n",
       "      <td>0.0</td>\n",
       "      <td>0.0</td>\n",
       "    </tr>\n",
       "    <tr>\n",
       "      <th>1</th>\n",
       "      <td>0.9375</td>\n",
       "      <td>0.000000</td>\n",
       "      <td>0.366667</td>\n",
       "      <td>1.000000</td>\n",
       "      <td>0.086957</td>\n",
       "      <td>0.525424</td>\n",
       "      <td>0.693166</td>\n",
       "      <td>0.001199</td>\n",
       "      <td>0.053476</td>\n",
       "      <td>1.0</td>\n",
       "      <td>...</td>\n",
       "      <td>0.0</td>\n",
       "      <td>0.0</td>\n",
       "      <td>0.0</td>\n",
       "      <td>0.0</td>\n",
       "      <td>0.0</td>\n",
       "      <td>0.0</td>\n",
       "      <td>0.0</td>\n",
       "      <td>0.0</td>\n",
       "      <td>0.0</td>\n",
       "      <td>0.0</td>\n",
       "    </tr>\n",
       "    <tr>\n",
       "      <th>2</th>\n",
       "      <td>0.4375</td>\n",
       "      <td>0.545455</td>\n",
       "      <td>0.233333</td>\n",
       "      <td>1.000000</td>\n",
       "      <td>0.086957</td>\n",
       "      <td>0.949153</td>\n",
       "      <td>0.570383</td>\n",
       "      <td>0.001972</td>\n",
       "      <td>0.086384</td>\n",
       "      <td>1.0</td>\n",
       "      <td>...</td>\n",
       "      <td>0.0</td>\n",
       "      <td>0.0</td>\n",
       "      <td>0.0</td>\n",
       "      <td>0.0</td>\n",
       "      <td>0.0</td>\n",
       "      <td>0.0</td>\n",
       "      <td>0.0</td>\n",
       "      <td>0.0</td>\n",
       "      <td>0.0</td>\n",
       "      <td>0.0</td>\n",
       "    </tr>\n",
       "    <tr>\n",
       "      <th>3</th>\n",
       "      <td>0.6250</td>\n",
       "      <td>1.000000</td>\n",
       "      <td>0.466667</td>\n",
       "      <td>0.166667</td>\n",
       "      <td>0.043478</td>\n",
       "      <td>0.474576</td>\n",
       "      <td>0.514237</td>\n",
       "      <td>0.002389</td>\n",
       "      <td>0.091320</td>\n",
       "      <td>1.0</td>\n",
       "      <td>...</td>\n",
       "      <td>0.0</td>\n",
       "      <td>1.0</td>\n",
       "      <td>0.0</td>\n",
       "      <td>0.0</td>\n",
       "      <td>0.0</td>\n",
       "      <td>0.0</td>\n",
       "      <td>0.0</td>\n",
       "      <td>0.0</td>\n",
       "      <td>0.0</td>\n",
       "      <td>0.0</td>\n",
       "    </tr>\n",
       "    <tr>\n",
       "      <th>4</th>\n",
       "      <td>0.3750</td>\n",
       "      <td>0.636364</td>\n",
       "      <td>0.833333</td>\n",
       "      <td>0.666667</td>\n",
       "      <td>0.826087</td>\n",
       "      <td>0.067797</td>\n",
       "      <td>0.555869</td>\n",
       "      <td>0.002142</td>\n",
       "      <td>0.013300</td>\n",
       "      <td>0.0</td>\n",
       "      <td>...</td>\n",
       "      <td>0.0</td>\n",
       "      <td>0.0</td>\n",
       "      <td>0.0</td>\n",
       "      <td>0.0</td>\n",
       "      <td>0.0</td>\n",
       "      <td>0.0</td>\n",
       "      <td>0.0</td>\n",
       "      <td>0.0</td>\n",
       "      <td>0.0</td>\n",
       "      <td>0.0</td>\n",
       "    </tr>\n",
       "  </tbody>\n",
       "</table>\n",
       "<p>5 rows × 4666 columns</p>\n",
       "</div>"
      ],
      "text/plain": [
       "     Year     Month       Day  Day of Week      Hour    Minute  latitude  \\\n",
       "0  0.8750  0.272727  0.666667     1.000000  0.956522  0.593220  0.475821   \n",
       "1  0.9375  0.000000  0.366667     1.000000  0.086957  0.525424  0.693166   \n",
       "2  0.4375  0.545455  0.233333     1.000000  0.086957  0.949153  0.570383   \n",
       "3  0.6250  1.000000  0.466667     0.166667  0.043478  0.474576  0.514237   \n",
       "4  0.3750  0.636364  0.833333     0.666667  0.826087  0.067797  0.555869   \n",
       "\n",
       "   longitude  review_count  is_open  ...  younger   yr  yuck  yum  yummy  yup  \\\n",
       "0   0.002164      0.018237      1.0  ...      0.0  0.0   0.0  0.0    0.0  0.0   \n",
       "1   0.001199      0.053476      1.0  ...      0.0  0.0   0.0  0.0    0.0  0.0   \n",
       "2   0.001972      0.086384      1.0  ...      0.0  0.0   0.0  0.0    0.0  0.0   \n",
       "3   0.002389      0.091320      1.0  ...      0.0  1.0   0.0  0.0    0.0  0.0   \n",
       "4   0.002142      0.013300      0.0  ...      0.0  0.0   0.0  0.0    0.0  0.0   \n",
       "\n",
       "   zen  zero  ziti  zucchini  \n",
       "0  0.0   0.0   0.0       0.0  \n",
       "1  0.0   0.0   0.0       0.0  \n",
       "2  0.0   0.0   0.0       0.0  \n",
       "3  0.0   0.0   0.0       0.0  \n",
       "4  0.0   0.0   0.0       0.0  \n",
       "\n",
       "[5 rows x 4666 columns]"
      ]
     },
     "execution_count": 34,
     "metadata": {},
     "output_type": "execute_result"
    }
   ],
   "source": [
    "X_test_scaled.head()"
   ]
  },
  {
   "cell_type": "markdown",
   "id": "2bceb0d3",
   "metadata": {},
   "source": [
    "### Defining Custom Scoring Functions"
   ]
  },
  {
   "cell_type": "code",
   "execution_count": 35,
   "id": "42f0bfde",
   "metadata": {},
   "outputs": [],
   "source": [
    "def bound_predict(y_pred):\n",
    "    y_pred = np.where(y_pred > 5, 5, y_pred)\n",
    "    y_pred = np.where(y_pred < 1, 1, y_pred)\n",
    "    return y_pred"
   ]
  },
  {
   "cell_type": "code",
   "execution_count": 36,
   "id": "92996636",
   "metadata": {},
   "outputs": [],
   "source": [
    "def custom_mae_scorer_func(y_true, y_pred):\n",
    "    y_pred = bound_predict(y_pred)\n",
    "    return mean_absolute_error(y_true, y_pred)\n",
    "\n",
    "def custom_r2_scorer_func(y_true, y_pred):\n",
    "    y_pred = bound_predict(y_pred)\n",
    "    return r2_score(y_true, y_pred)\n",
    "\n",
    "custom_mae_scorer = make_scorer(custom_mae_scorer_func, greater_is_better=False)\n",
    "custom_r2_scorer = make_scorer(custom_r2_scorer_func, greater_is_better=True)\n",
    "\n",
    "scorer = {'custom_mae_scorer': make_scorer(custom_mae_scorer_func, greater_is_better=False),\n",
    "          'custom_r2_scorer': make_scorer(custom_r2_scorer_func, greater_is_better=True)}"
   ]
  },
  {
   "cell_type": "markdown",
   "id": "0ae964fb",
   "metadata": {},
   "source": [
    "### Dummy Model"
   ]
  },
  {
   "cell_type": "code",
   "execution_count": 37,
   "id": "7847bbc7",
   "metadata": {},
   "outputs": [],
   "source": [
    "from sklearn.dummy import DummyRegressor"
   ]
  },
  {
   "cell_type": "code",
   "execution_count": 38,
   "id": "43c58ca5",
   "metadata": {},
   "outputs": [
    {
     "data": {
      "text/plain": [
       "DummyRegressor()"
      ]
     },
     "execution_count": 38,
     "metadata": {},
     "output_type": "execute_result"
    }
   ],
   "source": [
    "dummy_reg = DummyRegressor(strategy=\"mean\")\n",
    "dummy_reg.fit(X_test_scaled, y_test)"
   ]
  },
  {
   "cell_type": "code",
   "execution_count": 39,
   "id": "f807a7aa",
   "metadata": {},
   "outputs": [
    {
     "data": {
      "text/plain": [
       "1.1557340095801636"
      ]
     },
     "execution_count": 39,
     "metadata": {},
     "output_type": "execute_result"
    }
   ],
   "source": [
    "prediction = dummy_reg.predict(X_test_scaled)\n",
    "mean_absolute_error(y_test, prediction)"
   ]
  },
  {
   "cell_type": "code",
   "execution_count": 40,
   "id": "566a43a6",
   "metadata": {},
   "outputs": [
    {
     "data": {
      "text/plain": [
       "1.1557340095801636"
      ]
     },
     "execution_count": 40,
     "metadata": {},
     "output_type": "execute_result"
    }
   ],
   "source": [
    "custom_mae_scorer_func(y_test, prediction)"
   ]
  },
  {
   "cell_type": "markdown",
   "id": "00ae54ff",
   "metadata": {},
   "source": [
    "### Linear Regression"
   ]
  },
  {
   "cell_type": "markdown",
   "id": "d34226c1",
   "metadata": {},
   "source": [
    "#### Default Parameters"
   ]
  },
  {
   "cell_type": "code",
   "execution_count": 41,
   "id": "a3e2f869",
   "metadata": {},
   "outputs": [
    {
     "name": "stdout",
     "output_type": "stream",
     "text": [
      "CPU times: user 43min 23s, sys: 42.1 s, total: 44min 5s\n",
      "Wall time: 4min 9s\n"
     ]
    }
   ],
   "source": [
    "%%time\n",
    "# Define the model\n",
    "lin_reg = LinearRegression()\n",
    "\n",
    "# Cross validation score\n",
    "# scores = cross_validate(lin_reg, X_train_scaled, y_train, cv=5,\n",
    "#                                scoring=('custom_mae_scorer', 'custom_r2_scorer', 'r2'))\n",
    "\n",
    "scores = cross_validate(lin_reg, X_train_scaled, y_train, cv=5,\n",
    "                               scoring=scorer)"
   ]
  },
  {
   "cell_type": "code",
   "execution_count": 44,
   "id": "c8e01db0",
   "metadata": {},
   "outputs": [
    {
     "data": {
      "text/plain": [
       "{'fit_time': array([48.43591213, 48.08455586, 48.04043388, 55.51713204, 48.71887112]),\n",
       " 'score_time': array([0.04415917, 0.03876305, 0.04004908, 0.04107499, 0.03967881]),\n",
       " 'test_custom_mae_scorer': array([-0.91131665, -0.937041  , -0.87061525, -0.90402939, -0.87482765]),\n",
       " 'test_custom_r2_scorer': array([0.19472525, 0.15854103, 0.27276235, 0.18042196, 0.23362688])}"
      ]
     },
     "execution_count": 44,
     "metadata": {},
     "output_type": "execute_result"
    }
   ],
   "source": [
    "scores"
   ]
  },
  {
   "cell_type": "code",
   "execution_count": 46,
   "id": "21a34a0d",
   "metadata": {},
   "outputs": [
    {
     "name": "stdout",
     "output_type": "stream",
     "text": [
      "MAE Score:\n",
      "[0.91131665 0.937041   0.87061525 0.90402939 0.87482765]\n",
      "0.8995659895135647\n",
      "\n",
      "\n",
      "R^2 Score:\n",
      "[0.19472525 0.15854103 0.27276235 0.18042196 0.23362688]\n",
      "0.20801549155298033\n"
     ]
    }
   ],
   "source": [
    "print('MAE Score:')\n",
    "print(-scores['test_custom_mae_scorer'])\n",
    "print(np.mean(-scores['test_custom_mae_scorer']))\n",
    "print('\\n')\n",
    "\n",
    "print('R^2 Score:')\n",
    "print(scores['test_custom_r2_scorer'])\n",
    "print(np.mean(scores['test_custom_r2_scorer']))"
   ]
  },
  {
   "cell_type": "code",
   "execution_count": null,
   "id": "785930cb",
   "metadata": {},
   "outputs": [],
   "source": [
    "# # Evaluate the model\n",
    "# lin_reg.fit(X_train, y_train)\n",
    "\n",
    "# prediction = lin_reg.predict(X_test)\n",
    "\n",
    "# print(f'The R^2 score is: {r2_score(y_test, prediction)}')\n",
    "# print(f'The MAE is: {mean_absolute_error(y_test, prediction)}')"
   ]
  },
  {
   "cell_type": "code",
   "execution_count": null,
   "id": "3f96fda2",
   "metadata": {},
   "outputs": [],
   "source": [
    "# fitted_values = lin_reg.predict(X_train)\n",
    "# residuals = (y_train - fitted_values)\n",
    "\n",
    "# plt.figure(figsize=(15,10))\n",
    "# plt.scatter(fitted_values, residuals)\n",
    "# plt.xlabel('Fitted Values')\n",
    "# plt.ylabel('Residuals')\n",
    "# plt.title('Residual Plot', fontsize=20)\n",
    "# plt.show()"
   ]
  },
  {
   "cell_type": "markdown",
   "id": "f167bc8c",
   "metadata": {},
   "source": [
    "#### Adding L2 Regularization"
   ]
  },
  {
   "cell_type": "code",
   "execution_count": null,
   "id": "5ab4de9f",
   "metadata": {},
   "outputs": [],
   "source": [
    "# # Define the model\n",
    "# ridge_reg = Ridge(alpha=1.0)\n",
    "\n",
    "# # Cross validation score\n",
    "# scores = cross_validate(ridge_reg, X_train_scaled, y_train, cv=5,\n",
    "#                                scoring=('neg_mean_absolute_error', 'neg_mean_squared_error', 'r2'))\n",
    "\n",
    "# print('MAE Score:')\n",
    "# print(-scores['test_neg_mean_absolute_error'])\n",
    "# print(np.mean(-scores['test_neg_mean_absolute_error']))\n",
    "# print('\\n')\n",
    "\n",
    "\n",
    "# print('R^2 Score:')\n",
    "# print(scores['test_r2'])\n",
    "# print(np.mean(scores['test_r2']))"
   ]
  },
  {
   "cell_type": "code",
   "execution_count": 47,
   "id": "5c3f696b",
   "metadata": {},
   "outputs": [
    {
     "name": "stdout",
     "output_type": "stream",
     "text": [
      "CPU times: user 15min 42s, sys: 1min 2s, total: 16min 44s\n",
      "Wall time: 1min 58s\n"
     ]
    },
    {
     "data": {
      "text/html": [
       "<div>\n",
       "<style scoped>\n",
       "    .dataframe tbody tr th:only-of-type {\n",
       "        vertical-align: middle;\n",
       "    }\n",
       "\n",
       "    .dataframe tbody tr th {\n",
       "        vertical-align: top;\n",
       "    }\n",
       "\n",
       "    .dataframe thead th {\n",
       "        text-align: right;\n",
       "    }\n",
       "</style>\n",
       "<table border=\"1\" class=\"dataframe\">\n",
       "  <thead>\n",
       "    <tr style=\"text-align: right;\">\n",
       "      <th></th>\n",
       "      <th>alpha</th>\n",
       "      <th>MAE</th>\n",
       "      <th>R-squared</th>\n",
       "    </tr>\n",
       "  </thead>\n",
       "  <tbody>\n",
       "    <tr>\n",
       "      <th>0</th>\n",
       "      <td>1.0</td>\n",
       "      <td>0.822047</td>\n",
       "      <td>0.353399</td>\n",
       "    </tr>\n",
       "    <tr>\n",
       "      <th>1</th>\n",
       "      <td>10.0</td>\n",
       "      <td>0.733116</td>\n",
       "      <td>0.511540</td>\n",
       "    </tr>\n",
       "    <tr>\n",
       "      <th>2</th>\n",
       "      <td>100.0</td>\n",
       "      <td>0.728004</td>\n",
       "      <td>0.541471</td>\n",
       "    </tr>\n",
       "    <tr>\n",
       "      <th>3</th>\n",
       "      <td>1000.0</td>\n",
       "      <td>0.820975</td>\n",
       "      <td>0.446802</td>\n",
       "    </tr>\n",
       "    <tr>\n",
       "      <th>4</th>\n",
       "      <td>10000.0</td>\n",
       "      <td>1.003197</td>\n",
       "      <td>0.213991</td>\n",
       "    </tr>\n",
       "    <tr>\n",
       "      <th>5</th>\n",
       "      <td>100000.0</td>\n",
       "      <td>1.130105</td>\n",
       "      <td>0.039722</td>\n",
       "    </tr>\n",
       "    <tr>\n",
       "      <th>6</th>\n",
       "      <td>1000000.0</td>\n",
       "      <td>1.152660</td>\n",
       "      <td>0.004251</td>\n",
       "    </tr>\n",
       "    <tr>\n",
       "      <th>7</th>\n",
       "      <td>10000000.0</td>\n",
       "      <td>1.155121</td>\n",
       "      <td>0.000229</td>\n",
       "    </tr>\n",
       "  </tbody>\n",
       "</table>\n",
       "</div>"
      ],
      "text/plain": [
       "        alpha       MAE  R-squared\n",
       "0         1.0  0.822047   0.353399\n",
       "1        10.0  0.733116   0.511540\n",
       "2       100.0  0.728004   0.541471\n",
       "3      1000.0  0.820975   0.446802\n",
       "4     10000.0  1.003197   0.213991\n",
       "5    100000.0  1.130105   0.039722\n",
       "6   1000000.0  1.152660   0.004251\n",
       "7  10000000.0  1.155121   0.000229"
      ]
     },
     "execution_count": 47,
     "metadata": {},
     "output_type": "execute_result"
    }
   ],
   "source": [
    "%%time\n",
    "\n",
    "scores = pd.DataFrame(columns=['alpha', 'MAE', 'R-squared'])\n",
    "\n",
    "for power in range(-0, 8, 1):\n",
    "    alpha = 10**power\n",
    "    ridge_reg = Ridge(alpha=alpha)\n",
    "\n",
    "    \n",
    "    cv_scores = cross_validate(ridge_reg, X_train_scaled, y_train, cv=5,\n",
    "                               scoring=scorer)\n",
    "\n",
    "    scores = scores.append({'alpha': alpha,\n",
    "                                    'MAE': np.mean(-cv_scores['test_custom_mae_scorer']),\n",
    "                                    'R-squared': np.mean(cv_scores['test_custom_r2_scorer'])}, ignore_index=True)\n",
    "    \n",
    "    \n",
    "scores\n",
    "    "
   ]
  },
  {
   "cell_type": "code",
   "execution_count": 48,
   "id": "f3333974",
   "metadata": {},
   "outputs": [],
   "source": [
    "def regression_plots(scores, model_description):\n",
    "    plt.subplots(1,2, figsize=(15,5))\n",
    "    plt.subplot(1,2,1)\n",
    "    plt.plot(scores['alpha'], scores['MAE'], label='Mean Absolute Error', color='orange')\n",
    "    plt.xscale('log')\n",
    "    plt.legend()\n",
    "    plt.title('MAE Variation with ' + model_description)\n",
    "    plt.xlabel('Alpha')\n",
    "\n",
    "\n",
    "#     plt.subplot(1,3,2)\n",
    "#     plt.plot(scores['alpha'], scores['RMSE'], label='Root Mean Squared Error', color='blue')\n",
    "#     plt.xscale('log')\n",
    "#     plt.legend()\n",
    "#     plt.title('RMSE variation with ' + model_description)\n",
    "#     plt.xlabel('Alpha')\n",
    "\n",
    "    plt.subplot(1,2,2)\n",
    "    plt.plot(scores['alpha'], scores['R-squared'], label='R^2', color='green')\n",
    "    plt.xscale('log')\n",
    "    plt.legend()\n",
    "    plt.title('R^2 variation with ' + model_description)\n",
    "    plt.xlabel('Alpha')\n",
    "\n",
    "    plt.tight_layout()\n",
    "    plt.show()\n",
    "    "
   ]
  },
  {
   "cell_type": "code",
   "execution_count": 49,
   "id": "f721c45f",
   "metadata": {},
   "outputs": [
    {
     "data": {
      "image/png": "[encoded data removed]",
      "text/plain": [
       "<Figure size 1080x360 with 2 Axes>"
      ]
     },
     "metadata": {
      "needs_background": "light"
     },
     "output_type": "display_data"
    }
   ],
   "source": [
    "regression_plots(scores, 'L2 Regularization')"
   ]
  },
  {
   "cell_type": "code",
   "execution_count": 50,
   "id": "b2f84ab8",
   "metadata": {},
   "outputs": [],
   "source": [
    "def plot_fitted_values(fitted_values, y, model_description):\n",
    "    plt.figure(figsize=(10,5))\n",
    "    plt.scatter(fitted_values, y, alpha=0.1)\n",
    "    plt.title('Fitted versus Actual Values for ' + model_description)\n",
    "    plt.xlabel('Fitted Values')\n",
    "    plt.ylabel('Actual Values')\n",
    "\n",
    "plt.show()\n",
    "    "
   ]
  },
  {
   "cell_type": "code",
   "execution_count": 54,
   "id": "f4895280",
   "metadata": {},
   "outputs": [
    {
     "name": "stdout",
     "output_type": "stream",
     "text": [
      "0.6353623887101916\n",
      "0.646161548485509\n"
     ]
    }
   ],
   "source": [
    "ridge_reg = Ridge(alpha=100)\n",
    "ridge_reg.fit(X_train_scaled, y_train)\n",
    "fitted_values = bound_predict(ridge_reg.predict(X_train_scaled))\n",
    "print(custom_mae_scorer_func(y_train, fitted_values))\n",
    "print(custom_r2_scorer_func(y_train, fitted_values))"
   ]
  },
  {
   "cell_type": "code",
   "execution_count": 55,
   "id": "05843738",
   "metadata": {},
   "outputs": [
    {
     "data": {
      "image/png": "[encoded data removed]",
      "text/plain": [
       "<Figure size 720x360 with 1 Axes>"
      ]
     },
     "metadata": {
      "needs_background": "light"
     },
     "output_type": "display_data"
    }
   ],
   "source": [
    "plot_fitted_values(fitted_values, y_train, 'L2 Regularization')"
   ]
  },
  {
   "cell_type": "code",
   "execution_count": 56,
   "id": "c4f8df0f",
   "metadata": {
    "scrolled": false
   },
   "outputs": [
    {
     "name": "stdout",
     "output_type": "stream",
     "text": [
      "0.7278958804135554\n",
      "0.5391092927843312\n"
     ]
    },
    {
     "data": {
      "image/png": "[encoded data removed]",
      "text/plain": [
       "<Figure size 720x360 with 1 Axes>"
      ]
     },
     "metadata": {
      "needs_background": "light"
     },
     "output_type": "display_data"
    }
   ],
   "source": [
    "fitted_values = bound_predict(ridge_reg.predict(X_test_scaled))\n",
    "print(mean_absolute_error(y_test, fitted_values))\n",
    "print(r2_score(y_test, fitted_values))\n",
    "plot_fitted_values(fitted_values, y_test, 'L2 Regularization')"
   ]
  },
  {
   "cell_type": "code",
   "execution_count": null,
   "id": "d4749544",
   "metadata": {},
   "outputs": [],
   "source": [
    "# residuals = ridge_reg.predict(X_train_scaled) - y_train"
   ]
  },
  {
   "cell_type": "code",
   "execution_count": 56,
   "id": "ccf5a351",
   "metadata": {},
   "outputs": [],
   "source": [
    "# def plot_residuals(X_train, residuals):\n",
    "#     num_rows = int(np.ceil(X_train.shape[1]/4))\n",
    "#     plt.subplots(num_rows, 4, figsize=(15,20))\n",
    "    \n",
    "#     for i in range(0, X_train.shape[1]):\n",
    "#         plt.subplot(num_rows, 4, i+1)\n",
    "#         plt.scatter(X_train.iloc[:,i], residuals, alpha=0.1)\n",
    "#         plt.xlabel(X_train.columns[i])\n",
    "        \n",
    "    \n",
    "#     plt.tight_layout()\n",
    "#     plt.show()\n",
    "                 \n",
    "                 "
   ]
  },
  {
   "cell_type": "code",
   "execution_count": 57,
   "id": "1dfbcc84",
   "metadata": {},
   "outputs": [],
   "source": [
    "#plot_residuals(X_train, residuals)"
   ]
  },
  {
   "cell_type": "markdown",
   "id": "ebc38ab2",
   "metadata": {},
   "source": [
    "#### Adding L1 Regularization"
   ]
  },
  {
   "cell_type": "code",
   "execution_count": 57,
   "id": "44f30bc6",
   "metadata": {},
   "outputs": [],
   "source": [
    "# # Define the model\n",
    "# lasso_reg = Lasso(alpha=1.0)\n",
    "\n",
    "# # Cross validation score\n",
    "# scores = cross_validate(lasso_reg, X_train_scaled, y_train, cv=5,\n",
    "#                                scoring=('neg_mean_absolute_error', 'neg_mean_squared_error', 'r2'))\n",
    "\n",
    "# print('MAE Score:')\n",
    "# print(-scores['test_neg_mean_absolute_error'])\n",
    "# print(np.mean(-scores['test_neg_mean_absolute_error']))\n",
    "# print('\\n')\n",
    "\n",
    "\n",
    "# print('R^2 Score:')\n",
    "# print(scores['test_r2'])\n",
    "# print(np.mean(scores['test_r2']))"
   ]
  },
  {
   "cell_type": "code",
   "execution_count": 59,
   "id": "32426e91",
   "metadata": {},
   "outputs": [
    {
     "name": "stdout",
     "output_type": "stream",
     "text": [
      "CPU times: user 15min 48s, sys: 24.3 s, total: 16min 12s\n",
      "Wall time: 2min 35s\n"
     ]
    },
    {
     "data": {
      "text/html": [
       "<div>\n",
       "<style scoped>\n",
       "    .dataframe tbody tr th:only-of-type {\n",
       "        vertical-align: middle;\n",
       "    }\n",
       "\n",
       "    .dataframe tbody tr th {\n",
       "        vertical-align: top;\n",
       "    }\n",
       "\n",
       "    .dataframe thead th {\n",
       "        text-align: right;\n",
       "    }\n",
       "</style>\n",
       "<table border=\"1\" class=\"dataframe\">\n",
       "  <thead>\n",
       "    <tr style=\"text-align: right;\">\n",
       "      <th></th>\n",
       "      <th>alpha</th>\n",
       "      <th>MAE</th>\n",
       "      <th>R-squared</th>\n",
       "    </tr>\n",
       "  </thead>\n",
       "  <tbody>\n",
       "    <tr>\n",
       "      <th>0</th>\n",
       "      <td>0.0001</td>\n",
       "      <td>0.772417</td>\n",
       "      <td>0.439508</td>\n",
       "    </tr>\n",
       "    <tr>\n",
       "      <th>1</th>\n",
       "      <td>0.0010</td>\n",
       "      <td>0.723994</td>\n",
       "      <td>0.541563</td>\n",
       "    </tr>\n",
       "    <tr>\n",
       "      <th>2</th>\n",
       "      <td>0.0100</td>\n",
       "      <td>0.824367</td>\n",
       "      <td>0.436907</td>\n",
       "    </tr>\n",
       "    <tr>\n",
       "      <th>3</th>\n",
       "      <td>0.1000</td>\n",
       "      <td>1.099397</td>\n",
       "      <td>0.078374</td>\n",
       "    </tr>\n",
       "    <tr>\n",
       "      <th>4</th>\n",
       "      <td>1.0000</td>\n",
       "      <td>1.155397</td>\n",
       "      <td>-0.000224</td>\n",
       "    </tr>\n",
       "    <tr>\n",
       "      <th>5</th>\n",
       "      <td>10.0000</td>\n",
       "      <td>1.155397</td>\n",
       "      <td>-0.000224</td>\n",
       "    </tr>\n",
       "    <tr>\n",
       "      <th>6</th>\n",
       "      <td>100.0000</td>\n",
       "      <td>1.155397</td>\n",
       "      <td>-0.000224</td>\n",
       "    </tr>\n",
       "    <tr>\n",
       "      <th>7</th>\n",
       "      <td>1000.0000</td>\n",
       "      <td>1.155397</td>\n",
       "      <td>-0.000224</td>\n",
       "    </tr>\n",
       "  </tbody>\n",
       "</table>\n",
       "</div>"
      ],
      "text/plain": [
       "       alpha       MAE  R-squared\n",
       "0     0.0001  0.772417   0.439508\n",
       "1     0.0010  0.723994   0.541563\n",
       "2     0.0100  0.824367   0.436907\n",
       "3     0.1000  1.099397   0.078374\n",
       "4     1.0000  1.155397  -0.000224\n",
       "5    10.0000  1.155397  -0.000224\n",
       "6   100.0000  1.155397  -0.000224\n",
       "7  1000.0000  1.155397  -0.000224"
      ]
     },
     "execution_count": 59,
     "metadata": {},
     "output_type": "execute_result"
    }
   ],
   "source": [
    "%%time\n",
    "\n",
    "scores = pd.DataFrame(columns=['alpha', 'MAE', 'R-squared'])\n",
    "\n",
    "for power in range(-4, 4, 1):\n",
    "    alpha = 10**power\n",
    "    lasso_reg = Lasso(alpha=alpha)\n",
    "\n",
    "    \n",
    "    cv_scores = cross_validate(lasso_reg, X_train_scaled, y_train, cv=5,\n",
    "                               scoring=scorer)\n",
    "\n",
    "    scores = scores.append({'alpha': alpha,\n",
    "                                    'MAE': np.mean(-cv_scores['test_custom_mae_scorer']),\n",
    "                                    'R-squared': np.mean(cv_scores['test_custom_r2_scorer'])}, ignore_index=True)\n",
    "    \n",
    "    \n",
    "scores"
   ]
  },
  {
   "cell_type": "code",
   "execution_count": 60,
   "id": "3294c4a4",
   "metadata": {},
   "outputs": [
    {
     "data": {
      "image/png": "[encoded data removed]",
      "text/plain": [
       "<Figure size 1080x360 with 2 Axes>"
      ]
     },
     "metadata": {
      "needs_background": "light"
     },
     "output_type": "display_data"
    }
   ],
   "source": [
    "regression_plots(scores, 'L1 Regularization')"
   ]
  },
  {
   "cell_type": "code",
   "execution_count": 64,
   "id": "670b602c",
   "metadata": {},
   "outputs": [
    {
     "name": "stdout",
     "output_type": "stream",
     "text": [
      "0.667160263585825\n",
      "0.6111383359054209\n"
     ]
    },
    {
     "data": {
      "image/png": "[encoded data removed]",
      "text/plain": [
       "<Figure size 720x360 with 1 Axes>"
      ]
     },
     "metadata": {
      "needs_background": "light"
     },
     "output_type": "display_data"
    }
   ],
   "source": [
    "final_lasso_reg = Lasso(alpha=10**(-3))\n",
    "final_lasso_reg.fit(X_train_scaled, y_train)\n",
    "fitted_values = bound_predict(final_lasso_reg.predict(X_train_scaled))\n",
    "print(mean_absolute_error(y_train, fitted_values))\n",
    "print(r2_score(y_train, fitted_values))\n",
    "plot_fitted_values(fitted_values, y_train, 'L1 Regularization')"
   ]
  },
  {
   "cell_type": "code",
   "execution_count": 65,
   "id": "02f46a42",
   "metadata": {},
   "outputs": [
    {
     "name": "stdout",
     "output_type": "stream",
     "text": [
      "0.7261862877372134\n",
      "0.5372981016696965\n"
     ]
    },
    {
     "data": {
      "image/png": "[encoded data removed]",
      "text/plain": [
       "<Figure size 720x360 with 1 Axes>"
      ]
     },
     "metadata": {
      "needs_background": "light"
     },
     "output_type": "display_data"
    }
   ],
   "source": [
    "fitted_values = bound_predict(final_lasso_reg.predict(X_test_scaled))\n",
    "print(mean_absolute_error(y_test, fitted_values))\n",
    "print(r2_score(y_test, fitted_values))\n",
    "plot_fitted_values(fitted_values, y_test, 'L1 Regularization')"
   ]
  },
  {
   "cell_type": "markdown",
   "id": "5437cc1d",
   "metadata": {},
   "source": [
    "### Decision Tree"
   ]
  },
  {
   "cell_type": "code",
   "execution_count": 67,
   "id": "dd6fab6e",
   "metadata": {},
   "outputs": [
    {
     "name": "stdout",
     "output_type": "stream",
     "text": [
      "0.6308462879217522\n",
      "0.5986353600699075\n"
     ]
    }
   ],
   "source": [
    "DT_model = DecisionTreeRegressor(max_depth=25, min_samples_leaf=10, random_state=0)\n",
    "DT_model.fit(X_train_scaled, y_train)\n",
    "\n",
    "print(mean_absolute_error(y_train, DT_model.predict(X_train_scaled)))\n",
    "print(r2_score(y_train, DT_model.predict(X_train_scaled)))"
   ]
  },
  {
   "cell_type": "code",
   "execution_count": 68,
   "id": "7ae8db42",
   "metadata": {},
   "outputs": [
    {
     "name": "stdout",
     "output_type": "stream",
     "text": [
      "0.8719392786106255\n",
      "0.2689292754202337\n"
     ]
    },
    {
     "data": {
      "image/png": "[encoded data removed]",
      "text/plain": [
       "<Figure size 720x360 with 1 Axes>"
      ]
     },
     "metadata": {
      "needs_background": "light"
     },
     "output_type": "display_data"
    }
   ],
   "source": [
    "fitted_values = DT_model.predict(X_test_scaled)\n",
    "print(mean_absolute_error(y_test, fitted_values))\n",
    "print(r2_score(y_test, fitted_values))\n",
    "plot_fitted_values(fitted_values, y_test, 'L1 Regularization')"
   ]
  },
  {
   "cell_type": "code",
   "execution_count": 64,
   "id": "3692aace",
   "metadata": {},
   "outputs": [
    {
     "data": {
      "text/plain": [
       "78"
      ]
     },
     "execution_count": 64,
     "metadata": {},
     "output_type": "execute_result"
    }
   ],
   "source": [
    "DT_model.get_depth()"
   ]
  },
  {
   "cell_type": "code",
   "execution_count": 63,
   "id": "9c6f63ba",
   "metadata": {},
   "outputs": [],
   "source": [
    "# residuals = DT_model.predict(X_train) - y_train\n",
    "\n",
    "# plot_residuals(X_train, residuals)"
   ]
  },
  {
   "cell_type": "code",
   "execution_count": 69,
   "id": "18f0a4f2",
   "metadata": {},
   "outputs": [
    {
     "name": "stdout",
     "output_type": "stream",
     "text": [
      "MAE Score:\n",
      "[0.89934371 0.94398657 0.96039377 0.89143381 0.94655673]\n",
      "0.9283429173259682\n",
      "\n",
      "\n",
      "R^2 Score:\n",
      "[ 0.05919403 -0.00530444 -0.01732993  0.09164852 -0.00296373]\n",
      "0.025048890064847295\n"
     ]
    }
   ],
   "source": [
    "%%time\n",
    "\n",
    "DT_model = DecisionTreeRegressor(min_samples_leaf=2, random_state=0)\n",
    "\n",
    "# Cross validation score\n",
    "scores = cross_validate(DT_model, X_train_scaled, y_train, cv=5,\n",
    "                               scoring=scorer)\n",
    "\n",
    "print('MAE Score:')\n",
    "print(-scores['test_custom_mae_scorer'])\n",
    "print(np.mean(-scores['test_custom_mae_scorer']))\n",
    "print('\\n')\n",
    "\n",
    "\n",
    "print('R^2 Score:')\n",
    "print(scores['test_custom_r2_scorer'])\n",
    "print(np.mean(scores['test_custom_r2_scorer']))\n"
   ]
  },
  {
   "cell_type": "code",
   "execution_count": 73,
   "id": "d001018f",
   "metadata": {},
   "outputs": [
    {
     "name": "stdout",
     "output_type": "stream",
     "text": [
      "CPU times: user 8min 49s, sys: 8.61 s, total: 8min 57s\n",
      "Wall time: 8min 59s\n"
     ]
    },
    {
     "data": {
      "text/plain": [
       "GridSearchCV(cv=5, estimator=DecisionTreeRegressor(),\n",
       "             param_grid=[{'max_depth': [25, 50, 70],\n",
       "                          'min_samples_leaf': [2, 4, 6]}],\n",
       "             refit='custom_mae_scorer',\n",
       "             scoring={'custom_mae_scorer': make_scorer(custom_mae_scorer_func, greater_is_better=False),\n",
       "                      'custom_r2_scorer': make_scorer(custom_r2_scorer_func)})"
      ]
     },
     "execution_count": 73,
     "metadata": {},
     "output_type": "execute_result"
    }
   ],
   "source": [
    "%%time\n",
    "\n",
    "DT_reg = DecisionTreeRegressor()\n",
    "\n",
    "param_grid = [{'max_depth': [25, 50, 70], 'min_samples_leaf': [2, 4, 6]}]\n",
    "\n",
    "grid_search = GridSearchCV(DT_reg, param_grid, cv=5, scoring=scorer, refit='custom_mae_scorer')\n",
    "\n",
    "grid_search.fit(X_train_scaled, y_train)"
   ]
  },
  {
   "cell_type": "code",
   "execution_count": 74,
   "id": "4c9db208",
   "metadata": {},
   "outputs": [
    {
     "data": {
      "text/plain": [
       "{'max_depth': 25, 'min_samples_leaf': 6}"
      ]
     },
     "execution_count": 74,
     "metadata": {},
     "output_type": "execute_result"
    }
   ],
   "source": [
    "grid_search.best_params_"
   ]
  },
  {
   "cell_type": "code",
   "execution_count": 75,
   "id": "aba13a3f",
   "metadata": {},
   "outputs": [
    {
     "data": {
      "text/plain": [
       "DecisionTreeRegressor(max_depth=25, min_samples_leaf=6)"
      ]
     },
     "execution_count": 75,
     "metadata": {},
     "output_type": "execute_result"
    }
   ],
   "source": [
    "best_DT_reg = grid_search.best_estimator_\n",
    "best_DT_reg"
   ]
  },
  {
   "cell_type": "code",
   "execution_count": 77,
   "id": "532f1429",
   "metadata": {},
   "outputs": [
    {
     "name": "stdout",
     "output_type": "stream",
     "text": [
      "0.5534225392864824\n",
      "0.6680304266679891\n"
     ]
    },
    {
     "data": {
      "image/png": "[encoded data removed]",
      "text/plain": [
       "<Figure size 720x360 with 1 Axes>"
      ]
     },
     "metadata": {
      "needs_background": "light"
     },
     "output_type": "display_data"
    }
   ],
   "source": [
    "best_DT_reg.fit(X_train_scaled, y_train)\n",
    "fitted_values = bound_predict(best_DT_reg.predict(X_train_scaled))\n",
    "print(mean_absolute_error(y_train, fitted_values))\n",
    "print(r2_score(y_train, fitted_values))\n",
    "plot_fitted_values(fitted_values, y_train, 'Optimized Decision Tree')"
   ]
  },
  {
   "cell_type": "code",
   "execution_count": 78,
   "id": "84302bbf",
   "metadata": {},
   "outputs": [
    {
     "name": "stdout",
     "output_type": "stream",
     "text": [
      "0.8702423732322755\n",
      "0.2542343623505233\n"
     ]
    },
    {
     "data": {
      "image/png": "[encoded data removed]",
      "text/plain": [
       "<Figure size 720x360 with 1 Axes>"
      ]
     },
     "metadata": {
      "needs_background": "light"
     },
     "output_type": "display_data"
    }
   ],
   "source": [
    "fitted_values = bound_predict(best_DT_reg.predict(X_test_scaled))\n",
    "print(mean_absolute_error(y_test, fitted_values))\n",
    "print(r2_score(y_test, fitted_values))\n",
    "plot_fitted_values(fitted_values, y_test, 'Optimized Decision Tree')"
   ]
  },
  {
   "cell_type": "markdown",
   "id": "1ac89eb5",
   "metadata": {},
   "source": [
    "### Random Forest"
   ]
  },
  {
   "cell_type": "code",
   "execution_count": null,
   "id": "b656031e",
   "metadata": {},
   "outputs": [],
   "source": [
    "forest_reg = RandomForestRegressor(min_samples_leaf=2)\n",
    "forest_reg.fit(X_train_scaled, y_train)"
   ]
  },
  {
   "cell_type": "code",
   "execution_count": 69,
   "id": "faff3c88",
   "metadata": {},
   "outputs": [
    {
     "data": {
      "text/plain": [
       "0.9041532967475253"
      ]
     },
     "execution_count": 69,
     "metadata": {},
     "output_type": "execute_result"
    }
   ],
   "source": [
    "r2_score(y_train, forest_reg.predict(X_train_scaled))"
   ]
  },
  {
   "cell_type": "code",
   "execution_count": 70,
   "id": "9444fc63",
   "metadata": {},
   "outputs": [
    {
     "data": {
      "text/plain": [
       "0.3176624379111556"
      ]
     },
     "execution_count": 70,
     "metadata": {},
     "output_type": "execute_result"
    }
   ],
   "source": [
    "mean_absolute_error(y_train, forest_reg.predict(X_train_scaled))"
   ]
  },
  {
   "cell_type": "code",
   "execution_count": 86,
   "id": "0b50fa64",
   "metadata": {},
   "outputs": [
    {
     "name": "stdout",
     "output_type": "stream",
     "text": [
      "MAE Score:\n",
      "[0.46910552 0.4725692  0.46414884 0.48611675 0.47712378]\n",
      "0.47381281973864986\n",
      "\n",
      "\n",
      "R^2 Score:\n",
      "[0.32382648 0.27829754 0.30351497 0.29672769 0.24482766]\n",
      "0.2894388682883857\n"
     ]
    }
   ],
   "source": [
    "forest_reg = RandomForestRegressor(min_samples_leaf=2, random_state=0)\n",
    "\n",
    "# Cross validation score\n",
    "scores = cross_validate(forest_reg, X_train_scaled, y_train, cv=5,\n",
    "                               scoring=('neg_mean_absolute_error', 'neg_mean_squared_error', 'r2'))\n",
    "\n",
    "print('MAE Score:')\n",
    "print(-scores['test_neg_mean_absolute_error'])\n",
    "print(np.mean(-scores['test_neg_mean_absolute_error']))\n",
    "print('\\n')\n",
    "\n",
    "\n",
    "print('R^2 Score:')\n",
    "print(scores['test_r2'])\n",
    "print(np.mean(scores['test_r2']))"
   ]
  },
  {
   "cell_type": "code",
   "execution_count": 87,
   "id": "08bffae9",
   "metadata": {},
   "outputs": [
    {
     "name": "stdout",
     "output_type": "stream",
     "text": [
      "0.2635186390310038\n",
      "0.4802346758047759\n"
     ]
    }
   ],
   "source": [
    "forest_reg.fit(X_train, y_train)\n",
    "print(r2_score(y_test, forest_reg.predict(X_test)))\n",
    "print(mean_absolute_error(y_test, forest_reg.predict(X_test)))"
   ]
  },
  {
   "cell_type": "code",
   "execution_count": 66,
   "id": "6bb2a382",
   "metadata": {},
   "outputs": [],
   "source": [
    "# residuals = forest_reg.predict(X_train) - y_train\n",
    "\n",
    "# plot_residuals(X_train, residuals)"
   ]
  },
  {
   "cell_type": "code",
   "execution_count": 72,
   "id": "2aba3e55",
   "metadata": {},
   "outputs": [
    {
     "ename": "KeyboardInterrupt",
     "evalue": "",
     "output_type": "error",
     "traceback": [
      "\u001b[0;31m---------------------------------------------------------------------------\u001b[0m",
      "\u001b[0;31mKeyboardInterrupt\u001b[0m                         Traceback (most recent call last)",
      "\u001b[0;32m<timed exec>\u001b[0m in \u001b[0;36m<module>\u001b[0;34m\u001b[0m\n",
      "\u001b[0;32m~/opt/anaconda3/envs/yelp_capstone/lib/python3.8/site-packages/sklearn/model_selection/_search.py\u001b[0m in \u001b[0;36mfit\u001b[0;34m(self, X, y, groups, **fit_params)\u001b[0m\n\u001b[1;32m    889\u001b[0m                 \u001b[0;32mreturn\u001b[0m \u001b[0mresults\u001b[0m\u001b[0;34m\u001b[0m\u001b[0;34m\u001b[0m\u001b[0m\n\u001b[1;32m    890\u001b[0m \u001b[0;34m\u001b[0m\u001b[0m\n\u001b[0;32m--> 891\u001b[0;31m             \u001b[0mself\u001b[0m\u001b[0;34m.\u001b[0m\u001b[0m_run_search\u001b[0m\u001b[0;34m(\u001b[0m\u001b[0mevaluate_candidates\u001b[0m\u001b[0;34m)\u001b[0m\u001b[0;34m\u001b[0m\u001b[0;34m\u001b[0m\u001b[0m\n\u001b[0m\u001b[1;32m    892\u001b[0m \u001b[0;34m\u001b[0m\u001b[0m\n\u001b[1;32m    893\u001b[0m             \u001b[0;31m# multimetric is determined here because in the case of a callable\u001b[0m\u001b[0;34m\u001b[0m\u001b[0;34m\u001b[0m\u001b[0;34m\u001b[0m\u001b[0m\n",
      "\u001b[0;32m~/opt/anaconda3/envs/yelp_capstone/lib/python3.8/site-packages/sklearn/model_selection/_search.py\u001b[0m in \u001b[0;36m_run_search\u001b[0;34m(self, evaluate_candidates)\u001b[0m\n\u001b[1;32m   1390\u001b[0m     \u001b[0;32mdef\u001b[0m \u001b[0m_run_search\u001b[0m\u001b[0;34m(\u001b[0m\u001b[0mself\u001b[0m\u001b[0;34m,\u001b[0m \u001b[0mevaluate_candidates\u001b[0m\u001b[0;34m)\u001b[0m\u001b[0;34m:\u001b[0m\u001b[0;34m\u001b[0m\u001b[0;34m\u001b[0m\u001b[0m\n\u001b[1;32m   1391\u001b[0m         \u001b[0;34m\"\"\"Search all candidates in param_grid\"\"\"\u001b[0m\u001b[0;34m\u001b[0m\u001b[0;34m\u001b[0m\u001b[0m\n\u001b[0;32m-> 1392\u001b[0;31m         \u001b[0mevaluate_candidates\u001b[0m\u001b[0;34m(\u001b[0m\u001b[0mParameterGrid\u001b[0m\u001b[0;34m(\u001b[0m\u001b[0mself\u001b[0m\u001b[0;34m.\u001b[0m\u001b[0mparam_grid\u001b[0m\u001b[0;34m)\u001b[0m\u001b[0;34m)\u001b[0m\u001b[0;34m\u001b[0m\u001b[0;34m\u001b[0m\u001b[0m\n\u001b[0m\u001b[1;32m   1393\u001b[0m \u001b[0;34m\u001b[0m\u001b[0m\n\u001b[1;32m   1394\u001b[0m \u001b[0;34m\u001b[0m\u001b[0m\n",
      "\u001b[0;32m~/opt/anaconda3/envs/yelp_capstone/lib/python3.8/site-packages/sklearn/model_selection/_search.py\u001b[0m in \u001b[0;36mevaluate_candidates\u001b[0;34m(candidate_params, cv, more_results)\u001b[0m\n\u001b[1;32m    836\u001b[0m                     )\n\u001b[1;32m    837\u001b[0m \u001b[0;34m\u001b[0m\u001b[0m\n\u001b[0;32m--> 838\u001b[0;31m                 out = parallel(\n\u001b[0m\u001b[1;32m    839\u001b[0m                     delayed(_fit_and_score)(\n\u001b[1;32m    840\u001b[0m                         \u001b[0mclone\u001b[0m\u001b[0;34m(\u001b[0m\u001b[0mbase_estimator\u001b[0m\u001b[0;34m)\u001b[0m\u001b[0;34m,\u001b[0m\u001b[0;34m\u001b[0m\u001b[0;34m\u001b[0m\u001b[0m\n",
      "\u001b[0;32m~/opt/anaconda3/envs/yelp_capstone/lib/python3.8/site-packages/joblib/parallel.py\u001b[0m in \u001b[0;36m__call__\u001b[0;34m(self, iterable)\u001b[0m\n\u001b[1;32m   1041\u001b[0m             \u001b[0;31m# remaining jobs.\u001b[0m\u001b[0;34m\u001b[0m\u001b[0;34m\u001b[0m\u001b[0;34m\u001b[0m\u001b[0m\n\u001b[1;32m   1042\u001b[0m             \u001b[0mself\u001b[0m\u001b[0;34m.\u001b[0m\u001b[0m_iterating\u001b[0m \u001b[0;34m=\u001b[0m \u001b[0;32mFalse\u001b[0m\u001b[0;34m\u001b[0m\u001b[0;34m\u001b[0m\u001b[0m\n\u001b[0;32m-> 1043\u001b[0;31m             \u001b[0;32mif\u001b[0m \u001b[0mself\u001b[0m\u001b[0;34m.\u001b[0m\u001b[0mdispatch_one_batch\u001b[0m\u001b[0;34m(\u001b[0m\u001b[0miterator\u001b[0m\u001b[0;34m)\u001b[0m\u001b[0;34m:\u001b[0m\u001b[0;34m\u001b[0m\u001b[0;34m\u001b[0m\u001b[0m\n\u001b[0m\u001b[1;32m   1044\u001b[0m                 \u001b[0mself\u001b[0m\u001b[0;34m.\u001b[0m\u001b[0m_iterating\u001b[0m \u001b[0;34m=\u001b[0m \u001b[0mself\u001b[0m\u001b[0;34m.\u001b[0m\u001b[0m_original_iterator\u001b[0m \u001b[0;32mis\u001b[0m \u001b[0;32mnot\u001b[0m \u001b[0;32mNone\u001b[0m\u001b[0;34m\u001b[0m\u001b[0;34m\u001b[0m\u001b[0m\n\u001b[1;32m   1045\u001b[0m \u001b[0;34m\u001b[0m\u001b[0m\n",
      "\u001b[0;32m~/opt/anaconda3/envs/yelp_capstone/lib/python3.8/site-packages/joblib/parallel.py\u001b[0m in \u001b[0;36mdispatch_one_batch\u001b[0;34m(self, iterator)\u001b[0m\n\u001b[1;32m    859\u001b[0m                 \u001b[0;32mreturn\u001b[0m \u001b[0;32mFalse\u001b[0m\u001b[0;34m\u001b[0m\u001b[0;34m\u001b[0m\u001b[0m\n\u001b[1;32m    860\u001b[0m             \u001b[0;32melse\u001b[0m\u001b[0;34m:\u001b[0m\u001b[0;34m\u001b[0m\u001b[0;34m\u001b[0m\u001b[0m\n\u001b[0;32m--> 861\u001b[0;31m                 \u001b[0mself\u001b[0m\u001b[0;34m.\u001b[0m\u001b[0m_dispatch\u001b[0m\u001b[0;34m(\u001b[0m\u001b[0mtasks\u001b[0m\u001b[0;34m)\u001b[0m\u001b[0;34m\u001b[0m\u001b[0;34m\u001b[0m\u001b[0m\n\u001b[0m\u001b[1;32m    862\u001b[0m                 \u001b[0;32mreturn\u001b[0m \u001b[0;32mTrue\u001b[0m\u001b[0;34m\u001b[0m\u001b[0;34m\u001b[0m\u001b[0m\n\u001b[1;32m    863\u001b[0m \u001b[0;34m\u001b[0m\u001b[0m\n",
      "\u001b[0;32m~/opt/anaconda3/envs/yelp_capstone/lib/python3.8/site-packages/joblib/parallel.py\u001b[0m in \u001b[0;36m_dispatch\u001b[0;34m(self, batch)\u001b[0m\n\u001b[1;32m    777\u001b[0m         \u001b[0;32mwith\u001b[0m \u001b[0mself\u001b[0m\u001b[0;34m.\u001b[0m\u001b[0m_lock\u001b[0m\u001b[0;34m:\u001b[0m\u001b[0;34m\u001b[0m\u001b[0;34m\u001b[0m\u001b[0m\n\u001b[1;32m    778\u001b[0m             \u001b[0mjob_idx\u001b[0m \u001b[0;34m=\u001b[0m \u001b[0mlen\u001b[0m\u001b[0;34m(\u001b[0m\u001b[0mself\u001b[0m\u001b[0;34m.\u001b[0m\u001b[0m_jobs\u001b[0m\u001b[0;34m)\u001b[0m\u001b[0;34m\u001b[0m\u001b[0;34m\u001b[0m\u001b[0m\n\u001b[0;32m--> 779\u001b[0;31m             \u001b[0mjob\u001b[0m \u001b[0;34m=\u001b[0m \u001b[0mself\u001b[0m\u001b[0;34m.\u001b[0m\u001b[0m_backend\u001b[0m\u001b[0;34m.\u001b[0m\u001b[0mapply_async\u001b[0m\u001b[0;34m(\u001b[0m\u001b[0mbatch\u001b[0m\u001b[0;34m,\u001b[0m \u001b[0mcallback\u001b[0m\u001b[0;34m=\u001b[0m\u001b[0mcb\u001b[0m\u001b[0;34m)\u001b[0m\u001b[0;34m\u001b[0m\u001b[0;34m\u001b[0m\u001b[0m\n\u001b[0m\u001b[1;32m    780\u001b[0m             \u001b[0;31m# A job can complete so quickly than its callback is\u001b[0m\u001b[0;34m\u001b[0m\u001b[0;34m\u001b[0m\u001b[0;34m\u001b[0m\u001b[0m\n\u001b[1;32m    781\u001b[0m             \u001b[0;31m# called before we get here, causing self._jobs to\u001b[0m\u001b[0;34m\u001b[0m\u001b[0;34m\u001b[0m\u001b[0;34m\u001b[0m\u001b[0m\n",
      "\u001b[0;32m~/opt/anaconda3/envs/yelp_capstone/lib/python3.8/site-packages/joblib/_parallel_backends.py\u001b[0m in \u001b[0;36mapply_async\u001b[0;34m(self, func, callback)\u001b[0m\n\u001b[1;32m    206\u001b[0m     \u001b[0;32mdef\u001b[0m \u001b[0mapply_async\u001b[0m\u001b[0;34m(\u001b[0m\u001b[0mself\u001b[0m\u001b[0;34m,\u001b[0m \u001b[0mfunc\u001b[0m\u001b[0;34m,\u001b[0m \u001b[0mcallback\u001b[0m\u001b[0;34m=\u001b[0m\u001b[0;32mNone\u001b[0m\u001b[0;34m)\u001b[0m\u001b[0;34m:\u001b[0m\u001b[0;34m\u001b[0m\u001b[0;34m\u001b[0m\u001b[0m\n\u001b[1;32m    207\u001b[0m         \u001b[0;34m\"\"\"Schedule a func to be run\"\"\"\u001b[0m\u001b[0;34m\u001b[0m\u001b[0;34m\u001b[0m\u001b[0m\n\u001b[0;32m--> 208\u001b[0;31m         \u001b[0mresult\u001b[0m \u001b[0;34m=\u001b[0m \u001b[0mImmediateResult\u001b[0m\u001b[0;34m(\u001b[0m\u001b[0mfunc\u001b[0m\u001b[0;34m)\u001b[0m\u001b[0;34m\u001b[0m\u001b[0;34m\u001b[0m\u001b[0m\n\u001b[0m\u001b[1;32m    209\u001b[0m         \u001b[0;32mif\u001b[0m \u001b[0mcallback\u001b[0m\u001b[0;34m:\u001b[0m\u001b[0;34m\u001b[0m\u001b[0;34m\u001b[0m\u001b[0m\n\u001b[1;32m    210\u001b[0m             \u001b[0mcallback\u001b[0m\u001b[0;34m(\u001b[0m\u001b[0mresult\u001b[0m\u001b[0;34m)\u001b[0m\u001b[0;34m\u001b[0m\u001b[0;34m\u001b[0m\u001b[0m\n",
      "\u001b[0;32m~/opt/anaconda3/envs/yelp_capstone/lib/python3.8/site-packages/joblib/_parallel_backends.py\u001b[0m in \u001b[0;36m__init__\u001b[0;34m(self, batch)\u001b[0m\n\u001b[1;32m    570\u001b[0m         \u001b[0;31m# Don't delay the application, to avoid keeping the input\u001b[0m\u001b[0;34m\u001b[0m\u001b[0;34m\u001b[0m\u001b[0;34m\u001b[0m\u001b[0m\n\u001b[1;32m    571\u001b[0m         \u001b[0;31m# arguments in memory\u001b[0m\u001b[0;34m\u001b[0m\u001b[0;34m\u001b[0m\u001b[0;34m\u001b[0m\u001b[0m\n\u001b[0;32m--> 572\u001b[0;31m         \u001b[0mself\u001b[0m\u001b[0;34m.\u001b[0m\u001b[0mresults\u001b[0m \u001b[0;34m=\u001b[0m \u001b[0mbatch\u001b[0m\u001b[0;34m(\u001b[0m\u001b[0;34m)\u001b[0m\u001b[0;34m\u001b[0m\u001b[0;34m\u001b[0m\u001b[0m\n\u001b[0m\u001b[1;32m    573\u001b[0m \u001b[0;34m\u001b[0m\u001b[0m\n\u001b[1;32m    574\u001b[0m     \u001b[0;32mdef\u001b[0m \u001b[0mget\u001b[0m\u001b[0;34m(\u001b[0m\u001b[0mself\u001b[0m\u001b[0;34m)\u001b[0m\u001b[0;34m:\u001b[0m\u001b[0;34m\u001b[0m\u001b[0;34m\u001b[0m\u001b[0m\n",
      "\u001b[0;32m~/opt/anaconda3/envs/yelp_capstone/lib/python3.8/site-packages/joblib/parallel.py\u001b[0m in \u001b[0;36m__call__\u001b[0;34m(self)\u001b[0m\n\u001b[1;32m    260\u001b[0m         \u001b[0;31m# change the default number of processes to -1\u001b[0m\u001b[0;34m\u001b[0m\u001b[0;34m\u001b[0m\u001b[0;34m\u001b[0m\u001b[0m\n\u001b[1;32m    261\u001b[0m         \u001b[0;32mwith\u001b[0m \u001b[0mparallel_backend\u001b[0m\u001b[0;34m(\u001b[0m\u001b[0mself\u001b[0m\u001b[0;34m.\u001b[0m\u001b[0m_backend\u001b[0m\u001b[0;34m,\u001b[0m \u001b[0mn_jobs\u001b[0m\u001b[0;34m=\u001b[0m\u001b[0mself\u001b[0m\u001b[0;34m.\u001b[0m\u001b[0m_n_jobs\u001b[0m\u001b[0;34m)\u001b[0m\u001b[0;34m:\u001b[0m\u001b[0;34m\u001b[0m\u001b[0;34m\u001b[0m\u001b[0m\n\u001b[0;32m--> 262\u001b[0;31m             return [func(*args, **kwargs)\n\u001b[0m\u001b[1;32m    263\u001b[0m                     for func, args, kwargs in self.items]\n\u001b[1;32m    264\u001b[0m \u001b[0;34m\u001b[0m\u001b[0m\n",
      "\u001b[0;32m~/opt/anaconda3/envs/yelp_capstone/lib/python3.8/site-packages/joblib/parallel.py\u001b[0m in \u001b[0;36m<listcomp>\u001b[0;34m(.0)\u001b[0m\n\u001b[1;32m    260\u001b[0m         \u001b[0;31m# change the default number of processes to -1\u001b[0m\u001b[0;34m\u001b[0m\u001b[0;34m\u001b[0m\u001b[0;34m\u001b[0m\u001b[0m\n\u001b[1;32m    261\u001b[0m         \u001b[0;32mwith\u001b[0m \u001b[0mparallel_backend\u001b[0m\u001b[0;34m(\u001b[0m\u001b[0mself\u001b[0m\u001b[0;34m.\u001b[0m\u001b[0m_backend\u001b[0m\u001b[0;34m,\u001b[0m \u001b[0mn_jobs\u001b[0m\u001b[0;34m=\u001b[0m\u001b[0mself\u001b[0m\u001b[0;34m.\u001b[0m\u001b[0m_n_jobs\u001b[0m\u001b[0;34m)\u001b[0m\u001b[0;34m:\u001b[0m\u001b[0;34m\u001b[0m\u001b[0;34m\u001b[0m\u001b[0m\n\u001b[0;32m--> 262\u001b[0;31m             return [func(*args, **kwargs)\n\u001b[0m\u001b[1;32m    263\u001b[0m                     for func, args, kwargs in self.items]\n\u001b[1;32m    264\u001b[0m \u001b[0;34m\u001b[0m\u001b[0m\n",
      "\u001b[0;32m~/opt/anaconda3/envs/yelp_capstone/lib/python3.8/site-packages/sklearn/utils/fixes.py\u001b[0m in \u001b[0;36m__call__\u001b[0;34m(self, *args, **kwargs)\u001b[0m\n\u001b[1;32m    209\u001b[0m     \u001b[0;32mdef\u001b[0m \u001b[0m__call__\u001b[0m\u001b[0;34m(\u001b[0m\u001b[0mself\u001b[0m\u001b[0;34m,\u001b[0m \u001b[0;34m*\u001b[0m\u001b[0margs\u001b[0m\u001b[0;34m,\u001b[0m \u001b[0;34m**\u001b[0m\u001b[0mkwargs\u001b[0m\u001b[0;34m)\u001b[0m\u001b[0;34m:\u001b[0m\u001b[0;34m\u001b[0m\u001b[0;34m\u001b[0m\u001b[0m\n\u001b[1;32m    210\u001b[0m         \u001b[0;32mwith\u001b[0m \u001b[0mconfig_context\u001b[0m\u001b[0;34m(\u001b[0m\u001b[0;34m**\u001b[0m\u001b[0mself\u001b[0m\u001b[0;34m.\u001b[0m\u001b[0mconfig\u001b[0m\u001b[0;34m)\u001b[0m\u001b[0;34m:\u001b[0m\u001b[0;34m\u001b[0m\u001b[0;34m\u001b[0m\u001b[0m\n\u001b[0;32m--> 211\u001b[0;31m             \u001b[0;32mreturn\u001b[0m \u001b[0mself\u001b[0m\u001b[0;34m.\u001b[0m\u001b[0mfunction\u001b[0m\u001b[0;34m(\u001b[0m\u001b[0;34m*\u001b[0m\u001b[0margs\u001b[0m\u001b[0;34m,\u001b[0m \u001b[0;34m**\u001b[0m\u001b[0mkwargs\u001b[0m\u001b[0;34m)\u001b[0m\u001b[0;34m\u001b[0m\u001b[0;34m\u001b[0m\u001b[0m\n\u001b[0m\u001b[1;32m    212\u001b[0m \u001b[0;34m\u001b[0m\u001b[0m\n\u001b[1;32m    213\u001b[0m \u001b[0;34m\u001b[0m\u001b[0m\n",
      "\u001b[0;32m~/opt/anaconda3/envs/yelp_capstone/lib/python3.8/site-packages/sklearn/model_selection/_validation.py\u001b[0m in \u001b[0;36m_fit_and_score\u001b[0;34m(estimator, X, y, scorer, train, test, verbose, parameters, fit_params, return_train_score, return_parameters, return_n_test_samples, return_times, return_estimator, split_progress, candidate_progress, error_score)\u001b[0m\n\u001b[1;32m    679\u001b[0m             \u001b[0mestimator\u001b[0m\u001b[0;34m.\u001b[0m\u001b[0mfit\u001b[0m\u001b[0;34m(\u001b[0m\u001b[0mX_train\u001b[0m\u001b[0;34m,\u001b[0m \u001b[0;34m**\u001b[0m\u001b[0mfit_params\u001b[0m\u001b[0;34m)\u001b[0m\u001b[0;34m\u001b[0m\u001b[0;34m\u001b[0m\u001b[0m\n\u001b[1;32m    680\u001b[0m         \u001b[0;32melse\u001b[0m\u001b[0;34m:\u001b[0m\u001b[0;34m\u001b[0m\u001b[0;34m\u001b[0m\u001b[0m\n\u001b[0;32m--> 681\u001b[0;31m             \u001b[0mestimator\u001b[0m\u001b[0;34m.\u001b[0m\u001b[0mfit\u001b[0m\u001b[0;34m(\u001b[0m\u001b[0mX_train\u001b[0m\u001b[0;34m,\u001b[0m \u001b[0my_train\u001b[0m\u001b[0;34m,\u001b[0m \u001b[0;34m**\u001b[0m\u001b[0mfit_params\u001b[0m\u001b[0;34m)\u001b[0m\u001b[0;34m\u001b[0m\u001b[0;34m\u001b[0m\u001b[0m\n\u001b[0m\u001b[1;32m    682\u001b[0m \u001b[0;34m\u001b[0m\u001b[0m\n\u001b[1;32m    683\u001b[0m     \u001b[0;32mexcept\u001b[0m \u001b[0mException\u001b[0m\u001b[0;34m:\u001b[0m\u001b[0;34m\u001b[0m\u001b[0;34m\u001b[0m\u001b[0m\n",
      "\u001b[0;32m~/opt/anaconda3/envs/yelp_capstone/lib/python3.8/site-packages/sklearn/ensemble/_forest.py\u001b[0m in \u001b[0;36mfit\u001b[0;34m(self, X, y, sample_weight)\u001b[0m\n\u001b[1;32m    440\u001b[0m             \u001b[0;31m# parallel_backend contexts set at a higher level,\u001b[0m\u001b[0;34m\u001b[0m\u001b[0;34m\u001b[0m\u001b[0;34m\u001b[0m\u001b[0m\n\u001b[1;32m    441\u001b[0m             \u001b[0;31m# since correctness does not rely on using threads.\u001b[0m\u001b[0;34m\u001b[0m\u001b[0;34m\u001b[0m\u001b[0;34m\u001b[0m\u001b[0m\n\u001b[0;32m--> 442\u001b[0;31m             trees = Parallel(\n\u001b[0m\u001b[1;32m    443\u001b[0m                 \u001b[0mn_jobs\u001b[0m\u001b[0;34m=\u001b[0m\u001b[0mself\u001b[0m\u001b[0;34m.\u001b[0m\u001b[0mn_jobs\u001b[0m\u001b[0;34m,\u001b[0m\u001b[0;34m\u001b[0m\u001b[0;34m\u001b[0m\u001b[0m\n\u001b[1;32m    444\u001b[0m                 \u001b[0mverbose\u001b[0m\u001b[0;34m=\u001b[0m\u001b[0mself\u001b[0m\u001b[0;34m.\u001b[0m\u001b[0mverbose\u001b[0m\u001b[0;34m,\u001b[0m\u001b[0;34m\u001b[0m\u001b[0;34m\u001b[0m\u001b[0m\n",
      "\u001b[0;32m~/opt/anaconda3/envs/yelp_capstone/lib/python3.8/site-packages/joblib/parallel.py\u001b[0m in \u001b[0;36m__call__\u001b[0;34m(self, iterable)\u001b[0m\n\u001b[1;32m   1044\u001b[0m                 \u001b[0mself\u001b[0m\u001b[0;34m.\u001b[0m\u001b[0m_iterating\u001b[0m \u001b[0;34m=\u001b[0m \u001b[0mself\u001b[0m\u001b[0;34m.\u001b[0m\u001b[0m_original_iterator\u001b[0m \u001b[0;32mis\u001b[0m \u001b[0;32mnot\u001b[0m \u001b[0;32mNone\u001b[0m\u001b[0;34m\u001b[0m\u001b[0;34m\u001b[0m\u001b[0m\n\u001b[1;32m   1045\u001b[0m \u001b[0;34m\u001b[0m\u001b[0m\n\u001b[0;32m-> 1046\u001b[0;31m             \u001b[0;32mwhile\u001b[0m \u001b[0mself\u001b[0m\u001b[0;34m.\u001b[0m\u001b[0mdispatch_one_batch\u001b[0m\u001b[0;34m(\u001b[0m\u001b[0miterator\u001b[0m\u001b[0;34m)\u001b[0m\u001b[0;34m:\u001b[0m\u001b[0;34m\u001b[0m\u001b[0;34m\u001b[0m\u001b[0m\n\u001b[0m\u001b[1;32m   1047\u001b[0m                 \u001b[0;32mpass\u001b[0m\u001b[0;34m\u001b[0m\u001b[0;34m\u001b[0m\u001b[0m\n\u001b[1;32m   1048\u001b[0m \u001b[0;34m\u001b[0m\u001b[0m\n",
      "\u001b[0;32m~/opt/anaconda3/envs/yelp_capstone/lib/python3.8/site-packages/joblib/parallel.py\u001b[0m in \u001b[0;36mdispatch_one_batch\u001b[0;34m(self, iterator)\u001b[0m\n\u001b[1;32m    859\u001b[0m                 \u001b[0;32mreturn\u001b[0m \u001b[0;32mFalse\u001b[0m\u001b[0;34m\u001b[0m\u001b[0;34m\u001b[0m\u001b[0m\n\u001b[1;32m    860\u001b[0m             \u001b[0;32melse\u001b[0m\u001b[0;34m:\u001b[0m\u001b[0;34m\u001b[0m\u001b[0;34m\u001b[0m\u001b[0m\n\u001b[0;32m--> 861\u001b[0;31m                 \u001b[0mself\u001b[0m\u001b[0;34m.\u001b[0m\u001b[0m_dispatch\u001b[0m\u001b[0;34m(\u001b[0m\u001b[0mtasks\u001b[0m\u001b[0;34m)\u001b[0m\u001b[0;34m\u001b[0m\u001b[0;34m\u001b[0m\u001b[0m\n\u001b[0m\u001b[1;32m    862\u001b[0m                 \u001b[0;32mreturn\u001b[0m \u001b[0;32mTrue\u001b[0m\u001b[0;34m\u001b[0m\u001b[0;34m\u001b[0m\u001b[0m\n\u001b[1;32m    863\u001b[0m \u001b[0;34m\u001b[0m\u001b[0m\n",
      "\u001b[0;32m~/opt/anaconda3/envs/yelp_capstone/lib/python3.8/site-packages/joblib/parallel.py\u001b[0m in \u001b[0;36m_dispatch\u001b[0;34m(self, batch)\u001b[0m\n\u001b[1;32m    777\u001b[0m         \u001b[0;32mwith\u001b[0m \u001b[0mself\u001b[0m\u001b[0;34m.\u001b[0m\u001b[0m_lock\u001b[0m\u001b[0;34m:\u001b[0m\u001b[0;34m\u001b[0m\u001b[0;34m\u001b[0m\u001b[0m\n\u001b[1;32m    778\u001b[0m             \u001b[0mjob_idx\u001b[0m \u001b[0;34m=\u001b[0m \u001b[0mlen\u001b[0m\u001b[0;34m(\u001b[0m\u001b[0mself\u001b[0m\u001b[0;34m.\u001b[0m\u001b[0m_jobs\u001b[0m\u001b[0;34m)\u001b[0m\u001b[0;34m\u001b[0m\u001b[0;34m\u001b[0m\u001b[0m\n\u001b[0;32m--> 779\u001b[0;31m             \u001b[0mjob\u001b[0m \u001b[0;34m=\u001b[0m \u001b[0mself\u001b[0m\u001b[0;34m.\u001b[0m\u001b[0m_backend\u001b[0m\u001b[0;34m.\u001b[0m\u001b[0mapply_async\u001b[0m\u001b[0;34m(\u001b[0m\u001b[0mbatch\u001b[0m\u001b[0;34m,\u001b[0m \u001b[0mcallback\u001b[0m\u001b[0;34m=\u001b[0m\u001b[0mcb\u001b[0m\u001b[0;34m)\u001b[0m\u001b[0;34m\u001b[0m\u001b[0;34m\u001b[0m\u001b[0m\n\u001b[0m\u001b[1;32m    780\u001b[0m             \u001b[0;31m# A job can complete so quickly than its callback is\u001b[0m\u001b[0;34m\u001b[0m\u001b[0;34m\u001b[0m\u001b[0;34m\u001b[0m\u001b[0m\n\u001b[1;32m    781\u001b[0m             \u001b[0;31m# called before we get here, causing self._jobs to\u001b[0m\u001b[0;34m\u001b[0m\u001b[0;34m\u001b[0m\u001b[0;34m\u001b[0m\u001b[0m\n",
      "\u001b[0;32m~/opt/anaconda3/envs/yelp_capstone/lib/python3.8/site-packages/joblib/_parallel_backends.py\u001b[0m in \u001b[0;36mapply_async\u001b[0;34m(self, func, callback)\u001b[0m\n\u001b[1;32m    206\u001b[0m     \u001b[0;32mdef\u001b[0m \u001b[0mapply_async\u001b[0m\u001b[0;34m(\u001b[0m\u001b[0mself\u001b[0m\u001b[0;34m,\u001b[0m \u001b[0mfunc\u001b[0m\u001b[0;34m,\u001b[0m \u001b[0mcallback\u001b[0m\u001b[0;34m=\u001b[0m\u001b[0;32mNone\u001b[0m\u001b[0;34m)\u001b[0m\u001b[0;34m:\u001b[0m\u001b[0;34m\u001b[0m\u001b[0;34m\u001b[0m\u001b[0m\n\u001b[1;32m    207\u001b[0m         \u001b[0;34m\"\"\"Schedule a func to be run\"\"\"\u001b[0m\u001b[0;34m\u001b[0m\u001b[0;34m\u001b[0m\u001b[0m\n\u001b[0;32m--> 208\u001b[0;31m         \u001b[0mresult\u001b[0m \u001b[0;34m=\u001b[0m \u001b[0mImmediateResult\u001b[0m\u001b[0;34m(\u001b[0m\u001b[0mfunc\u001b[0m\u001b[0;34m)\u001b[0m\u001b[0;34m\u001b[0m\u001b[0;34m\u001b[0m\u001b[0m\n\u001b[0m\u001b[1;32m    209\u001b[0m         \u001b[0;32mif\u001b[0m \u001b[0mcallback\u001b[0m\u001b[0;34m:\u001b[0m\u001b[0;34m\u001b[0m\u001b[0;34m\u001b[0m\u001b[0m\n\u001b[1;32m    210\u001b[0m             \u001b[0mcallback\u001b[0m\u001b[0;34m(\u001b[0m\u001b[0mresult\u001b[0m\u001b[0;34m)\u001b[0m\u001b[0;34m\u001b[0m\u001b[0;34m\u001b[0m\u001b[0m\n",
      "\u001b[0;32m~/opt/anaconda3/envs/yelp_capstone/lib/python3.8/site-packages/joblib/_parallel_backends.py\u001b[0m in \u001b[0;36m__init__\u001b[0;34m(self, batch)\u001b[0m\n\u001b[1;32m    570\u001b[0m         \u001b[0;31m# Don't delay the application, to avoid keeping the input\u001b[0m\u001b[0;34m\u001b[0m\u001b[0;34m\u001b[0m\u001b[0;34m\u001b[0m\u001b[0m\n\u001b[1;32m    571\u001b[0m         \u001b[0;31m# arguments in memory\u001b[0m\u001b[0;34m\u001b[0m\u001b[0;34m\u001b[0m\u001b[0;34m\u001b[0m\u001b[0m\n\u001b[0;32m--> 572\u001b[0;31m         \u001b[0mself\u001b[0m\u001b[0;34m.\u001b[0m\u001b[0mresults\u001b[0m \u001b[0;34m=\u001b[0m \u001b[0mbatch\u001b[0m\u001b[0;34m(\u001b[0m\u001b[0;34m)\u001b[0m\u001b[0;34m\u001b[0m\u001b[0;34m\u001b[0m\u001b[0m\n\u001b[0m\u001b[1;32m    573\u001b[0m \u001b[0;34m\u001b[0m\u001b[0m\n\u001b[1;32m    574\u001b[0m     \u001b[0;32mdef\u001b[0m \u001b[0mget\u001b[0m\u001b[0;34m(\u001b[0m\u001b[0mself\u001b[0m\u001b[0;34m)\u001b[0m\u001b[0;34m:\u001b[0m\u001b[0;34m\u001b[0m\u001b[0;34m\u001b[0m\u001b[0m\n",
      "\u001b[0;32m~/opt/anaconda3/envs/yelp_capstone/lib/python3.8/site-packages/joblib/parallel.py\u001b[0m in \u001b[0;36m__call__\u001b[0;34m(self)\u001b[0m\n\u001b[1;32m    260\u001b[0m         \u001b[0;31m# change the default number of processes to -1\u001b[0m\u001b[0;34m\u001b[0m\u001b[0;34m\u001b[0m\u001b[0;34m\u001b[0m\u001b[0m\n\u001b[1;32m    261\u001b[0m         \u001b[0;32mwith\u001b[0m \u001b[0mparallel_backend\u001b[0m\u001b[0;34m(\u001b[0m\u001b[0mself\u001b[0m\u001b[0;34m.\u001b[0m\u001b[0m_backend\u001b[0m\u001b[0;34m,\u001b[0m \u001b[0mn_jobs\u001b[0m\u001b[0;34m=\u001b[0m\u001b[0mself\u001b[0m\u001b[0;34m.\u001b[0m\u001b[0m_n_jobs\u001b[0m\u001b[0;34m)\u001b[0m\u001b[0;34m:\u001b[0m\u001b[0;34m\u001b[0m\u001b[0;34m\u001b[0m\u001b[0m\n\u001b[0;32m--> 262\u001b[0;31m             return [func(*args, **kwargs)\n\u001b[0m\u001b[1;32m    263\u001b[0m                     for func, args, kwargs in self.items]\n\u001b[1;32m    264\u001b[0m \u001b[0;34m\u001b[0m\u001b[0m\n",
      "\u001b[0;32m~/opt/anaconda3/envs/yelp_capstone/lib/python3.8/site-packages/joblib/parallel.py\u001b[0m in \u001b[0;36m<listcomp>\u001b[0;34m(.0)\u001b[0m\n\u001b[1;32m    260\u001b[0m         \u001b[0;31m# change the default number of processes to -1\u001b[0m\u001b[0;34m\u001b[0m\u001b[0;34m\u001b[0m\u001b[0;34m\u001b[0m\u001b[0m\n\u001b[1;32m    261\u001b[0m         \u001b[0;32mwith\u001b[0m \u001b[0mparallel_backend\u001b[0m\u001b[0;34m(\u001b[0m\u001b[0mself\u001b[0m\u001b[0;34m.\u001b[0m\u001b[0m_backend\u001b[0m\u001b[0;34m,\u001b[0m \u001b[0mn_jobs\u001b[0m\u001b[0;34m=\u001b[0m\u001b[0mself\u001b[0m\u001b[0;34m.\u001b[0m\u001b[0m_n_jobs\u001b[0m\u001b[0;34m)\u001b[0m\u001b[0;34m:\u001b[0m\u001b[0;34m\u001b[0m\u001b[0;34m\u001b[0m\u001b[0m\n\u001b[0;32m--> 262\u001b[0;31m             return [func(*args, **kwargs)\n\u001b[0m\u001b[1;32m    263\u001b[0m                     for func, args, kwargs in self.items]\n\u001b[1;32m    264\u001b[0m \u001b[0;34m\u001b[0m\u001b[0m\n",
      "\u001b[0;32m~/opt/anaconda3/envs/yelp_capstone/lib/python3.8/site-packages/sklearn/utils/fixes.py\u001b[0m in \u001b[0;36m__call__\u001b[0;34m(self, *args, **kwargs)\u001b[0m\n\u001b[1;32m    209\u001b[0m     \u001b[0;32mdef\u001b[0m \u001b[0m__call__\u001b[0m\u001b[0;34m(\u001b[0m\u001b[0mself\u001b[0m\u001b[0;34m,\u001b[0m \u001b[0;34m*\u001b[0m\u001b[0margs\u001b[0m\u001b[0;34m,\u001b[0m \u001b[0;34m**\u001b[0m\u001b[0mkwargs\u001b[0m\u001b[0;34m)\u001b[0m\u001b[0;34m:\u001b[0m\u001b[0;34m\u001b[0m\u001b[0;34m\u001b[0m\u001b[0m\n\u001b[1;32m    210\u001b[0m         \u001b[0;32mwith\u001b[0m \u001b[0mconfig_context\u001b[0m\u001b[0;34m(\u001b[0m\u001b[0;34m**\u001b[0m\u001b[0mself\u001b[0m\u001b[0;34m.\u001b[0m\u001b[0mconfig\u001b[0m\u001b[0;34m)\u001b[0m\u001b[0;34m:\u001b[0m\u001b[0;34m\u001b[0m\u001b[0;34m\u001b[0m\u001b[0m\n\u001b[0;32m--> 211\u001b[0;31m             \u001b[0;32mreturn\u001b[0m \u001b[0mself\u001b[0m\u001b[0;34m.\u001b[0m\u001b[0mfunction\u001b[0m\u001b[0;34m(\u001b[0m\u001b[0;34m*\u001b[0m\u001b[0margs\u001b[0m\u001b[0;34m,\u001b[0m \u001b[0;34m**\u001b[0m\u001b[0mkwargs\u001b[0m\u001b[0;34m)\u001b[0m\u001b[0;34m\u001b[0m\u001b[0;34m\u001b[0m\u001b[0m\n\u001b[0m\u001b[1;32m    212\u001b[0m \u001b[0;34m\u001b[0m\u001b[0m\n\u001b[1;32m    213\u001b[0m \u001b[0;34m\u001b[0m\u001b[0m\n",
      "\u001b[0;32m~/opt/anaconda3/envs/yelp_capstone/lib/python3.8/site-packages/sklearn/ensemble/_forest.py\u001b[0m in \u001b[0;36m_parallel_build_trees\u001b[0;34m(tree, forest, X, y, sample_weight, tree_idx, n_trees, verbose, class_weight, n_samples_bootstrap)\u001b[0m\n\u001b[1;32m    183\u001b[0m             \u001b[0mcurr_sample_weight\u001b[0m \u001b[0;34m*=\u001b[0m \u001b[0mcompute_sample_weight\u001b[0m\u001b[0;34m(\u001b[0m\u001b[0;34m\"balanced\"\u001b[0m\u001b[0;34m,\u001b[0m \u001b[0my\u001b[0m\u001b[0;34m,\u001b[0m \u001b[0mindices\u001b[0m\u001b[0;34m=\u001b[0m\u001b[0mindices\u001b[0m\u001b[0;34m)\u001b[0m\u001b[0;34m\u001b[0m\u001b[0;34m\u001b[0m\u001b[0m\n\u001b[1;32m    184\u001b[0m \u001b[0;34m\u001b[0m\u001b[0m\n\u001b[0;32m--> 185\u001b[0;31m         \u001b[0mtree\u001b[0m\u001b[0;34m.\u001b[0m\u001b[0mfit\u001b[0m\u001b[0;34m(\u001b[0m\u001b[0mX\u001b[0m\u001b[0;34m,\u001b[0m \u001b[0my\u001b[0m\u001b[0;34m,\u001b[0m \u001b[0msample_weight\u001b[0m\u001b[0;34m=\u001b[0m\u001b[0mcurr_sample_weight\u001b[0m\u001b[0;34m,\u001b[0m \u001b[0mcheck_input\u001b[0m\u001b[0;34m=\u001b[0m\u001b[0;32mFalse\u001b[0m\u001b[0;34m)\u001b[0m\u001b[0;34m\u001b[0m\u001b[0;34m\u001b[0m\u001b[0m\n\u001b[0m\u001b[1;32m    186\u001b[0m     \u001b[0;32melse\u001b[0m\u001b[0;34m:\u001b[0m\u001b[0;34m\u001b[0m\u001b[0;34m\u001b[0m\u001b[0m\n\u001b[1;32m    187\u001b[0m         \u001b[0mtree\u001b[0m\u001b[0;34m.\u001b[0m\u001b[0mfit\u001b[0m\u001b[0;34m(\u001b[0m\u001b[0mX\u001b[0m\u001b[0;34m,\u001b[0m \u001b[0my\u001b[0m\u001b[0;34m,\u001b[0m \u001b[0msample_weight\u001b[0m\u001b[0;34m=\u001b[0m\u001b[0msample_weight\u001b[0m\u001b[0;34m,\u001b[0m \u001b[0mcheck_input\u001b[0m\u001b[0;34m=\u001b[0m\u001b[0;32mFalse\u001b[0m\u001b[0;34m)\u001b[0m\u001b[0;34m\u001b[0m\u001b[0;34m\u001b[0m\u001b[0m\n",
      "\u001b[0;32m~/opt/anaconda3/envs/yelp_capstone/lib/python3.8/site-packages/sklearn/tree/_classes.py\u001b[0m in \u001b[0;36mfit\u001b[0;34m(self, X, y, sample_weight, check_input, X_idx_sorted)\u001b[0m\n\u001b[1;32m   1313\u001b[0m         \"\"\"\n\u001b[1;32m   1314\u001b[0m \u001b[0;34m\u001b[0m\u001b[0m\n\u001b[0;32m-> 1315\u001b[0;31m         super().fit(\n\u001b[0m\u001b[1;32m   1316\u001b[0m             \u001b[0mX\u001b[0m\u001b[0;34m,\u001b[0m\u001b[0;34m\u001b[0m\u001b[0;34m\u001b[0m\u001b[0m\n\u001b[1;32m   1317\u001b[0m             \u001b[0my\u001b[0m\u001b[0;34m,\u001b[0m\u001b[0;34m\u001b[0m\u001b[0;34m\u001b[0m\u001b[0m\n",
      "\u001b[0;32m~/opt/anaconda3/envs/yelp_capstone/lib/python3.8/site-packages/sklearn/tree/_classes.py\u001b[0m in \u001b[0;36mfit\u001b[0;34m(self, X, y, sample_weight, check_input, X_idx_sorted)\u001b[0m\n\u001b[1;32m    418\u001b[0m             )\n\u001b[1;32m    419\u001b[0m \u001b[0;34m\u001b[0m\u001b[0m\n\u001b[0;32m--> 420\u001b[0;31m         \u001b[0mbuilder\u001b[0m\u001b[0;34m.\u001b[0m\u001b[0mbuild\u001b[0m\u001b[0;34m(\u001b[0m\u001b[0mself\u001b[0m\u001b[0;34m.\u001b[0m\u001b[0mtree_\u001b[0m\u001b[0;34m,\u001b[0m \u001b[0mX\u001b[0m\u001b[0;34m,\u001b[0m \u001b[0my\u001b[0m\u001b[0;34m,\u001b[0m \u001b[0msample_weight\u001b[0m\u001b[0;34m)\u001b[0m\u001b[0;34m\u001b[0m\u001b[0;34m\u001b[0m\u001b[0m\n\u001b[0m\u001b[1;32m    421\u001b[0m \u001b[0;34m\u001b[0m\u001b[0m\n\u001b[1;32m    422\u001b[0m         \u001b[0;32mif\u001b[0m \u001b[0mself\u001b[0m\u001b[0;34m.\u001b[0m\u001b[0mn_outputs_\u001b[0m \u001b[0;34m==\u001b[0m \u001b[0;36m1\u001b[0m \u001b[0;32mand\u001b[0m \u001b[0mis_classifier\u001b[0m\u001b[0;34m(\u001b[0m\u001b[0mself\u001b[0m\u001b[0;34m)\u001b[0m\u001b[0;34m:\u001b[0m\u001b[0;34m\u001b[0m\u001b[0;34m\u001b[0m\u001b[0m\n",
      "\u001b[0;31mKeyboardInterrupt\u001b[0m: "
     ]
    }
   ],
   "source": [
    "%%time\n",
    "\n",
    "forest_reg = RandomForestRegressor()\n",
    "\n",
    "param_grid = [{'n_estimators': [50], 'max_depth': [25, 50, 70], 'min_samples_leaf': [2, 4, 6]}]\n",
    "\n",
    "grid_search = GridSearchCV(forest_reg, param_grid, cv=5, scoring=scorer, refit='custom_mae_scorer')\n",
    "\n",
    "grid_search.fit(X_train_scaled, y_train)"
   ]
  },
  {
   "cell_type": "code",
   "execution_count": 50,
   "id": "f40c7b6b",
   "metadata": {},
   "outputs": [
    {
     "data": {
      "text/plain": [
       "RandomForestRegressor(max_depth=8, min_samples_leaf=2, n_estimators=30)"
      ]
     },
     "execution_count": 50,
     "metadata": {},
     "output_type": "execute_result"
    }
   ],
   "source": [
    "grid_search.best_estimator_"
   ]
  },
  {
   "cell_type": "code",
   "execution_count": 51,
   "id": "d8e12417",
   "metadata": {},
   "outputs": [
    {
     "data": {
      "text/plain": [
       "{'max_depth': 8, 'min_samples_leaf': 2, 'n_estimators': 30}"
      ]
     },
     "execution_count": 51,
     "metadata": {},
     "output_type": "execute_result"
    }
   ],
   "source": [
    "grid_search.best_params_"
   ]
  },
  {
   "cell_type": "code",
   "execution_count": 52,
   "id": "b3bd4c07",
   "metadata": {},
   "outputs": [
    {
     "data": {
      "text/plain": [
       "-0.8995640789678149"
      ]
     },
     "execution_count": 52,
     "metadata": {},
     "output_type": "execute_result"
    }
   ],
   "source": [
    "grid_search.best_score_"
   ]
  },
  {
   "cell_type": "code",
   "execution_count": null,
   "id": "9d1cd071",
   "metadata": {},
   "outputs": [],
   "source": [
    "best_forest_reg = grid_search.best_estimator_\n",
    "\n",
    "best_forest_reg.fit(X_train_scaled, y_train)"
   ]
  },
  {
   "cell_type": "code",
   "execution_count": null,
   "id": "72741691",
   "metadata": {},
   "outputs": [],
   "source": []
  },
  {
   "cell_type": "code",
   "execution_count": null,
   "id": "9481228e",
   "metadata": {},
   "outputs": [],
   "source": []
  },
  {
   "cell_type": "code",
   "execution_count": null,
   "id": "2a375a7b",
   "metadata": {},
   "outputs": [],
   "source": []
  },
  {
   "cell_type": "code",
   "execution_count": null,
   "id": "37384bc6",
   "metadata": {},
   "outputs": [],
   "source": []
  },
  {
   "cell_type": "code",
   "execution_count": null,
   "id": "ef67b6cc",
   "metadata": {},
   "outputs": [],
   "source": []
  },
  {
   "cell_type": "code",
   "execution_count": null,
   "id": "95cf1f11",
   "metadata": {},
   "outputs": [],
   "source": []
  },
  {
   "cell_type": "code",
   "execution_count": null,
   "id": "d5ab99f3",
   "metadata": {},
   "outputs": [],
   "source": []
  }
 ],
 "metadata": {
  "kernelspec": {
   "display_name": "yelp_capstone",
   "language": "python",
   "name": "yelp_capstone"
  },
  "language_info": {
   "codemirror_mode": {
    "name": "ipython",
    "version": 3
   },
   "file_extension": ".py",
   "mimetype": "text/x-python",
   "name": "python",
   "nbconvert_exporter": "python",
   "pygments_lexer": "ipython3",
   "version": "3.8.12"
  },
  "toc": {
   "base_numbering": 1,
   "nav_menu": {},
   "number_sections": true,
   "sideBar": true,
   "skip_h1_title": true,
   "title_cell": "Table of Contents",
   "title_sidebar": "Contents",
   "toc_cell": false,
   "toc_position": {
    "height": "calc(100% - 180px)",
    "left": "10px",
    "top": "150px",
    "width": "349.091px"
   },
   "toc_section_display": true,
   "toc_window_display": true
  },
  "varInspector": {
   "cols": {
    "lenName": 16,
    "lenType": 16,
    "lenVar": 40
   },
   "kernels_config": {
    "python": {
     "delete_cmd_postfix": "",
     "delete_cmd_prefix": "del ",
     "library": "var_list.py",
     "varRefreshCmd": "print(var_dic_list())"
    },
    "r": {
     "delete_cmd_postfix": ") ",
     "delete_cmd_prefix": "rm(",
     "library": "var_list.r",
     "varRefreshCmd": "cat(var_dic_list()) "
    }
   },
   "types_to_exclude": [
    "module",
    "function",
    "builtin_function_or_method",
    "instance",
    "_Feature"
   ],
   "window_display": false
  }
 },
 "nbformat": 4,
 "nbformat_minor": 5
}
