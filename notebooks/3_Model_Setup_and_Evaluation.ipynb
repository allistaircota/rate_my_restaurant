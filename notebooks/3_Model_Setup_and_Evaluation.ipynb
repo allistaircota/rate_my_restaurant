{
 "cells": [
  {
   "cell_type": "markdown",
   "id": "d021867d",
   "metadata": {},
   "source": [
    "# Notebook 3: Model Setup and Evaluation"
   ]
  },
  {
   "cell_type": "markdown",
   "id": "760cdf1f",
   "metadata": {},
   "source": [
    "## Introduction"
   ]
  },
  {
   "cell_type": "markdown",
   "id": "5f554b1e",
   "metadata": {},
   "source": [
    "## Methodology"
   ]
  },
  {
   "cell_type": "markdown",
   "id": "a38e11d0",
   "metadata": {},
   "source": [
    "## Model Preprocessing\n",
    "\n",
    "### Import Libraries\n",
    "We begin by importing all the libraries required to run this notebook."
   ]
  },
  {
   "cell_type": "code",
   "execution_count": 1,
   "id": "261080e6",
   "metadata": {},
   "outputs": [
    {
     "data": {
      "text/html": [
       "\n",
       "<style>\n",
       ".output_png {\n",
       "    display: table-cell;\n",
       "    text-align: center;\n",
       "    vertical-align: middle;\n",
       "}\n",
       "</style>\n"
      ],
      "text/plain": [
       "<IPython.core.display.HTML object>"
      ]
     },
     "execution_count": 1,
     "metadata": {},
     "output_type": "execute_result"
    }
   ],
   "source": [
    "import numpy as np\n",
    "import pandas as pd\n",
    "import matplotlib.pyplot as plt\n",
    "import seaborn as sns\n",
    "\n",
    "from scipy import stats\n",
    "import statsmodels.api as sm\n",
    "from statsmodels.stats.outliers_influence import variance_inflation_factor\n",
    "\n",
    "from sklearn.utils import resample\n",
    "from sklearn.base import BaseEstimator, TransformerMixin\n",
    "from sklearn.pipeline import Pipeline\n",
    "from sklearn.compose import ColumnTransformer\n",
    "from sklearn.feature_extraction.text import CountVectorizer\n",
    "from sklearn.preprocessing import MinMaxScaler, OneHotEncoder\n",
    "from sklearn.feature_selection import SelectKBest, f_regression\n",
    "from sklearn.model_selection import train_test_split, cross_val_score, cross_validate, GridSearchCV\n",
    "from sklearn.dummy import DummyRegressor\n",
    "from sklearn.linear_model import LinearRegression, Ridge, Lasso\n",
    "from sklearn.tree import DecisionTreeRegressor, plot_tree\n",
    "from sklearn.ensemble import RandomForestRegressor\n",
    "from sklearn.metrics import r2_score, mean_squared_error, mean_absolute_error, make_scorer\n",
    "\n",
    "from scripts import function_bank as fl\n",
    "\n",
    "# the python string package has a helpful punctuation list\n",
    "import string\n",
    "\n",
    "import nltk\n",
    "\n",
    "\n",
    "# Define some default visualizaiton display properties\n",
    "\n",
    "# Ensure plots are always centered\n",
    "from IPython.core.display import HTML\n",
    "HTML(\"\"\"\n",
    "<style>\n",
    ".output_png {\n",
    "    display: table-cell;\n",
    "    text-align: center;\n",
    "    vertical-align: middle;\n",
    "}\n",
    "</style>\n",
    "\"\"\")\n"
   ]
  },
  {
   "cell_type": "markdown",
   "id": "1525da72",
   "metadata": {},
   "source": [
    "### Read in Dataset\n",
    "\n",
    "We now read in the review dataset that was cleaned in Notebook 2."
   ]
  },
  {
   "cell_type": "code",
   "execution_count": 2,
   "id": "fe59a672",
   "metadata": {},
   "outputs": [
    {
     "data": {
      "text/html": [
       "<div>\n",
       "<style scoped>\n",
       "    .dataframe tbody tr th:only-of-type {\n",
       "        vertical-align: middle;\n",
       "    }\n",
       "\n",
       "    .dataframe tbody tr th {\n",
       "        vertical-align: top;\n",
       "    }\n",
       "\n",
       "    .dataframe thead th {\n",
       "        text-align: right;\n",
       "    }\n",
       "</style>\n",
       "<table border=\"1\" class=\"dataframe\">\n",
       "  <thead>\n",
       "    <tr style=\"text-align: right;\">\n",
       "      <th></th>\n",
       "      <th>date</th>\n",
       "      <th>latitude</th>\n",
       "      <th>longitude</th>\n",
       "      <th>review_count</th>\n",
       "      <th>is_open</th>\n",
       "      <th>RestaurantsGoodForGroups</th>\n",
       "      <th>HasTV</th>\n",
       "      <th>GoodForKids</th>\n",
       "      <th>RestaurantsTakeOut</th>\n",
       "      <th>RestaurantsPriceRange2</th>\n",
       "      <th>...</th>\n",
       "      <th>Delis</th>\n",
       "      <th>Specialty Food</th>\n",
       "      <th>stars</th>\n",
       "      <th>useful</th>\n",
       "      <th>funny</th>\n",
       "      <th>cool</th>\n",
       "      <th>text</th>\n",
       "      <th>fans</th>\n",
       "      <th>average_fans_per_user</th>\n",
       "      <th>reviews_per_week</th>\n",
       "    </tr>\n",
       "  </thead>\n",
       "  <tbody>\n",
       "    <tr>\n",
       "      <th>0</th>\n",
       "      <td>2016-03-07 17:58:53</td>\n",
       "      <td>42.541155</td>\n",
       "      <td>-70.973438</td>\n",
       "      <td>39</td>\n",
       "      <td>1</td>\n",
       "      <td>1</td>\n",
       "      <td>1</td>\n",
       "      <td>1</td>\n",
       "      <td>1</td>\n",
       "      <td>2</td>\n",
       "      <td>...</td>\n",
       "      <td>0</td>\n",
       "      <td>0</td>\n",
       "      <td>4</td>\n",
       "      <td>0</td>\n",
       "      <td>0</td>\n",
       "      <td>0</td>\n",
       "      <td>Pizza here is delicious. I tried it once a few...</td>\n",
       "      <td>0</td>\n",
       "      <td>4.717949</td>\n",
       "      <td>0.057097</td>\n",
       "    </tr>\n",
       "    <tr>\n",
       "      <th>1</th>\n",
       "      <td>2014-05-10 11:35:46</td>\n",
       "      <td>42.475805</td>\n",
       "      <td>-70.926544</td>\n",
       "      <td>201</td>\n",
       "      <td>1</td>\n",
       "      <td>1</td>\n",
       "      <td>0</td>\n",
       "      <td>0</td>\n",
       "      <td>1</td>\n",
       "      <td>2</td>\n",
       "      <td>...</td>\n",
       "      <td>0</td>\n",
       "      <td>0</td>\n",
       "      <td>5</td>\n",
       "      <td>0</td>\n",
       "      <td>0</td>\n",
       "      <td>0</td>\n",
       "      <td>Delicious!  My co-workers came back from lunch...</td>\n",
       "      <td>0</td>\n",
       "      <td>2.715596</td>\n",
       "      <td>0.353864</td>\n",
       "    </tr>\n",
       "    <tr>\n",
       "      <th>2</th>\n",
       "      <td>2014-07-18 14:36:15</td>\n",
       "      <td>42.520691</td>\n",
       "      <td>-70.894220</td>\n",
       "      <td>141</td>\n",
       "      <td>1</td>\n",
       "      <td>1</td>\n",
       "      <td>0</td>\n",
       "      <td>1</td>\n",
       "      <td>1</td>\n",
       "      <td>1</td>\n",
       "      <td>...</td>\n",
       "      <td>0</td>\n",
       "      <td>0</td>\n",
       "      <td>5</td>\n",
       "      <td>0</td>\n",
       "      <td>0</td>\n",
       "      <td>1</td>\n",
       "      <td>I really miss this place.  I used to work in S...</td>\n",
       "      <td>0</td>\n",
       "      <td>8.937500</td>\n",
       "      <td>0.190339</td>\n",
       "    </tr>\n",
       "    <tr>\n",
       "      <th>3</th>\n",
       "      <td>2010-01-10 17:33:51</td>\n",
       "      <td>42.541155</td>\n",
       "      <td>-70.973438</td>\n",
       "      <td>39</td>\n",
       "      <td>1</td>\n",
       "      <td>1</td>\n",
       "      <td>1</td>\n",
       "      <td>1</td>\n",
       "      <td>1</td>\n",
       "      <td>2</td>\n",
       "      <td>...</td>\n",
       "      <td>0</td>\n",
       "      <td>0</td>\n",
       "      <td>4</td>\n",
       "      <td>1</td>\n",
       "      <td>0</td>\n",
       "      <td>0</td>\n",
       "      <td>love this place! really good pizza and probabl...</td>\n",
       "      <td>0</td>\n",
       "      <td>4.717949</td>\n",
       "      <td>0.057097</td>\n",
       "    </tr>\n",
       "    <tr>\n",
       "      <th>4</th>\n",
       "      <td>2012-02-13 05:53:37</td>\n",
       "      <td>42.540409</td>\n",
       "      <td>-71.153318</td>\n",
       "      <td>66</td>\n",
       "      <td>1</td>\n",
       "      <td>1</td>\n",
       "      <td>1</td>\n",
       "      <td>1</td>\n",
       "      <td>1</td>\n",
       "      <td>1</td>\n",
       "      <td>...</td>\n",
       "      <td>0</td>\n",
       "      <td>0</td>\n",
       "      <td>2</td>\n",
       "      <td>5</td>\n",
       "      <td>1</td>\n",
       "      <td>0</td>\n",
       "      <td>Saw that they won a \"Sandie\" award from Phanto...</td>\n",
       "      <td>0</td>\n",
       "      <td>3.352941</td>\n",
       "      <td>0.109753</td>\n",
       "    </tr>\n",
       "  </tbody>\n",
       "</table>\n",
       "<p>5 rows × 46 columns</p>\n",
       "</div>"
      ],
      "text/plain": [
       "                  date   latitude  longitude  review_count  is_open  \\\n",
       "0  2016-03-07 17:58:53  42.541155 -70.973438            39        1   \n",
       "1  2014-05-10 11:35:46  42.475805 -70.926544           201        1   \n",
       "2  2014-07-18 14:36:15  42.520691 -70.894220           141        1   \n",
       "3  2010-01-10 17:33:51  42.541155 -70.973438            39        1   \n",
       "4  2012-02-13 05:53:37  42.540409 -71.153318            66        1   \n",
       "\n",
       "   RestaurantsGoodForGroups  HasTV  GoodForKids  RestaurantsTakeOut  \\\n",
       "0                         1      1            1                   1   \n",
       "1                         1      0            0                   1   \n",
       "2                         1      0            1                   1   \n",
       "3                         1      1            1                   1   \n",
       "4                         1      1            1                   1   \n",
       "\n",
       "   RestaurantsPriceRange2  ...  Delis Specialty Food  stars  useful funny  \\\n",
       "0                       2  ...      0              0      4       0     0   \n",
       "1                       2  ...      0              0      5       0     0   \n",
       "2                       1  ...      0              0      5       0     0   \n",
       "3                       2  ...      0              0      4       1     0   \n",
       "4                       1  ...      0              0      2       5     1   \n",
       "\n",
       "  cool                                               text fans  \\\n",
       "0    0  Pizza here is delicious. I tried it once a few...    0   \n",
       "1    0  Delicious!  My co-workers came back from lunch...    0   \n",
       "2    1  I really miss this place.  I used to work in S...    0   \n",
       "3    0  love this place! really good pizza and probabl...    0   \n",
       "4    0  Saw that they won a \"Sandie\" award from Phanto...    0   \n",
       "\n",
       "   average_fans_per_user  reviews_per_week  \n",
       "0               4.717949          0.057097  \n",
       "1               2.715596          0.353864  \n",
       "2               8.937500          0.190339  \n",
       "3               4.717949          0.057097  \n",
       "4               3.352941          0.109753  \n",
       "\n",
       "[5 rows x 46 columns]"
      ]
     },
     "execution_count": 2,
     "metadata": {},
     "output_type": "execute_result"
    }
   ],
   "source": [
    "df = pd.read_csv('../data/review_data_cleaned.csv')\n",
    "df.head()"
   ]
  },
  {
   "cell_type": "code",
   "execution_count": 3,
   "id": "b44cd15c",
   "metadata": {},
   "outputs": [
    {
     "name": "stdout",
     "output_type": "stream",
     "text": [
      "<class 'pandas.core.frame.DataFrame'>\n",
      "RangeIndex: 1364840 entries, 0 to 1364839\n",
      "Data columns (total 46 columns):\n",
      " #   Column                      Non-Null Count    Dtype  \n",
      "---  ------                      --------------    -----  \n",
      " 0   date                        1364840 non-null  object \n",
      " 1   latitude                    1364840 non-null  float64\n",
      " 2   longitude                   1364840 non-null  float64\n",
      " 3   review_count                1364840 non-null  int64  \n",
      " 4   is_open                     1364840 non-null  int64  \n",
      " 5   RestaurantsGoodForGroups    1364840 non-null  int64  \n",
      " 6   HasTV                       1364840 non-null  int64  \n",
      " 7   GoodForKids                 1364840 non-null  int64  \n",
      " 8   RestaurantsTakeOut          1364840 non-null  int64  \n",
      " 9   RestaurantsPriceRange2      1364840 non-null  int64  \n",
      " 10  RestaurantsReservations     1364840 non-null  int64  \n",
      " 11  RestaurantsAttire           1364840 non-null  object \n",
      " 12  RestaurantsDelivery         1364840 non-null  int64  \n",
      " 13  OutdoorSeating              1364840 non-null  int64  \n",
      " 14  NoiseLevel                  1364840 non-null  object \n",
      " 15  Alcohol                     1364840 non-null  object \n",
      " 16  BusinessAcceptsCreditCards  1364840 non-null  int64  \n",
      " 17  WiFi                        1364840 non-null  object \n",
      " 18  Sandwiches                  1364840 non-null  int64  \n",
      " 19  Nightlife                   1364840 non-null  int64  \n",
      " 20  Pizza                       1364840 non-null  int64  \n",
      " 21  Bars                        1364840 non-null  int64  \n",
      " 22  American (Traditional)      1364840 non-null  int64  \n",
      " 23  American (New)              1364840 non-null  int64  \n",
      " 24  Italian                     1364840 non-null  int64  \n",
      " 25  Breakfast & Brunch          1364840 non-null  int64  \n",
      " 26  Coffee & Tea                1364840 non-null  int64  \n",
      " 27  Chinese                     1364840 non-null  int64  \n",
      " 28  Seafood                     1364840 non-null  int64  \n",
      " 29  Burgers                     1364840 non-null  int64  \n",
      " 30  Fast Food                   1364840 non-null  int64  \n",
      " 31  Salad                       1364840 non-null  int64  \n",
      " 32  Cafes                       1364840 non-null  int64  \n",
      " 33  Mexican                     1364840 non-null  int64  \n",
      " 34  Bakeries                    1364840 non-null  int64  \n",
      " 35  Japanese                    1364840 non-null  int64  \n",
      " 36  Delis                       1364840 non-null  int64  \n",
      " 37  Specialty Food              1364840 non-null  int64  \n",
      " 38  stars                       1364840 non-null  int64  \n",
      " 39  useful                      1364840 non-null  int64  \n",
      " 40  funny                       1364840 non-null  int64  \n",
      " 41  cool                        1364840 non-null  int64  \n",
      " 42  text                        1364840 non-null  object \n",
      " 43  fans                        1364840 non-null  int64  \n",
      " 44  average_fans_per_user       1364840 non-null  float64\n",
      " 45  reviews_per_week            1364840 non-null  float64\n",
      "dtypes: float64(4), int64(36), object(6)\n",
      "memory usage: 479.0+ MB\n"
     ]
    }
   ],
   "source": [
    "df.info()"
   ]
  },
  {
   "cell_type": "markdown",
   "id": "5e428331",
   "metadata": {},
   "source": [
    "### Converting Date Column"
   ]
  },
  {
   "cell_type": "markdown",
   "id": "86080de3",
   "metadata": {},
   "source": [
    "We can see that the `date` column is of an object data type. It would be more convenient, if we could extract the individual components of the date as separate numeric columns (e.g. year, month, etc., of the review). To do this, we first convert the `date` column to a `datetime` format and then extract the components of interest. "
   ]
  },
  {
   "cell_type": "code",
   "execution_count": 4,
   "id": "14aeaad7",
   "metadata": {},
   "outputs": [
    {
     "name": "stdout",
     "output_type": "stream",
     "text": [
      "<class 'pandas.core.frame.DataFrame'>\n",
      "RangeIndex: 1364840 entries, 0 to 1364839\n",
      "Data columns (total 51 columns):\n",
      " #   Column                      Non-Null Count    Dtype  \n",
      "---  ------                      --------------    -----  \n",
      " 0   Year                        1364840 non-null  int64  \n",
      " 1   Month                       1364840 non-null  int64  \n",
      " 2   Day                         1364840 non-null  int64  \n",
      " 3   Day of Week                 1364840 non-null  int64  \n",
      " 4   Hour                        1364840 non-null  int64  \n",
      " 5   Minute                      1364840 non-null  int64  \n",
      " 6   latitude                    1364840 non-null  float64\n",
      " 7   longitude                   1364840 non-null  float64\n",
      " 8   review_count                1364840 non-null  int64  \n",
      " 9   is_open                     1364840 non-null  int64  \n",
      " 10  RestaurantsGoodForGroups    1364840 non-null  int64  \n",
      " 11  HasTV                       1364840 non-null  int64  \n",
      " 12  GoodForKids                 1364840 non-null  int64  \n",
      " 13  RestaurantsTakeOut          1364840 non-null  int64  \n",
      " 14  RestaurantsPriceRange2      1364840 non-null  int64  \n",
      " 15  RestaurantsReservations     1364840 non-null  int64  \n",
      " 16  RestaurantsAttire           1364840 non-null  object \n",
      " 17  RestaurantsDelivery         1364840 non-null  int64  \n",
      " 18  OutdoorSeating              1364840 non-null  int64  \n",
      " 19  NoiseLevel                  1364840 non-null  object \n",
      " 20  Alcohol                     1364840 non-null  object \n",
      " 21  BusinessAcceptsCreditCards  1364840 non-null  int64  \n",
      " 22  WiFi                        1364840 non-null  object \n",
      " 23  Sandwiches                  1364840 non-null  int64  \n",
      " 24  Nightlife                   1364840 non-null  int64  \n",
      " 25  Pizza                       1364840 non-null  int64  \n",
      " 26  Bars                        1364840 non-null  int64  \n",
      " 27  American (Traditional)      1364840 non-null  int64  \n",
      " 28  American (New)              1364840 non-null  int64  \n",
      " 29  Italian                     1364840 non-null  int64  \n",
      " 30  Breakfast & Brunch          1364840 non-null  int64  \n",
      " 31  Coffee & Tea                1364840 non-null  int64  \n",
      " 32  Chinese                     1364840 non-null  int64  \n",
      " 33  Seafood                     1364840 non-null  int64  \n",
      " 34  Burgers                     1364840 non-null  int64  \n",
      " 35  Fast Food                   1364840 non-null  int64  \n",
      " 36  Salad                       1364840 non-null  int64  \n",
      " 37  Cafes                       1364840 non-null  int64  \n",
      " 38  Mexican                     1364840 non-null  int64  \n",
      " 39  Bakeries                    1364840 non-null  int64  \n",
      " 40  Japanese                    1364840 non-null  int64  \n",
      " 41  Delis                       1364840 non-null  int64  \n",
      " 42  Specialty Food              1364840 non-null  int64  \n",
      " 43  stars                       1364840 non-null  int64  \n",
      " 44  useful                      1364840 non-null  int64  \n",
      " 45  funny                       1364840 non-null  int64  \n",
      " 46  cool                        1364840 non-null  int64  \n",
      " 47  text                        1364840 non-null  object \n",
      " 48  fans                        1364840 non-null  int64  \n",
      " 49  average_fans_per_user       1364840 non-null  float64\n",
      " 50  reviews_per_week            1364840 non-null  float64\n",
      "dtypes: float64(4), int64(42), object(5)\n",
      "memory usage: 531.1+ MB\n"
     ]
    }
   ],
   "source": [
    "df['date'] = pd.to_datetime(df['date'])\n",
    "df.insert(loc=0, column='Year', value=df['date'].dt.year)\n",
    "df.insert(loc=1, column='Month', value=df['date'].dt.month)\n",
    "df.insert(loc=2, column='Day', value=df['date'].dt.day)\n",
    "df.insert(loc=3, column='Day of Week', value=df['date'].dt.weekday)\n",
    "df.insert(loc=4, column='Hour', value=df['date'].dt.hour)\n",
    "df.insert(loc=5, column='Minute', value=df['date'].dt.minute)\n",
    "df.drop('date', axis=1, inplace=True)\n",
    "df.info()"
   ]
  },
  {
   "cell_type": "markdown",
   "id": "e6ce2122",
   "metadata": {},
   "source": [
    "We have successfully converted the date components to separate integer columns."
   ]
  },
  {
   "cell_type": "markdown",
   "id": "908ba300",
   "metadata": {},
   "source": [
    "### Ordering the columns\n",
    "\n",
    "We will be using a column transformer later in this notebook to apply specific transformations to certain columns based on their data type and the information that each contains. Hence, it will be convenient to reorder the columns in a convenient order, based on the order the column transformations will be applied. For now, we will move all columns of the `object` data type to the end of the data frame. "
   ]
  },
  {
   "cell_type": "code",
   "execution_count": 5,
   "id": "9df95f61",
   "metadata": {},
   "outputs": [
    {
     "data": {
      "text/plain": [
       "['RestaurantsAttire', 'NoiseLevel', 'Alcohol', 'WiFi', 'text']"
      ]
     },
     "execution_count": 5,
     "metadata": {},
     "output_type": "execute_result"
    }
   ],
   "source": [
    "# Get  columns whose data type is object\n",
    "object_columns = df.dtypes[df.dtypes == 'object']\n",
    "\n",
    "# Put the object column names into a list\n",
    "object_columns = object_columns.index.tolist()\n",
    "object_columns"
   ]
  },
  {
   "cell_type": "code",
   "execution_count": 6,
   "id": "806d6a04",
   "metadata": {},
   "outputs": [
    {
     "data": {
      "text/html": [
       "<div>\n",
       "<style scoped>\n",
       "    .dataframe tbody tr th:only-of-type {\n",
       "        vertical-align: middle;\n",
       "    }\n",
       "\n",
       "    .dataframe tbody tr th {\n",
       "        vertical-align: top;\n",
       "    }\n",
       "\n",
       "    .dataframe thead th {\n",
       "        text-align: right;\n",
       "    }\n",
       "</style>\n",
       "<table border=\"1\" class=\"dataframe\">\n",
       "  <thead>\n",
       "    <tr style=\"text-align: right;\">\n",
       "      <th></th>\n",
       "      <th>RestaurantsAttire</th>\n",
       "      <th>NoiseLevel</th>\n",
       "      <th>Alcohol</th>\n",
       "      <th>WiFi</th>\n",
       "      <th>text</th>\n",
       "    </tr>\n",
       "  </thead>\n",
       "  <tbody>\n",
       "    <tr>\n",
       "      <th>0</th>\n",
       "      <td>casual</td>\n",
       "      <td>average</td>\n",
       "      <td>none</td>\n",
       "      <td>free</td>\n",
       "      <td>Pizza here is delicious. I tried it once a few...</td>\n",
       "    </tr>\n",
       "    <tr>\n",
       "      <th>1</th>\n",
       "      <td>casual</td>\n",
       "      <td>average</td>\n",
       "      <td>full_bar</td>\n",
       "      <td>free</td>\n",
       "      <td>Delicious!  My co-workers came back from lunch...</td>\n",
       "    </tr>\n",
       "    <tr>\n",
       "      <th>2</th>\n",
       "      <td>casual</td>\n",
       "      <td>average</td>\n",
       "      <td>none</td>\n",
       "      <td>no</td>\n",
       "      <td>I really miss this place.  I used to work in S...</td>\n",
       "    </tr>\n",
       "    <tr>\n",
       "      <th>3</th>\n",
       "      <td>casual</td>\n",
       "      <td>average</td>\n",
       "      <td>none</td>\n",
       "      <td>free</td>\n",
       "      <td>love this place! really good pizza and probabl...</td>\n",
       "    </tr>\n",
       "    <tr>\n",
       "      <th>4</th>\n",
       "      <td>casual</td>\n",
       "      <td>average</td>\n",
       "      <td>none</td>\n",
       "      <td>no</td>\n",
       "      <td>Saw that they won a \"Sandie\" award from Phanto...</td>\n",
       "    </tr>\n",
       "    <tr>\n",
       "      <th>...</th>\n",
       "      <td>...</td>\n",
       "      <td>...</td>\n",
       "      <td>...</td>\n",
       "      <td>...</td>\n",
       "      <td>...</td>\n",
       "    </tr>\n",
       "    <tr>\n",
       "      <th>1364835</th>\n",
       "      <td>casual</td>\n",
       "      <td>average</td>\n",
       "      <td>beer_and_wine</td>\n",
       "      <td>no</td>\n",
       "      <td>We need restaurants like this to remind us whe...</td>\n",
       "    </tr>\n",
       "    <tr>\n",
       "      <th>1364836</th>\n",
       "      <td>casual</td>\n",
       "      <td>average</td>\n",
       "      <td>beer_and_wine</td>\n",
       "      <td>no</td>\n",
       "      <td>Food is good but small portions ! A bit overly...</td>\n",
       "    </tr>\n",
       "    <tr>\n",
       "      <th>1364837</th>\n",
       "      <td>casual</td>\n",
       "      <td>average</td>\n",
       "      <td>beer_and_wine</td>\n",
       "      <td>no</td>\n",
       "      <td>I had orders the pasta carbonara for a pick up...</td>\n",
       "    </tr>\n",
       "    <tr>\n",
       "      <th>1364838</th>\n",
       "      <td>casual</td>\n",
       "      <td>average</td>\n",
       "      <td>full_bar</td>\n",
       "      <td>no</td>\n",
       "      <td>As I said, my family and I gave the Jury Room ...</td>\n",
       "    </tr>\n",
       "    <tr>\n",
       "      <th>1364839</th>\n",
       "      <td>casual</td>\n",
       "      <td>average</td>\n",
       "      <td>full_bar</td>\n",
       "      <td>no</td>\n",
       "      <td>Been there twice for dinner, the first time th...</td>\n",
       "    </tr>\n",
       "  </tbody>\n",
       "</table>\n",
       "<p>1364840 rows × 5 columns</p>\n",
       "</div>"
      ],
      "text/plain": [
       "        RestaurantsAttire NoiseLevel        Alcohol  WiFi  \\\n",
       "0                  casual    average           none  free   \n",
       "1                  casual    average       full_bar  free   \n",
       "2                  casual    average           none    no   \n",
       "3                  casual    average           none  free   \n",
       "4                  casual    average           none    no   \n",
       "...                   ...        ...            ...   ...   \n",
       "1364835            casual    average  beer_and_wine    no   \n",
       "1364836            casual    average  beer_and_wine    no   \n",
       "1364837            casual    average  beer_and_wine    no   \n",
       "1364838            casual    average       full_bar    no   \n",
       "1364839            casual    average       full_bar    no   \n",
       "\n",
       "                                                      text  \n",
       "0        Pizza here is delicious. I tried it once a few...  \n",
       "1        Delicious!  My co-workers came back from lunch...  \n",
       "2        I really miss this place.  I used to work in S...  \n",
       "3        love this place! really good pizza and probabl...  \n",
       "4        Saw that they won a \"Sandie\" award from Phanto...  \n",
       "...                                                    ...  \n",
       "1364835  We need restaurants like this to remind us whe...  \n",
       "1364836  Food is good but small portions ! A bit overly...  \n",
       "1364837  I had orders the pasta carbonara for a pick up...  \n",
       "1364838  As I said, my family and I gave the Jury Room ...  \n",
       "1364839  Been there twice for dinner, the first time th...  \n",
       "\n",
       "[1364840 rows x 5 columns]"
      ]
     },
     "execution_count": 6,
     "metadata": {},
     "output_type": "execute_result"
    }
   ],
   "source": [
    "# Keep the object type columns in a temporary data frame\n",
    "temp_df = df[object_columns]\n",
    "temp_df"
   ]
  },
  {
   "cell_type": "code",
   "execution_count": 7,
   "id": "9d826b37",
   "metadata": {},
   "outputs": [
    {
     "data": {
      "text/html": [
       "<div>\n",
       "<style scoped>\n",
       "    .dataframe tbody tr th:only-of-type {\n",
       "        vertical-align: middle;\n",
       "    }\n",
       "\n",
       "    .dataframe tbody tr th {\n",
       "        vertical-align: top;\n",
       "    }\n",
       "\n",
       "    .dataframe thead th {\n",
       "        text-align: right;\n",
       "    }\n",
       "</style>\n",
       "<table border=\"1\" class=\"dataframe\">\n",
       "  <thead>\n",
       "    <tr style=\"text-align: right;\">\n",
       "      <th></th>\n",
       "      <th>Year</th>\n",
       "      <th>Month</th>\n",
       "      <th>Day</th>\n",
       "      <th>Day of Week</th>\n",
       "      <th>Hour</th>\n",
       "      <th>Minute</th>\n",
       "      <th>latitude</th>\n",
       "      <th>longitude</th>\n",
       "      <th>review_count</th>\n",
       "      <th>is_open</th>\n",
       "      <th>...</th>\n",
       "      <th>funny</th>\n",
       "      <th>cool</th>\n",
       "      <th>fans</th>\n",
       "      <th>average_fans_per_user</th>\n",
       "      <th>reviews_per_week</th>\n",
       "      <th>RestaurantsAttire</th>\n",
       "      <th>NoiseLevel</th>\n",
       "      <th>Alcohol</th>\n",
       "      <th>WiFi</th>\n",
       "      <th>text</th>\n",
       "    </tr>\n",
       "  </thead>\n",
       "  <tbody>\n",
       "    <tr>\n",
       "      <th>0</th>\n",
       "      <td>2016</td>\n",
       "      <td>3</td>\n",
       "      <td>7</td>\n",
       "      <td>0</td>\n",
       "      <td>17</td>\n",
       "      <td>58</td>\n",
       "      <td>42.541155</td>\n",
       "      <td>-70.973438</td>\n",
       "      <td>39</td>\n",
       "      <td>1</td>\n",
       "      <td>...</td>\n",
       "      <td>0</td>\n",
       "      <td>0</td>\n",
       "      <td>0</td>\n",
       "      <td>4.717949</td>\n",
       "      <td>0.057097</td>\n",
       "      <td>casual</td>\n",
       "      <td>average</td>\n",
       "      <td>none</td>\n",
       "      <td>free</td>\n",
       "      <td>Pizza here is delicious. I tried it once a few...</td>\n",
       "    </tr>\n",
       "    <tr>\n",
       "      <th>1</th>\n",
       "      <td>2014</td>\n",
       "      <td>5</td>\n",
       "      <td>10</td>\n",
       "      <td>5</td>\n",
       "      <td>11</td>\n",
       "      <td>35</td>\n",
       "      <td>42.475805</td>\n",
       "      <td>-70.926544</td>\n",
       "      <td>201</td>\n",
       "      <td>1</td>\n",
       "      <td>...</td>\n",
       "      <td>0</td>\n",
       "      <td>0</td>\n",
       "      <td>0</td>\n",
       "      <td>2.715596</td>\n",
       "      <td>0.353864</td>\n",
       "      <td>casual</td>\n",
       "      <td>average</td>\n",
       "      <td>full_bar</td>\n",
       "      <td>free</td>\n",
       "      <td>Delicious!  My co-workers came back from lunch...</td>\n",
       "    </tr>\n",
       "    <tr>\n",
       "      <th>2</th>\n",
       "      <td>2014</td>\n",
       "      <td>7</td>\n",
       "      <td>18</td>\n",
       "      <td>4</td>\n",
       "      <td>14</td>\n",
       "      <td>36</td>\n",
       "      <td>42.520691</td>\n",
       "      <td>-70.894220</td>\n",
       "      <td>141</td>\n",
       "      <td>1</td>\n",
       "      <td>...</td>\n",
       "      <td>0</td>\n",
       "      <td>1</td>\n",
       "      <td>0</td>\n",
       "      <td>8.937500</td>\n",
       "      <td>0.190339</td>\n",
       "      <td>casual</td>\n",
       "      <td>average</td>\n",
       "      <td>none</td>\n",
       "      <td>no</td>\n",
       "      <td>I really miss this place.  I used to work in S...</td>\n",
       "    </tr>\n",
       "    <tr>\n",
       "      <th>3</th>\n",
       "      <td>2010</td>\n",
       "      <td>1</td>\n",
       "      <td>10</td>\n",
       "      <td>6</td>\n",
       "      <td>17</td>\n",
       "      <td>33</td>\n",
       "      <td>42.541155</td>\n",
       "      <td>-70.973438</td>\n",
       "      <td>39</td>\n",
       "      <td>1</td>\n",
       "      <td>...</td>\n",
       "      <td>0</td>\n",
       "      <td>0</td>\n",
       "      <td>0</td>\n",
       "      <td>4.717949</td>\n",
       "      <td>0.057097</td>\n",
       "      <td>casual</td>\n",
       "      <td>average</td>\n",
       "      <td>none</td>\n",
       "      <td>free</td>\n",
       "      <td>love this place! really good pizza and probabl...</td>\n",
       "    </tr>\n",
       "    <tr>\n",
       "      <th>4</th>\n",
       "      <td>2012</td>\n",
       "      <td>2</td>\n",
       "      <td>13</td>\n",
       "      <td>0</td>\n",
       "      <td>5</td>\n",
       "      <td>53</td>\n",
       "      <td>42.540409</td>\n",
       "      <td>-71.153318</td>\n",
       "      <td>66</td>\n",
       "      <td>1</td>\n",
       "      <td>...</td>\n",
       "      <td>1</td>\n",
       "      <td>0</td>\n",
       "      <td>0</td>\n",
       "      <td>3.352941</td>\n",
       "      <td>0.109753</td>\n",
       "      <td>casual</td>\n",
       "      <td>average</td>\n",
       "      <td>none</td>\n",
       "      <td>no</td>\n",
       "      <td>Saw that they won a \"Sandie\" award from Phanto...</td>\n",
       "    </tr>\n",
       "  </tbody>\n",
       "</table>\n",
       "<p>5 rows × 51 columns</p>\n",
       "</div>"
      ],
      "text/plain": [
       "   Year  Month  Day  Day of Week  Hour  Minute   latitude  longitude  \\\n",
       "0  2016      3    7            0    17      58  42.541155 -70.973438   \n",
       "1  2014      5   10            5    11      35  42.475805 -70.926544   \n",
       "2  2014      7   18            4    14      36  42.520691 -70.894220   \n",
       "3  2010      1   10            6    17      33  42.541155 -70.973438   \n",
       "4  2012      2   13            0     5      53  42.540409 -71.153318   \n",
       "\n",
       "   review_count  is_open  ...  funny  cool  fans  average_fans_per_user  \\\n",
       "0            39        1  ...      0     0     0               4.717949   \n",
       "1           201        1  ...      0     0     0               2.715596   \n",
       "2           141        1  ...      0     1     0               8.937500   \n",
       "3            39        1  ...      0     0     0               4.717949   \n",
       "4            66        1  ...      1     0     0               3.352941   \n",
       "\n",
       "   reviews_per_week  RestaurantsAttire  NoiseLevel   Alcohol  WiFi  \\\n",
       "0          0.057097             casual     average      none  free   \n",
       "1          0.353864             casual     average  full_bar  free   \n",
       "2          0.190339             casual     average      none    no   \n",
       "3          0.057097             casual     average      none  free   \n",
       "4          0.109753             casual     average      none    no   \n",
       "\n",
       "                                                text  \n",
       "0  Pizza here is delicious. I tried it once a few...  \n",
       "1  Delicious!  My co-workers came back from lunch...  \n",
       "2  I really miss this place.  I used to work in S...  \n",
       "3  love this place! really good pizza and probabl...  \n",
       "4  Saw that they won a \"Sandie\" award from Phanto...  \n",
       "\n",
       "[5 rows x 51 columns]"
      ]
     },
     "execution_count": 7,
     "metadata": {},
     "output_type": "execute_result"
    }
   ],
   "source": [
    "# Merge the data frame without object columns with the temporary data frame\n",
    "\n",
    "df = pd.concat([df.drop(columns = object_columns), temp_df], axis=1)\n",
    "df.head()\n"
   ]
  },
  {
   "cell_type": "markdown",
   "id": "2478de63",
   "metadata": {},
   "source": [
    "### Define X and y"
   ]
  },
  {
   "cell_type": "markdown",
   "id": "1fdd5177",
   "metadata": {},
   "source": [
    "We are now ready to define our independent variable array `X` and our dependent variable `y`. Our dependent variable is the number of stars (i.e. the `stars` column)."
   ]
  },
  {
   "cell_type": "code",
   "execution_count": 8,
   "id": "f0de9ba9",
   "metadata": {},
   "outputs": [
    {
     "data": {
      "text/html": [
       "<div>\n",
       "<style scoped>\n",
       "    .dataframe tbody tr th:only-of-type {\n",
       "        vertical-align: middle;\n",
       "    }\n",
       "\n",
       "    .dataframe tbody tr th {\n",
       "        vertical-align: top;\n",
       "    }\n",
       "\n",
       "    .dataframe thead th {\n",
       "        text-align: right;\n",
       "    }\n",
       "</style>\n",
       "<table border=\"1\" class=\"dataframe\">\n",
       "  <thead>\n",
       "    <tr style=\"text-align: right;\">\n",
       "      <th></th>\n",
       "      <th>Year</th>\n",
       "      <th>Month</th>\n",
       "      <th>Day</th>\n",
       "      <th>Day of Week</th>\n",
       "      <th>Hour</th>\n",
       "      <th>Minute</th>\n",
       "      <th>latitude</th>\n",
       "      <th>longitude</th>\n",
       "      <th>review_count</th>\n",
       "      <th>is_open</th>\n",
       "      <th>...</th>\n",
       "      <th>funny</th>\n",
       "      <th>cool</th>\n",
       "      <th>fans</th>\n",
       "      <th>average_fans_per_user</th>\n",
       "      <th>reviews_per_week</th>\n",
       "      <th>RestaurantsAttire</th>\n",
       "      <th>NoiseLevel</th>\n",
       "      <th>Alcohol</th>\n",
       "      <th>WiFi</th>\n",
       "      <th>text</th>\n",
       "    </tr>\n",
       "  </thead>\n",
       "  <tbody>\n",
       "    <tr>\n",
       "      <th>0</th>\n",
       "      <td>2016</td>\n",
       "      <td>3</td>\n",
       "      <td>7</td>\n",
       "      <td>0</td>\n",
       "      <td>17</td>\n",
       "      <td>58</td>\n",
       "      <td>42.541155</td>\n",
       "      <td>-70.973438</td>\n",
       "      <td>39</td>\n",
       "      <td>1</td>\n",
       "      <td>...</td>\n",
       "      <td>0</td>\n",
       "      <td>0</td>\n",
       "      <td>0</td>\n",
       "      <td>4.717949</td>\n",
       "      <td>0.057097</td>\n",
       "      <td>casual</td>\n",
       "      <td>average</td>\n",
       "      <td>none</td>\n",
       "      <td>free</td>\n",
       "      <td>Pizza here is delicious. I tried it once a few...</td>\n",
       "    </tr>\n",
       "    <tr>\n",
       "      <th>1</th>\n",
       "      <td>2014</td>\n",
       "      <td>5</td>\n",
       "      <td>10</td>\n",
       "      <td>5</td>\n",
       "      <td>11</td>\n",
       "      <td>35</td>\n",
       "      <td>42.475805</td>\n",
       "      <td>-70.926544</td>\n",
       "      <td>201</td>\n",
       "      <td>1</td>\n",
       "      <td>...</td>\n",
       "      <td>0</td>\n",
       "      <td>0</td>\n",
       "      <td>0</td>\n",
       "      <td>2.715596</td>\n",
       "      <td>0.353864</td>\n",
       "      <td>casual</td>\n",
       "      <td>average</td>\n",
       "      <td>full_bar</td>\n",
       "      <td>free</td>\n",
       "      <td>Delicious!  My co-workers came back from lunch...</td>\n",
       "    </tr>\n",
       "    <tr>\n",
       "      <th>2</th>\n",
       "      <td>2014</td>\n",
       "      <td>7</td>\n",
       "      <td>18</td>\n",
       "      <td>4</td>\n",
       "      <td>14</td>\n",
       "      <td>36</td>\n",
       "      <td>42.520691</td>\n",
       "      <td>-70.894220</td>\n",
       "      <td>141</td>\n",
       "      <td>1</td>\n",
       "      <td>...</td>\n",
       "      <td>0</td>\n",
       "      <td>1</td>\n",
       "      <td>0</td>\n",
       "      <td>8.937500</td>\n",
       "      <td>0.190339</td>\n",
       "      <td>casual</td>\n",
       "      <td>average</td>\n",
       "      <td>none</td>\n",
       "      <td>no</td>\n",
       "      <td>I really miss this place.  I used to work in S...</td>\n",
       "    </tr>\n",
       "    <tr>\n",
       "      <th>3</th>\n",
       "      <td>2010</td>\n",
       "      <td>1</td>\n",
       "      <td>10</td>\n",
       "      <td>6</td>\n",
       "      <td>17</td>\n",
       "      <td>33</td>\n",
       "      <td>42.541155</td>\n",
       "      <td>-70.973438</td>\n",
       "      <td>39</td>\n",
       "      <td>1</td>\n",
       "      <td>...</td>\n",
       "      <td>0</td>\n",
       "      <td>0</td>\n",
       "      <td>0</td>\n",
       "      <td>4.717949</td>\n",
       "      <td>0.057097</td>\n",
       "      <td>casual</td>\n",
       "      <td>average</td>\n",
       "      <td>none</td>\n",
       "      <td>free</td>\n",
       "      <td>love this place! really good pizza and probabl...</td>\n",
       "    </tr>\n",
       "    <tr>\n",
       "      <th>4</th>\n",
       "      <td>2012</td>\n",
       "      <td>2</td>\n",
       "      <td>13</td>\n",
       "      <td>0</td>\n",
       "      <td>5</td>\n",
       "      <td>53</td>\n",
       "      <td>42.540409</td>\n",
       "      <td>-71.153318</td>\n",
       "      <td>66</td>\n",
       "      <td>1</td>\n",
       "      <td>...</td>\n",
       "      <td>1</td>\n",
       "      <td>0</td>\n",
       "      <td>0</td>\n",
       "      <td>3.352941</td>\n",
       "      <td>0.109753</td>\n",
       "      <td>casual</td>\n",
       "      <td>average</td>\n",
       "      <td>none</td>\n",
       "      <td>no</td>\n",
       "      <td>Saw that they won a \"Sandie\" award from Phanto...</td>\n",
       "    </tr>\n",
       "  </tbody>\n",
       "</table>\n",
       "<p>5 rows × 50 columns</p>\n",
       "</div>"
      ],
      "text/plain": [
       "   Year  Month  Day  Day of Week  Hour  Minute   latitude  longitude  \\\n",
       "0  2016      3    7            0    17      58  42.541155 -70.973438   \n",
       "1  2014      5   10            5    11      35  42.475805 -70.926544   \n",
       "2  2014      7   18            4    14      36  42.520691 -70.894220   \n",
       "3  2010      1   10            6    17      33  42.541155 -70.973438   \n",
       "4  2012      2   13            0     5      53  42.540409 -71.153318   \n",
       "\n",
       "   review_count  is_open  ...  funny  cool  fans  average_fans_per_user  \\\n",
       "0            39        1  ...      0     0     0               4.717949   \n",
       "1           201        1  ...      0     0     0               2.715596   \n",
       "2           141        1  ...      0     1     0               8.937500   \n",
       "3            39        1  ...      0     0     0               4.717949   \n",
       "4            66        1  ...      1     0     0               3.352941   \n",
       "\n",
       "   reviews_per_week  RestaurantsAttire  NoiseLevel   Alcohol  WiFi  \\\n",
       "0          0.057097             casual     average      none  free   \n",
       "1          0.353864             casual     average  full_bar  free   \n",
       "2          0.190339             casual     average      none    no   \n",
       "3          0.057097             casual     average      none  free   \n",
       "4          0.109753             casual     average      none    no   \n",
       "\n",
       "                                                text  \n",
       "0  Pizza here is delicious. I tried it once a few...  \n",
       "1  Delicious!  My co-workers came back from lunch...  \n",
       "2  I really miss this place.  I used to work in S...  \n",
       "3  love this place! really good pizza and probabl...  \n",
       "4  Saw that they won a \"Sandie\" award from Phanto...  \n",
       "\n",
       "[5 rows x 50 columns]"
      ]
     },
     "execution_count": 8,
     "metadata": {},
     "output_type": "execute_result"
    }
   ],
   "source": [
    "X = df.drop(['stars'], axis=1)\n",
    "X.head()"
   ]
  },
  {
   "cell_type": "code",
   "execution_count": 9,
   "id": "dd0a5cc0",
   "metadata": {},
   "outputs": [
    {
     "data": {
      "text/plain": [
       "0    4\n",
       "1    5\n",
       "2    5\n",
       "3    4\n",
       "4    2\n",
       "Name: stars, dtype: int64"
      ]
     },
     "execution_count": 9,
     "metadata": {},
     "output_type": "execute_result"
    }
   ],
   "source": [
    "y = df['stars']\n",
    "y.head()"
   ]
  },
  {
   "cell_type": "markdown",
   "id": "ec8e47f1",
   "metadata": {},
   "source": [
    "It would be good to view the distribution of our dependent variable."
   ]
  },
  {
   "cell_type": "code",
   "execution_count": 10,
   "id": "4fe442e8",
   "metadata": {},
   "outputs": [
    {
     "data": {
      "text/plain": [
       "[(0, 161360), (1, 139469), (2, 192475), (3, 378060), (4, 493476)]"
      ]
     },
     "execution_count": 10,
     "metadata": {},
     "output_type": "execute_result"
    }
   ],
   "source": [
    "list(enumerate(y.value_counts().sort_index()))"
   ]
  },
  {
   "cell_type": "code",
   "execution_count": 11,
   "id": "78256272",
   "metadata": {},
   "outputs": [
    {
     "name": "stderr",
     "output_type": "stream",
     "text": [
      "/var/folders/mj/wygw49hn45s4xjsgwgykrkc40000gn/T/ipykernel_27866/65967193.py:15: UserWarning: FixedFormatter should only be used together with FixedLocator\n",
      "  axes.set_yticklabels(['{:,.0f}'.format(x) for x in current_values])\n"
     ]
    },
    {
     "data": {
      "image/png": "[encoded data removed]",
      "text/plain": [
       "<Figure size 1080x360 with 1 Axes>"
      ]
     },
     "metadata": {
      "needs_background": "light"
     },
     "output_type": "display_data"
    }
   ],
   "source": [
    "plt.figure(figsize=(15,5))\n",
    "plt.bar(y.value_counts().sort_index().index.astype('str'),\n",
    "        y.value_counts().sort_index())\n",
    "plt.title('Distribution of Stars')\n",
    "plt.xlabel('stars')\n",
    "plt.ylabel('Counts')\n",
    "\n",
    "axes = plt.gca()\n",
    "axes.set_axisbelow(True)\n",
    "\n",
    "for i, j in enumerate(y.value_counts().sort_index()):\n",
    "    axes.text(i-0.15, j + 5000, str(round(j/X.shape[0]*100,2))+'%', color='royalblue', fontweight='bold')\n",
    "\n",
    "current_values = axes.get_yticks()\n",
    "axes.set_yticklabels(['{:,.0f}'.format(x) for x in current_values])\n",
    "plt.show()"
   ]
  },
  {
   "cell_type": "markdown",
   "id": "335c14ab",
   "metadata": {},
   "source": [
    "Our distribution is left skewed. However, we do have a reasonable distribution across all the possible number of ratings.\n",
    "\n",
    "Due to the large dataset (1.3 million reviews) which includes text data, and computing hardware limitations, we will subsample our dataset so that the dataset is more manageable more model training and evaluation. We will use the `resample` method from Scikit-Learn, sampling without replacement, and stratifying based on y. For this project, we will utilize around 13,000 reviews (~1% of the original dataset)."
   ]
  },
  {
   "cell_type": "code",
   "execution_count": 12,
   "id": "074037c9",
   "metadata": {},
   "outputs": [],
   "source": [
    "X_sampled, y_sampled = resample(X, y, random_state=0, \n",
    "                                    n_samples = 0.01*X.shape[0],\n",
    "                                    replace=False, stratify=y)"
   ]
  },
  {
   "cell_type": "code",
   "execution_count": 13,
   "id": "91f5a032",
   "metadata": {},
   "outputs": [
    {
     "name": "stdout",
     "output_type": "stream",
     "text": [
      "X_sampled shape: (13648, 50)\n",
      "y_sampled shape: (13648,)\n"
     ]
    }
   ],
   "source": [
    "print(f'X_sampled shape: {X_sampled.shape}')\n",
    "print(f'y_sampled shape: {y_sampled.shape}')"
   ]
  },
  {
   "cell_type": "markdown",
   "id": "3a6a1e34",
   "metadata": {},
   "source": [
    "Our sampled dataset has 13,648 rows and 50 columns. Let's take a look at the distribution of our dependent variable in this sample."
   ]
  },
  {
   "cell_type": "code",
   "execution_count": 14,
   "id": "a736730f",
   "metadata": {},
   "outputs": [
    {
     "name": "stderr",
     "output_type": "stream",
     "text": [
      "/var/folders/mj/wygw49hn45s4xjsgwgykrkc40000gn/T/ipykernel_27866/1967618503.py:15: UserWarning: FixedFormatter should only be used together with FixedLocator\n",
      "  axes.set_yticklabels(['{:,.0f}'.format(x) for x in current_values])\n"
     ]
    },
    {
     "data": {
      "image/png": "[encoded data removed]",
      "text/plain": [
       "<Figure size 1080x360 with 1 Axes>"
      ]
     },
     "metadata": {
      "needs_background": "light"
     },
     "output_type": "display_data"
    }
   ],
   "source": [
    "plt.figure(figsize=(15,5))\n",
    "plt.bar(y_sampled.value_counts().sort_index().index.astype('str'),\n",
    "        y_sampled.value_counts().sort_index())\n",
    "plt.title('Distribution of Stars in the Test Set')\n",
    "plt.xlabel('stars')\n",
    "plt.ylabel('Counts')\n",
    "\n",
    "axes = plt.gca()\n",
    "axes.set_axisbelow(True)\n",
    "\n",
    "for i, j in enumerate(y_sampled.value_counts().sort_index()):\n",
    "    axes.text(i-0.15, j + 50, str(round(j/X_sampled.shape[0]*100,2))+'%', color='royalblue', fontweight='bold')\n",
    "\n",
    "current_values = axes.get_yticks()\n",
    "axes.set_yticklabels(['{:,.0f}'.format(x) for x in current_values])\n",
    "plt.show()"
   ]
  },
  {
   "cell_type": "markdown",
   "id": "3ae82b1e",
   "metadata": {},
   "source": [
    "The stratification worked as intended, since our dependent variable distribution in this sample is very similar to its distribution in the overall dataset."
   ]
  },
  {
   "cell_type": "code",
   "execution_count": 15,
   "id": "835533bd",
   "metadata": {},
   "outputs": [
    {
     "data": {
      "text/plain": [
       "Index(['Year', 'Month', 'Day', 'Day of Week', 'Hour', 'Minute', 'latitude',\n",
       "       'longitude', 'review_count', 'is_open', 'RestaurantsGoodForGroups',\n",
       "       'HasTV', 'GoodForKids', 'RestaurantsTakeOut', 'RestaurantsPriceRange2',\n",
       "       'RestaurantsReservations', 'RestaurantsDelivery', 'OutdoorSeating',\n",
       "       'BusinessAcceptsCreditCards', 'Sandwiches', 'Nightlife', 'Pizza',\n",
       "       'Bars', 'American (Traditional)', 'American (New)', 'Italian',\n",
       "       'Breakfast & Brunch', 'Coffee & Tea', 'Chinese', 'Seafood', 'Burgers',\n",
       "       'Fast Food', 'Salad', 'Cafes', 'Mexican', 'Bakeries', 'Japanese',\n",
       "       'Delis', 'Specialty Food', 'useful', 'funny', 'cool', 'fans',\n",
       "       'average_fans_per_user', 'reviews_per_week', 'RestaurantsAttire',\n",
       "       'NoiseLevel', 'Alcohol', 'WiFi', 'text'],\n",
       "      dtype='object')"
      ]
     },
     "execution_count": 15,
     "metadata": {},
     "output_type": "execute_result"
    }
   ],
   "source": [
    "X_sampled.columns"
   ]
  },
  {
   "cell_type": "markdown",
   "id": "03ae4f82",
   "metadata": {},
   "source": [
    "### Check Correlation with Number of stars"
   ]
  },
  {
   "cell_type": "code",
   "execution_count": 16,
   "id": "7ccbeb1b",
   "metadata": {},
   "outputs": [],
   "source": [
    "def correlation_coeff(X, y):\n",
    "    \n",
    "    correlation_df = pd.DataFrame(columns=['Variable', 'Correlation Coefficient', 'p-value'])\n",
    "    \n",
    "    for column in X.columns:\n",
    "        corr_coef, p_value = stats.pearsonr(X[column], y)\n",
    "        correlation_df = correlation_df.append({'Variable': column,\n",
    "                                                'Correlation Coefficient': corr_coef,\n",
    "                                                'p-value': p_value}, ignore_index=True)\n",
    "        correlation_df.sort_values(by='Correlation Coefficient', ascending=False, inplace=True)\n",
    "    \n",
    "    return correlation_df\n"
   ]
  },
  {
   "cell_type": "code",
   "execution_count": null,
   "id": "85b2e15c",
   "metadata": {},
   "outputs": [],
   "source": []
  },
  {
   "cell_type": "markdown",
   "id": "f7c401ca",
   "metadata": {},
   "source": [
    "### Check for Multicollinearity"
   ]
  },
  {
   "cell_type": "code",
   "execution_count": 17,
   "id": "a0260357",
   "metadata": {},
   "outputs": [
    {
     "data": {
      "text/plain": [
       "\"def high_correlation(x, color):\\n    threshold = 0.5\\n    return f'color: {color};' if x < -1*(threshold) or x > threshold else None\\n\\nX.corr().style.applymap(high_correlation, color='red')\""
      ]
     },
     "execution_count": 17,
     "metadata": {},
     "output_type": "execute_result"
    }
   ],
   "source": [
    "'''def high_correlation(x, color):\n",
    "    threshold = 0.5\n",
    "    return f'color: {color};' if x < -1*(threshold) or x > threshold else None\n",
    "\n",
    "X.corr().style.applymap(high_correlation, color='red')'''"
   ]
  },
  {
   "cell_type": "code",
   "execution_count": 18,
   "id": "f1b4ccad",
   "metadata": {},
   "outputs": [],
   "source": [
    "# plt.figure(figsize=(20,15))\n",
    "# mask = np.triu(np.ones_like(X.corr()))\n",
    "\n",
    "# sns.heatmap(X.corr(), cmap='coolwarm', mask=mask, vmin=-1, vmax=1)\n",
    "# plt.show()"
   ]
  },
  {
   "cell_type": "markdown",
   "id": "5e558744",
   "metadata": {},
   "source": [
    "## Modelling"
   ]
  },
  {
   "cell_type": "markdown",
   "id": "3274e98a",
   "metadata": {},
   "source": [
    "### Defining Train and Test Sets"
   ]
  },
  {
   "cell_type": "code",
   "execution_count": 19,
   "id": "750e1994",
   "metadata": {},
   "outputs": [
    {
     "name": "stdout",
     "output_type": "stream",
     "text": [
      "Shape of X_train: (10918, 50). Shaper of y_train: (10918,)\n",
      "Shape of X_test: (2730, 50). Shaper of y_test: (2730,)\n"
     ]
    }
   ],
   "source": [
    "# Splitting out 20% for test set\n",
    "X_train, X_test, y_train, y_test = train_test_split(X_sampled, y_sampled, test_size = 0.2, stratify=y_sampled, random_state=0)\n",
    "\n",
    "print(f'Shape of X_train: {X_train.shape}. Shaper of y_train: {y_train.shape}')\n",
    "print(f'Shape of X_test: {X_test.shape}. Shaper of y_test: {y_test.shape}')"
   ]
  },
  {
   "cell_type": "code",
   "execution_count": 20,
   "id": "fe3e9ad8",
   "metadata": {},
   "outputs": [
    {
     "data": {
      "image/png": "[encoded data removed]",
      "text/plain": [
       "<Figure size 1080x360 with 1 Axes>"
      ]
     },
     "metadata": {
      "needs_background": "light"
     },
     "output_type": "display_data"
    }
   ],
   "source": [
    "plt.figure(figsize=(15,5))\n",
    "plt.bar(y_test.value_counts().sort_index().index.astype('str'),\n",
    "        y_test.value_counts().sort_index())\n",
    "plt.title('Distribution of Stars in the Test Set')\n",
    "plt.xlabel('stars')\n",
    "plt.ylabel('Counts')\n",
    "plt.show()"
   ]
  },
  {
   "cell_type": "code",
   "execution_count": 21,
   "id": "a2e31688",
   "metadata": {},
   "outputs": [
    {
     "name": "stdout",
     "output_type": "stream",
     "text": [
      "<class 'pandas.core.frame.DataFrame'>\n",
      "Int64Index: 10918 entries, 118838 to 910818\n",
      "Data columns (total 50 columns):\n",
      " #   Column                      Non-Null Count  Dtype  \n",
      "---  ------                      --------------  -----  \n",
      " 0   Year                        10918 non-null  int64  \n",
      " 1   Month                       10918 non-null  int64  \n",
      " 2   Day                         10918 non-null  int64  \n",
      " 3   Day of Week                 10918 non-null  int64  \n",
      " 4   Hour                        10918 non-null  int64  \n",
      " 5   Minute                      10918 non-null  int64  \n",
      " 6   latitude                    10918 non-null  float64\n",
      " 7   longitude                   10918 non-null  float64\n",
      " 8   review_count                10918 non-null  int64  \n",
      " 9   is_open                     10918 non-null  int64  \n",
      " 10  RestaurantsGoodForGroups    10918 non-null  int64  \n",
      " 11  HasTV                       10918 non-null  int64  \n",
      " 12  GoodForKids                 10918 non-null  int64  \n",
      " 13  RestaurantsTakeOut          10918 non-null  int64  \n",
      " 14  RestaurantsPriceRange2      10918 non-null  int64  \n",
      " 15  RestaurantsReservations     10918 non-null  int64  \n",
      " 16  RestaurantsDelivery         10918 non-null  int64  \n",
      " 17  OutdoorSeating              10918 non-null  int64  \n",
      " 18  BusinessAcceptsCreditCards  10918 non-null  int64  \n",
      " 19  Sandwiches                  10918 non-null  int64  \n",
      " 20  Nightlife                   10918 non-null  int64  \n",
      " 21  Pizza                       10918 non-null  int64  \n",
      " 22  Bars                        10918 non-null  int64  \n",
      " 23  American (Traditional)      10918 non-null  int64  \n",
      " 24  American (New)              10918 non-null  int64  \n",
      " 25  Italian                     10918 non-null  int64  \n",
      " 26  Breakfast & Brunch          10918 non-null  int64  \n",
      " 27  Coffee & Tea                10918 non-null  int64  \n",
      " 28  Chinese                     10918 non-null  int64  \n",
      " 29  Seafood                     10918 non-null  int64  \n",
      " 30  Burgers                     10918 non-null  int64  \n",
      " 31  Fast Food                   10918 non-null  int64  \n",
      " 32  Salad                       10918 non-null  int64  \n",
      " 33  Cafes                       10918 non-null  int64  \n",
      " 34  Mexican                     10918 non-null  int64  \n",
      " 35  Bakeries                    10918 non-null  int64  \n",
      " 36  Japanese                    10918 non-null  int64  \n",
      " 37  Delis                       10918 non-null  int64  \n",
      " 38  Specialty Food              10918 non-null  int64  \n",
      " 39  useful                      10918 non-null  int64  \n",
      " 40  funny                       10918 non-null  int64  \n",
      " 41  cool                        10918 non-null  int64  \n",
      " 42  fans                        10918 non-null  int64  \n",
      " 43  average_fans_per_user       10918 non-null  float64\n",
      " 44  reviews_per_week            10918 non-null  float64\n",
      " 45  RestaurantsAttire           10918 non-null  object \n",
      " 46  NoiseLevel                  10918 non-null  object \n",
      " 47  Alcohol                     10918 non-null  object \n",
      " 48  WiFi                        10918 non-null  object \n",
      " 49  text                        10918 non-null  object \n",
      "dtypes: float64(4), int64(41), object(5)\n",
      "memory usage: 4.2+ MB\n"
     ]
    }
   ],
   "source": [
    "X_train.info()"
   ]
  },
  {
   "cell_type": "markdown",
   "id": "9f169c17",
   "metadata": {},
   "source": [
    "### Column Transformer"
   ]
  },
  {
   "cell_type": "code",
   "execution_count": 22,
   "id": "1675c4dd",
   "metadata": {},
   "outputs": [
    {
     "data": {
      "text/plain": [
       "['Year',\n",
       " 'Month',\n",
       " 'Day',\n",
       " 'Day of Week',\n",
       " 'Hour',\n",
       " 'Minute',\n",
       " 'latitude',\n",
       " 'longitude',\n",
       " 'review_count',\n",
       " 'is_open',\n",
       " 'RestaurantsGoodForGroups',\n",
       " 'HasTV',\n",
       " 'GoodForKids',\n",
       " 'RestaurantsTakeOut',\n",
       " 'RestaurantsPriceRange2',\n",
       " 'RestaurantsReservations',\n",
       " 'RestaurantsDelivery',\n",
       " 'OutdoorSeating',\n",
       " 'BusinessAcceptsCreditCards',\n",
       " 'Sandwiches',\n",
       " 'Nightlife',\n",
       " 'Pizza',\n",
       " 'Bars',\n",
       " 'American (Traditional)',\n",
       " 'American (New)',\n",
       " 'Italian',\n",
       " 'Breakfast & Brunch',\n",
       " 'Coffee & Tea',\n",
       " 'Chinese',\n",
       " 'Seafood',\n",
       " 'Burgers',\n",
       " 'Fast Food',\n",
       " 'Salad',\n",
       " 'Cafes',\n",
       " 'Mexican',\n",
       " 'Bakeries',\n",
       " 'Japanese',\n",
       " 'Delis',\n",
       " 'Specialty Food',\n",
       " 'useful',\n",
       " 'funny',\n",
       " 'cool',\n",
       " 'fans',\n",
       " 'average_fans_per_user',\n",
       " 'reviews_per_week']"
      ]
     },
     "execution_count": 22,
     "metadata": {},
     "output_type": "execute_result"
    }
   ],
   "source": [
    "numeric_columns = X_train.dtypes[df.dtypes != 'object'].index.to_list()\n",
    "numeric_columns"
   ]
  },
  {
   "cell_type": "code",
   "execution_count": 23,
   "id": "a66d5bc1",
   "metadata": {},
   "outputs": [
    {
     "data": {
      "text/plain": [
       "['RestaurantsAttire', 'NoiseLevel', 'Alcohol', 'WiFi']"
      ]
     },
     "execution_count": 23,
     "metadata": {},
     "output_type": "execute_result"
    }
   ],
   "source": [
    "categorical_columns = X_train.drop('text', axis=1).dtypes[df.dtypes == 'object'].index.to_list()\n",
    "categorical_columns"
   ]
  },
  {
   "cell_type": "code",
   "execution_count": 24,
   "id": "7f6abffb",
   "metadata": {},
   "outputs": [
    {
     "name": "stdout",
     "output_type": "stream",
     "text": [
      "!\"#$%&'()*+,-./:;<=>?@[\\]^_`{|}~\n"
     ]
    }
   ],
   "source": [
    "print(string.punctuation)"
   ]
  },
  {
   "cell_type": "code",
   "execution_count": 25,
   "id": "6d237449",
   "metadata": {},
   "outputs": [
    {
     "name": "stderr",
     "output_type": "stream",
     "text": [
      "[nltk_data] Downloading package stopwords to\n",
      "[nltk_data]     /Users/allistaircota/nltk_data...\n",
      "[nltk_data]   Package stopwords is already up-to-date!\n"
     ]
    }
   ],
   "source": [
    "# import the nltk stopwords\n",
    "nltk.download('stopwords')\n",
    "from nltk.corpus import stopwords \n",
    "\n",
    "ENGLISH_STOP_WORDS = stopwords.words('english')"
   ]
  },
  {
   "cell_type": "code",
   "execution_count": 26,
   "id": "046b2148",
   "metadata": {},
   "outputs": [],
   "source": [
    "ENGLISH_STOP_WORDS = stopwords.words('english')\n",
    "\n",
    "# Let's test it out\n",
    "stemmer = nltk.stem.PorterStemmer()\n",
    "\n",
    "def my_tokenizer(sentence):\n",
    "    # remove punctuation and set to lower case\n",
    "    for punctuation_mark in string.punctuation:\n",
    "        sentence = sentence.replace(punctuation_mark,'').lower()\n",
    "\n",
    "    # split sentence into words\n",
    "    listofwords = sentence.split(' ')\n",
    "    listofstemmed_words = []\n",
    "    \n",
    "    # remove stopwords and any tokens that are just empty strings\n",
    "    for word in listofwords:\n",
    "        if (not word in ENGLISH_STOP_WORDS) and (word!=''):\n",
    "            # Stem words\n",
    "            stemmed_word = stemmer.stem(word)\n",
    "            listofstemmed_words.append(stemmed_word)\n",
    "\n",
    "    return listofstemmed_words"
   ]
  },
  {
   "cell_type": "code",
   "execution_count": 27,
   "id": "42d2ecac",
   "metadata": {},
   "outputs": [
    {
     "data": {
      "text/plain": [
       "['quick', 'brown', 'fox', 'jump', 'lazi', 'dog']"
      ]
     },
     "execution_count": 27,
     "metadata": {},
     "output_type": "execute_result"
    }
   ],
   "source": [
    "sentence = \"The quick brown fox, jumped over the lazy dog!!\"\n",
    "\n",
    "my_tokenizer(sentence)"
   ]
  },
  {
   "cell_type": "code",
   "execution_count": 28,
   "id": "5b9c1e40",
   "metadata": {},
   "outputs": [
    {
     "name": "stdout",
     "output_type": "stream",
     "text": [
      "CPU times: user 24 µs, sys: 0 ns, total: 24 µs\n",
      "Wall time: 27.9 µs\n"
     ]
    }
   ],
   "source": [
    "%%time\n",
    "\n",
    "# full_pipeline = ColumnTransformer([\n",
    "#     ('num', MinMaxScaler(), numeric_columns),\n",
    "#     ('cat', OneHotEncoder(drop='first'), categorical_columns),\n",
    "#     ('review', ReviewTextTransformer(), 'text')\n",
    "# ])\n",
    "\n",
    "col_trans = ColumnTransformer([\n",
    "    ('cat', OneHotEncoder(drop='first'), categorical_columns),\n",
    "    ('review', CountVectorizer(tokenizer=my_tokenizer, min_df=25), 'text')\n",
    "])"
   ]
  },
  {
   "cell_type": "code",
   "execution_count": 29,
   "id": "bf8ad405",
   "metadata": {},
   "outputs": [],
   "source": [
    "col_trans.fit(X_train)\n",
    "temp_df = col_trans.transform(X_train).todense()\n",
    "temp_df = pd.DataFrame(columns=col_trans.get_feature_names_out(), data=temp_df, index=X_train.index)\n",
    "X_train_unscaled = pd.concat([X_train.drop(categorical_columns+['text'], axis=1), temp_df], axis=1)\n",
    "\n",
    "temp_df = col_trans.transform(X_test).todense()\n",
    "temp_df = pd.DataFrame(columns=col_trans.get_feature_names_out(), data=temp_df, index=X_test.index)\n",
    "X_test_unscaled = pd.concat([X_test.drop(categorical_columns+['text'], axis=1), temp_df], axis=1)"
   ]
  },
  {
   "cell_type": "code",
   "execution_count": 30,
   "id": "67beec97",
   "metadata": {},
   "outputs": [
    {
     "data": {
      "text/plain": [
       "array(['cat__RestaurantsAttire_dressy', 'cat__NoiseLevel_loud',\n",
       "       'cat__NoiseLevel_quiet', ..., 'review__yummi', 'review__zero',\n",
       "       'review__zucchini'], dtype=object)"
      ]
     },
     "execution_count": 30,
     "metadata": {},
     "output_type": "execute_result"
    }
   ],
   "source": [
    "col_trans.get_feature_names_out()"
   ]
  },
  {
   "cell_type": "code",
   "execution_count": 31,
   "id": "0d1fb202",
   "metadata": {},
   "outputs": [
    {
     "data": {
      "text/html": [
       "<div>\n",
       "<style scoped>\n",
       "    .dataframe tbody tr th:only-of-type {\n",
       "        vertical-align: middle;\n",
       "    }\n",
       "\n",
       "    .dataframe tbody tr th {\n",
       "        vertical-align: top;\n",
       "    }\n",
       "\n",
       "    .dataframe thead th {\n",
       "        text-align: right;\n",
       "    }\n",
       "</style>\n",
       "<table border=\"1\" class=\"dataframe\">\n",
       "  <thead>\n",
       "    <tr style=\"text-align: right;\">\n",
       "      <th></th>\n",
       "      <th>Year</th>\n",
       "      <th>Month</th>\n",
       "      <th>Day</th>\n",
       "      <th>Day of Week</th>\n",
       "      <th>Hour</th>\n",
       "      <th>Minute</th>\n",
       "      <th>latitude</th>\n",
       "      <th>longitude</th>\n",
       "      <th>review_count</th>\n",
       "      <th>is_open</th>\n",
       "      <th>...</th>\n",
       "      <th>review__york</th>\n",
       "      <th>review__youd</th>\n",
       "      <th>review__youll</th>\n",
       "      <th>review__young</th>\n",
       "      <th>review__your</th>\n",
       "      <th>review__youv</th>\n",
       "      <th>review__yum</th>\n",
       "      <th>review__yummi</th>\n",
       "      <th>review__zero</th>\n",
       "      <th>review__zucchini</th>\n",
       "    </tr>\n",
       "  </thead>\n",
       "  <tbody>\n",
       "    <tr>\n",
       "      <th>118838</th>\n",
       "      <td>2010</td>\n",
       "      <td>11</td>\n",
       "      <td>7</td>\n",
       "      <td>6</td>\n",
       "      <td>12</td>\n",
       "      <td>43</td>\n",
       "      <td>42.395293</td>\n",
       "      <td>-71.121620</td>\n",
       "      <td>350</td>\n",
       "      <td>1</td>\n",
       "      <td>...</td>\n",
       "      <td>0.0</td>\n",
       "      <td>0.0</td>\n",
       "      <td>0.0</td>\n",
       "      <td>0.0</td>\n",
       "      <td>0.0</td>\n",
       "      <td>0.0</td>\n",
       "      <td>0.0</td>\n",
       "      <td>0.0</td>\n",
       "      <td>0.0</td>\n",
       "      <td>0.0</td>\n",
       "    </tr>\n",
       "    <tr>\n",
       "      <th>984277</th>\n",
       "      <td>2018</td>\n",
       "      <td>10</td>\n",
       "      <td>4</td>\n",
       "      <td>3</td>\n",
       "      <td>14</td>\n",
       "      <td>8</td>\n",
       "      <td>42.353567</td>\n",
       "      <td>-71.058031</td>\n",
       "      <td>67</td>\n",
       "      <td>1</td>\n",
       "      <td>...</td>\n",
       "      <td>0.0</td>\n",
       "      <td>0.0</td>\n",
       "      <td>0.0</td>\n",
       "      <td>0.0</td>\n",
       "      <td>0.0</td>\n",
       "      <td>0.0</td>\n",
       "      <td>0.0</td>\n",
       "      <td>0.0</td>\n",
       "      <td>0.0</td>\n",
       "      <td>0.0</td>\n",
       "    </tr>\n",
       "    <tr>\n",
       "      <th>778602</th>\n",
       "      <td>2020</td>\n",
       "      <td>8</td>\n",
       "      <td>9</td>\n",
       "      <td>6</td>\n",
       "      <td>1</td>\n",
       "      <td>19</td>\n",
       "      <td>42.340918</td>\n",
       "      <td>-71.081615</td>\n",
       "      <td>428</td>\n",
       "      <td>1</td>\n",
       "      <td>...</td>\n",
       "      <td>0.0</td>\n",
       "      <td>0.0</td>\n",
       "      <td>0.0</td>\n",
       "      <td>0.0</td>\n",
       "      <td>0.0</td>\n",
       "      <td>0.0</td>\n",
       "      <td>0.0</td>\n",
       "      <td>0.0</td>\n",
       "      <td>0.0</td>\n",
       "      <td>0.0</td>\n",
       "    </tr>\n",
       "    <tr>\n",
       "      <th>483464</th>\n",
       "      <td>2008</td>\n",
       "      <td>7</td>\n",
       "      <td>17</td>\n",
       "      <td>3</td>\n",
       "      <td>0</td>\n",
       "      <td>17</td>\n",
       "      <td>42.363968</td>\n",
       "      <td>-71.101869</td>\n",
       "      <td>251</td>\n",
       "      <td>0</td>\n",
       "      <td>...</td>\n",
       "      <td>0.0</td>\n",
       "      <td>0.0</td>\n",
       "      <td>0.0</td>\n",
       "      <td>0.0</td>\n",
       "      <td>0.0</td>\n",
       "      <td>0.0</td>\n",
       "      <td>0.0</td>\n",
       "      <td>0.0</td>\n",
       "      <td>0.0</td>\n",
       "      <td>0.0</td>\n",
       "    </tr>\n",
       "    <tr>\n",
       "      <th>496132</th>\n",
       "      <td>2019</td>\n",
       "      <td>1</td>\n",
       "      <td>31</td>\n",
       "      <td>3</td>\n",
       "      <td>20</td>\n",
       "      <td>50</td>\n",
       "      <td>42.321512</td>\n",
       "      <td>-71.175672</td>\n",
       "      <td>325</td>\n",
       "      <td>1</td>\n",
       "      <td>...</td>\n",
       "      <td>0.0</td>\n",
       "      <td>0.0</td>\n",
       "      <td>0.0</td>\n",
       "      <td>0.0</td>\n",
       "      <td>0.0</td>\n",
       "      <td>0.0</td>\n",
       "      <td>0.0</td>\n",
       "      <td>0.0</td>\n",
       "      <td>0.0</td>\n",
       "      <td>0.0</td>\n",
       "    </tr>\n",
       "  </tbody>\n",
       "</table>\n",
       "<p>5 rows × 2299 columns</p>\n",
       "</div>"
      ],
      "text/plain": [
       "        Year  Month  Day  Day of Week  Hour  Minute   latitude  longitude  \\\n",
       "118838  2010     11    7            6    12      43  42.395293 -71.121620   \n",
       "984277  2018     10    4            3    14       8  42.353567 -71.058031   \n",
       "778602  2020      8    9            6     1      19  42.340918 -71.081615   \n",
       "483464  2008      7   17            3     0      17  42.363968 -71.101869   \n",
       "496132  2019      1   31            3    20      50  42.321512 -71.175672   \n",
       "\n",
       "        review_count  is_open  ...  review__york  review__youd  review__youll  \\\n",
       "118838           350        1  ...           0.0           0.0            0.0   \n",
       "984277            67        1  ...           0.0           0.0            0.0   \n",
       "778602           428        1  ...           0.0           0.0            0.0   \n",
       "483464           251        0  ...           0.0           0.0            0.0   \n",
       "496132           325        1  ...           0.0           0.0            0.0   \n",
       "\n",
       "        review__young  review__your  review__youv  review__yum  review__yummi  \\\n",
       "118838            0.0           0.0           0.0          0.0            0.0   \n",
       "984277            0.0           0.0           0.0          0.0            0.0   \n",
       "778602            0.0           0.0           0.0          0.0            0.0   \n",
       "483464            0.0           0.0           0.0          0.0            0.0   \n",
       "496132            0.0           0.0           0.0          0.0            0.0   \n",
       "\n",
       "        review__zero  review__zucchini  \n",
       "118838           0.0               0.0  \n",
       "984277           0.0               0.0  \n",
       "778602           0.0               0.0  \n",
       "483464           0.0               0.0  \n",
       "496132           0.0               0.0  \n",
       "\n",
       "[5 rows x 2299 columns]"
      ]
     },
     "execution_count": 31,
     "metadata": {},
     "output_type": "execute_result"
    }
   ],
   "source": [
    "X_train_unscaled.head()"
   ]
  },
  {
   "cell_type": "code",
   "execution_count": 32,
   "id": "4d590fc2",
   "metadata": {},
   "outputs": [
    {
     "data": {
      "text/html": [
       "<div>\n",
       "<style scoped>\n",
       "    .dataframe tbody tr th:only-of-type {\n",
       "        vertical-align: middle;\n",
       "    }\n",
       "\n",
       "    .dataframe tbody tr th {\n",
       "        vertical-align: top;\n",
       "    }\n",
       "\n",
       "    .dataframe thead th {\n",
       "        text-align: right;\n",
       "    }\n",
       "</style>\n",
       "<table border=\"1\" class=\"dataframe\">\n",
       "  <thead>\n",
       "    <tr style=\"text-align: right;\">\n",
       "      <th></th>\n",
       "      <th>Year</th>\n",
       "      <th>Month</th>\n",
       "      <th>Day</th>\n",
       "      <th>Day of Week</th>\n",
       "      <th>Hour</th>\n",
       "      <th>Minute</th>\n",
       "      <th>latitude</th>\n",
       "      <th>longitude</th>\n",
       "      <th>review_count</th>\n",
       "      <th>is_open</th>\n",
       "      <th>...</th>\n",
       "      <th>review__york</th>\n",
       "      <th>review__youd</th>\n",
       "      <th>review__youll</th>\n",
       "      <th>review__young</th>\n",
       "      <th>review__your</th>\n",
       "      <th>review__youv</th>\n",
       "      <th>review__yum</th>\n",
       "      <th>review__yummi</th>\n",
       "      <th>review__zero</th>\n",
       "      <th>review__zucchini</th>\n",
       "    </tr>\n",
       "  </thead>\n",
       "  <tbody>\n",
       "    <tr>\n",
       "      <th>719576</th>\n",
       "      <td>2019</td>\n",
       "      <td>4</td>\n",
       "      <td>21</td>\n",
       "      <td>6</td>\n",
       "      <td>22</td>\n",
       "      <td>35</td>\n",
       "      <td>42.339823</td>\n",
       "      <td>-71.091285</td>\n",
       "      <td>138</td>\n",
       "      <td>1</td>\n",
       "      <td>...</td>\n",
       "      <td>0.0</td>\n",
       "      <td>0.0</td>\n",
       "      <td>0.0</td>\n",
       "      <td>0.0</td>\n",
       "      <td>0.0</td>\n",
       "      <td>0.0</td>\n",
       "      <td>0.0</td>\n",
       "      <td>0.0</td>\n",
       "      <td>0.0</td>\n",
       "      <td>0.0</td>\n",
       "    </tr>\n",
       "    <tr>\n",
       "      <th>1033835</th>\n",
       "      <td>2020</td>\n",
       "      <td>1</td>\n",
       "      <td>12</td>\n",
       "      <td>6</td>\n",
       "      <td>2</td>\n",
       "      <td>31</td>\n",
       "      <td>42.448745</td>\n",
       "      <td>-71.228743</td>\n",
       "      <td>395</td>\n",
       "      <td>1</td>\n",
       "      <td>...</td>\n",
       "      <td>0.0</td>\n",
       "      <td>0.0</td>\n",
       "      <td>0.0</td>\n",
       "      <td>0.0</td>\n",
       "      <td>0.0</td>\n",
       "      <td>0.0</td>\n",
       "      <td>0.0</td>\n",
       "      <td>0.0</td>\n",
       "      <td>0.0</td>\n",
       "      <td>0.0</td>\n",
       "    </tr>\n",
       "    <tr>\n",
       "      <th>37835</th>\n",
       "      <td>2012</td>\n",
       "      <td>7</td>\n",
       "      <td>8</td>\n",
       "      <td>6</td>\n",
       "      <td>2</td>\n",
       "      <td>56</td>\n",
       "      <td>42.387212</td>\n",
       "      <td>-71.118532</td>\n",
       "      <td>635</td>\n",
       "      <td>1</td>\n",
       "      <td>...</td>\n",
       "      <td>0.0</td>\n",
       "      <td>0.0</td>\n",
       "      <td>0.0</td>\n",
       "      <td>0.0</td>\n",
       "      <td>0.0</td>\n",
       "      <td>0.0</td>\n",
       "      <td>0.0</td>\n",
       "      <td>0.0</td>\n",
       "      <td>0.0</td>\n",
       "      <td>0.0</td>\n",
       "    </tr>\n",
       "    <tr>\n",
       "      <th>256789</th>\n",
       "      <td>2015</td>\n",
       "      <td>12</td>\n",
       "      <td>15</td>\n",
       "      <td>1</td>\n",
       "      <td>1</td>\n",
       "      <td>28</td>\n",
       "      <td>42.359075</td>\n",
       "      <td>-71.059176</td>\n",
       "      <td>671</td>\n",
       "      <td>1</td>\n",
       "      <td>...</td>\n",
       "      <td>0.0</td>\n",
       "      <td>0.0</td>\n",
       "      <td>0.0</td>\n",
       "      <td>0.0</td>\n",
       "      <td>0.0</td>\n",
       "      <td>0.0</td>\n",
       "      <td>0.0</td>\n",
       "      <td>0.0</td>\n",
       "      <td>0.0</td>\n",
       "      <td>0.0</td>\n",
       "    </tr>\n",
       "    <tr>\n",
       "      <th>688708</th>\n",
       "      <td>2011</td>\n",
       "      <td>8</td>\n",
       "      <td>26</td>\n",
       "      <td>4</td>\n",
       "      <td>19</td>\n",
       "      <td>4</td>\n",
       "      <td>42.379939</td>\n",
       "      <td>-71.094383</td>\n",
       "      <td>102</td>\n",
       "      <td>0</td>\n",
       "      <td>...</td>\n",
       "      <td>0.0</td>\n",
       "      <td>0.0</td>\n",
       "      <td>0.0</td>\n",
       "      <td>0.0</td>\n",
       "      <td>0.0</td>\n",
       "      <td>0.0</td>\n",
       "      <td>0.0</td>\n",
       "      <td>0.0</td>\n",
       "      <td>0.0</td>\n",
       "      <td>0.0</td>\n",
       "    </tr>\n",
       "  </tbody>\n",
       "</table>\n",
       "<p>5 rows × 2299 columns</p>\n",
       "</div>"
      ],
      "text/plain": [
       "         Year  Month  Day  Day of Week  Hour  Minute   latitude  longitude  \\\n",
       "719576   2019      4   21            6    22      35  42.339823 -71.091285   \n",
       "1033835  2020      1   12            6     2      31  42.448745 -71.228743   \n",
       "37835    2012      7    8            6     2      56  42.387212 -71.118532   \n",
       "256789   2015     12   15            1     1      28  42.359075 -71.059176   \n",
       "688708   2011      8   26            4    19       4  42.379939 -71.094383   \n",
       "\n",
       "         review_count  is_open  ...  review__york  review__youd  \\\n",
       "719576            138        1  ...           0.0           0.0   \n",
       "1033835           395        1  ...           0.0           0.0   \n",
       "37835             635        1  ...           0.0           0.0   \n",
       "256789            671        1  ...           0.0           0.0   \n",
       "688708            102        0  ...           0.0           0.0   \n",
       "\n",
       "         review__youll  review__young  review__your  review__youv  \\\n",
       "719576             0.0            0.0           0.0           0.0   \n",
       "1033835            0.0            0.0           0.0           0.0   \n",
       "37835              0.0            0.0           0.0           0.0   \n",
       "256789             0.0            0.0           0.0           0.0   \n",
       "688708             0.0            0.0           0.0           0.0   \n",
       "\n",
       "         review__yum  review__yummi  review__zero  review__zucchini  \n",
       "719576           0.0            0.0           0.0               0.0  \n",
       "1033835          0.0            0.0           0.0               0.0  \n",
       "37835            0.0            0.0           0.0               0.0  \n",
       "256789           0.0            0.0           0.0               0.0  \n",
       "688708           0.0            0.0           0.0               0.0  \n",
       "\n",
       "[5 rows x 2299 columns]"
      ]
     },
     "execution_count": 32,
     "metadata": {},
     "output_type": "execute_result"
    }
   ],
   "source": [
    "X_test_unscaled.head()"
   ]
  },
  {
   "cell_type": "code",
   "execution_count": 33,
   "id": "6dfd5c6d",
   "metadata": {},
   "outputs": [
    {
     "name": "stdout",
     "output_type": "stream",
     "text": [
      "Shape of scaled remainder set: (10918, 2299)\n",
      "Shape of scaled test set: (2730, 2299)\n"
     ]
    }
   ],
   "source": [
    "scaler = MinMaxScaler()\n",
    "\n",
    "# Fit the scaler to X_rem and transform X_rem\n",
    "X_train_scaled = scaler.fit_transform(X_train_unscaled)\n",
    "\n",
    "# Transform X_test using the fitted scaler\n",
    "X_test_scaled= scaler.transform(X_test_unscaled)\n",
    "\n",
    "# Redefine numpy arrays as dataframes\n",
    "X_train_scaled = pd.DataFrame(X_train_scaled, columns=X_train_unscaled.columns)\n",
    "X_test_scaled = pd.DataFrame(X_test_scaled, columns=X_test_unscaled.columns)\n",
    "\n",
    "# Print shapes\n",
    "print(f'Shape of scaled remainder set: {X_train_scaled.shape}')\n",
    "print(f'Shape of scaled test set: {X_test_scaled.shape}')"
   ]
  },
  {
   "cell_type": "code",
   "execution_count": 34,
   "id": "f9472cf1",
   "metadata": {},
   "outputs": [
    {
     "data": {
      "text/html": [
       "<div>\n",
       "<style scoped>\n",
       "    .dataframe tbody tr th:only-of-type {\n",
       "        vertical-align: middle;\n",
       "    }\n",
       "\n",
       "    .dataframe tbody tr th {\n",
       "        vertical-align: top;\n",
       "    }\n",
       "\n",
       "    .dataframe thead th {\n",
       "        text-align: right;\n",
       "    }\n",
       "</style>\n",
       "<table border=\"1\" class=\"dataframe\">\n",
       "  <thead>\n",
       "    <tr style=\"text-align: right;\">\n",
       "      <th></th>\n",
       "      <th>Year</th>\n",
       "      <th>Month</th>\n",
       "      <th>Day</th>\n",
       "      <th>Day of Week</th>\n",
       "      <th>Hour</th>\n",
       "      <th>Minute</th>\n",
       "      <th>latitude</th>\n",
       "      <th>longitude</th>\n",
       "      <th>review_count</th>\n",
       "      <th>is_open</th>\n",
       "      <th>...</th>\n",
       "      <th>review__york</th>\n",
       "      <th>review__youd</th>\n",
       "      <th>review__youll</th>\n",
       "      <th>review__young</th>\n",
       "      <th>review__your</th>\n",
       "      <th>review__youv</th>\n",
       "      <th>review__yum</th>\n",
       "      <th>review__yummi</th>\n",
       "      <th>review__zero</th>\n",
       "      <th>review__zucchini</th>\n",
       "    </tr>\n",
       "  </thead>\n",
       "  <tbody>\n",
       "    <tr>\n",
       "      <th>0</th>\n",
       "      <td>0.3125</td>\n",
       "      <td>0.909091</td>\n",
       "      <td>0.200000</td>\n",
       "      <td>1.0</td>\n",
       "      <td>0.521739</td>\n",
       "      <td>0.728814</td>\n",
       "      <td>0.586507</td>\n",
       "      <td>0.001951</td>\n",
       "      <td>0.047306</td>\n",
       "      <td>1.0</td>\n",
       "      <td>...</td>\n",
       "      <td>0.0</td>\n",
       "      <td>0.0</td>\n",
       "      <td>0.0</td>\n",
       "      <td>0.0</td>\n",
       "      <td>0.0</td>\n",
       "      <td>0.0</td>\n",
       "      <td>0.0</td>\n",
       "      <td>0.0</td>\n",
       "      <td>0.0</td>\n",
       "      <td>0.0</td>\n",
       "    </tr>\n",
       "    <tr>\n",
       "      <th>1</th>\n",
       "      <td>0.8125</td>\n",
       "      <td>0.818182</td>\n",
       "      <td>0.100000</td>\n",
       "      <td>0.5</td>\n",
       "      <td>0.608696</td>\n",
       "      <td>0.135593</td>\n",
       "      <td>0.503246</td>\n",
       "      <td>0.002397</td>\n",
       "      <td>0.008501</td>\n",
       "      <td>1.0</td>\n",
       "      <td>...</td>\n",
       "      <td>0.0</td>\n",
       "      <td>0.0</td>\n",
       "      <td>0.0</td>\n",
       "      <td>0.0</td>\n",
       "      <td>0.0</td>\n",
       "      <td>0.0</td>\n",
       "      <td>0.0</td>\n",
       "      <td>0.0</td>\n",
       "      <td>0.0</td>\n",
       "      <td>0.0</td>\n",
       "    </tr>\n",
       "    <tr>\n",
       "      <th>2</th>\n",
       "      <td>0.9375</td>\n",
       "      <td>0.636364</td>\n",
       "      <td>0.266667</td>\n",
       "      <td>1.0</td>\n",
       "      <td>0.043478</td>\n",
       "      <td>0.322034</td>\n",
       "      <td>0.478006</td>\n",
       "      <td>0.002232</td>\n",
       "      <td>0.058001</td>\n",
       "      <td>1.0</td>\n",
       "      <td>...</td>\n",
       "      <td>0.0</td>\n",
       "      <td>0.0</td>\n",
       "      <td>0.0</td>\n",
       "      <td>0.0</td>\n",
       "      <td>0.0</td>\n",
       "      <td>0.0</td>\n",
       "      <td>0.0</td>\n",
       "      <td>0.0</td>\n",
       "      <td>0.0</td>\n",
       "      <td>0.0</td>\n",
       "    </tr>\n",
       "    <tr>\n",
       "      <th>3</th>\n",
       "      <td>0.1875</td>\n",
       "      <td>0.545455</td>\n",
       "      <td>0.533333</td>\n",
       "      <td>0.5</td>\n",
       "      <td>0.000000</td>\n",
       "      <td>0.288136</td>\n",
       "      <td>0.524001</td>\n",
       "      <td>0.002089</td>\n",
       "      <td>0.033731</td>\n",
       "      <td>0.0</td>\n",
       "      <td>...</td>\n",
       "      <td>0.0</td>\n",
       "      <td>0.0</td>\n",
       "      <td>0.0</td>\n",
       "      <td>0.0</td>\n",
       "      <td>0.0</td>\n",
       "      <td>0.0</td>\n",
       "      <td>0.0</td>\n",
       "      <td>0.0</td>\n",
       "      <td>0.0</td>\n",
       "      <td>0.0</td>\n",
       "    </tr>\n",
       "    <tr>\n",
       "      <th>4</th>\n",
       "      <td>0.8750</td>\n",
       "      <td>0.000000</td>\n",
       "      <td>1.000000</td>\n",
       "      <td>0.5</td>\n",
       "      <td>0.869565</td>\n",
       "      <td>0.847458</td>\n",
       "      <td>0.439284</td>\n",
       "      <td>0.001572</td>\n",
       "      <td>0.043878</td>\n",
       "      <td>1.0</td>\n",
       "      <td>...</td>\n",
       "      <td>0.0</td>\n",
       "      <td>0.0</td>\n",
       "      <td>0.0</td>\n",
       "      <td>0.0</td>\n",
       "      <td>0.0</td>\n",
       "      <td>0.0</td>\n",
       "      <td>0.0</td>\n",
       "      <td>0.0</td>\n",
       "      <td>0.0</td>\n",
       "      <td>0.0</td>\n",
       "    </tr>\n",
       "  </tbody>\n",
       "</table>\n",
       "<p>5 rows × 2299 columns</p>\n",
       "</div>"
      ],
      "text/plain": [
       "     Year     Month       Day  Day of Week      Hour    Minute  latitude  \\\n",
       "0  0.3125  0.909091  0.200000          1.0  0.521739  0.728814  0.586507   \n",
       "1  0.8125  0.818182  0.100000          0.5  0.608696  0.135593  0.503246   \n",
       "2  0.9375  0.636364  0.266667          1.0  0.043478  0.322034  0.478006   \n",
       "3  0.1875  0.545455  0.533333          0.5  0.000000  0.288136  0.524001   \n",
       "4  0.8750  0.000000  1.000000          0.5  0.869565  0.847458  0.439284   \n",
       "\n",
       "   longitude  review_count  is_open  ...  review__york  review__youd  \\\n",
       "0   0.001951      0.047306      1.0  ...           0.0           0.0   \n",
       "1   0.002397      0.008501      1.0  ...           0.0           0.0   \n",
       "2   0.002232      0.058001      1.0  ...           0.0           0.0   \n",
       "3   0.002089      0.033731      0.0  ...           0.0           0.0   \n",
       "4   0.001572      0.043878      1.0  ...           0.0           0.0   \n",
       "\n",
       "   review__youll  review__young  review__your  review__youv  review__yum  \\\n",
       "0            0.0            0.0           0.0           0.0          0.0   \n",
       "1            0.0            0.0           0.0           0.0          0.0   \n",
       "2            0.0            0.0           0.0           0.0          0.0   \n",
       "3            0.0            0.0           0.0           0.0          0.0   \n",
       "4            0.0            0.0           0.0           0.0          0.0   \n",
       "\n",
       "   review__yummi  review__zero  review__zucchini  \n",
       "0            0.0           0.0               0.0  \n",
       "1            0.0           0.0               0.0  \n",
       "2            0.0           0.0               0.0  \n",
       "3            0.0           0.0               0.0  \n",
       "4            0.0           0.0               0.0  \n",
       "\n",
       "[5 rows x 2299 columns]"
      ]
     },
     "execution_count": 34,
     "metadata": {},
     "output_type": "execute_result"
    }
   ],
   "source": [
    "X_train_scaled.head()"
   ]
  },
  {
   "cell_type": "code",
   "execution_count": 35,
   "id": "9897afa1",
   "metadata": {},
   "outputs": [
    {
     "data": {
      "text/html": [
       "<div>\n",
       "<style scoped>\n",
       "    .dataframe tbody tr th:only-of-type {\n",
       "        vertical-align: middle;\n",
       "    }\n",
       "\n",
       "    .dataframe tbody tr th {\n",
       "        vertical-align: top;\n",
       "    }\n",
       "\n",
       "    .dataframe thead th {\n",
       "        text-align: right;\n",
       "    }\n",
       "</style>\n",
       "<table border=\"1\" class=\"dataframe\">\n",
       "  <thead>\n",
       "    <tr style=\"text-align: right;\">\n",
       "      <th></th>\n",
       "      <th>Year</th>\n",
       "      <th>Month</th>\n",
       "      <th>Day</th>\n",
       "      <th>Day of Week</th>\n",
       "      <th>Hour</th>\n",
       "      <th>Minute</th>\n",
       "      <th>latitude</th>\n",
       "      <th>longitude</th>\n",
       "      <th>review_count</th>\n",
       "      <th>is_open</th>\n",
       "      <th>...</th>\n",
       "      <th>review__york</th>\n",
       "      <th>review__youd</th>\n",
       "      <th>review__youll</th>\n",
       "      <th>review__young</th>\n",
       "      <th>review__your</th>\n",
       "      <th>review__youv</th>\n",
       "      <th>review__yum</th>\n",
       "      <th>review__yummi</th>\n",
       "      <th>review__zero</th>\n",
       "      <th>review__zucchini</th>\n",
       "    </tr>\n",
       "  </thead>\n",
       "  <tbody>\n",
       "    <tr>\n",
       "      <th>0</th>\n",
       "      <td>0.8750</td>\n",
       "      <td>0.272727</td>\n",
       "      <td>0.666667</td>\n",
       "      <td>1.000000</td>\n",
       "      <td>0.956522</td>\n",
       "      <td>0.593220</td>\n",
       "      <td>0.475821</td>\n",
       "      <td>0.002164</td>\n",
       "      <td>0.018237</td>\n",
       "      <td>1.0</td>\n",
       "      <td>...</td>\n",
       "      <td>0.0</td>\n",
       "      <td>0.0</td>\n",
       "      <td>0.0</td>\n",
       "      <td>0.0</td>\n",
       "      <td>0.0</td>\n",
       "      <td>0.0</td>\n",
       "      <td>0.0</td>\n",
       "      <td>0.0</td>\n",
       "      <td>0.0</td>\n",
       "      <td>0.0</td>\n",
       "    </tr>\n",
       "    <tr>\n",
       "      <th>1</th>\n",
       "      <td>0.9375</td>\n",
       "      <td>0.000000</td>\n",
       "      <td>0.366667</td>\n",
       "      <td>1.000000</td>\n",
       "      <td>0.086957</td>\n",
       "      <td>0.525424</td>\n",
       "      <td>0.693166</td>\n",
       "      <td>0.001199</td>\n",
       "      <td>0.053476</td>\n",
       "      <td>1.0</td>\n",
       "      <td>...</td>\n",
       "      <td>0.0</td>\n",
       "      <td>0.0</td>\n",
       "      <td>0.0</td>\n",
       "      <td>0.0</td>\n",
       "      <td>0.0</td>\n",
       "      <td>0.0</td>\n",
       "      <td>0.0</td>\n",
       "      <td>0.0</td>\n",
       "      <td>0.0</td>\n",
       "      <td>0.0</td>\n",
       "    </tr>\n",
       "    <tr>\n",
       "      <th>2</th>\n",
       "      <td>0.4375</td>\n",
       "      <td>0.545455</td>\n",
       "      <td>0.233333</td>\n",
       "      <td>1.000000</td>\n",
       "      <td>0.086957</td>\n",
       "      <td>0.949153</td>\n",
       "      <td>0.570383</td>\n",
       "      <td>0.001972</td>\n",
       "      <td>0.086384</td>\n",
       "      <td>1.0</td>\n",
       "      <td>...</td>\n",
       "      <td>0.0</td>\n",
       "      <td>0.0</td>\n",
       "      <td>0.0</td>\n",
       "      <td>0.0</td>\n",
       "      <td>0.0</td>\n",
       "      <td>0.0</td>\n",
       "      <td>0.0</td>\n",
       "      <td>0.0</td>\n",
       "      <td>0.0</td>\n",
       "      <td>0.0</td>\n",
       "    </tr>\n",
       "    <tr>\n",
       "      <th>3</th>\n",
       "      <td>0.6250</td>\n",
       "      <td>1.000000</td>\n",
       "      <td>0.466667</td>\n",
       "      <td>0.166667</td>\n",
       "      <td>0.043478</td>\n",
       "      <td>0.474576</td>\n",
       "      <td>0.514237</td>\n",
       "      <td>0.002389</td>\n",
       "      <td>0.091320</td>\n",
       "      <td>1.0</td>\n",
       "      <td>...</td>\n",
       "      <td>0.0</td>\n",
       "      <td>0.0</td>\n",
       "      <td>0.0</td>\n",
       "      <td>0.0</td>\n",
       "      <td>0.0</td>\n",
       "      <td>0.0</td>\n",
       "      <td>0.0</td>\n",
       "      <td>0.0</td>\n",
       "      <td>0.0</td>\n",
       "      <td>0.0</td>\n",
       "    </tr>\n",
       "    <tr>\n",
       "      <th>4</th>\n",
       "      <td>0.3750</td>\n",
       "      <td>0.636364</td>\n",
       "      <td>0.833333</td>\n",
       "      <td>0.666667</td>\n",
       "      <td>0.826087</td>\n",
       "      <td>0.067797</td>\n",
       "      <td>0.555869</td>\n",
       "      <td>0.002142</td>\n",
       "      <td>0.013300</td>\n",
       "      <td>0.0</td>\n",
       "      <td>...</td>\n",
       "      <td>0.0</td>\n",
       "      <td>0.0</td>\n",
       "      <td>0.0</td>\n",
       "      <td>0.0</td>\n",
       "      <td>0.0</td>\n",
       "      <td>0.0</td>\n",
       "      <td>0.0</td>\n",
       "      <td>0.0</td>\n",
       "      <td>0.0</td>\n",
       "      <td>0.0</td>\n",
       "    </tr>\n",
       "  </tbody>\n",
       "</table>\n",
       "<p>5 rows × 2299 columns</p>\n",
       "</div>"
      ],
      "text/plain": [
       "     Year     Month       Day  Day of Week      Hour    Minute  latitude  \\\n",
       "0  0.8750  0.272727  0.666667     1.000000  0.956522  0.593220  0.475821   \n",
       "1  0.9375  0.000000  0.366667     1.000000  0.086957  0.525424  0.693166   \n",
       "2  0.4375  0.545455  0.233333     1.000000  0.086957  0.949153  0.570383   \n",
       "3  0.6250  1.000000  0.466667     0.166667  0.043478  0.474576  0.514237   \n",
       "4  0.3750  0.636364  0.833333     0.666667  0.826087  0.067797  0.555869   \n",
       "\n",
       "   longitude  review_count  is_open  ...  review__york  review__youd  \\\n",
       "0   0.002164      0.018237      1.0  ...           0.0           0.0   \n",
       "1   0.001199      0.053476      1.0  ...           0.0           0.0   \n",
       "2   0.001972      0.086384      1.0  ...           0.0           0.0   \n",
       "3   0.002389      0.091320      1.0  ...           0.0           0.0   \n",
       "4   0.002142      0.013300      0.0  ...           0.0           0.0   \n",
       "\n",
       "   review__youll  review__young  review__your  review__youv  review__yum  \\\n",
       "0            0.0            0.0           0.0           0.0          0.0   \n",
       "1            0.0            0.0           0.0           0.0          0.0   \n",
       "2            0.0            0.0           0.0           0.0          0.0   \n",
       "3            0.0            0.0           0.0           0.0          0.0   \n",
       "4            0.0            0.0           0.0           0.0          0.0   \n",
       "\n",
       "   review__yummi  review__zero  review__zucchini  \n",
       "0            0.0           0.0               0.0  \n",
       "1            0.0           0.0               0.0  \n",
       "2            0.0           0.0               0.0  \n",
       "3            0.0           0.0               0.0  \n",
       "4            0.0           0.0               0.0  \n",
       "\n",
       "[5 rows x 2299 columns]"
      ]
     },
     "execution_count": 35,
     "metadata": {},
     "output_type": "execute_result"
    }
   ],
   "source": [
    "X_test_scaled.head()"
   ]
  },
  {
   "cell_type": "code",
   "execution_count": 36,
   "id": "d516925b",
   "metadata": {},
   "outputs": [
    {
     "data": {
      "text/html": [
       "<div>\n",
       "<style scoped>\n",
       "    .dataframe tbody tr th:only-of-type {\n",
       "        vertical-align: middle;\n",
       "    }\n",
       "\n",
       "    .dataframe tbody tr th {\n",
       "        vertical-align: top;\n",
       "    }\n",
       "\n",
       "    .dataframe thead th {\n",
       "        text-align: right;\n",
       "    }\n",
       "</style>\n",
       "<table border=\"1\" class=\"dataframe\">\n",
       "  <thead>\n",
       "    <tr style=\"text-align: right;\">\n",
       "      <th></th>\n",
       "      <th>Year</th>\n",
       "      <th>Month</th>\n",
       "      <th>Day</th>\n",
       "      <th>Day of Week</th>\n",
       "      <th>Hour</th>\n",
       "      <th>Minute</th>\n",
       "      <th>latitude</th>\n",
       "      <th>longitude</th>\n",
       "      <th>review_count</th>\n",
       "      <th>is_open</th>\n",
       "      <th>...</th>\n",
       "      <th>funny</th>\n",
       "      <th>cool</th>\n",
       "      <th>fans</th>\n",
       "      <th>average_fans_per_user</th>\n",
       "      <th>reviews_per_week</th>\n",
       "      <th>RestaurantsAttire</th>\n",
       "      <th>NoiseLevel</th>\n",
       "      <th>Alcohol</th>\n",
       "      <th>WiFi</th>\n",
       "      <th>text</th>\n",
       "    </tr>\n",
       "  </thead>\n",
       "  <tbody>\n",
       "    <tr>\n",
       "      <th>118838</th>\n",
       "      <td>2010</td>\n",
       "      <td>11</td>\n",
       "      <td>7</td>\n",
       "      <td>6</td>\n",
       "      <td>12</td>\n",
       "      <td>43</td>\n",
       "      <td>42.395293</td>\n",
       "      <td>-71.121620</td>\n",
       "      <td>350</td>\n",
       "      <td>1</td>\n",
       "      <td>...</td>\n",
       "      <td>0</td>\n",
       "      <td>0</td>\n",
       "      <td>20</td>\n",
       "      <td>9.604972</td>\n",
       "      <td>0.449520</td>\n",
       "      <td>casual</td>\n",
       "      <td>average</td>\n",
       "      <td>beer_and_wine</td>\n",
       "      <td>no</td>\n",
       "      <td>I've been waiting for the longest time to chec...</td>\n",
       "    </tr>\n",
       "    <tr>\n",
       "      <th>984277</th>\n",
       "      <td>2018</td>\n",
       "      <td>10</td>\n",
       "      <td>4</td>\n",
       "      <td>3</td>\n",
       "      <td>14</td>\n",
       "      <td>8</td>\n",
       "      <td>42.353567</td>\n",
       "      <td>-71.058031</td>\n",
       "      <td>67</td>\n",
       "      <td>1</td>\n",
       "      <td>...</td>\n",
       "      <td>0</td>\n",
       "      <td>0</td>\n",
       "      <td>0</td>\n",
       "      <td>9.179104</td>\n",
       "      <td>0.377504</td>\n",
       "      <td>casual</td>\n",
       "      <td>average</td>\n",
       "      <td>beer_and_wine</td>\n",
       "      <td>free</td>\n",
       "      <td>Great service and a very nice vibe to the plac...</td>\n",
       "    </tr>\n",
       "    <tr>\n",
       "      <th>778602</th>\n",
       "      <td>2020</td>\n",
       "      <td>8</td>\n",
       "      <td>9</td>\n",
       "      <td>6</td>\n",
       "      <td>1</td>\n",
       "      <td>19</td>\n",
       "      <td>42.340918</td>\n",
       "      <td>-71.081615</td>\n",
       "      <td>428</td>\n",
       "      <td>1</td>\n",
       "      <td>...</td>\n",
       "      <td>0</td>\n",
       "      <td>0</td>\n",
       "      <td>0</td>\n",
       "      <td>14.026846</td>\n",
       "      <td>1.700533</td>\n",
       "      <td>dressy</td>\n",
       "      <td>average</td>\n",
       "      <td>full_bar</td>\n",
       "      <td>no</td>\n",
       "      <td>Wow, what a treat! Friends raved about this re...</td>\n",
       "    </tr>\n",
       "    <tr>\n",
       "      <th>483464</th>\n",
       "      <td>2008</td>\n",
       "      <td>7</td>\n",
       "      <td>17</td>\n",
       "      <td>3</td>\n",
       "      <td>0</td>\n",
       "      <td>17</td>\n",
       "      <td>42.363968</td>\n",
       "      <td>-71.101869</td>\n",
       "      <td>251</td>\n",
       "      <td>0</td>\n",
       "      <td>...</td>\n",
       "      <td>0</td>\n",
       "      <td>0</td>\n",
       "      <td>7</td>\n",
       "      <td>16.387352</td>\n",
       "      <td>0.324529</td>\n",
       "      <td>casual</td>\n",
       "      <td>average</td>\n",
       "      <td>full_bar</td>\n",
       "      <td>no</td>\n",
       "      <td>You know, for how pricey the food is, I'm surp...</td>\n",
       "    </tr>\n",
       "    <tr>\n",
       "      <th>496132</th>\n",
       "      <td>2019</td>\n",
       "      <td>1</td>\n",
       "      <td>31</td>\n",
       "      <td>3</td>\n",
       "      <td>20</td>\n",
       "      <td>50</td>\n",
       "      <td>42.321512</td>\n",
       "      <td>-71.175672</td>\n",
       "      <td>325</td>\n",
       "      <td>1</td>\n",
       "      <td>...</td>\n",
       "      <td>0</td>\n",
       "      <td>0</td>\n",
       "      <td>0</td>\n",
       "      <td>3.878698</td>\n",
       "      <td>1.035773</td>\n",
       "      <td>casual</td>\n",
       "      <td>average</td>\n",
       "      <td>full_bar</td>\n",
       "      <td>free</td>\n",
       "      <td>It's my favorite place for a special dinner I ...</td>\n",
       "    </tr>\n",
       "  </tbody>\n",
       "</table>\n",
       "<p>5 rows × 50 columns</p>\n",
       "</div>"
      ],
      "text/plain": [
       "        Year  Month  Day  Day of Week  Hour  Minute   latitude  longitude  \\\n",
       "118838  2010     11    7            6    12      43  42.395293 -71.121620   \n",
       "984277  2018     10    4            3    14       8  42.353567 -71.058031   \n",
       "778602  2020      8    9            6     1      19  42.340918 -71.081615   \n",
       "483464  2008      7   17            3     0      17  42.363968 -71.101869   \n",
       "496132  2019      1   31            3    20      50  42.321512 -71.175672   \n",
       "\n",
       "        review_count  is_open  ...  funny  cool  fans  average_fans_per_user  \\\n",
       "118838           350        1  ...      0     0    20               9.604972   \n",
       "984277            67        1  ...      0     0     0               9.179104   \n",
       "778602           428        1  ...      0     0     0              14.026846   \n",
       "483464           251        0  ...      0     0     7              16.387352   \n",
       "496132           325        1  ...      0     0     0               3.878698   \n",
       "\n",
       "        reviews_per_week  RestaurantsAttire  NoiseLevel        Alcohol  WiFi  \\\n",
       "118838          0.449520             casual     average  beer_and_wine    no   \n",
       "984277          0.377504             casual     average  beer_and_wine  free   \n",
       "778602          1.700533             dressy     average       full_bar    no   \n",
       "483464          0.324529             casual     average       full_bar    no   \n",
       "496132          1.035773             casual     average       full_bar  free   \n",
       "\n",
       "                                                     text  \n",
       "118838  I've been waiting for the longest time to chec...  \n",
       "984277  Great service and a very nice vibe to the plac...  \n",
       "778602  Wow, what a treat! Friends raved about this re...  \n",
       "483464  You know, for how pricey the food is, I'm surp...  \n",
       "496132  It's my favorite place for a special dinner I ...  \n",
       "\n",
       "[5 rows x 50 columns]"
      ]
     },
     "execution_count": 36,
     "metadata": {},
     "output_type": "execute_result"
    }
   ],
   "source": [
    "X_train.head()"
   ]
  },
  {
   "cell_type": "code",
   "execution_count": 37,
   "id": "f51a9a8c",
   "metadata": {},
   "outputs": [],
   "source": [
    "# encoded_columns1 = full_pipeline.transformers_[1][1].get_feature_names_out()\n",
    "# encoded_columns1"
   ]
  },
  {
   "cell_type": "code",
   "execution_count": 38,
   "id": "6c48ccbd",
   "metadata": {},
   "outputs": [],
   "source": [
    "# encoded_columns2 = full_pipeline.transformers_[2][1].get_feature_names_out()\n",
    "# encoded_columns2\n",
    "# # clf.named_steps['preprocessor'].transformers_[1][1]\\\n",
    "# #    .named_steps['onehot'].get_feature_names(categorical_features)"
   ]
  },
  {
   "cell_type": "code",
   "execution_count": 39,
   "id": "8e5c401c",
   "metadata": {},
   "outputs": [
    {
     "name": "stdout",
     "output_type": "stream",
     "text": [
      "<class 'list'>\n"
     ]
    },
    {
     "data": {
      "text/plain": [
       "45"
      ]
     },
     "execution_count": 39,
     "metadata": {},
     "output_type": "execute_result"
    }
   ],
   "source": [
    "print(type(numeric_columns))\n",
    "len(numeric_columns)"
   ]
  },
  {
   "cell_type": "code",
   "execution_count": 40,
   "id": "1cb9ac79",
   "metadata": {},
   "outputs": [],
   "source": [
    "# columns = np.concatenate([numeric_columns, encoded_columns1, encoded_columns2])\n",
    "# columns.shape"
   ]
  },
  {
   "cell_type": "code",
   "execution_count": 41,
   "id": "e4f7be64",
   "metadata": {},
   "outputs": [],
   "source": [
    "# X_train_scaled = pd.DataFrame(columns=columns,data=temp_df)\n",
    "# print(X_train_scaled.shape)\n",
    "# X_train_scaled.head()"
   ]
  },
  {
   "cell_type": "code",
   "execution_count": 42,
   "id": "28c0ba51",
   "metadata": {},
   "outputs": [],
   "source": [
    "# X_train_scaled.iloc[:5, 45:60]"
   ]
  },
  {
   "cell_type": "code",
   "execution_count": 43,
   "id": "2c3c44a0",
   "metadata": {},
   "outputs": [],
   "source": [
    "# X_train.head()"
   ]
  },
  {
   "cell_type": "code",
   "execution_count": null,
   "id": "b5494877",
   "metadata": {},
   "outputs": [],
   "source": []
  },
  {
   "cell_type": "code",
   "execution_count": 44,
   "id": "86ca7581",
   "metadata": {},
   "outputs": [],
   "source": [
    "# temp_df = full_pipeline.transform(X_test).todense()\n",
    "# temp_df.shape"
   ]
  },
  {
   "cell_type": "code",
   "execution_count": 45,
   "id": "fa63cefd",
   "metadata": {},
   "outputs": [],
   "source": [
    "# X_test_scaled = pd.DataFrame(columns=columns,data=temp_df)\n",
    "# print(X_test_scaled.shape)\n",
    "# X_test_scaled.head()"
   ]
  },
  {
   "cell_type": "code",
   "execution_count": 46,
   "id": "7fb469e6",
   "metadata": {},
   "outputs": [],
   "source": [
    "# X_test_scaled.head()"
   ]
  },
  {
   "cell_type": "markdown",
   "id": "2bceb0d3",
   "metadata": {},
   "source": [
    "### Defining Custom Scoring Functions"
   ]
  },
  {
   "cell_type": "code",
   "execution_count": 47,
   "id": "42f0bfde",
   "metadata": {},
   "outputs": [],
   "source": [
    "def bound_predict(y_pred):\n",
    "    y_pred = np.where(y_pred > 5, 5, y_pred)\n",
    "    y_pred = np.where(y_pred < 1, 1, y_pred)\n",
    "    return y_pred"
   ]
  },
  {
   "cell_type": "code",
   "execution_count": 48,
   "id": "92996636",
   "metadata": {},
   "outputs": [],
   "source": [
    "def custom_mae_scorer_func(y_true, y_pred):\n",
    "    y_pred = bound_predict(y_pred)\n",
    "    return mean_absolute_error(y_true, y_pred)\n",
    "\n",
    "def custom_r2_scorer_func(y_true, y_pred):\n",
    "    y_pred = bound_predict(y_pred)\n",
    "    return r2_score(y_true, y_pred)\n",
    "\n",
    "custom_mae_scorer = make_scorer(custom_mae_scorer_func, greater_is_better=False)\n",
    "custom_r2_scorer = make_scorer(custom_r2_scorer_func, greater_is_better=True)\n",
    "\n",
    "scorer = {'custom_mae_scorer': make_scorer(custom_mae_scorer_func, greater_is_better=False),\n",
    "          'custom_r2_scorer': make_scorer(custom_r2_scorer_func, greater_is_better=True)}"
   ]
  },
  {
   "cell_type": "markdown",
   "id": "0ae964fb",
   "metadata": {},
   "source": [
    "### Dummy Model"
   ]
  },
  {
   "cell_type": "code",
   "execution_count": null,
   "id": "7847bbc7",
   "metadata": {},
   "outputs": [],
   "source": []
  },
  {
   "cell_type": "code",
   "execution_count": 49,
   "id": "43c58ca5",
   "metadata": {},
   "outputs": [
    {
     "data": {
      "text/plain": [
       "DummyRegressor()"
      ]
     },
     "execution_count": 49,
     "metadata": {},
     "output_type": "execute_result"
    }
   ],
   "source": [
    "dummy_reg = DummyRegressor(strategy=\"mean\")\n",
    "dummy_reg.fit(X_test_scaled, y_test)"
   ]
  },
  {
   "cell_type": "code",
   "execution_count": 50,
   "id": "f807a7aa",
   "metadata": {},
   "outputs": [
    {
     "data": {
      "text/plain": [
       "1.1557340095801636"
      ]
     },
     "execution_count": 50,
     "metadata": {},
     "output_type": "execute_result"
    }
   ],
   "source": [
    "prediction = dummy_reg.predict(X_test_scaled)\n",
    "mean_absolute_error(y_test, prediction)"
   ]
  },
  {
   "cell_type": "code",
   "execution_count": 51,
   "id": "566a43a6",
   "metadata": {},
   "outputs": [
    {
     "data": {
      "text/plain": [
       "1.1557340095801636"
      ]
     },
     "execution_count": 51,
     "metadata": {},
     "output_type": "execute_result"
    }
   ],
   "source": [
    "custom_mae_scorer_func(y_test, prediction)"
   ]
  },
  {
   "cell_type": "markdown",
   "id": "00ae54ff",
   "metadata": {},
   "source": [
    "### Linear Regression"
   ]
  },
  {
   "cell_type": "markdown",
   "id": "d34226c1",
   "metadata": {},
   "source": [
    "#### Default Parameters"
   ]
  },
  {
   "cell_type": "code",
   "execution_count": 52,
   "id": "a3e2f869",
   "metadata": {},
   "outputs": [
    {
     "name": "stdout",
     "output_type": "stream",
     "text": [
      "CPU times: user 5min 41s, sys: 15.6 s, total: 5min 57s\n",
      "Wall time: 38.5 s\n"
     ]
    }
   ],
   "source": [
    "%%time\n",
    "# Define the model\n",
    "lin_reg = LinearRegression()\n",
    "\n",
    "# Cross validation score\n",
    "# scores = cross_validate(lin_reg, X_train_scaled, y_train, cv=5,\n",
    "#                                scoring=('custom_mae_scorer', 'custom_r2_scorer', 'r2'))\n",
    "\n",
    "scores = cross_validate(lin_reg, X_train_scaled, y_train, cv=5,\n",
    "                               scoring=scorer)"
   ]
  },
  {
   "cell_type": "code",
   "execution_count": 53,
   "id": "c8e01db0",
   "metadata": {},
   "outputs": [
    {
     "data": {
      "text/plain": [
       "{'fit_time': array([7.89955211, 7.58243704, 7.94271684, 7.74817085, 7.13500595]),\n",
       " 'score_time': array([0.02330589, 0.02205706, 0.02975321, 0.02034903, 0.02021694]),\n",
       " 'test_custom_mae_scorer': array([-0.76372185, -0.77400578, -0.76263678, -0.74664564, -0.76812259]),\n",
       " 'test_custom_r2_scorer': array([0.46901302, 0.45719674, 0.48465172, 0.47051825, 0.4534098 ])}"
      ]
     },
     "execution_count": 53,
     "metadata": {},
     "output_type": "execute_result"
    }
   ],
   "source": [
    "scores"
   ]
  },
  {
   "cell_type": "code",
   "execution_count": 54,
   "id": "21a34a0d",
   "metadata": {},
   "outputs": [
    {
     "name": "stdout",
     "output_type": "stream",
     "text": [
      "MAE Score:\n",
      "[0.76372185 0.77400578 0.76263678 0.74664564 0.76812259]\n",
      "0.7630265289314453\n",
      "\n",
      "\n",
      "R^2 Score:\n",
      "[0.46901302 0.45719674 0.48465172 0.47051825 0.4534098 ]\n",
      "0.46695790474628707\n"
     ]
    }
   ],
   "source": [
    "print('MAE Score:')\n",
    "print(-scores['test_custom_mae_scorer'])\n",
    "print(np.mean(-scores['test_custom_mae_scorer']))\n",
    "print('\\n')\n",
    "\n",
    "print('R^2 Score:')\n",
    "print(scores['test_custom_r2_scorer'])\n",
    "print(np.mean(scores['test_custom_r2_scorer']))"
   ]
  },
  {
   "cell_type": "code",
   "execution_count": 55,
   "id": "785930cb",
   "metadata": {},
   "outputs": [],
   "source": [
    "# # Evaluate the model\n",
    "# lin_reg.fit(X_train, y_train)\n",
    "\n",
    "# prediction = lin_reg.predict(X_test)\n",
    "\n",
    "# print(f'The R^2 score is: {r2_score(y_test, prediction)}')\n",
    "# print(f'The MAE is: {mean_absolute_error(y_test, prediction)}')"
   ]
  },
  {
   "cell_type": "code",
   "execution_count": 56,
   "id": "3f96fda2",
   "metadata": {},
   "outputs": [],
   "source": [
    "# fitted_values = lin_reg.predict(X_train)\n",
    "# residuals = (y_train - fitted_values)\n",
    "\n",
    "# plt.figure(figsize=(15,10))\n",
    "# plt.scatter(fitted_values, residuals)\n",
    "# plt.xlabel('Fitted Values')\n",
    "# plt.ylabel('Residuals')\n",
    "# plt.title('Residual Plot', fontsize=20)\n",
    "# plt.show()"
   ]
  },
  {
   "cell_type": "markdown",
   "id": "f167bc8c",
   "metadata": {},
   "source": [
    "#### Adding L2 Regularization"
   ]
  },
  {
   "cell_type": "code",
   "execution_count": 57,
   "id": "5ab4de9f",
   "metadata": {},
   "outputs": [],
   "source": [
    "# # Define the model\n",
    "# ridge_reg = Ridge(alpha=1.0)\n",
    "\n",
    "# # Cross validation score\n",
    "# scores = cross_validate(ridge_reg, X_train_scaled, y_train, cv=5,\n",
    "#                                scoring=('neg_mean_absolute_error', 'neg_mean_squared_error', 'r2'))\n",
    "\n",
    "# print('MAE Score:')\n",
    "# print(-scores['test_neg_mean_absolute_error'])\n",
    "# print(np.mean(-scores['test_neg_mean_absolute_error']))\n",
    "# print('\\n')\n",
    "\n",
    "\n",
    "# print('R^2 Score:')\n",
    "# print(scores['test_r2'])\n",
    "# print(np.mean(scores['test_r2']))"
   ]
  },
  {
   "cell_type": "code",
   "execution_count": 58,
   "id": "5c3f696b",
   "metadata": {},
   "outputs": [
    {
     "name": "stdout",
     "output_type": "stream",
     "text": [
      "CPU times: user 4min 45s, sys: 14 s, total: 4min 59s\n",
      "Wall time: 29.7 s\n"
     ]
    },
    {
     "data": {
      "text/html": [
       "<div>\n",
       "<style scoped>\n",
       "    .dataframe tbody tr th:only-of-type {\n",
       "        vertical-align: middle;\n",
       "    }\n",
       "\n",
       "    .dataframe tbody tr th {\n",
       "        vertical-align: top;\n",
       "    }\n",
       "\n",
       "    .dataframe thead th {\n",
       "        text-align: right;\n",
       "    }\n",
       "</style>\n",
       "<table border=\"1\" class=\"dataframe\">\n",
       "  <thead>\n",
       "    <tr style=\"text-align: right;\">\n",
       "      <th></th>\n",
       "      <th>alpha</th>\n",
       "      <th>MAE</th>\n",
       "      <th>R-squared</th>\n",
       "    </tr>\n",
       "  </thead>\n",
       "  <tbody>\n",
       "    <tr>\n",
       "      <th>0</th>\n",
       "      <td>0.0001</td>\n",
       "      <td>0.763029</td>\n",
       "      <td>0.466960</td>\n",
       "    </tr>\n",
       "    <tr>\n",
       "      <th>1</th>\n",
       "      <td>0.0010</td>\n",
       "      <td>0.763028</td>\n",
       "      <td>0.467058</td>\n",
       "    </tr>\n",
       "    <tr>\n",
       "      <th>2</th>\n",
       "      <td>0.0100</td>\n",
       "      <td>0.762673</td>\n",
       "      <td>0.467748</td>\n",
       "    </tr>\n",
       "    <tr>\n",
       "      <th>3</th>\n",
       "      <td>0.1000</td>\n",
       "      <td>0.759523</td>\n",
       "      <td>0.473543</td>\n",
       "    </tr>\n",
       "    <tr>\n",
       "      <th>4</th>\n",
       "      <td>1.0000</td>\n",
       "      <td>0.742366</td>\n",
       "      <td>0.504841</td>\n",
       "    </tr>\n",
       "    <tr>\n",
       "      <th>5</th>\n",
       "      <td>10.0000</td>\n",
       "      <td>0.733272</td>\n",
       "      <td>0.535033</td>\n",
       "    </tr>\n",
       "    <tr>\n",
       "      <th>6</th>\n",
       "      <td>100.0000</td>\n",
       "      <td>0.833792</td>\n",
       "      <td>0.429761</td>\n",
       "    </tr>\n",
       "    <tr>\n",
       "      <th>7</th>\n",
       "      <td>1000.0000</td>\n",
       "      <td>1.042555</td>\n",
       "      <td>0.162623</td>\n",
       "    </tr>\n",
       "  </tbody>\n",
       "</table>\n",
       "</div>"
      ],
      "text/plain": [
       "       alpha       MAE  R-squared\n",
       "0     0.0001  0.763029   0.466960\n",
       "1     0.0010  0.763028   0.467058\n",
       "2     0.0100  0.762673   0.467748\n",
       "3     0.1000  0.759523   0.473543\n",
       "4     1.0000  0.742366   0.504841\n",
       "5    10.0000  0.733272   0.535033\n",
       "6   100.0000  0.833792   0.429761\n",
       "7  1000.0000  1.042555   0.162623"
      ]
     },
     "execution_count": 58,
     "metadata": {},
     "output_type": "execute_result"
    }
   ],
   "source": [
    "%%time\n",
    "\n",
    "scores = pd.DataFrame(columns=['alpha', 'MAE', 'R-squared'])\n",
    "\n",
    "for power in range(-4, 4, 1):\n",
    "    alpha = 10**power\n",
    "    ridge_reg = Ridge(alpha=alpha)\n",
    "\n",
    "    \n",
    "    cv_scores = cross_validate(ridge_reg, X_train_scaled, y_train, cv=5,\n",
    "                               scoring=scorer)\n",
    "\n",
    "    scores = scores.append({'alpha': alpha,\n",
    "                                    'MAE': np.mean(-cv_scores['test_custom_mae_scorer']),\n",
    "                                    'R-squared': np.mean(cv_scores['test_custom_r2_scorer'])}, ignore_index=True)\n",
    "    \n",
    "    \n",
    "scores\n",
    "    "
   ]
  },
  {
   "cell_type": "code",
   "execution_count": 59,
   "id": "f3333974",
   "metadata": {},
   "outputs": [],
   "source": [
    "def regression_plots(scores, model_description):\n",
    "    plt.subplots(1,2, figsize=(15,5))\n",
    "    plt.subplot(1,2,1)\n",
    "    plt.plot(scores['alpha'], scores['MAE'], label='Mean Absolute Error', color='orange')\n",
    "    plt.xscale('log')\n",
    "    plt.legend()\n",
    "    plt.title('MAE Variation with ' + model_description)\n",
    "    plt.xlabel('Alpha')\n",
    "\n",
    "\n",
    "#     plt.subplot(1,3,2)\n",
    "#     plt.plot(scores['alpha'], scores['RMSE'], label='Root Mean Squared Error', color='blue')\n",
    "#     plt.xscale('log')\n",
    "#     plt.legend()\n",
    "#     plt.title('RMSE variation with ' + model_description)\n",
    "#     plt.xlabel('Alpha')\n",
    "\n",
    "    plt.subplot(1,2,2)\n",
    "    plt.plot(scores['alpha'], scores['R-squared'], label='R^2', color='green')\n",
    "    plt.xscale('log')\n",
    "    plt.legend()\n",
    "    plt.title('R^2 variation with ' + model_description)\n",
    "    plt.xlabel('Alpha')\n",
    "\n",
    "    plt.tight_layout()\n",
    "    plt.show()\n",
    "    "
   ]
  },
  {
   "cell_type": "code",
   "execution_count": 60,
   "id": "f721c45f",
   "metadata": {},
   "outputs": [
    {
     "data": {
      "image/png": "[encoded data removed]",
      "text/plain": [
       "<Figure size 1080x360 with 2 Axes>"
      ]
     },
     "metadata": {
      "needs_background": "light"
     },
     "output_type": "display_data"
    }
   ],
   "source": [
    "regression_plots(scores, 'L2 Regularization')"
   ]
  },
  {
   "cell_type": "code",
   "execution_count": 61,
   "id": "b2f84ab8",
   "metadata": {},
   "outputs": [],
   "source": [
    "def plot_fitted_values(fitted_values, y, model_description):\n",
    "    plt.figure(figsize=(10,5))\n",
    "    plt.scatter(fitted_values, y, alpha=0.1)\n",
    "    plt.title('Fitted versus Actual Values for ' + model_description)\n",
    "    plt.xlabel('Fitted Values')\n",
    "    plt.ylabel('Actual Values')\n",
    "\n",
    "plt.show()\n",
    "    "
   ]
  },
  {
   "cell_type": "code",
   "execution_count": 62,
   "id": "f4895280",
   "metadata": {},
   "outputs": [
    {
     "name": "stdout",
     "output_type": "stream",
     "text": [
      "0.6498059600280648\n",
      "0.6304765532110117\n"
     ]
    }
   ],
   "source": [
    "ridge_reg = Ridge(alpha=10)\n",
    "ridge_reg.fit(X_train_scaled, y_train)\n",
    "fitted_values = bound_predict(ridge_reg.predict(X_train_scaled))\n",
    "print(custom_mae_scorer_func(y_train, fitted_values))\n",
    "print(custom_r2_scorer_func(y_train, fitted_values))"
   ]
  },
  {
   "cell_type": "code",
   "execution_count": 63,
   "id": "05843738",
   "metadata": {},
   "outputs": [
    {
     "data": {
      "image/png": "[encoded data removed]",
      "text/plain": [
       "<Figure size 720x360 with 1 Axes>"
      ]
     },
     "metadata": {
      "needs_background": "light"
     },
     "output_type": "display_data"
    }
   ],
   "source": [
    "plot_fitted_values(fitted_values, y_train, 'L2 Regularization')"
   ]
  },
  {
   "cell_type": "code",
   "execution_count": 64,
   "id": "c4f8df0f",
   "metadata": {
    "scrolled": false
   },
   "outputs": [
    {
     "name": "stdout",
     "output_type": "stream",
     "text": [
      "0.7284570450113259\n",
      "0.5328996207391679\n"
     ]
    },
    {
     "data": {
      "image/png": "[encoded data removed]",
      "text/plain": [
       "<Figure size 720x360 with 1 Axes>"
      ]
     },
     "metadata": {
      "needs_background": "light"
     },
     "output_type": "display_data"
    }
   ],
   "source": [
    "fitted_values = bound_predict(ridge_reg.predict(X_test_scaled))\n",
    "print(mean_absolute_error(y_test, fitted_values))\n",
    "print(r2_score(y_test, fitted_values))\n",
    "plot_fitted_values(fitted_values, y_test, 'L2 Regularization')"
   ]
  },
  {
   "cell_type": "code",
   "execution_count": 65,
   "id": "d4749544",
   "metadata": {},
   "outputs": [],
   "source": [
    "# residuals = ridge_reg.predict(X_train_scaled) - y_train"
   ]
  },
  {
   "cell_type": "code",
   "execution_count": 66,
   "id": "ccf5a351",
   "metadata": {},
   "outputs": [],
   "source": [
    "# def plot_residuals(X_train, residuals):\n",
    "#     num_rows = int(np.ceil(X_train.shape[1]/4))\n",
    "#     plt.subplots(num_rows, 4, figsize=(15,20))\n",
    "    \n",
    "#     for i in range(0, X_train.shape[1]):\n",
    "#         plt.subplot(num_rows, 4, i+1)\n",
    "#         plt.scatter(X_train.iloc[:,i], residuals, alpha=0.1)\n",
    "#         plt.xlabel(X_train.columns[i])\n",
    "        \n",
    "    \n",
    "#     plt.tight_layout()\n",
    "#     plt.show()\n",
    "                 \n",
    "                 "
   ]
  },
  {
   "cell_type": "code",
   "execution_count": 67,
   "id": "1dfbcc84",
   "metadata": {},
   "outputs": [],
   "source": [
    "#plot_residuals(X_train, residuals)"
   ]
  },
  {
   "cell_type": "markdown",
   "id": "ebc38ab2",
   "metadata": {},
   "source": [
    "#### Adding L1 Regularization"
   ]
  },
  {
   "cell_type": "code",
   "execution_count": 68,
   "id": "44f30bc6",
   "metadata": {},
   "outputs": [],
   "source": [
    "# # Define the model\n",
    "# lasso_reg = Lasso(alpha=1.0)\n",
    "\n",
    "# # Cross validation score\n",
    "# scores = cross_validate(lasso_reg, X_train_scaled, y_train, cv=5,\n",
    "#                                scoring=('neg_mean_absolute_error', 'neg_mean_squared_error', 'r2'))\n",
    "\n",
    "# print('MAE Score:')\n",
    "# print(-scores['test_neg_mean_absolute_error'])\n",
    "# print(np.mean(-scores['test_neg_mean_absolute_error']))\n",
    "# print('\\n')\n",
    "\n",
    "\n",
    "# print('R^2 Score:')\n",
    "# print(scores['test_r2'])\n",
    "# print(np.mean(scores['test_r2']))"
   ]
  },
  {
   "cell_type": "code",
   "execution_count": 69,
   "id": "32426e91",
   "metadata": {},
   "outputs": [
    {
     "name": "stdout",
     "output_type": "stream",
     "text": [
      "CPU times: user 4min 32s, sys: 14.1 s, total: 4min 46s\n",
      "Wall time: 48.2 s\n"
     ]
    },
    {
     "data": {
      "text/html": [
       "<div>\n",
       "<style scoped>\n",
       "    .dataframe tbody tr th:only-of-type {\n",
       "        vertical-align: middle;\n",
       "    }\n",
       "\n",
       "    .dataframe tbody tr th {\n",
       "        vertical-align: top;\n",
       "    }\n",
       "\n",
       "    .dataframe thead th {\n",
       "        text-align: right;\n",
       "    }\n",
       "</style>\n",
       "<table border=\"1\" class=\"dataframe\">\n",
       "  <thead>\n",
       "    <tr style=\"text-align: right;\">\n",
       "      <th></th>\n",
       "      <th>alpha</th>\n",
       "      <th>MAE</th>\n",
       "      <th>R-squared</th>\n",
       "    </tr>\n",
       "  </thead>\n",
       "  <tbody>\n",
       "    <tr>\n",
       "      <th>0</th>\n",
       "      <td>0.0001</td>\n",
       "      <td>0.732567</td>\n",
       "      <td>0.521689</td>\n",
       "    </tr>\n",
       "    <tr>\n",
       "      <th>1</th>\n",
       "      <td>0.0010</td>\n",
       "      <td>0.752144</td>\n",
       "      <td>0.514330</td>\n",
       "    </tr>\n",
       "    <tr>\n",
       "      <th>2</th>\n",
       "      <td>0.0100</td>\n",
       "      <td>0.995499</td>\n",
       "      <td>0.232128</td>\n",
       "    </tr>\n",
       "    <tr>\n",
       "      <th>3</th>\n",
       "      <td>0.1000</td>\n",
       "      <td>1.155397</td>\n",
       "      <td>-0.000224</td>\n",
       "    </tr>\n",
       "    <tr>\n",
       "      <th>4</th>\n",
       "      <td>1.0000</td>\n",
       "      <td>1.155397</td>\n",
       "      <td>-0.000224</td>\n",
       "    </tr>\n",
       "    <tr>\n",
       "      <th>5</th>\n",
       "      <td>10.0000</td>\n",
       "      <td>1.155397</td>\n",
       "      <td>-0.000224</td>\n",
       "    </tr>\n",
       "    <tr>\n",
       "      <th>6</th>\n",
       "      <td>100.0000</td>\n",
       "      <td>1.155397</td>\n",
       "      <td>-0.000224</td>\n",
       "    </tr>\n",
       "    <tr>\n",
       "      <th>7</th>\n",
       "      <td>1000.0000</td>\n",
       "      <td>1.155397</td>\n",
       "      <td>-0.000224</td>\n",
       "    </tr>\n",
       "  </tbody>\n",
       "</table>\n",
       "</div>"
      ],
      "text/plain": [
       "       alpha       MAE  R-squared\n",
       "0     0.0001  0.732567   0.521689\n",
       "1     0.0010  0.752144   0.514330\n",
       "2     0.0100  0.995499   0.232128\n",
       "3     0.1000  1.155397  -0.000224\n",
       "4     1.0000  1.155397  -0.000224\n",
       "5    10.0000  1.155397  -0.000224\n",
       "6   100.0000  1.155397  -0.000224\n",
       "7  1000.0000  1.155397  -0.000224"
      ]
     },
     "execution_count": 69,
     "metadata": {},
     "output_type": "execute_result"
    }
   ],
   "source": [
    "%%time\n",
    "\n",
    "scores = pd.DataFrame(columns=['alpha', 'MAE', 'R-squared'])\n",
    "\n",
    "for power in range(-4, 4, 1):\n",
    "    alpha = 10**power\n",
    "    lasso_reg = Lasso(alpha=alpha)\n",
    "\n",
    "    \n",
    "    cv_scores = cross_validate(lasso_reg, X_train_scaled, y_train, cv=5,\n",
    "                               scoring=scorer)\n",
    "\n",
    "    scores = scores.append({'alpha': alpha,\n",
    "                                    'MAE': np.mean(-cv_scores['test_custom_mae_scorer']),\n",
    "                                    'R-squared': np.mean(cv_scores['test_custom_r2_scorer'])}, ignore_index=True)\n",
    "    \n",
    "    \n",
    "scores"
   ]
  },
  {
   "cell_type": "code",
   "execution_count": 70,
   "id": "3294c4a4",
   "metadata": {},
   "outputs": [
    {
     "data": {
      "image/png": "[encoded data removed]",
      "text/plain": [
       "<Figure size 1080x360 with 2 Axes>"
      ]
     },
     "metadata": {
      "needs_background": "light"
     },
     "output_type": "display_data"
    }
   ],
   "source": [
    "regression_plots(scores, 'L1 Regularization')"
   ]
  },
  {
   "cell_type": "code",
   "execution_count": 71,
   "id": "670b602c",
   "metadata": {},
   "outputs": [
    {
     "name": "stdout",
     "output_type": "stream",
     "text": [
      "0.7311139418132043\n",
      "0.5418357787531771\n"
     ]
    },
    {
     "data": {
      "image/png": "[encoded data removed]",
      "text/plain": [
       "<Figure size 720x360 with 1 Axes>"
      ]
     },
     "metadata": {
      "needs_background": "light"
     },
     "output_type": "display_data"
    }
   ],
   "source": [
    "final_lasso_reg = Lasso(alpha=10**(-3))\n",
    "final_lasso_reg.fit(X_train_scaled, y_train)\n",
    "fitted_values = bound_predict(final_lasso_reg.predict(X_train_scaled))\n",
    "print(mean_absolute_error(y_train, fitted_values))\n",
    "print(r2_score(y_train, fitted_values))\n",
    "plot_fitted_values(fitted_values, y_train, 'L1 Regularization')"
   ]
  },
  {
   "cell_type": "code",
   "execution_count": 72,
   "id": "02f46a42",
   "metadata": {},
   "outputs": [
    {
     "name": "stdout",
     "output_type": "stream",
     "text": [
      "0.7462326196545936\n",
      "0.5195970651071462\n"
     ]
    },
    {
     "data": {
      "image/png": "[encoded data removed]",
      "text/plain": [
       "<Figure size 720x360 with 1 Axes>"
      ]
     },
     "metadata": {
      "needs_background": "light"
     },
     "output_type": "display_data"
    }
   ],
   "source": [
    "fitted_values = bound_predict(final_lasso_reg.predict(X_test_scaled))\n",
    "print(mean_absolute_error(y_test, fitted_values))\n",
    "print(r2_score(y_test, fitted_values))\n",
    "plot_fitted_values(fitted_values, y_test, 'L1 Regularization')"
   ]
  },
  {
   "cell_type": "markdown",
   "id": "cd482467",
   "metadata": {},
   "source": [
    "#### Most Predictive Words"
   ]
  },
  {
   "cell_type": "code",
   "execution_count": 73,
   "id": "a2202e8b",
   "metadata": {},
   "outputs": [
    {
     "data": {
      "text/plain": [
       "2246"
      ]
     },
     "execution_count": 73,
     "metadata": {},
     "output_type": "execute_result"
    }
   ],
   "source": [
    "tokens = [column for column in X_train_scaled.columns if 'review__' in column]\n",
    "len(tokens)"
   ]
  },
  {
   "cell_type": "code",
   "execution_count": 74,
   "id": "f682dd6c",
   "metadata": {},
   "outputs": [
    {
     "data": {
      "text/plain": [
       "53"
      ]
     },
     "execution_count": 74,
     "metadata": {},
     "output_type": "execute_result"
    }
   ],
   "source": [
    "first_token_index = X_train_scaled.columns.get_loc(tokens[0])\n",
    "first_token_index"
   ]
  },
  {
   "cell_type": "code",
   "execution_count": 75,
   "id": "258edf75",
   "metadata": {},
   "outputs": [
    {
     "data": {
      "text/html": [
       "<div>\n",
       "<style scoped>\n",
       "    .dataframe tbody tr th:only-of-type {\n",
       "        vertical-align: middle;\n",
       "    }\n",
       "\n",
       "    .dataframe tbody tr th {\n",
       "        vertical-align: top;\n",
       "    }\n",
       "\n",
       "    .dataframe thead th {\n",
       "        text-align: right;\n",
       "    }\n",
       "</style>\n",
       "<table border=\"1\" class=\"dataframe\">\n",
       "  <thead>\n",
       "    <tr style=\"text-align: right;\">\n",
       "      <th></th>\n",
       "      <th>coefficient</th>\n",
       "      <th>token</th>\n",
       "    </tr>\n",
       "  </thead>\n",
       "  <tbody>\n",
       "    <tr>\n",
       "      <th>257</th>\n",
       "      <td>1.637508</td>\n",
       "      <td>best</td>\n",
       "    </tr>\n",
       "    <tr>\n",
       "      <th>935</th>\n",
       "      <td>1.491703</td>\n",
       "      <td>great</td>\n",
       "    </tr>\n",
       "    <tr>\n",
       "      <th>129</th>\n",
       "      <td>1.234554</td>\n",
       "      <td>amaz</td>\n",
       "    </tr>\n",
       "    <tr>\n",
       "      <th>753</th>\n",
       "      <td>1.132329</td>\n",
       "      <td>excel</td>\n",
       "    </tr>\n",
       "    <tr>\n",
       "      <th>603</th>\n",
       "      <td>1.065847</td>\n",
       "      <td>delici</td>\n",
       "    </tr>\n",
       "  </tbody>\n",
       "</table>\n",
       "</div>"
      ],
      "text/plain": [
       "     coefficient   token\n",
       "257     1.637508    best\n",
       "935     1.491703   great\n",
       "129     1.234554    amaz\n",
       "753     1.132329   excel\n",
       "603     1.065847  delici"
      ]
     },
     "execution_count": 75,
     "metadata": {},
     "output_type": "execute_result"
    }
   ],
   "source": [
    "token_coef_df = pd.DataFrame({'coefficient': [ridge_reg.coef_[i] for i in range(first_token_index,\n",
    "                                                                                      X_train_scaled.shape[1],1)],\n",
    "                             'token': pd.Series(tokens).str.replace('review__', '')}).sort_values(\"coefficient\", ascending=False)\n",
    "\n",
    "token_coef_df.head()"
   ]
  },
  {
   "cell_type": "code",
   "execution_count": 76,
   "id": "17dfb07d",
   "metadata": {},
   "outputs": [
    {
     "data": {
      "image/png": "[encoded data removed]",
      "text/plain": [
       "<Figure size 720x576 with 2 Axes>"
      ]
     },
     "metadata": {
      "needs_background": "light"
     },
     "output_type": "display_data"
    }
   ],
   "source": [
    "# Plot the top 20 most predictive words\n",
    "fig, ax = plt.subplots(2, 1, figsize=(10, 8))\n",
    "\n",
    "# Most predictive words of a positive review\n",
    "token_coef_df.head(20).set_index(\"token\").plot(kind=\"bar\", rot=45, ax=ax[0], color=\"blue\", legend=False)\n",
    "ax[0].set_title(\"Top 20 Most Predicitive Words of Positive Review\", fontsize=20)\n",
    "ax[0].set_ylabel('Coefficient')\n",
    "\n",
    "# Most predictive words of a negative review\n",
    "token_coef_df.tail(20).set_index(\"token\").plot(kind=\"bar\", rot=45, ax=ax[1], color=\"red\", legend=False)\n",
    "ax[1].set_title(\"Top 20 Most Predicitive Words of Negative Review\", fontsize=20)\n",
    "ax[1].set_ylabel('Coefficient')\n",
    "\n",
    "sns.despine()\n",
    "plt.tight_layout()\n",
    "plt.show()"
   ]
  },
  {
   "cell_type": "code",
   "execution_count": 77,
   "id": "82f789a9",
   "metadata": {},
   "outputs": [
    {
     "data": {
      "image/png": "[encoded data removed]",
      "text/plain": [
       "<Figure size 1080x720 with 1 Axes>"
      ]
     },
     "metadata": {
      "needs_background": "light"
     },
     "output_type": "display_data"
    }
   ],
   "source": [
    "plt.figure(figsize=(15,10))\n",
    "plt.barh(token_coef_df['token'].head(20),token_coef_df.head(20)[\"coefficient\"])\n",
    "plt.barh(token_coef_df['token'].tail(20),token_coef_df.tail(20)[\"coefficient\"])\n",
    "\n",
    "plt.show()"
   ]
  },
  {
   "cell_type": "code",
   "execution_count": 78,
   "id": "ee4a731d",
   "metadata": {},
   "outputs": [
    {
     "name": "stdout",
     "output_type": "stream",
     "text": [
      "CPU times: user 1.41 s, sys: 117 ms, total: 1.53 s\n",
      "Wall time: 1.53 s\n"
     ]
    }
   ],
   "source": [
    "%%time\n",
    "\n",
    "# full_pipeline = ColumnTransformer([\n",
    "#     ('num', MinMaxScaler(), numeric_columns),\n",
    "#     ('cat', OneHotEncoder(drop='first'), categorical_columns),\n",
    "#     ('review', ReviewTextTransformer(), 'text')\n",
    "# ])\n",
    "\n",
    "tfidf_pipeline = ColumnTransformer([\n",
    "    ('num', MinMaxScaler(), numeric_columns),\n",
    "    ('cat', OneHotEncoder(drop='first'), categorical_columns),\n",
    "    ('review', CountVectorizer(stop_words= 'english', min_df=10), 'text')\n",
    "])\n",
    "\n",
    "tfidf_pipeline.fit(X_train)\n",
    "temp_df = tfidf_pipeline.transform(X_train).todense()"
   ]
  },
  {
   "cell_type": "markdown",
   "id": "5437cc1d",
   "metadata": {},
   "source": [
    "### Decision Tree"
   ]
  },
  {
   "cell_type": "code",
   "execution_count": 67,
   "id": "dd6fab6e",
   "metadata": {},
   "outputs": [
    {
     "name": "stdout",
     "output_type": "stream",
     "text": [
      "0.6308462879217522\n",
      "0.5986353600699075\n"
     ]
    }
   ],
   "source": [
    "DT_model = DecisionTreeRegressor(max_depth=25, min_samples_leaf=10, random_state=0)\n",
    "DT_model.fit(X_train_scaled, y_train)\n",
    "\n",
    "print(mean_absolute_error(y_train, DT_model.predict(X_train_scaled)))\n",
    "print(r2_score(y_train, DT_model.predict(X_train_scaled)))"
   ]
  },
  {
   "cell_type": "code",
   "execution_count": 68,
   "id": "7ae8db42",
   "metadata": {},
   "outputs": [
    {
     "name": "stdout",
     "output_type": "stream",
     "text": [
      "0.8719392786106255\n",
      "0.2689292754202337\n"
     ]
    },
    {
     "data": {
      "image/png": "[encoded data removed]",
      "text/plain": [
       "<Figure size 720x360 with 1 Axes>"
      ]
     },
     "metadata": {
      "needs_background": "light"
     },
     "output_type": "display_data"
    }
   ],
   "source": [
    "fitted_values = DT_model.predict(X_test_scaled)\n",
    "print(mean_absolute_error(y_test, fitted_values))\n",
    "print(r2_score(y_test, fitted_values))\n",
    "plot_fitted_values(fitted_values, y_test, 'L1 Regularization')"
   ]
  },
  {
   "cell_type": "code",
   "execution_count": 64,
   "id": "3692aace",
   "metadata": {},
   "outputs": [
    {
     "data": {
      "text/plain": [
       "78"
      ]
     },
     "execution_count": 64,
     "metadata": {},
     "output_type": "execute_result"
    }
   ],
   "source": [
    "DT_model.get_depth()"
   ]
  },
  {
   "cell_type": "code",
   "execution_count": 63,
   "id": "9c6f63ba",
   "metadata": {},
   "outputs": [],
   "source": [
    "# residuals = DT_model.predict(X_train) - y_train\n",
    "\n",
    "# plot_residuals(X_train, residuals)"
   ]
  },
  {
   "cell_type": "code",
   "execution_count": 69,
   "id": "18f0a4f2",
   "metadata": {},
   "outputs": [
    {
     "name": "stdout",
     "output_type": "stream",
     "text": [
      "MAE Score:\n",
      "[0.89934371 0.94398657 0.96039377 0.89143381 0.94655673]\n",
      "0.9283429173259682\n",
      "\n",
      "\n",
      "R^2 Score:\n",
      "[ 0.05919403 -0.00530444 -0.01732993  0.09164852 -0.00296373]\n",
      "0.025048890064847295\n"
     ]
    }
   ],
   "source": [
    "%%time\n",
    "\n",
    "DT_model = DecisionTreeRegressor(min_samples_leaf=2, random_state=0)\n",
    "\n",
    "# Cross validation score\n",
    "scores = cross_validate(DT_model, X_train_scaled, y_train, cv=5,\n",
    "                               scoring=scorer)\n",
    "\n",
    "print('MAE Score:')\n",
    "print(-scores['test_custom_mae_scorer'])\n",
    "print(np.mean(-scores['test_custom_mae_scorer']))\n",
    "print('\\n')\n",
    "\n",
    "\n",
    "print('R^2 Score:')\n",
    "print(scores['test_custom_r2_scorer'])\n",
    "print(np.mean(scores['test_custom_r2_scorer']))\n"
   ]
  },
  {
   "cell_type": "code",
   "execution_count": 40,
   "id": "d001018f",
   "metadata": {},
   "outputs": [
    {
     "name": "stdout",
     "output_type": "stream",
     "text": [
      "CPU times: user 2min 35s, sys: 2.9 s, total: 2min 38s\n",
      "Wall time: 2min 38s\n"
     ]
    },
    {
     "data": {
      "text/plain": [
       "GridSearchCV(cv=5, estimator=DecisionTreeRegressor(),\n",
       "             param_grid=[{'max_depth': [25, 50, 70],\n",
       "                          'min_samples_leaf': [2, 4, 6]}],\n",
       "             refit='custom_mae_scorer',\n",
       "             scoring={'custom_mae_scorer': make_scorer(custom_mae_scorer_func, greater_is_better=False),\n",
       "                      'custom_r2_scorer': make_scorer(custom_r2_scorer_func)})"
      ]
     },
     "execution_count": 40,
     "metadata": {},
     "output_type": "execute_result"
    }
   ],
   "source": [
    "%%time\n",
    "\n",
    "DT_reg = DecisionTreeRegressor()\n",
    "\n",
    "param_grid = [{'max_depth': [25, 50, 70], 'min_samples_leaf': [2, 4, 6]}]\n",
    "\n",
    "grid_search = GridSearchCV(DT_reg, param_grid, cv=5, scoring=scorer, refit='custom_mae_scorer')\n",
    "\n",
    "grid_search.fit(X_train_scaled, y_train)"
   ]
  },
  {
   "cell_type": "code",
   "execution_count": 41,
   "id": "4c9db208",
   "metadata": {},
   "outputs": [
    {
     "data": {
      "text/plain": [
       "{'max_depth': 25, 'min_samples_leaf': 6}"
      ]
     },
     "execution_count": 41,
     "metadata": {},
     "output_type": "execute_result"
    }
   ],
   "source": [
    "grid_search.best_params_"
   ]
  },
  {
   "cell_type": "code",
   "execution_count": 42,
   "id": "aba13a3f",
   "metadata": {},
   "outputs": [
    {
     "data": {
      "text/plain": [
       "DecisionTreeRegressor(max_depth=25, min_samples_leaf=6)"
      ]
     },
     "execution_count": 42,
     "metadata": {},
     "output_type": "execute_result"
    }
   ],
   "source": [
    "best_DT_reg = grid_search.best_estimator_\n",
    "best_DT_reg"
   ]
  },
  {
   "cell_type": "code",
   "execution_count": 77,
   "id": "532f1429",
   "metadata": {},
   "outputs": [
    {
     "name": "stdout",
     "output_type": "stream",
     "text": [
      "0.5534225392864824\n",
      "0.6680304266679891\n"
     ]
    },
    {
     "data": {
      "image/png": "[encoded data removed]",
      "text/plain": [
       "<Figure size 720x360 with 1 Axes>"
      ]
     },
     "metadata": {
      "needs_background": "light"
     },
     "output_type": "display_data"
    }
   ],
   "source": [
    "best_DT_reg.fit(X_train_scaled, y_train)\n",
    "fitted_values = bound_predict(best_DT_reg.predict(X_train_scaled))\n",
    "print(mean_absolute_error(y_train, fitted_values))\n",
    "print(r2_score(y_train, fitted_values))\n",
    "plot_fitted_values(fitted_values, y_train, 'Optimized Decision Tree')"
   ]
  },
  {
   "cell_type": "code",
   "execution_count": 78,
   "id": "84302bbf",
   "metadata": {},
   "outputs": [
    {
     "name": "stdout",
     "output_type": "stream",
     "text": [
      "0.8702423732322755\n",
      "0.2542343623505233\n"
     ]
    },
    {
     "data": {
      "image/png": "[encoded data removed]",
      "text/plain": [
       "<Figure size 720x360 with 1 Axes>"
      ]
     },
     "metadata": {
      "needs_background": "light"
     },
     "output_type": "display_data"
    }
   ],
   "source": [
    "fitted_values = bound_predict(best_DT_reg.predict(X_test_scaled))\n",
    "print(mean_absolute_error(y_test, fitted_values))\n",
    "print(r2_score(y_test, fitted_values))\n",
    "plot_fitted_values(fitted_values, y_test, 'Optimized Decision Tree')"
   ]
  },
  {
   "cell_type": "markdown",
   "id": "1ac89eb5",
   "metadata": {},
   "source": [
    "### Random Forest"
   ]
  },
  {
   "cell_type": "code",
   "execution_count": 39,
   "id": "5d3e50ea",
   "metadata": {},
   "outputs": [
    {
     "name": "stdout",
     "output_type": "stream",
     "text": [
      "CPU times: user 14min 2s, sys: 1.77 s, total: 14min 3s\n",
      "Wall time: 14min 4s\n"
     ]
    },
    {
     "data": {
      "text/html": [
       "<div>\n",
       "<style scoped>\n",
       "    .dataframe tbody tr th:only-of-type {\n",
       "        vertical-align: middle;\n",
       "    }\n",
       "\n",
       "    .dataframe tbody tr th {\n",
       "        vertical-align: top;\n",
       "    }\n",
       "\n",
       "    .dataframe thead th {\n",
       "        text-align: right;\n",
       "    }\n",
       "</style>\n",
       "<table border=\"1\" class=\"dataframe\">\n",
       "  <thead>\n",
       "    <tr style=\"text-align: right;\">\n",
       "      <th></th>\n",
       "      <th>n_estimators</th>\n",
       "      <th>MAE</th>\n",
       "      <th>R-squared</th>\n",
       "    </tr>\n",
       "  </thead>\n",
       "  <tbody>\n",
       "    <tr>\n",
       "      <th>0</th>\n",
       "      <td>100.0</td>\n",
       "      <td>0.778179</td>\n",
       "      <td>0.472862</td>\n",
       "    </tr>\n",
       "  </tbody>\n",
       "</table>\n",
       "</div>"
      ],
      "text/plain": [
       "   n_estimators       MAE  R-squared\n",
       "0         100.0  0.778179   0.472862"
      ]
     },
     "execution_count": 39,
     "metadata": {},
     "output_type": "execute_result"
    }
   ],
   "source": [
    "%%time\n",
    "\n",
    "scores = pd.DataFrame(columns=['n_estimators', 'MAE', 'R-squared'])\n",
    "\n",
    "for n in range(100, 102, 25):\n",
    "    forest_reg = RandomForestRegressor(n_estimators=n, max_depth = 25, min_samples_leaf = 6)\n",
    "\n",
    "    \n",
    "    cv_scores = cross_validate(forest_reg, X_train_unscaled, y_train, cv=5,\n",
    "                               scoring=scorer)\n",
    "\n",
    "    scores = scores.append({'n_estimators': n,\n",
    "                                    'MAE': np.mean(-cv_scores['test_custom_mae_scorer']),\n",
    "                                    'R-squared': np.mean(cv_scores['test_custom_r2_scorer'])}, ignore_index=True)\n",
    "    \n",
    "    \n",
    "scores\n",
    "\n"
   ]
  },
  {
   "cell_type": "code",
   "execution_count": null,
   "id": "72741691",
   "metadata": {},
   "outputs": [],
   "source": []
  },
  {
   "cell_type": "code",
   "execution_count": null,
   "id": "9481228e",
   "metadata": {},
   "outputs": [],
   "source": []
  },
  {
   "cell_type": "markdown",
   "id": "1d392fc6",
   "metadata": {},
   "source": [
    "### TF-IDF Vectorizer"
   ]
  },
  {
   "cell_type": "code",
   "execution_count": 79,
   "id": "37384bc6",
   "metadata": {},
   "outputs": [],
   "source": [
    "from sklearn.feature_extraction.text import TfidfVectorizer"
   ]
  },
  {
   "cell_type": "code",
   "execution_count": 80,
   "id": "ef67b6cc",
   "metadata": {},
   "outputs": [],
   "source": [
    "col_trans_2 = ColumnTransformer([\n",
    "    ('cat', OneHotEncoder(drop='first'), categorical_columns),\n",
    "    ('review', TfidfVectorizer(min_df=25, tokenizer=my_tokenizer), 'text')\n",
    "])"
   ]
  },
  {
   "cell_type": "code",
   "execution_count": 81,
   "id": "95cf1f11",
   "metadata": {},
   "outputs": [],
   "source": [
    "col_trans_2.fit(X_train)\n",
    "temp_df = col_trans_2.transform(X_train).todense()\n",
    "temp_df = pd.DataFrame(columns=col_trans_2.get_feature_names_out(), data=temp_df, index=X_train.index)\n",
    "X_train_unscaled = pd.concat([X_train.drop(categorical_columns+['text'], axis=1), temp_df], axis=1)\n",
    "\n",
    "temp_df = col_trans_2.transform(X_test).todense()\n",
    "temp_df = pd.DataFrame(columns=col_trans_2.get_feature_names_out(), data=temp_df, index=X_test.index)\n",
    "X_test_unscaled = pd.concat([X_test.drop(categorical_columns+['text'], axis=1), temp_df], axis=1)"
   ]
  },
  {
   "cell_type": "code",
   "execution_count": 83,
   "id": "d5ab99f3",
   "metadata": {},
   "outputs": [
    {
     "data": {
      "text/html": [
       "<div>\n",
       "<style scoped>\n",
       "    .dataframe tbody tr th:only-of-type {\n",
       "        vertical-align: middle;\n",
       "    }\n",
       "\n",
       "    .dataframe tbody tr th {\n",
       "        vertical-align: top;\n",
       "    }\n",
       "\n",
       "    .dataframe thead th {\n",
       "        text-align: right;\n",
       "    }\n",
       "</style>\n",
       "<table border=\"1\" class=\"dataframe\">\n",
       "  <thead>\n",
       "    <tr style=\"text-align: right;\">\n",
       "      <th></th>\n",
       "      <th>Year</th>\n",
       "      <th>Month</th>\n",
       "      <th>Day</th>\n",
       "      <th>Day of Week</th>\n",
       "      <th>Hour</th>\n",
       "      <th>Minute</th>\n",
       "      <th>latitude</th>\n",
       "      <th>longitude</th>\n",
       "      <th>review_count</th>\n",
       "      <th>is_open</th>\n",
       "      <th>...</th>\n",
       "      <th>review__york</th>\n",
       "      <th>review__youd</th>\n",
       "      <th>review__youll</th>\n",
       "      <th>review__young</th>\n",
       "      <th>review__your</th>\n",
       "      <th>review__youv</th>\n",
       "      <th>review__yum</th>\n",
       "      <th>review__yummi</th>\n",
       "      <th>review__zero</th>\n",
       "      <th>review__zucchini</th>\n",
       "    </tr>\n",
       "  </thead>\n",
       "  <tbody>\n",
       "    <tr>\n",
       "      <th>118838</th>\n",
       "      <td>2010</td>\n",
       "      <td>11</td>\n",
       "      <td>7</td>\n",
       "      <td>6</td>\n",
       "      <td>12</td>\n",
       "      <td>43</td>\n",
       "      <td>42.395293</td>\n",
       "      <td>-71.121620</td>\n",
       "      <td>350</td>\n",
       "      <td>1</td>\n",
       "      <td>...</td>\n",
       "      <td>0.0</td>\n",
       "      <td>0.0</td>\n",
       "      <td>0.0</td>\n",
       "      <td>0.0</td>\n",
       "      <td>0.0</td>\n",
       "      <td>0.0</td>\n",
       "      <td>0.0</td>\n",
       "      <td>0.0</td>\n",
       "      <td>0.0</td>\n",
       "      <td>0.0</td>\n",
       "    </tr>\n",
       "    <tr>\n",
       "      <th>984277</th>\n",
       "      <td>2018</td>\n",
       "      <td>10</td>\n",
       "      <td>4</td>\n",
       "      <td>3</td>\n",
       "      <td>14</td>\n",
       "      <td>8</td>\n",
       "      <td>42.353567</td>\n",
       "      <td>-71.058031</td>\n",
       "      <td>67</td>\n",
       "      <td>1</td>\n",
       "      <td>...</td>\n",
       "      <td>0.0</td>\n",
       "      <td>0.0</td>\n",
       "      <td>0.0</td>\n",
       "      <td>0.0</td>\n",
       "      <td>0.0</td>\n",
       "      <td>0.0</td>\n",
       "      <td>0.0</td>\n",
       "      <td>0.0</td>\n",
       "      <td>0.0</td>\n",
       "      <td>0.0</td>\n",
       "    </tr>\n",
       "    <tr>\n",
       "      <th>778602</th>\n",
       "      <td>2020</td>\n",
       "      <td>8</td>\n",
       "      <td>9</td>\n",
       "      <td>6</td>\n",
       "      <td>1</td>\n",
       "      <td>19</td>\n",
       "      <td>42.340918</td>\n",
       "      <td>-71.081615</td>\n",
       "      <td>428</td>\n",
       "      <td>1</td>\n",
       "      <td>...</td>\n",
       "      <td>0.0</td>\n",
       "      <td>0.0</td>\n",
       "      <td>0.0</td>\n",
       "      <td>0.0</td>\n",
       "      <td>0.0</td>\n",
       "      <td>0.0</td>\n",
       "      <td>0.0</td>\n",
       "      <td>0.0</td>\n",
       "      <td>0.0</td>\n",
       "      <td>0.0</td>\n",
       "    </tr>\n",
       "    <tr>\n",
       "      <th>483464</th>\n",
       "      <td>2008</td>\n",
       "      <td>7</td>\n",
       "      <td>17</td>\n",
       "      <td>3</td>\n",
       "      <td>0</td>\n",
       "      <td>17</td>\n",
       "      <td>42.363968</td>\n",
       "      <td>-71.101869</td>\n",
       "      <td>251</td>\n",
       "      <td>0</td>\n",
       "      <td>...</td>\n",
       "      <td>0.0</td>\n",
       "      <td>0.0</td>\n",
       "      <td>0.0</td>\n",
       "      <td>0.0</td>\n",
       "      <td>0.0</td>\n",
       "      <td>0.0</td>\n",
       "      <td>0.0</td>\n",
       "      <td>0.0</td>\n",
       "      <td>0.0</td>\n",
       "      <td>0.0</td>\n",
       "    </tr>\n",
       "    <tr>\n",
       "      <th>496132</th>\n",
       "      <td>2019</td>\n",
       "      <td>1</td>\n",
       "      <td>31</td>\n",
       "      <td>3</td>\n",
       "      <td>20</td>\n",
       "      <td>50</td>\n",
       "      <td>42.321512</td>\n",
       "      <td>-71.175672</td>\n",
       "      <td>325</td>\n",
       "      <td>1</td>\n",
       "      <td>...</td>\n",
       "      <td>0.0</td>\n",
       "      <td>0.0</td>\n",
       "      <td>0.0</td>\n",
       "      <td>0.0</td>\n",
       "      <td>0.0</td>\n",
       "      <td>0.0</td>\n",
       "      <td>0.0</td>\n",
       "      <td>0.0</td>\n",
       "      <td>0.0</td>\n",
       "      <td>0.0</td>\n",
       "    </tr>\n",
       "  </tbody>\n",
       "</table>\n",
       "<p>5 rows × 2299 columns</p>\n",
       "</div>"
      ],
      "text/plain": [
       "        Year  Month  Day  Day of Week  Hour  Minute   latitude  longitude  \\\n",
       "118838  2010     11    7            6    12      43  42.395293 -71.121620   \n",
       "984277  2018     10    4            3    14       8  42.353567 -71.058031   \n",
       "778602  2020      8    9            6     1      19  42.340918 -71.081615   \n",
       "483464  2008      7   17            3     0      17  42.363968 -71.101869   \n",
       "496132  2019      1   31            3    20      50  42.321512 -71.175672   \n",
       "\n",
       "        review_count  is_open  ...  review__york  review__youd  review__youll  \\\n",
       "118838           350        1  ...           0.0           0.0            0.0   \n",
       "984277            67        1  ...           0.0           0.0            0.0   \n",
       "778602           428        1  ...           0.0           0.0            0.0   \n",
       "483464           251        0  ...           0.0           0.0            0.0   \n",
       "496132           325        1  ...           0.0           0.0            0.0   \n",
       "\n",
       "        review__young  review__your  review__youv  review__yum  review__yummi  \\\n",
       "118838            0.0           0.0           0.0          0.0            0.0   \n",
       "984277            0.0           0.0           0.0          0.0            0.0   \n",
       "778602            0.0           0.0           0.0          0.0            0.0   \n",
       "483464            0.0           0.0           0.0          0.0            0.0   \n",
       "496132            0.0           0.0           0.0          0.0            0.0   \n",
       "\n",
       "        review__zero  review__zucchini  \n",
       "118838           0.0               0.0  \n",
       "984277           0.0               0.0  \n",
       "778602           0.0               0.0  \n",
       "483464           0.0               0.0  \n",
       "496132           0.0               0.0  \n",
       "\n",
       "[5 rows x 2299 columns]"
      ]
     },
     "execution_count": 83,
     "metadata": {},
     "output_type": "execute_result"
    }
   ],
   "source": [
    "X_train_unscaled.head()"
   ]
  },
  {
   "cell_type": "code",
   "execution_count": 84,
   "id": "2c8ebabc",
   "metadata": {},
   "outputs": [
    {
     "data": {
      "text/html": [
       "<div>\n",
       "<style scoped>\n",
       "    .dataframe tbody tr th:only-of-type {\n",
       "        vertical-align: middle;\n",
       "    }\n",
       "\n",
       "    .dataframe tbody tr th {\n",
       "        vertical-align: top;\n",
       "    }\n",
       "\n",
       "    .dataframe thead th {\n",
       "        text-align: right;\n",
       "    }\n",
       "</style>\n",
       "<table border=\"1\" class=\"dataframe\">\n",
       "  <thead>\n",
       "    <tr style=\"text-align: right;\">\n",
       "      <th></th>\n",
       "      <th>Year</th>\n",
       "      <th>Month</th>\n",
       "      <th>Day</th>\n",
       "      <th>Day of Week</th>\n",
       "      <th>Hour</th>\n",
       "      <th>Minute</th>\n",
       "      <th>latitude</th>\n",
       "      <th>longitude</th>\n",
       "      <th>review_count</th>\n",
       "      <th>is_open</th>\n",
       "      <th>...</th>\n",
       "      <th>review__york</th>\n",
       "      <th>review__youd</th>\n",
       "      <th>review__youll</th>\n",
       "      <th>review__young</th>\n",
       "      <th>review__your</th>\n",
       "      <th>review__youv</th>\n",
       "      <th>review__yum</th>\n",
       "      <th>review__yummi</th>\n",
       "      <th>review__zero</th>\n",
       "      <th>review__zucchini</th>\n",
       "    </tr>\n",
       "  </thead>\n",
       "  <tbody>\n",
       "    <tr>\n",
       "      <th>118838</th>\n",
       "      <td>2010</td>\n",
       "      <td>11</td>\n",
       "      <td>7</td>\n",
       "      <td>6</td>\n",
       "      <td>12</td>\n",
       "      <td>43</td>\n",
       "      <td>42.395293</td>\n",
       "      <td>-71.121620</td>\n",
       "      <td>350</td>\n",
       "      <td>1</td>\n",
       "      <td>...</td>\n",
       "      <td>0.0</td>\n",
       "      <td>0.0</td>\n",
       "      <td>0.0</td>\n",
       "      <td>0.0</td>\n",
       "      <td>0.0</td>\n",
       "      <td>0.0</td>\n",
       "      <td>0.0</td>\n",
       "      <td>0.0</td>\n",
       "      <td>0.0</td>\n",
       "      <td>0.0</td>\n",
       "    </tr>\n",
       "    <tr>\n",
       "      <th>984277</th>\n",
       "      <td>2018</td>\n",
       "      <td>10</td>\n",
       "      <td>4</td>\n",
       "      <td>3</td>\n",
       "      <td>14</td>\n",
       "      <td>8</td>\n",
       "      <td>42.353567</td>\n",
       "      <td>-71.058031</td>\n",
       "      <td>67</td>\n",
       "      <td>1</td>\n",
       "      <td>...</td>\n",
       "      <td>0.0</td>\n",
       "      <td>0.0</td>\n",
       "      <td>0.0</td>\n",
       "      <td>0.0</td>\n",
       "      <td>0.0</td>\n",
       "      <td>0.0</td>\n",
       "      <td>0.0</td>\n",
       "      <td>0.0</td>\n",
       "      <td>0.0</td>\n",
       "      <td>0.0</td>\n",
       "    </tr>\n",
       "    <tr>\n",
       "      <th>778602</th>\n",
       "      <td>2020</td>\n",
       "      <td>8</td>\n",
       "      <td>9</td>\n",
       "      <td>6</td>\n",
       "      <td>1</td>\n",
       "      <td>19</td>\n",
       "      <td>42.340918</td>\n",
       "      <td>-71.081615</td>\n",
       "      <td>428</td>\n",
       "      <td>1</td>\n",
       "      <td>...</td>\n",
       "      <td>0.0</td>\n",
       "      <td>0.0</td>\n",
       "      <td>0.0</td>\n",
       "      <td>0.0</td>\n",
       "      <td>0.0</td>\n",
       "      <td>0.0</td>\n",
       "      <td>0.0</td>\n",
       "      <td>0.0</td>\n",
       "      <td>0.0</td>\n",
       "      <td>0.0</td>\n",
       "    </tr>\n",
       "    <tr>\n",
       "      <th>483464</th>\n",
       "      <td>2008</td>\n",
       "      <td>7</td>\n",
       "      <td>17</td>\n",
       "      <td>3</td>\n",
       "      <td>0</td>\n",
       "      <td>17</td>\n",
       "      <td>42.363968</td>\n",
       "      <td>-71.101869</td>\n",
       "      <td>251</td>\n",
       "      <td>0</td>\n",
       "      <td>...</td>\n",
       "      <td>0.0</td>\n",
       "      <td>0.0</td>\n",
       "      <td>0.0</td>\n",
       "      <td>0.0</td>\n",
       "      <td>0.0</td>\n",
       "      <td>0.0</td>\n",
       "      <td>0.0</td>\n",
       "      <td>0.0</td>\n",
       "      <td>0.0</td>\n",
       "      <td>0.0</td>\n",
       "    </tr>\n",
       "    <tr>\n",
       "      <th>496132</th>\n",
       "      <td>2019</td>\n",
       "      <td>1</td>\n",
       "      <td>31</td>\n",
       "      <td>3</td>\n",
       "      <td>20</td>\n",
       "      <td>50</td>\n",
       "      <td>42.321512</td>\n",
       "      <td>-71.175672</td>\n",
       "      <td>325</td>\n",
       "      <td>1</td>\n",
       "      <td>...</td>\n",
       "      <td>0.0</td>\n",
       "      <td>0.0</td>\n",
       "      <td>0.0</td>\n",
       "      <td>0.0</td>\n",
       "      <td>0.0</td>\n",
       "      <td>0.0</td>\n",
       "      <td>0.0</td>\n",
       "      <td>0.0</td>\n",
       "      <td>0.0</td>\n",
       "      <td>0.0</td>\n",
       "    </tr>\n",
       "  </tbody>\n",
       "</table>\n",
       "<p>5 rows × 2299 columns</p>\n",
       "</div>"
      ],
      "text/plain": [
       "        Year  Month  Day  Day of Week  Hour  Minute   latitude  longitude  \\\n",
       "118838  2010     11    7            6    12      43  42.395293 -71.121620   \n",
       "984277  2018     10    4            3    14       8  42.353567 -71.058031   \n",
       "778602  2020      8    9            6     1      19  42.340918 -71.081615   \n",
       "483464  2008      7   17            3     0      17  42.363968 -71.101869   \n",
       "496132  2019      1   31            3    20      50  42.321512 -71.175672   \n",
       "\n",
       "        review_count  is_open  ...  review__york  review__youd  review__youll  \\\n",
       "118838           350        1  ...           0.0           0.0            0.0   \n",
       "984277            67        1  ...           0.0           0.0            0.0   \n",
       "778602           428        1  ...           0.0           0.0            0.0   \n",
       "483464           251        0  ...           0.0           0.0            0.0   \n",
       "496132           325        1  ...           0.0           0.0            0.0   \n",
       "\n",
       "        review__young  review__your  review__youv  review__yum  review__yummi  \\\n",
       "118838            0.0           0.0           0.0          0.0            0.0   \n",
       "984277            0.0           0.0           0.0          0.0            0.0   \n",
       "778602            0.0           0.0           0.0          0.0            0.0   \n",
       "483464            0.0           0.0           0.0          0.0            0.0   \n",
       "496132            0.0           0.0           0.0          0.0            0.0   \n",
       "\n",
       "        review__zero  review__zucchini  \n",
       "118838           0.0               0.0  \n",
       "984277           0.0               0.0  \n",
       "778602           0.0               0.0  \n",
       "483464           0.0               0.0  \n",
       "496132           0.0               0.0  \n",
       "\n",
       "[5 rows x 2299 columns]"
      ]
     },
     "execution_count": 84,
     "metadata": {},
     "output_type": "execute_result"
    }
   ],
   "source": [
    "X_train_unscaled.head()"
   ]
  },
  {
   "cell_type": "code",
   "execution_count": 85,
   "id": "8018b62b",
   "metadata": {},
   "outputs": [
    {
     "data": {
      "text/html": [
       "<div>\n",
       "<style scoped>\n",
       "    .dataframe tbody tr th:only-of-type {\n",
       "        vertical-align: middle;\n",
       "    }\n",
       "\n",
       "    .dataframe tbody tr th {\n",
       "        vertical-align: top;\n",
       "    }\n",
       "\n",
       "    .dataframe thead th {\n",
       "        text-align: right;\n",
       "    }\n",
       "</style>\n",
       "<table border=\"1\" class=\"dataframe\">\n",
       "  <thead>\n",
       "    <tr style=\"text-align: right;\">\n",
       "      <th></th>\n",
       "      <th>Year</th>\n",
       "      <th>Month</th>\n",
       "      <th>Day</th>\n",
       "      <th>Day of Week</th>\n",
       "      <th>Hour</th>\n",
       "      <th>Minute</th>\n",
       "      <th>latitude</th>\n",
       "      <th>longitude</th>\n",
       "      <th>review_count</th>\n",
       "      <th>is_open</th>\n",
       "      <th>...</th>\n",
       "      <th>review__york</th>\n",
       "      <th>review__youd</th>\n",
       "      <th>review__youll</th>\n",
       "      <th>review__young</th>\n",
       "      <th>review__your</th>\n",
       "      <th>review__youv</th>\n",
       "      <th>review__yum</th>\n",
       "      <th>review__yummi</th>\n",
       "      <th>review__zero</th>\n",
       "      <th>review__zucchini</th>\n",
       "    </tr>\n",
       "  </thead>\n",
       "  <tbody>\n",
       "    <tr>\n",
       "      <th>719576</th>\n",
       "      <td>2019</td>\n",
       "      <td>4</td>\n",
       "      <td>21</td>\n",
       "      <td>6</td>\n",
       "      <td>22</td>\n",
       "      <td>35</td>\n",
       "      <td>42.339823</td>\n",
       "      <td>-71.091285</td>\n",
       "      <td>138</td>\n",
       "      <td>1</td>\n",
       "      <td>...</td>\n",
       "      <td>0.0</td>\n",
       "      <td>0.0</td>\n",
       "      <td>0.0</td>\n",
       "      <td>0.0</td>\n",
       "      <td>0.0</td>\n",
       "      <td>0.0</td>\n",
       "      <td>0.0</td>\n",
       "      <td>0.0</td>\n",
       "      <td>0.0</td>\n",
       "      <td>0.0</td>\n",
       "    </tr>\n",
       "    <tr>\n",
       "      <th>1033835</th>\n",
       "      <td>2020</td>\n",
       "      <td>1</td>\n",
       "      <td>12</td>\n",
       "      <td>6</td>\n",
       "      <td>2</td>\n",
       "      <td>31</td>\n",
       "      <td>42.448745</td>\n",
       "      <td>-71.228743</td>\n",
       "      <td>395</td>\n",
       "      <td>1</td>\n",
       "      <td>...</td>\n",
       "      <td>0.0</td>\n",
       "      <td>0.0</td>\n",
       "      <td>0.0</td>\n",
       "      <td>0.0</td>\n",
       "      <td>0.0</td>\n",
       "      <td>0.0</td>\n",
       "      <td>0.0</td>\n",
       "      <td>0.0</td>\n",
       "      <td>0.0</td>\n",
       "      <td>0.0</td>\n",
       "    </tr>\n",
       "    <tr>\n",
       "      <th>37835</th>\n",
       "      <td>2012</td>\n",
       "      <td>7</td>\n",
       "      <td>8</td>\n",
       "      <td>6</td>\n",
       "      <td>2</td>\n",
       "      <td>56</td>\n",
       "      <td>42.387212</td>\n",
       "      <td>-71.118532</td>\n",
       "      <td>635</td>\n",
       "      <td>1</td>\n",
       "      <td>...</td>\n",
       "      <td>0.0</td>\n",
       "      <td>0.0</td>\n",
       "      <td>0.0</td>\n",
       "      <td>0.0</td>\n",
       "      <td>0.0</td>\n",
       "      <td>0.0</td>\n",
       "      <td>0.0</td>\n",
       "      <td>0.0</td>\n",
       "      <td>0.0</td>\n",
       "      <td>0.0</td>\n",
       "    </tr>\n",
       "    <tr>\n",
       "      <th>256789</th>\n",
       "      <td>2015</td>\n",
       "      <td>12</td>\n",
       "      <td>15</td>\n",
       "      <td>1</td>\n",
       "      <td>1</td>\n",
       "      <td>28</td>\n",
       "      <td>42.359075</td>\n",
       "      <td>-71.059176</td>\n",
       "      <td>671</td>\n",
       "      <td>1</td>\n",
       "      <td>...</td>\n",
       "      <td>0.0</td>\n",
       "      <td>0.0</td>\n",
       "      <td>0.0</td>\n",
       "      <td>0.0</td>\n",
       "      <td>0.0</td>\n",
       "      <td>0.0</td>\n",
       "      <td>0.0</td>\n",
       "      <td>0.0</td>\n",
       "      <td>0.0</td>\n",
       "      <td>0.0</td>\n",
       "    </tr>\n",
       "    <tr>\n",
       "      <th>688708</th>\n",
       "      <td>2011</td>\n",
       "      <td>8</td>\n",
       "      <td>26</td>\n",
       "      <td>4</td>\n",
       "      <td>19</td>\n",
       "      <td>4</td>\n",
       "      <td>42.379939</td>\n",
       "      <td>-71.094383</td>\n",
       "      <td>102</td>\n",
       "      <td>0</td>\n",
       "      <td>...</td>\n",
       "      <td>0.0</td>\n",
       "      <td>0.0</td>\n",
       "      <td>0.0</td>\n",
       "      <td>0.0</td>\n",
       "      <td>0.0</td>\n",
       "      <td>0.0</td>\n",
       "      <td>0.0</td>\n",
       "      <td>0.0</td>\n",
       "      <td>0.0</td>\n",
       "      <td>0.0</td>\n",
       "    </tr>\n",
       "  </tbody>\n",
       "</table>\n",
       "<p>5 rows × 2299 columns</p>\n",
       "</div>"
      ],
      "text/plain": [
       "         Year  Month  Day  Day of Week  Hour  Minute   latitude  longitude  \\\n",
       "719576   2019      4   21            6    22      35  42.339823 -71.091285   \n",
       "1033835  2020      1   12            6     2      31  42.448745 -71.228743   \n",
       "37835    2012      7    8            6     2      56  42.387212 -71.118532   \n",
       "256789   2015     12   15            1     1      28  42.359075 -71.059176   \n",
       "688708   2011      8   26            4    19       4  42.379939 -71.094383   \n",
       "\n",
       "         review_count  is_open  ...  review__york  review__youd  \\\n",
       "719576            138        1  ...           0.0           0.0   \n",
       "1033835           395        1  ...           0.0           0.0   \n",
       "37835             635        1  ...           0.0           0.0   \n",
       "256789            671        1  ...           0.0           0.0   \n",
       "688708            102        0  ...           0.0           0.0   \n",
       "\n",
       "         review__youll  review__young  review__your  review__youv  \\\n",
       "719576             0.0            0.0           0.0           0.0   \n",
       "1033835            0.0            0.0           0.0           0.0   \n",
       "37835              0.0            0.0           0.0           0.0   \n",
       "256789             0.0            0.0           0.0           0.0   \n",
       "688708             0.0            0.0           0.0           0.0   \n",
       "\n",
       "         review__yum  review__yummi  review__zero  review__zucchini  \n",
       "719576           0.0            0.0           0.0               0.0  \n",
       "1033835          0.0            0.0           0.0               0.0  \n",
       "37835            0.0            0.0           0.0               0.0  \n",
       "256789           0.0            0.0           0.0               0.0  \n",
       "688708           0.0            0.0           0.0               0.0  \n",
       "\n",
       "[5 rows x 2299 columns]"
      ]
     },
     "execution_count": 85,
     "metadata": {},
     "output_type": "execute_result"
    }
   ],
   "source": [
    "X_test_unscaled.head()"
   ]
  },
  {
   "cell_type": "code",
   "execution_count": 86,
   "id": "e67d5195",
   "metadata": {},
   "outputs": [
    {
     "name": "stdout",
     "output_type": "stream",
     "text": [
      "Shape of scaled remainder set: (10918, 2299)\n",
      "Shape of scaled test set: (2730, 2299)\n"
     ]
    }
   ],
   "source": [
    "# Fit the scaler to X_rem and transform X_rem\n",
    "X_train_scaled = scaler.fit_transform(X_train_unscaled)\n",
    "\n",
    "# Transform X_test using the fitted scaler\n",
    "X_test_scaled= scaler.transform(X_test_unscaled)\n",
    "\n",
    "# Redefine numpy arrays as dataframes\n",
    "X_train_scaled = pd.DataFrame(X_train_scaled, columns=X_train_unscaled.columns)\n",
    "X_test_scaled = pd.DataFrame(X_test_scaled, columns=X_test_unscaled.columns)\n",
    "\n",
    "# Print shapes\n",
    "print(f'Shape of scaled remainder set: {X_train_scaled.shape}')\n",
    "print(f'Shape of scaled test set: {X_test_scaled.shape}')"
   ]
  },
  {
   "cell_type": "code",
   "execution_count": 87,
   "id": "1d587741",
   "metadata": {},
   "outputs": [
    {
     "name": "stdout",
     "output_type": "stream",
     "text": [
      "CPU times: user 4min 33s, sys: 15.2 s, total: 4min 48s\n",
      "Wall time: 28.9 s\n"
     ]
    },
    {
     "data": {
      "text/html": [
       "<div>\n",
       "<style scoped>\n",
       "    .dataframe tbody tr th:only-of-type {\n",
       "        vertical-align: middle;\n",
       "    }\n",
       "\n",
       "    .dataframe tbody tr th {\n",
       "        vertical-align: top;\n",
       "    }\n",
       "\n",
       "    .dataframe thead th {\n",
       "        text-align: right;\n",
       "    }\n",
       "</style>\n",
       "<table border=\"1\" class=\"dataframe\">\n",
       "  <thead>\n",
       "    <tr style=\"text-align: right;\">\n",
       "      <th></th>\n",
       "      <th>alpha</th>\n",
       "      <th>MAE</th>\n",
       "      <th>R-squared</th>\n",
       "    </tr>\n",
       "  </thead>\n",
       "  <tbody>\n",
       "    <tr>\n",
       "      <th>0</th>\n",
       "      <td>0.0001</td>\n",
       "      <td>0.685785</td>\n",
       "      <td>0.560536</td>\n",
       "    </tr>\n",
       "    <tr>\n",
       "      <th>1</th>\n",
       "      <td>0.0010</td>\n",
       "      <td>0.685809</td>\n",
       "      <td>0.560507</td>\n",
       "    </tr>\n",
       "    <tr>\n",
       "      <th>2</th>\n",
       "      <td>0.0100</td>\n",
       "      <td>0.685779</td>\n",
       "      <td>0.560717</td>\n",
       "    </tr>\n",
       "    <tr>\n",
       "      <th>3</th>\n",
       "      <td>0.1000</td>\n",
       "      <td>0.683931</td>\n",
       "      <td>0.563729</td>\n",
       "    </tr>\n",
       "    <tr>\n",
       "      <th>4</th>\n",
       "      <td>1.0000</td>\n",
       "      <td>0.670956</td>\n",
       "      <td>0.584990</td>\n",
       "    </tr>\n",
       "    <tr>\n",
       "      <th>5</th>\n",
       "      <td>10.0000</td>\n",
       "      <td>0.662891</td>\n",
       "      <td>0.609430</td>\n",
       "    </tr>\n",
       "    <tr>\n",
       "      <th>6</th>\n",
       "      <td>100.0000</td>\n",
       "      <td>0.794179</td>\n",
       "      <td>0.486718</td>\n",
       "    </tr>\n",
       "    <tr>\n",
       "      <th>7</th>\n",
       "      <td>1000.0000</td>\n",
       "      <td>1.038030</td>\n",
       "      <td>0.175169</td>\n",
       "    </tr>\n",
       "  </tbody>\n",
       "</table>\n",
       "</div>"
      ],
      "text/plain": [
       "       alpha       MAE  R-squared\n",
       "0     0.0001  0.685785   0.560536\n",
       "1     0.0010  0.685809   0.560507\n",
       "2     0.0100  0.685779   0.560717\n",
       "3     0.1000  0.683931   0.563729\n",
       "4     1.0000  0.670956   0.584990\n",
       "5    10.0000  0.662891   0.609430\n",
       "6   100.0000  0.794179   0.486718\n",
       "7  1000.0000  1.038030   0.175169"
      ]
     },
     "execution_count": 87,
     "metadata": {},
     "output_type": "execute_result"
    }
   ],
   "source": [
    "%%time\n",
    "\n",
    "scores = pd.DataFrame(columns=['alpha', 'MAE', 'R-squared'])\n",
    "\n",
    "for power in range(-4, 4, 1):\n",
    "    alpha = 10**power\n",
    "    ridge_reg = Ridge(alpha=alpha)\n",
    "\n",
    "    \n",
    "    cv_scores = cross_validate(ridge_reg, X_train_scaled, y_train, cv=5,\n",
    "                               scoring=scorer)\n",
    "\n",
    "    scores = scores.append({'alpha': alpha,\n",
    "                                    'MAE': np.mean(-cv_scores['test_custom_mae_scorer']),\n",
    "                                    'R-squared': np.mean(cv_scores['test_custom_r2_scorer'])}, ignore_index=True)\n",
    "    \n",
    "    \n",
    "scores\n",
    "    "
   ]
  },
  {
   "cell_type": "code",
   "execution_count": 88,
   "id": "e297d65a",
   "metadata": {},
   "outputs": [
    {
     "data": {
      "image/png": "[encoded data removed]",
      "text/plain": [
       "<Figure size 1080x360 with 2 Axes>"
      ]
     },
     "metadata": {
      "needs_background": "light"
     },
     "output_type": "display_data"
    }
   ],
   "source": [
    "regression_plots(scores, 'L2 Regularization with TF-IDF')"
   ]
  },
  {
   "cell_type": "code",
   "execution_count": 89,
   "id": "a4658ce8",
   "metadata": {},
   "outputs": [
    {
     "name": "stdout",
     "output_type": "stream",
     "text": [
      "0.5768973615220478\n",
      "0.7032113718134783\n"
     ]
    }
   ],
   "source": [
    "ridge_reg = Ridge(alpha=10)\n",
    "ridge_reg.fit(X_train_scaled, y_train)\n",
    "fitted_values = bound_predict(ridge_reg.predict(X_train_scaled))\n",
    "print(custom_mae_scorer_func(y_train, fitted_values))\n",
    "print(custom_r2_scorer_func(y_train, fitted_values))"
   ]
  },
  {
   "cell_type": "code",
   "execution_count": 90,
   "id": "88ce81c4",
   "metadata": {},
   "outputs": [
    {
     "name": "stdout",
     "output_type": "stream",
     "text": [
      "0.5659540117424403\n",
      "0.7282444184573854\n"
     ]
    }
   ],
   "source": [
    "ridge_reg = Ridge(alpha=10)\n",
    "ridge_reg.fit(X_test_scaled, y_test)\n",
    "fitted_values = bound_predict(ridge_reg.predict(X_test_scaled))\n",
    "print(custom_mae_scorer_func(y_test, fitted_values))\n",
    "print(custom_r2_scorer_func(y_test, fitted_values))"
   ]
  },
  {
   "cell_type": "code",
   "execution_count": 91,
   "id": "7e50fd46",
   "metadata": {},
   "outputs": [
    {
     "data": {
      "text/plain": [
       "2246"
      ]
     },
     "execution_count": 91,
     "metadata": {},
     "output_type": "execute_result"
    }
   ],
   "source": [
    "tokens = [column for column in X_train_scaled.columns if 'review__' in column]\n",
    "len(tokens)"
   ]
  },
  {
   "cell_type": "code",
   "execution_count": 92,
   "id": "3b09d57f",
   "metadata": {},
   "outputs": [
    {
     "data": {
      "text/plain": [
       "53"
      ]
     },
     "execution_count": 92,
     "metadata": {},
     "output_type": "execute_result"
    }
   ],
   "source": [
    "first_token_index = X_train_scaled.columns.get_loc(tokens[0])\n",
    "first_token_index"
   ]
  },
  {
   "cell_type": "code",
   "execution_count": 93,
   "id": "bfad5d35",
   "metadata": {},
   "outputs": [
    {
     "data": {
      "text/html": [
       "<div>\n",
       "<style scoped>\n",
       "    .dataframe tbody tr th:only-of-type {\n",
       "        vertical-align: middle;\n",
       "    }\n",
       "\n",
       "    .dataframe tbody tr th {\n",
       "        vertical-align: top;\n",
       "    }\n",
       "\n",
       "    .dataframe thead th {\n",
       "        text-align: right;\n",
       "    }\n",
       "</style>\n",
       "<table border=\"1\" class=\"dataframe\">\n",
       "  <thead>\n",
       "    <tr style=\"text-align: right;\">\n",
       "      <th></th>\n",
       "      <th>coefficient</th>\n",
       "      <th>token</th>\n",
       "    </tr>\n",
       "  </thead>\n",
       "  <tbody>\n",
       "    <tr>\n",
       "      <th>935</th>\n",
       "      <td>1.157691</td>\n",
       "      <td>great</td>\n",
       "    </tr>\n",
       "    <tr>\n",
       "      <th>257</th>\n",
       "      <td>1.147008</td>\n",
       "      <td>best</td>\n",
       "    </tr>\n",
       "    <tr>\n",
       "      <th>603</th>\n",
       "      <td>1.058142</td>\n",
       "      <td>delici</td>\n",
       "    </tr>\n",
       "    <tr>\n",
       "      <th>1198</th>\n",
       "      <td>0.858704</td>\n",
       "      <td>love</td>\n",
       "    </tr>\n",
       "    <tr>\n",
       "      <th>129</th>\n",
       "      <td>0.814504</td>\n",
       "      <td>amaz</td>\n",
       "    </tr>\n",
       "  </tbody>\n",
       "</table>\n",
       "</div>"
      ],
      "text/plain": [
       "      coefficient   token\n",
       "935      1.157691   great\n",
       "257      1.147008    best\n",
       "603      1.058142  delici\n",
       "1198     0.858704    love\n",
       "129      0.814504    amaz"
      ]
     },
     "execution_count": 93,
     "metadata": {},
     "output_type": "execute_result"
    }
   ],
   "source": [
    "token_coef_df = pd.DataFrame({'coefficient': [ridge_reg.coef_[i] for i in range(first_token_index,\n",
    "                                                                                      X_train_scaled.shape[1],1)],\n",
    "                             'token': pd.Series(tokens).str.replace('review__', '')}).sort_values(\"coefficient\", ascending=False)\n",
    "\n",
    "token_coef_df.head()"
   ]
  },
  {
   "cell_type": "code",
   "execution_count": 94,
   "id": "7eb465cf",
   "metadata": {},
   "outputs": [
    {
     "data": {
      "image/png": "[encoded data removed]",
      "text/plain": [
       "<Figure size 1080x720 with 1 Axes>"
      ]
     },
     "metadata": {
      "needs_background": "light"
     },
     "output_type": "display_data"
    }
   ],
   "source": [
    "plt.figure(figsize=(15,10))\n",
    "plt.barh(token_coef_df['token'].head(20),token_coef_df.head(20)[\"coefficient\"])\n",
    "plt.barh(token_coef_df['token'].tail(20),token_coef_df.tail(20)[\"coefficient\"])\n",
    "\n",
    "plt.show()"
   ]
  },
  {
   "cell_type": "code",
   "execution_count": 95,
   "id": "5bff3d7f",
   "metadata": {},
   "outputs": [
    {
     "ename": "KeyboardInterrupt",
     "evalue": "",
     "output_type": "error",
     "traceback": [
      "\u001b[0;31m---------------------------------------------------------------------------\u001b[0m",
      "\u001b[0;31mKeyboardInterrupt\u001b[0m                         Traceback (most recent call last)",
      "\u001b[0;32m<timed exec>\u001b[0m in \u001b[0;36m<module>\u001b[0;34m\u001b[0m\n",
      "\u001b[0;32m~/opt/anaconda3/envs/yelp_capstone/lib/python3.8/site-packages/sklearn/model_selection/_validation.py\u001b[0m in \u001b[0;36mcross_validate\u001b[0;34m(estimator, X, y, groups, scoring, cv, n_jobs, verbose, fit_params, pre_dispatch, return_train_score, return_estimator, error_score)\u001b[0m\n\u001b[1;32m    265\u001b[0m     \u001b[0;31m# independent, and that it is pickle-able.\u001b[0m\u001b[0;34m\u001b[0m\u001b[0;34m\u001b[0m\u001b[0;34m\u001b[0m\u001b[0m\n\u001b[1;32m    266\u001b[0m     \u001b[0mparallel\u001b[0m \u001b[0;34m=\u001b[0m \u001b[0mParallel\u001b[0m\u001b[0;34m(\u001b[0m\u001b[0mn_jobs\u001b[0m\u001b[0;34m=\u001b[0m\u001b[0mn_jobs\u001b[0m\u001b[0;34m,\u001b[0m \u001b[0mverbose\u001b[0m\u001b[0;34m=\u001b[0m\u001b[0mverbose\u001b[0m\u001b[0;34m,\u001b[0m \u001b[0mpre_dispatch\u001b[0m\u001b[0;34m=\u001b[0m\u001b[0mpre_dispatch\u001b[0m\u001b[0;34m)\u001b[0m\u001b[0;34m\u001b[0m\u001b[0;34m\u001b[0m\u001b[0m\n\u001b[0;32m--> 267\u001b[0;31m     results = parallel(\n\u001b[0m\u001b[1;32m    268\u001b[0m         delayed(_fit_and_score)(\n\u001b[1;32m    269\u001b[0m             \u001b[0mclone\u001b[0m\u001b[0;34m(\u001b[0m\u001b[0mestimator\u001b[0m\u001b[0;34m)\u001b[0m\u001b[0;34m,\u001b[0m\u001b[0;34m\u001b[0m\u001b[0;34m\u001b[0m\u001b[0m\n",
      "\u001b[0;32m~/opt/anaconda3/envs/yelp_capstone/lib/python3.8/site-packages/joblib/parallel.py\u001b[0m in \u001b[0;36m__call__\u001b[0;34m(self, iterable)\u001b[0m\n\u001b[1;32m   1041\u001b[0m             \u001b[0;31m# remaining jobs.\u001b[0m\u001b[0;34m\u001b[0m\u001b[0;34m\u001b[0m\u001b[0;34m\u001b[0m\u001b[0m\n\u001b[1;32m   1042\u001b[0m             \u001b[0mself\u001b[0m\u001b[0;34m.\u001b[0m\u001b[0m_iterating\u001b[0m \u001b[0;34m=\u001b[0m \u001b[0;32mFalse\u001b[0m\u001b[0;34m\u001b[0m\u001b[0;34m\u001b[0m\u001b[0m\n\u001b[0;32m-> 1043\u001b[0;31m             \u001b[0;32mif\u001b[0m \u001b[0mself\u001b[0m\u001b[0;34m.\u001b[0m\u001b[0mdispatch_one_batch\u001b[0m\u001b[0;34m(\u001b[0m\u001b[0miterator\u001b[0m\u001b[0;34m)\u001b[0m\u001b[0;34m:\u001b[0m\u001b[0;34m\u001b[0m\u001b[0;34m\u001b[0m\u001b[0m\n\u001b[0m\u001b[1;32m   1044\u001b[0m                 \u001b[0mself\u001b[0m\u001b[0;34m.\u001b[0m\u001b[0m_iterating\u001b[0m \u001b[0;34m=\u001b[0m \u001b[0mself\u001b[0m\u001b[0;34m.\u001b[0m\u001b[0m_original_iterator\u001b[0m \u001b[0;32mis\u001b[0m \u001b[0;32mnot\u001b[0m \u001b[0;32mNone\u001b[0m\u001b[0;34m\u001b[0m\u001b[0;34m\u001b[0m\u001b[0m\n\u001b[1;32m   1045\u001b[0m \u001b[0;34m\u001b[0m\u001b[0m\n",
      "\u001b[0;32m~/opt/anaconda3/envs/yelp_capstone/lib/python3.8/site-packages/joblib/parallel.py\u001b[0m in \u001b[0;36mdispatch_one_batch\u001b[0;34m(self, iterator)\u001b[0m\n\u001b[1;32m    859\u001b[0m                 \u001b[0;32mreturn\u001b[0m \u001b[0;32mFalse\u001b[0m\u001b[0;34m\u001b[0m\u001b[0;34m\u001b[0m\u001b[0m\n\u001b[1;32m    860\u001b[0m             \u001b[0;32melse\u001b[0m\u001b[0;34m:\u001b[0m\u001b[0;34m\u001b[0m\u001b[0;34m\u001b[0m\u001b[0m\n\u001b[0;32m--> 861\u001b[0;31m                 \u001b[0mself\u001b[0m\u001b[0;34m.\u001b[0m\u001b[0m_dispatch\u001b[0m\u001b[0;34m(\u001b[0m\u001b[0mtasks\u001b[0m\u001b[0;34m)\u001b[0m\u001b[0;34m\u001b[0m\u001b[0;34m\u001b[0m\u001b[0m\n\u001b[0m\u001b[1;32m    862\u001b[0m                 \u001b[0;32mreturn\u001b[0m \u001b[0;32mTrue\u001b[0m\u001b[0;34m\u001b[0m\u001b[0;34m\u001b[0m\u001b[0m\n\u001b[1;32m    863\u001b[0m \u001b[0;34m\u001b[0m\u001b[0m\n",
      "\u001b[0;32m~/opt/anaconda3/envs/yelp_capstone/lib/python3.8/site-packages/joblib/parallel.py\u001b[0m in \u001b[0;36m_dispatch\u001b[0;34m(self, batch)\u001b[0m\n\u001b[1;32m    777\u001b[0m         \u001b[0;32mwith\u001b[0m \u001b[0mself\u001b[0m\u001b[0;34m.\u001b[0m\u001b[0m_lock\u001b[0m\u001b[0;34m:\u001b[0m\u001b[0;34m\u001b[0m\u001b[0;34m\u001b[0m\u001b[0m\n\u001b[1;32m    778\u001b[0m             \u001b[0mjob_idx\u001b[0m \u001b[0;34m=\u001b[0m \u001b[0mlen\u001b[0m\u001b[0;34m(\u001b[0m\u001b[0mself\u001b[0m\u001b[0;34m.\u001b[0m\u001b[0m_jobs\u001b[0m\u001b[0;34m)\u001b[0m\u001b[0;34m\u001b[0m\u001b[0;34m\u001b[0m\u001b[0m\n\u001b[0;32m--> 779\u001b[0;31m             \u001b[0mjob\u001b[0m \u001b[0;34m=\u001b[0m \u001b[0mself\u001b[0m\u001b[0;34m.\u001b[0m\u001b[0m_backend\u001b[0m\u001b[0;34m.\u001b[0m\u001b[0mapply_async\u001b[0m\u001b[0;34m(\u001b[0m\u001b[0mbatch\u001b[0m\u001b[0;34m,\u001b[0m \u001b[0mcallback\u001b[0m\u001b[0;34m=\u001b[0m\u001b[0mcb\u001b[0m\u001b[0;34m)\u001b[0m\u001b[0;34m\u001b[0m\u001b[0;34m\u001b[0m\u001b[0m\n\u001b[0m\u001b[1;32m    780\u001b[0m             \u001b[0;31m# A job can complete so quickly than its callback is\u001b[0m\u001b[0;34m\u001b[0m\u001b[0;34m\u001b[0m\u001b[0;34m\u001b[0m\u001b[0m\n\u001b[1;32m    781\u001b[0m             \u001b[0;31m# called before we get here, causing self._jobs to\u001b[0m\u001b[0;34m\u001b[0m\u001b[0;34m\u001b[0m\u001b[0;34m\u001b[0m\u001b[0m\n",
      "\u001b[0;32m~/opt/anaconda3/envs/yelp_capstone/lib/python3.8/site-packages/joblib/_parallel_backends.py\u001b[0m in \u001b[0;36mapply_async\u001b[0;34m(self, func, callback)\u001b[0m\n\u001b[1;32m    206\u001b[0m     \u001b[0;32mdef\u001b[0m \u001b[0mapply_async\u001b[0m\u001b[0;34m(\u001b[0m\u001b[0mself\u001b[0m\u001b[0;34m,\u001b[0m \u001b[0mfunc\u001b[0m\u001b[0;34m,\u001b[0m \u001b[0mcallback\u001b[0m\u001b[0;34m=\u001b[0m\u001b[0;32mNone\u001b[0m\u001b[0;34m)\u001b[0m\u001b[0;34m:\u001b[0m\u001b[0;34m\u001b[0m\u001b[0;34m\u001b[0m\u001b[0m\n\u001b[1;32m    207\u001b[0m         \u001b[0;34m\"\"\"Schedule a func to be run\"\"\"\u001b[0m\u001b[0;34m\u001b[0m\u001b[0;34m\u001b[0m\u001b[0m\n\u001b[0;32m--> 208\u001b[0;31m         \u001b[0mresult\u001b[0m \u001b[0;34m=\u001b[0m \u001b[0mImmediateResult\u001b[0m\u001b[0;34m(\u001b[0m\u001b[0mfunc\u001b[0m\u001b[0;34m)\u001b[0m\u001b[0;34m\u001b[0m\u001b[0;34m\u001b[0m\u001b[0m\n\u001b[0m\u001b[1;32m    209\u001b[0m         \u001b[0;32mif\u001b[0m \u001b[0mcallback\u001b[0m\u001b[0;34m:\u001b[0m\u001b[0;34m\u001b[0m\u001b[0;34m\u001b[0m\u001b[0m\n\u001b[1;32m    210\u001b[0m             \u001b[0mcallback\u001b[0m\u001b[0;34m(\u001b[0m\u001b[0mresult\u001b[0m\u001b[0;34m)\u001b[0m\u001b[0;34m\u001b[0m\u001b[0;34m\u001b[0m\u001b[0m\n",
      "\u001b[0;32m~/opt/anaconda3/envs/yelp_capstone/lib/python3.8/site-packages/joblib/_parallel_backends.py\u001b[0m in \u001b[0;36m__init__\u001b[0;34m(self, batch)\u001b[0m\n\u001b[1;32m    570\u001b[0m         \u001b[0;31m# Don't delay the application, to avoid keeping the input\u001b[0m\u001b[0;34m\u001b[0m\u001b[0;34m\u001b[0m\u001b[0;34m\u001b[0m\u001b[0m\n\u001b[1;32m    571\u001b[0m         \u001b[0;31m# arguments in memory\u001b[0m\u001b[0;34m\u001b[0m\u001b[0;34m\u001b[0m\u001b[0;34m\u001b[0m\u001b[0m\n\u001b[0;32m--> 572\u001b[0;31m         \u001b[0mself\u001b[0m\u001b[0;34m.\u001b[0m\u001b[0mresults\u001b[0m \u001b[0;34m=\u001b[0m \u001b[0mbatch\u001b[0m\u001b[0;34m(\u001b[0m\u001b[0;34m)\u001b[0m\u001b[0;34m\u001b[0m\u001b[0;34m\u001b[0m\u001b[0m\n\u001b[0m\u001b[1;32m    573\u001b[0m \u001b[0;34m\u001b[0m\u001b[0m\n\u001b[1;32m    574\u001b[0m     \u001b[0;32mdef\u001b[0m \u001b[0mget\u001b[0m\u001b[0;34m(\u001b[0m\u001b[0mself\u001b[0m\u001b[0;34m)\u001b[0m\u001b[0;34m:\u001b[0m\u001b[0;34m\u001b[0m\u001b[0;34m\u001b[0m\u001b[0m\n",
      "\u001b[0;32m~/opt/anaconda3/envs/yelp_capstone/lib/python3.8/site-packages/joblib/parallel.py\u001b[0m in \u001b[0;36m__call__\u001b[0;34m(self)\u001b[0m\n\u001b[1;32m    260\u001b[0m         \u001b[0;31m# change the default number of processes to -1\u001b[0m\u001b[0;34m\u001b[0m\u001b[0;34m\u001b[0m\u001b[0;34m\u001b[0m\u001b[0m\n\u001b[1;32m    261\u001b[0m         \u001b[0;32mwith\u001b[0m \u001b[0mparallel_backend\u001b[0m\u001b[0;34m(\u001b[0m\u001b[0mself\u001b[0m\u001b[0;34m.\u001b[0m\u001b[0m_backend\u001b[0m\u001b[0;34m,\u001b[0m \u001b[0mn_jobs\u001b[0m\u001b[0;34m=\u001b[0m\u001b[0mself\u001b[0m\u001b[0;34m.\u001b[0m\u001b[0m_n_jobs\u001b[0m\u001b[0;34m)\u001b[0m\u001b[0;34m:\u001b[0m\u001b[0;34m\u001b[0m\u001b[0;34m\u001b[0m\u001b[0m\n\u001b[0;32m--> 262\u001b[0;31m             return [func(*args, **kwargs)\n\u001b[0m\u001b[1;32m    263\u001b[0m                     for func, args, kwargs in self.items]\n\u001b[1;32m    264\u001b[0m \u001b[0;34m\u001b[0m\u001b[0m\n",
      "\u001b[0;32m~/opt/anaconda3/envs/yelp_capstone/lib/python3.8/site-packages/joblib/parallel.py\u001b[0m in \u001b[0;36m<listcomp>\u001b[0;34m(.0)\u001b[0m\n\u001b[1;32m    260\u001b[0m         \u001b[0;31m# change the default number of processes to -1\u001b[0m\u001b[0;34m\u001b[0m\u001b[0;34m\u001b[0m\u001b[0;34m\u001b[0m\u001b[0m\n\u001b[1;32m    261\u001b[0m         \u001b[0;32mwith\u001b[0m \u001b[0mparallel_backend\u001b[0m\u001b[0;34m(\u001b[0m\u001b[0mself\u001b[0m\u001b[0;34m.\u001b[0m\u001b[0m_backend\u001b[0m\u001b[0;34m,\u001b[0m \u001b[0mn_jobs\u001b[0m\u001b[0;34m=\u001b[0m\u001b[0mself\u001b[0m\u001b[0;34m.\u001b[0m\u001b[0m_n_jobs\u001b[0m\u001b[0;34m)\u001b[0m\u001b[0;34m:\u001b[0m\u001b[0;34m\u001b[0m\u001b[0;34m\u001b[0m\u001b[0m\n\u001b[0;32m--> 262\u001b[0;31m             return [func(*args, **kwargs)\n\u001b[0m\u001b[1;32m    263\u001b[0m                     for func, args, kwargs in self.items]\n\u001b[1;32m    264\u001b[0m \u001b[0;34m\u001b[0m\u001b[0m\n",
      "\u001b[0;32m~/opt/anaconda3/envs/yelp_capstone/lib/python3.8/site-packages/sklearn/utils/fixes.py\u001b[0m in \u001b[0;36m__call__\u001b[0;34m(self, *args, **kwargs)\u001b[0m\n\u001b[1;32m    209\u001b[0m     \u001b[0;32mdef\u001b[0m \u001b[0m__call__\u001b[0m\u001b[0;34m(\u001b[0m\u001b[0mself\u001b[0m\u001b[0;34m,\u001b[0m \u001b[0;34m*\u001b[0m\u001b[0margs\u001b[0m\u001b[0;34m,\u001b[0m \u001b[0;34m**\u001b[0m\u001b[0mkwargs\u001b[0m\u001b[0;34m)\u001b[0m\u001b[0;34m:\u001b[0m\u001b[0;34m\u001b[0m\u001b[0;34m\u001b[0m\u001b[0m\n\u001b[1;32m    210\u001b[0m         \u001b[0;32mwith\u001b[0m \u001b[0mconfig_context\u001b[0m\u001b[0;34m(\u001b[0m\u001b[0;34m**\u001b[0m\u001b[0mself\u001b[0m\u001b[0;34m.\u001b[0m\u001b[0mconfig\u001b[0m\u001b[0;34m)\u001b[0m\u001b[0;34m:\u001b[0m\u001b[0;34m\u001b[0m\u001b[0;34m\u001b[0m\u001b[0m\n\u001b[0;32m--> 211\u001b[0;31m             \u001b[0;32mreturn\u001b[0m \u001b[0mself\u001b[0m\u001b[0;34m.\u001b[0m\u001b[0mfunction\u001b[0m\u001b[0;34m(\u001b[0m\u001b[0;34m*\u001b[0m\u001b[0margs\u001b[0m\u001b[0;34m,\u001b[0m \u001b[0;34m**\u001b[0m\u001b[0mkwargs\u001b[0m\u001b[0;34m)\u001b[0m\u001b[0;34m\u001b[0m\u001b[0;34m\u001b[0m\u001b[0m\n\u001b[0m\u001b[1;32m    212\u001b[0m \u001b[0;34m\u001b[0m\u001b[0m\n\u001b[1;32m    213\u001b[0m \u001b[0;34m\u001b[0m\u001b[0m\n",
      "\u001b[0;32m~/opt/anaconda3/envs/yelp_capstone/lib/python3.8/site-packages/sklearn/model_selection/_validation.py\u001b[0m in \u001b[0;36m_fit_and_score\u001b[0;34m(estimator, X, y, scorer, train, test, verbose, parameters, fit_params, return_train_score, return_parameters, return_n_test_samples, return_times, return_estimator, split_progress, candidate_progress, error_score)\u001b[0m\n\u001b[1;32m    679\u001b[0m             \u001b[0mestimator\u001b[0m\u001b[0;34m.\u001b[0m\u001b[0mfit\u001b[0m\u001b[0;34m(\u001b[0m\u001b[0mX_train\u001b[0m\u001b[0;34m,\u001b[0m \u001b[0;34m**\u001b[0m\u001b[0mfit_params\u001b[0m\u001b[0;34m)\u001b[0m\u001b[0;34m\u001b[0m\u001b[0;34m\u001b[0m\u001b[0m\n\u001b[1;32m    680\u001b[0m         \u001b[0;32melse\u001b[0m\u001b[0;34m:\u001b[0m\u001b[0;34m\u001b[0m\u001b[0;34m\u001b[0m\u001b[0m\n\u001b[0;32m--> 681\u001b[0;31m             \u001b[0mestimator\u001b[0m\u001b[0;34m.\u001b[0m\u001b[0mfit\u001b[0m\u001b[0;34m(\u001b[0m\u001b[0mX_train\u001b[0m\u001b[0;34m,\u001b[0m \u001b[0my_train\u001b[0m\u001b[0;34m,\u001b[0m \u001b[0;34m**\u001b[0m\u001b[0mfit_params\u001b[0m\u001b[0;34m)\u001b[0m\u001b[0;34m\u001b[0m\u001b[0;34m\u001b[0m\u001b[0m\n\u001b[0m\u001b[1;32m    682\u001b[0m \u001b[0;34m\u001b[0m\u001b[0m\n\u001b[1;32m    683\u001b[0m     \u001b[0;32mexcept\u001b[0m \u001b[0mException\u001b[0m\u001b[0;34m:\u001b[0m\u001b[0;34m\u001b[0m\u001b[0;34m\u001b[0m\u001b[0m\n",
      "\u001b[0;32m~/opt/anaconda3/envs/yelp_capstone/lib/python3.8/site-packages/sklearn/ensemble/_forest.py\u001b[0m in \u001b[0;36mfit\u001b[0;34m(self, X, y, sample_weight)\u001b[0m\n\u001b[1;32m    440\u001b[0m             \u001b[0;31m# parallel_backend contexts set at a higher level,\u001b[0m\u001b[0;34m\u001b[0m\u001b[0;34m\u001b[0m\u001b[0;34m\u001b[0m\u001b[0m\n\u001b[1;32m    441\u001b[0m             \u001b[0;31m# since correctness does not rely on using threads.\u001b[0m\u001b[0;34m\u001b[0m\u001b[0;34m\u001b[0m\u001b[0;34m\u001b[0m\u001b[0m\n\u001b[0;32m--> 442\u001b[0;31m             trees = Parallel(\n\u001b[0m\u001b[1;32m    443\u001b[0m                 \u001b[0mn_jobs\u001b[0m\u001b[0;34m=\u001b[0m\u001b[0mself\u001b[0m\u001b[0;34m.\u001b[0m\u001b[0mn_jobs\u001b[0m\u001b[0;34m,\u001b[0m\u001b[0;34m\u001b[0m\u001b[0;34m\u001b[0m\u001b[0m\n\u001b[1;32m    444\u001b[0m                 \u001b[0mverbose\u001b[0m\u001b[0;34m=\u001b[0m\u001b[0mself\u001b[0m\u001b[0;34m.\u001b[0m\u001b[0mverbose\u001b[0m\u001b[0;34m,\u001b[0m\u001b[0;34m\u001b[0m\u001b[0;34m\u001b[0m\u001b[0m\n",
      "\u001b[0;32m~/opt/anaconda3/envs/yelp_capstone/lib/python3.8/site-packages/joblib/parallel.py\u001b[0m in \u001b[0;36m__call__\u001b[0;34m(self, iterable)\u001b[0m\n\u001b[1;32m   1044\u001b[0m                 \u001b[0mself\u001b[0m\u001b[0;34m.\u001b[0m\u001b[0m_iterating\u001b[0m \u001b[0;34m=\u001b[0m \u001b[0mself\u001b[0m\u001b[0;34m.\u001b[0m\u001b[0m_original_iterator\u001b[0m \u001b[0;32mis\u001b[0m \u001b[0;32mnot\u001b[0m \u001b[0;32mNone\u001b[0m\u001b[0;34m\u001b[0m\u001b[0;34m\u001b[0m\u001b[0m\n\u001b[1;32m   1045\u001b[0m \u001b[0;34m\u001b[0m\u001b[0m\n\u001b[0;32m-> 1046\u001b[0;31m             \u001b[0;32mwhile\u001b[0m \u001b[0mself\u001b[0m\u001b[0;34m.\u001b[0m\u001b[0mdispatch_one_batch\u001b[0m\u001b[0;34m(\u001b[0m\u001b[0miterator\u001b[0m\u001b[0;34m)\u001b[0m\u001b[0;34m:\u001b[0m\u001b[0;34m\u001b[0m\u001b[0;34m\u001b[0m\u001b[0m\n\u001b[0m\u001b[1;32m   1047\u001b[0m                 \u001b[0;32mpass\u001b[0m\u001b[0;34m\u001b[0m\u001b[0;34m\u001b[0m\u001b[0m\n\u001b[1;32m   1048\u001b[0m \u001b[0;34m\u001b[0m\u001b[0m\n",
      "\u001b[0;32m~/opt/anaconda3/envs/yelp_capstone/lib/python3.8/site-packages/joblib/parallel.py\u001b[0m in \u001b[0;36mdispatch_one_batch\u001b[0;34m(self, iterator)\u001b[0m\n\u001b[1;32m    859\u001b[0m                 \u001b[0;32mreturn\u001b[0m \u001b[0;32mFalse\u001b[0m\u001b[0;34m\u001b[0m\u001b[0;34m\u001b[0m\u001b[0m\n\u001b[1;32m    860\u001b[0m             \u001b[0;32melse\u001b[0m\u001b[0;34m:\u001b[0m\u001b[0;34m\u001b[0m\u001b[0;34m\u001b[0m\u001b[0m\n\u001b[0;32m--> 861\u001b[0;31m                 \u001b[0mself\u001b[0m\u001b[0;34m.\u001b[0m\u001b[0m_dispatch\u001b[0m\u001b[0;34m(\u001b[0m\u001b[0mtasks\u001b[0m\u001b[0;34m)\u001b[0m\u001b[0;34m\u001b[0m\u001b[0;34m\u001b[0m\u001b[0m\n\u001b[0m\u001b[1;32m    862\u001b[0m                 \u001b[0;32mreturn\u001b[0m \u001b[0;32mTrue\u001b[0m\u001b[0;34m\u001b[0m\u001b[0;34m\u001b[0m\u001b[0m\n\u001b[1;32m    863\u001b[0m \u001b[0;34m\u001b[0m\u001b[0m\n",
      "\u001b[0;32m~/opt/anaconda3/envs/yelp_capstone/lib/python3.8/site-packages/joblib/parallel.py\u001b[0m in \u001b[0;36m_dispatch\u001b[0;34m(self, batch)\u001b[0m\n\u001b[1;32m    777\u001b[0m         \u001b[0;32mwith\u001b[0m \u001b[0mself\u001b[0m\u001b[0;34m.\u001b[0m\u001b[0m_lock\u001b[0m\u001b[0;34m:\u001b[0m\u001b[0;34m\u001b[0m\u001b[0;34m\u001b[0m\u001b[0m\n\u001b[1;32m    778\u001b[0m             \u001b[0mjob_idx\u001b[0m \u001b[0;34m=\u001b[0m \u001b[0mlen\u001b[0m\u001b[0;34m(\u001b[0m\u001b[0mself\u001b[0m\u001b[0;34m.\u001b[0m\u001b[0m_jobs\u001b[0m\u001b[0;34m)\u001b[0m\u001b[0;34m\u001b[0m\u001b[0;34m\u001b[0m\u001b[0m\n\u001b[0;32m--> 779\u001b[0;31m             \u001b[0mjob\u001b[0m \u001b[0;34m=\u001b[0m \u001b[0mself\u001b[0m\u001b[0;34m.\u001b[0m\u001b[0m_backend\u001b[0m\u001b[0;34m.\u001b[0m\u001b[0mapply_async\u001b[0m\u001b[0;34m(\u001b[0m\u001b[0mbatch\u001b[0m\u001b[0;34m,\u001b[0m \u001b[0mcallback\u001b[0m\u001b[0;34m=\u001b[0m\u001b[0mcb\u001b[0m\u001b[0;34m)\u001b[0m\u001b[0;34m\u001b[0m\u001b[0;34m\u001b[0m\u001b[0m\n\u001b[0m\u001b[1;32m    780\u001b[0m             \u001b[0;31m# A job can complete so quickly than its callback is\u001b[0m\u001b[0;34m\u001b[0m\u001b[0;34m\u001b[0m\u001b[0;34m\u001b[0m\u001b[0m\n\u001b[1;32m    781\u001b[0m             \u001b[0;31m# called before we get here, causing self._jobs to\u001b[0m\u001b[0;34m\u001b[0m\u001b[0;34m\u001b[0m\u001b[0;34m\u001b[0m\u001b[0m\n",
      "\u001b[0;32m~/opt/anaconda3/envs/yelp_capstone/lib/python3.8/site-packages/joblib/_parallel_backends.py\u001b[0m in \u001b[0;36mapply_async\u001b[0;34m(self, func, callback)\u001b[0m\n\u001b[1;32m    206\u001b[0m     \u001b[0;32mdef\u001b[0m \u001b[0mapply_async\u001b[0m\u001b[0;34m(\u001b[0m\u001b[0mself\u001b[0m\u001b[0;34m,\u001b[0m \u001b[0mfunc\u001b[0m\u001b[0;34m,\u001b[0m \u001b[0mcallback\u001b[0m\u001b[0;34m=\u001b[0m\u001b[0;32mNone\u001b[0m\u001b[0;34m)\u001b[0m\u001b[0;34m:\u001b[0m\u001b[0;34m\u001b[0m\u001b[0;34m\u001b[0m\u001b[0m\n\u001b[1;32m    207\u001b[0m         \u001b[0;34m\"\"\"Schedule a func to be run\"\"\"\u001b[0m\u001b[0;34m\u001b[0m\u001b[0;34m\u001b[0m\u001b[0m\n\u001b[0;32m--> 208\u001b[0;31m         \u001b[0mresult\u001b[0m \u001b[0;34m=\u001b[0m \u001b[0mImmediateResult\u001b[0m\u001b[0;34m(\u001b[0m\u001b[0mfunc\u001b[0m\u001b[0;34m)\u001b[0m\u001b[0;34m\u001b[0m\u001b[0;34m\u001b[0m\u001b[0m\n\u001b[0m\u001b[1;32m    209\u001b[0m         \u001b[0;32mif\u001b[0m \u001b[0mcallback\u001b[0m\u001b[0;34m:\u001b[0m\u001b[0;34m\u001b[0m\u001b[0;34m\u001b[0m\u001b[0m\n\u001b[1;32m    210\u001b[0m             \u001b[0mcallback\u001b[0m\u001b[0;34m(\u001b[0m\u001b[0mresult\u001b[0m\u001b[0;34m)\u001b[0m\u001b[0;34m\u001b[0m\u001b[0;34m\u001b[0m\u001b[0m\n",
      "\u001b[0;32m~/opt/anaconda3/envs/yelp_capstone/lib/python3.8/site-packages/joblib/_parallel_backends.py\u001b[0m in \u001b[0;36m__init__\u001b[0;34m(self, batch)\u001b[0m\n\u001b[1;32m    570\u001b[0m         \u001b[0;31m# Don't delay the application, to avoid keeping the input\u001b[0m\u001b[0;34m\u001b[0m\u001b[0;34m\u001b[0m\u001b[0;34m\u001b[0m\u001b[0m\n\u001b[1;32m    571\u001b[0m         \u001b[0;31m# arguments in memory\u001b[0m\u001b[0;34m\u001b[0m\u001b[0;34m\u001b[0m\u001b[0;34m\u001b[0m\u001b[0m\n\u001b[0;32m--> 572\u001b[0;31m         \u001b[0mself\u001b[0m\u001b[0;34m.\u001b[0m\u001b[0mresults\u001b[0m \u001b[0;34m=\u001b[0m \u001b[0mbatch\u001b[0m\u001b[0;34m(\u001b[0m\u001b[0;34m)\u001b[0m\u001b[0;34m\u001b[0m\u001b[0;34m\u001b[0m\u001b[0m\n\u001b[0m\u001b[1;32m    573\u001b[0m \u001b[0;34m\u001b[0m\u001b[0m\n\u001b[1;32m    574\u001b[0m     \u001b[0;32mdef\u001b[0m \u001b[0mget\u001b[0m\u001b[0;34m(\u001b[0m\u001b[0mself\u001b[0m\u001b[0;34m)\u001b[0m\u001b[0;34m:\u001b[0m\u001b[0;34m\u001b[0m\u001b[0;34m\u001b[0m\u001b[0m\n",
      "\u001b[0;32m~/opt/anaconda3/envs/yelp_capstone/lib/python3.8/site-packages/joblib/parallel.py\u001b[0m in \u001b[0;36m__call__\u001b[0;34m(self)\u001b[0m\n\u001b[1;32m    260\u001b[0m         \u001b[0;31m# change the default number of processes to -1\u001b[0m\u001b[0;34m\u001b[0m\u001b[0;34m\u001b[0m\u001b[0;34m\u001b[0m\u001b[0m\n\u001b[1;32m    261\u001b[0m         \u001b[0;32mwith\u001b[0m \u001b[0mparallel_backend\u001b[0m\u001b[0;34m(\u001b[0m\u001b[0mself\u001b[0m\u001b[0;34m.\u001b[0m\u001b[0m_backend\u001b[0m\u001b[0;34m,\u001b[0m \u001b[0mn_jobs\u001b[0m\u001b[0;34m=\u001b[0m\u001b[0mself\u001b[0m\u001b[0;34m.\u001b[0m\u001b[0m_n_jobs\u001b[0m\u001b[0;34m)\u001b[0m\u001b[0;34m:\u001b[0m\u001b[0;34m\u001b[0m\u001b[0;34m\u001b[0m\u001b[0m\n\u001b[0;32m--> 262\u001b[0;31m             return [func(*args, **kwargs)\n\u001b[0m\u001b[1;32m    263\u001b[0m                     for func, args, kwargs in self.items]\n\u001b[1;32m    264\u001b[0m \u001b[0;34m\u001b[0m\u001b[0m\n",
      "\u001b[0;32m~/opt/anaconda3/envs/yelp_capstone/lib/python3.8/site-packages/joblib/parallel.py\u001b[0m in \u001b[0;36m<listcomp>\u001b[0;34m(.0)\u001b[0m\n\u001b[1;32m    260\u001b[0m         \u001b[0;31m# change the default number of processes to -1\u001b[0m\u001b[0;34m\u001b[0m\u001b[0;34m\u001b[0m\u001b[0;34m\u001b[0m\u001b[0m\n\u001b[1;32m    261\u001b[0m         \u001b[0;32mwith\u001b[0m \u001b[0mparallel_backend\u001b[0m\u001b[0;34m(\u001b[0m\u001b[0mself\u001b[0m\u001b[0;34m.\u001b[0m\u001b[0m_backend\u001b[0m\u001b[0;34m,\u001b[0m \u001b[0mn_jobs\u001b[0m\u001b[0;34m=\u001b[0m\u001b[0mself\u001b[0m\u001b[0;34m.\u001b[0m\u001b[0m_n_jobs\u001b[0m\u001b[0;34m)\u001b[0m\u001b[0;34m:\u001b[0m\u001b[0;34m\u001b[0m\u001b[0;34m\u001b[0m\u001b[0m\n\u001b[0;32m--> 262\u001b[0;31m             return [func(*args, **kwargs)\n\u001b[0m\u001b[1;32m    263\u001b[0m                     for func, args, kwargs in self.items]\n\u001b[1;32m    264\u001b[0m \u001b[0;34m\u001b[0m\u001b[0m\n",
      "\u001b[0;32m~/opt/anaconda3/envs/yelp_capstone/lib/python3.8/site-packages/sklearn/utils/fixes.py\u001b[0m in \u001b[0;36m__call__\u001b[0;34m(self, *args, **kwargs)\u001b[0m\n\u001b[1;32m    209\u001b[0m     \u001b[0;32mdef\u001b[0m \u001b[0m__call__\u001b[0m\u001b[0;34m(\u001b[0m\u001b[0mself\u001b[0m\u001b[0;34m,\u001b[0m \u001b[0;34m*\u001b[0m\u001b[0margs\u001b[0m\u001b[0;34m,\u001b[0m \u001b[0;34m**\u001b[0m\u001b[0mkwargs\u001b[0m\u001b[0;34m)\u001b[0m\u001b[0;34m:\u001b[0m\u001b[0;34m\u001b[0m\u001b[0;34m\u001b[0m\u001b[0m\n\u001b[1;32m    210\u001b[0m         \u001b[0;32mwith\u001b[0m \u001b[0mconfig_context\u001b[0m\u001b[0;34m(\u001b[0m\u001b[0;34m**\u001b[0m\u001b[0mself\u001b[0m\u001b[0;34m.\u001b[0m\u001b[0mconfig\u001b[0m\u001b[0;34m)\u001b[0m\u001b[0;34m:\u001b[0m\u001b[0;34m\u001b[0m\u001b[0;34m\u001b[0m\u001b[0m\n\u001b[0;32m--> 211\u001b[0;31m             \u001b[0;32mreturn\u001b[0m \u001b[0mself\u001b[0m\u001b[0;34m.\u001b[0m\u001b[0mfunction\u001b[0m\u001b[0;34m(\u001b[0m\u001b[0;34m*\u001b[0m\u001b[0margs\u001b[0m\u001b[0;34m,\u001b[0m \u001b[0;34m**\u001b[0m\u001b[0mkwargs\u001b[0m\u001b[0;34m)\u001b[0m\u001b[0;34m\u001b[0m\u001b[0;34m\u001b[0m\u001b[0m\n\u001b[0m\u001b[1;32m    212\u001b[0m \u001b[0;34m\u001b[0m\u001b[0m\n\u001b[1;32m    213\u001b[0m \u001b[0;34m\u001b[0m\u001b[0m\n",
      "\u001b[0;32m~/opt/anaconda3/envs/yelp_capstone/lib/python3.8/site-packages/sklearn/ensemble/_forest.py\u001b[0m in \u001b[0;36m_parallel_build_trees\u001b[0;34m(tree, forest, X, y, sample_weight, tree_idx, n_trees, verbose, class_weight, n_samples_bootstrap)\u001b[0m\n\u001b[1;32m    183\u001b[0m             \u001b[0mcurr_sample_weight\u001b[0m \u001b[0;34m*=\u001b[0m \u001b[0mcompute_sample_weight\u001b[0m\u001b[0;34m(\u001b[0m\u001b[0;34m\"balanced\"\u001b[0m\u001b[0;34m,\u001b[0m \u001b[0my\u001b[0m\u001b[0;34m,\u001b[0m \u001b[0mindices\u001b[0m\u001b[0;34m=\u001b[0m\u001b[0mindices\u001b[0m\u001b[0;34m)\u001b[0m\u001b[0;34m\u001b[0m\u001b[0;34m\u001b[0m\u001b[0m\n\u001b[1;32m    184\u001b[0m \u001b[0;34m\u001b[0m\u001b[0m\n\u001b[0;32m--> 185\u001b[0;31m         \u001b[0mtree\u001b[0m\u001b[0;34m.\u001b[0m\u001b[0mfit\u001b[0m\u001b[0;34m(\u001b[0m\u001b[0mX\u001b[0m\u001b[0;34m,\u001b[0m \u001b[0my\u001b[0m\u001b[0;34m,\u001b[0m \u001b[0msample_weight\u001b[0m\u001b[0;34m=\u001b[0m\u001b[0mcurr_sample_weight\u001b[0m\u001b[0;34m,\u001b[0m \u001b[0mcheck_input\u001b[0m\u001b[0;34m=\u001b[0m\u001b[0;32mFalse\u001b[0m\u001b[0;34m)\u001b[0m\u001b[0;34m\u001b[0m\u001b[0;34m\u001b[0m\u001b[0m\n\u001b[0m\u001b[1;32m    186\u001b[0m     \u001b[0;32melse\u001b[0m\u001b[0;34m:\u001b[0m\u001b[0;34m\u001b[0m\u001b[0;34m\u001b[0m\u001b[0m\n\u001b[1;32m    187\u001b[0m         \u001b[0mtree\u001b[0m\u001b[0;34m.\u001b[0m\u001b[0mfit\u001b[0m\u001b[0;34m(\u001b[0m\u001b[0mX\u001b[0m\u001b[0;34m,\u001b[0m \u001b[0my\u001b[0m\u001b[0;34m,\u001b[0m \u001b[0msample_weight\u001b[0m\u001b[0;34m=\u001b[0m\u001b[0msample_weight\u001b[0m\u001b[0;34m,\u001b[0m \u001b[0mcheck_input\u001b[0m\u001b[0;34m=\u001b[0m\u001b[0;32mFalse\u001b[0m\u001b[0;34m)\u001b[0m\u001b[0;34m\u001b[0m\u001b[0;34m\u001b[0m\u001b[0m\n",
      "\u001b[0;32m~/opt/anaconda3/envs/yelp_capstone/lib/python3.8/site-packages/sklearn/tree/_classes.py\u001b[0m in \u001b[0;36mfit\u001b[0;34m(self, X, y, sample_weight, check_input, X_idx_sorted)\u001b[0m\n\u001b[1;32m   1313\u001b[0m         \"\"\"\n\u001b[1;32m   1314\u001b[0m \u001b[0;34m\u001b[0m\u001b[0m\n\u001b[0;32m-> 1315\u001b[0;31m         super().fit(\n\u001b[0m\u001b[1;32m   1316\u001b[0m             \u001b[0mX\u001b[0m\u001b[0;34m,\u001b[0m\u001b[0;34m\u001b[0m\u001b[0;34m\u001b[0m\u001b[0m\n\u001b[1;32m   1317\u001b[0m             \u001b[0my\u001b[0m\u001b[0;34m,\u001b[0m\u001b[0;34m\u001b[0m\u001b[0;34m\u001b[0m\u001b[0m\n",
      "\u001b[0;32m~/opt/anaconda3/envs/yelp_capstone/lib/python3.8/site-packages/sklearn/tree/_classes.py\u001b[0m in \u001b[0;36mfit\u001b[0;34m(self, X, y, sample_weight, check_input, X_idx_sorted)\u001b[0m\n\u001b[1;32m    418\u001b[0m             )\n\u001b[1;32m    419\u001b[0m \u001b[0;34m\u001b[0m\u001b[0m\n\u001b[0;32m--> 420\u001b[0;31m         \u001b[0mbuilder\u001b[0m\u001b[0;34m.\u001b[0m\u001b[0mbuild\u001b[0m\u001b[0;34m(\u001b[0m\u001b[0mself\u001b[0m\u001b[0;34m.\u001b[0m\u001b[0mtree_\u001b[0m\u001b[0;34m,\u001b[0m \u001b[0mX\u001b[0m\u001b[0;34m,\u001b[0m \u001b[0my\u001b[0m\u001b[0;34m,\u001b[0m \u001b[0msample_weight\u001b[0m\u001b[0;34m)\u001b[0m\u001b[0;34m\u001b[0m\u001b[0;34m\u001b[0m\u001b[0m\n\u001b[0m\u001b[1;32m    421\u001b[0m \u001b[0;34m\u001b[0m\u001b[0m\n\u001b[1;32m    422\u001b[0m         \u001b[0;32mif\u001b[0m \u001b[0mself\u001b[0m\u001b[0;34m.\u001b[0m\u001b[0mn_outputs_\u001b[0m \u001b[0;34m==\u001b[0m \u001b[0;36m1\u001b[0m \u001b[0;32mand\u001b[0m \u001b[0mis_classifier\u001b[0m\u001b[0;34m(\u001b[0m\u001b[0mself\u001b[0m\u001b[0;34m)\u001b[0m\u001b[0;34m:\u001b[0m\u001b[0;34m\u001b[0m\u001b[0;34m\u001b[0m\u001b[0m\n",
      "\u001b[0;31mKeyboardInterrupt\u001b[0m: "
     ]
    }
   ],
   "source": [
    "%%time\n",
    "\n",
    "scores = pd.DataFrame(columns=['n_estimators', 'MAE', 'R-squared'])\n",
    "\n",
    "for n in range(100, 102, 25):\n",
    "    forest_reg = RandomForestRegressor(n_estimators=n, max_depth = 25, min_samples_leaf = 6)\n",
    "\n",
    "    \n",
    "    cv_scores = cross_validate(forest_reg, X_train_unscaled, y_train, cv=5,\n",
    "                               scoring=scorer)\n",
    "\n",
    "    scores = scores.append({'n_estimators': n,\n",
    "                                    'MAE': np.mean(-cv_scores['test_custom_mae_scorer']),\n",
    "                                    'R-squared': np.mean(cv_scores['test_custom_r2_scorer'])}, ignore_index=True)\n",
    "    \n",
    "    \n",
    "scores"
   ]
  },
  {
   "cell_type": "code",
   "execution_count": 57,
   "id": "719c44b0",
   "metadata": {},
   "outputs": [
    {
     "name": "stdout",
     "output_type": "stream",
     "text": [
      "Fitting 5 folds for each of 18 candidates, totalling 90 fits\n",
      "[CV 1/5] END max_depth=20, min_samples_leaf=2, n_estimators=75; custom_mae_scorer: (test=-0.773) custom_r2_scorer: (test=0.479) total time= 2.3min\n",
      "[CV 2/5] END max_depth=20, min_samples_leaf=2, n_estimators=75; custom_mae_scorer: (test=-0.795) custom_r2_scorer: (test=0.447) total time= 2.3min\n",
      "[CV 3/5] END max_depth=20, min_samples_leaf=2, n_estimators=75; custom_mae_scorer: (test=-0.786) custom_r2_scorer: (test=0.473) total time= 2.3min\n",
      "[CV 4/5] END max_depth=20, min_samples_leaf=2, n_estimators=75; custom_mae_scorer: (test=-0.752) custom_r2_scorer: (test=0.504) total time= 2.2min\n",
      "[CV 5/5] END max_depth=20, min_samples_leaf=2, n_estimators=75; custom_mae_scorer: (test=-0.761) custom_r2_scorer: (test=0.487) total time= 2.3min\n",
      "[CV 1/5] END max_depth=20, min_samples_leaf=2, n_estimators=100; custom_mae_scorer: (test=-0.773) custom_r2_scorer: (test=0.480) total time= 2.9min\n",
      "[CV 2/5] END max_depth=20, min_samples_leaf=2, n_estimators=100; custom_mae_scorer: (test=-0.797) custom_r2_scorer: (test=0.445) total time= 3.1min\n",
      "[CV 3/5] END max_depth=20, min_samples_leaf=2, n_estimators=100; custom_mae_scorer: (test=-0.789) custom_r2_scorer: (test=0.475) total time= 3.0min\n",
      "[CV 4/5] END max_depth=20, min_samples_leaf=2, n_estimators=100; custom_mae_scorer: (test=-0.754) custom_r2_scorer: (test=0.503) total time= 3.0min\n",
      "[CV 5/5] END max_depth=20, min_samples_leaf=2, n_estimators=100; custom_mae_scorer: (test=-0.763) custom_r2_scorer: (test=0.487) total time= 3.0min\n",
      "[CV 1/5] END max_depth=20, min_samples_leaf=2, n_estimators=125; custom_mae_scorer: (test=-0.775) custom_r2_scorer: (test=0.478) total time= 3.8min\n",
      "[CV 2/5] END max_depth=20, min_samples_leaf=2, n_estimators=125; custom_mae_scorer: (test=-0.794) custom_r2_scorer: (test=0.450) total time= 3.8min\n",
      "[CV 3/5] END max_depth=20, min_samples_leaf=2, n_estimators=125; custom_mae_scorer: (test=-0.789) custom_r2_scorer: (test=0.472) total time= 3.8min\n",
      "[CV 4/5] END max_depth=20, min_samples_leaf=2, n_estimators=125; custom_mae_scorer: (test=-0.756) custom_r2_scorer: (test=0.501) total time= 3.7min\n",
      "[CV 5/5] END max_depth=20, min_samples_leaf=2, n_estimators=125; custom_mae_scorer: (test=-0.761) custom_r2_scorer: (test=0.487) total time= 3.8min\n",
      "[CV 1/5] END max_depth=20, min_samples_leaf=4, n_estimators=75; custom_mae_scorer: (test=-0.777) custom_r2_scorer: (test=0.473) total time= 2.2min\n",
      "[CV 2/5] END max_depth=20, min_samples_leaf=4, n_estimators=75; custom_mae_scorer: (test=-0.803) custom_r2_scorer: (test=0.437) total time= 2.2min\n",
      "[CV 3/5] END max_depth=20, min_samples_leaf=4, n_estimators=75; custom_mae_scorer: (test=-0.791) custom_r2_scorer: (test=0.469) total time= 2.1min\n",
      "[CV 4/5] END max_depth=20, min_samples_leaf=4, n_estimators=75; custom_mae_scorer: (test=-0.758) custom_r2_scorer: (test=0.496) total time= 2.1min\n",
      "[CV 5/5] END max_depth=20, min_samples_leaf=4, n_estimators=75; custom_mae_scorer: (test=-0.766) custom_r2_scorer: (test=0.486) total time= 2.1min\n",
      "[CV 1/5] END max_depth=20, min_samples_leaf=4, n_estimators=100; custom_mae_scorer: (test=-0.779) custom_r2_scorer: (test=0.474) total time= 2.9min\n",
      "[CV 2/5] END max_depth=20, min_samples_leaf=4, n_estimators=100; custom_mae_scorer: (test=-0.796) custom_r2_scorer: (test=0.442) total time= 2.9min\n",
      "[CV 3/5] END max_depth=20, min_samples_leaf=4, n_estimators=100; custom_mae_scorer: (test=-0.791) custom_r2_scorer: (test=0.472) total time= 2.9min\n",
      "[CV 4/5] END max_depth=20, min_samples_leaf=4, n_estimators=100; custom_mae_scorer: (test=-0.757) custom_r2_scorer: (test=0.497) total time= 2.8min\n",
      "[CV 5/5] END max_depth=20, min_samples_leaf=4, n_estimators=100; custom_mae_scorer: (test=-0.767) custom_r2_scorer: (test=0.481) total time= 2.9min\n",
      "[CV 1/5] END max_depth=20, min_samples_leaf=4, n_estimators=125; custom_mae_scorer: (test=-0.780) custom_r2_scorer: (test=0.473) total time= 3.6min\n",
      "[CV 2/5] END max_depth=20, min_samples_leaf=4, n_estimators=125; custom_mae_scorer: (test=-0.797) custom_r2_scorer: (test=0.447) total time= 3.7min\n",
      "[CV 3/5] END max_depth=20, min_samples_leaf=4, n_estimators=125; custom_mae_scorer: (test=-0.790) custom_r2_scorer: (test=0.472) total time= 3.6min\n",
      "[CV 4/5] END max_depth=20, min_samples_leaf=4, n_estimators=125; custom_mae_scorer: (test=-0.752) custom_r2_scorer: (test=0.503) total time= 3.6min\n",
      "[CV 5/5] END max_depth=20, min_samples_leaf=4, n_estimators=125; custom_mae_scorer: (test=-0.766) custom_r2_scorer: (test=0.482) total time= 3.6min\n",
      "[CV 1/5] END max_depth=25, min_samples_leaf=2, n_estimators=75; custom_mae_scorer: (test=-0.759) custom_r2_scorer: (test=0.493) total time= 2.7min\n",
      "[CV 2/5] END max_depth=25, min_samples_leaf=2, n_estimators=75; custom_mae_scorer: (test=-0.779) custom_r2_scorer: (test=0.463) total time= 2.7min\n",
      "[CV 3/5] END max_depth=25, min_samples_leaf=2, n_estimators=75; custom_mae_scorer: (test=-0.769) custom_r2_scorer: (test=0.493) total time= 2.7min\n",
      "[CV 4/5] END max_depth=25, min_samples_leaf=2, n_estimators=75; custom_mae_scorer: (test=-0.737) custom_r2_scorer: (test=0.515) total time= 2.7min\n",
      "[CV 5/5] END max_depth=25, min_samples_leaf=2, n_estimators=75; custom_mae_scorer: (test=-0.747) custom_r2_scorer: (test=0.499) total time= 2.7min\n",
      "[CV 1/5] END max_depth=25, min_samples_leaf=2, n_estimators=100; custom_mae_scorer: (test=-0.754) custom_r2_scorer: (test=0.499) total time= 3.6min\n",
      "[CV 2/5] END max_depth=25, min_samples_leaf=2, n_estimators=100; custom_mae_scorer: (test=-0.774) custom_r2_scorer: (test=0.468) total time= 3.6min\n",
      "[CV 3/5] END max_depth=25, min_samples_leaf=2, n_estimators=100; custom_mae_scorer: (test=-0.769) custom_r2_scorer: (test=0.493) total time= 3.6min\n",
      "[CV 4/5] END max_depth=25, min_samples_leaf=2, n_estimators=100; custom_mae_scorer: (test=-0.735) custom_r2_scorer: (test=0.520) total time= 3.5min\n",
      "[CV 5/5] END max_depth=25, min_samples_leaf=2, n_estimators=100; custom_mae_scorer: (test=-0.744) custom_r2_scorer: (test=0.504) total time= 3.6min\n",
      "[CV 1/5] END max_depth=25, min_samples_leaf=2, n_estimators=125; custom_mae_scorer: (test=-0.752) custom_r2_scorer: (test=0.500) total time= 4.5min\n",
      "[CV 2/5] END max_depth=25, min_samples_leaf=2, n_estimators=125; custom_mae_scorer: (test=-0.777) custom_r2_scorer: (test=0.463) total time= 4.6min\n",
      "[CV 3/5] END max_depth=25, min_samples_leaf=2, n_estimators=125; custom_mae_scorer: (test=-0.768) custom_r2_scorer: (test=0.495) total time= 4.5min\n",
      "[CV 4/5] END max_depth=25, min_samples_leaf=2, n_estimators=125; custom_mae_scorer: (test=-0.737) custom_r2_scorer: (test=0.516) total time= 4.4min\n",
      "[CV 5/5] END max_depth=25, min_samples_leaf=2, n_estimators=125; custom_mae_scorer: (test=-0.744) custom_r2_scorer: (test=0.503) total time= 4.5min\n",
      "[CV 1/5] END max_depth=25, min_samples_leaf=4, n_estimators=75; custom_mae_scorer: (test=-0.759) custom_r2_scorer: (test=0.494) total time= 2.5min\n",
      "[CV 2/5] END max_depth=25, min_samples_leaf=4, n_estimators=75; custom_mae_scorer: (test=-0.785) custom_r2_scorer: (test=0.456) total time= 2.5min\n",
      "[CV 3/5] END max_depth=25, min_samples_leaf=4, n_estimators=75; custom_mae_scorer: (test=-0.778) custom_r2_scorer: (test=0.482) total time= 2.4min\n",
      "[CV 4/5] END max_depth=25, min_samples_leaf=4, n_estimators=75; custom_mae_scorer: (test=-0.736) custom_r2_scorer: (test=0.514) total time= 2.5min\n",
      "[CV 5/5] END max_depth=25, min_samples_leaf=4, n_estimators=75; custom_mae_scorer: (test=-0.751) custom_r2_scorer: (test=0.496) total time= 2.5min\n",
      "[CV 1/5] END max_depth=25, min_samples_leaf=4, n_estimators=100; custom_mae_scorer: (test=-0.760) custom_r2_scorer: (test=0.493) total time= 3.3min\n",
      "[CV 2/5] END max_depth=25, min_samples_leaf=4, n_estimators=100; custom_mae_scorer: (test=-0.784) custom_r2_scorer: (test=0.457) total time= 3.3min\n",
      "[CV 3/5] END max_depth=25, min_samples_leaf=4, n_estimators=100; custom_mae_scorer: (test=-0.776) custom_r2_scorer: (test=0.486) total time= 3.2min\n",
      "[CV 4/5] END max_depth=25, min_samples_leaf=4, n_estimators=100; custom_mae_scorer: (test=-0.740) custom_r2_scorer: (test=0.514) total time= 3.3min\n",
      "[CV 5/5] END max_depth=25, min_samples_leaf=4, n_estimators=100; custom_mae_scorer: (test=-0.753) custom_r2_scorer: (test=0.496) total time= 3.3min\n",
      "[CV 1/5] END max_depth=25, min_samples_leaf=4, n_estimators=125; custom_mae_scorer: (test=-0.760) custom_r2_scorer: (test=0.494) total time= 4.2min\n"
     ]
    },
    {
     "name": "stdout",
     "output_type": "stream",
     "text": [
      "[CV 2/5] END max_depth=25, min_samples_leaf=4, n_estimators=125; custom_mae_scorer: (test=-0.781) custom_r2_scorer: (test=0.462) total time= 4.2min\n",
      "[CV 3/5] END max_depth=25, min_samples_leaf=4, n_estimators=125; custom_mae_scorer: (test=-0.776) custom_r2_scorer: (test=0.488) total time= 4.0min\n",
      "[CV 4/5] END max_depth=25, min_samples_leaf=4, n_estimators=125; custom_mae_scorer: (test=-0.738) custom_r2_scorer: (test=0.516) total time= 4.1min\n",
      "[CV 5/5] END max_depth=25, min_samples_leaf=4, n_estimators=125; custom_mae_scorer: (test=-0.749) custom_r2_scorer: (test=0.502) total time= 4.1min\n",
      "[CV 1/5] END max_depth=30, min_samples_leaf=2, n_estimators=75; custom_mae_scorer: (test=-0.740) custom_r2_scorer: (test=0.510) total time= 3.0min\n",
      "[CV 2/5] END max_depth=30, min_samples_leaf=2, n_estimators=75; custom_mae_scorer: (test=-0.768) custom_r2_scorer: (test=0.471) total time= 3.0min\n",
      "[CV 3/5] END max_depth=30, min_samples_leaf=2, n_estimators=75; custom_mae_scorer: (test=-0.759) custom_r2_scorer: (test=0.500) total time= 3.0min\n",
      "[CV 4/5] END max_depth=30, min_samples_leaf=2, n_estimators=75; custom_mae_scorer: (test=-0.723) custom_r2_scorer: (test=0.532) total time= 3.0min\n",
      "[CV 5/5] END max_depth=30, min_samples_leaf=2, n_estimators=75; custom_mae_scorer: (test=-0.737) custom_r2_scorer: (test=0.511) total time= 3.0min\n",
      "[CV 1/5] END max_depth=30, min_samples_leaf=2, n_estimators=100; custom_mae_scorer: (test=-0.742) custom_r2_scorer: (test=0.508) total time= 4.0min\n",
      "[CV 2/5] END max_depth=30, min_samples_leaf=2, n_estimators=100; custom_mae_scorer: (test=-0.768) custom_r2_scorer: (test=0.473) total time= 4.0min\n",
      "[CV 3/5] END max_depth=30, min_samples_leaf=2, n_estimators=100; custom_mae_scorer: (test=-0.759) custom_r2_scorer: (test=0.502) total time= 3.9min\n",
      "[CV 4/5] END max_depth=30, min_samples_leaf=2, n_estimators=100; custom_mae_scorer: (test=-0.724) custom_r2_scorer: (test=0.530) total time= 4.0min\n",
      "[CV 5/5] END max_depth=30, min_samples_leaf=2, n_estimators=100; custom_mae_scorer: (test=-0.737) custom_r2_scorer: (test=0.509) total time= 4.0min\n",
      "[CV 1/5] END max_depth=30, min_samples_leaf=2, n_estimators=125; custom_mae_scorer: (test=-0.741) custom_r2_scorer: (test=0.511) total time= 5.0min\n",
      "[CV 2/5] END max_depth=30, min_samples_leaf=2, n_estimators=125; custom_mae_scorer: (test=-0.766) custom_r2_scorer: (test=0.473) total time= 5.0min\n",
      "[CV 3/5] END max_depth=30, min_samples_leaf=2, n_estimators=125; custom_mae_scorer: (test=-0.758) custom_r2_scorer: (test=0.504) total time= 4.9min\n",
      "[CV 4/5] END max_depth=30, min_samples_leaf=2, n_estimators=125; custom_mae_scorer: (test=-0.723) custom_r2_scorer: (test=0.530) total time= 5.0min\n",
      "[CV 5/5] END max_depth=30, min_samples_leaf=2, n_estimators=125; custom_mae_scorer: (test=-0.734) custom_r2_scorer: (test=0.511) total time= 5.0min\n",
      "[CV 1/5] END max_depth=30, min_samples_leaf=4, n_estimators=75; custom_mae_scorer: (test=-0.750) custom_r2_scorer: (test=0.502) total time= 2.7min\n",
      "[CV 2/5] END max_depth=30, min_samples_leaf=4, n_estimators=75; custom_mae_scorer: (test=-0.775) custom_r2_scorer: (test=0.462) total time= 2.7min\n",
      "[CV 3/5] END max_depth=30, min_samples_leaf=4, n_estimators=75; custom_mae_scorer: (test=-0.764) custom_r2_scorer: (test=0.496) total time= 2.6min\n",
      "[CV 4/5] END max_depth=30, min_samples_leaf=4, n_estimators=75; custom_mae_scorer: (test=-0.732) custom_r2_scorer: (test=0.523) total time= 2.7min\n",
      "[CV 5/5] END max_depth=30, min_samples_leaf=4, n_estimators=75; custom_mae_scorer: (test=-0.744) custom_r2_scorer: (test=0.500) total time= 2.7min\n",
      "[CV 1/5] END max_depth=30, min_samples_leaf=4, n_estimators=100; custom_mae_scorer: (test=-0.751) custom_r2_scorer: (test=0.503) total time= 3.6min\n",
      "[CV 2/5] END max_depth=30, min_samples_leaf=4, n_estimators=100; custom_mae_scorer: (test=-0.774) custom_r2_scorer: (test=0.467) total time= 3.6min\n",
      "[CV 3/5] END max_depth=30, min_samples_leaf=4, n_estimators=100; custom_mae_scorer: (test=-0.767) custom_r2_scorer: (test=0.494) total time= 3.5min\n",
      "[CV 4/5] END max_depth=30, min_samples_leaf=4, n_estimators=100; custom_mae_scorer: (test=-0.733) custom_r2_scorer: (test=0.521) total time= 3.6min\n",
      "[CV 5/5] END max_depth=30, min_samples_leaf=4, n_estimators=100; custom_mae_scorer: (test=-0.745) custom_r2_scorer: (test=0.501) total time= 3.6min\n",
      "[CV 1/5] END max_depth=30, min_samples_leaf=4, n_estimators=125; custom_mae_scorer: (test=-0.749) custom_r2_scorer: (test=0.503) total time= 4.5min\n",
      "[CV 2/5] END max_depth=30, min_samples_leaf=4, n_estimators=125; custom_mae_scorer: (test=-0.773) custom_r2_scorer: (test=0.468) total time= 4.5min\n",
      "[CV 3/5] END max_depth=30, min_samples_leaf=4, n_estimators=125; custom_mae_scorer: (test=-0.771) custom_r2_scorer: (test=0.490) total time= 4.4min\n",
      "[CV 4/5] END max_depth=30, min_samples_leaf=4, n_estimators=125; custom_mae_scorer: (test=-0.732) custom_r2_scorer: (test=0.523) total time= 4.5min\n",
      "[CV 5/5] END max_depth=30, min_samples_leaf=4, n_estimators=125; custom_mae_scorer: (test=-0.749) custom_r2_scorer: (test=0.498) total time= 4.5min\n",
      "CPU times: user 5h 11min 47s, sys: 23.1 s, total: 5h 12min 10s\n",
      "Wall time: 5h 12min 12s\n"
     ]
    },
    {
     "data": {
      "text/plain": [
       "GridSearchCV(cv=5, estimator=RandomForestRegressor(),\n",
       "             param_grid=[{'max_depth': [20, 25, 30], 'min_samples_leaf': [2, 4],\n",
       "                          'n_estimators': [75, 100, 125]}],\n",
       "             refit='custom_mae_scorer',\n",
       "             scoring={'custom_mae_scorer': make_scorer(custom_mae_scorer_func, greater_is_better=False),\n",
       "                      'custom_r2_scorer': make_scorer(custom_r2_scorer_func)},\n",
       "             verbose=4)"
      ]
     },
     "execution_count": 57,
     "metadata": {},
     "output_type": "execute_result"
    }
   ],
   "source": [
    "%%time\n",
    "\n",
    "forest_reg = RandomForestRegressor()\n",
    "\n",
    "param_grid = [{'max_depth': [20, 25, 30], 'min_samples_leaf': [2, 4], 'n_estimators': [75, 100, 125]}]\n",
    "\n",
    "grid_search = GridSearchCV(forest_reg, param_grid, cv=5, scoring=scorer, refit='custom_mae_scorer', verbose=4)\n",
    "\n",
    "grid_search.fit(X_train_unscaled, y_train)"
   ]
  },
  {
   "cell_type": "code",
   "execution_count": 58,
   "id": "2f58694a",
   "metadata": {},
   "outputs": [
    {
     "data": {
      "text/plain": [
       "{'max_depth': 30, 'min_samples_leaf': 2, 'n_estimators': 125}"
      ]
     },
     "execution_count": 58,
     "metadata": {},
     "output_type": "execute_result"
    }
   ],
   "source": [
    "grid_search.best_params_"
   ]
  },
  {
   "cell_type": "code",
   "execution_count": 60,
   "id": "da247caf",
   "metadata": {},
   "outputs": [
    {
     "data": {
      "text/plain": [
       "RandomForestRegressor(max_depth=30, min_samples_leaf=2, n_estimators=125)"
      ]
     },
     "execution_count": 60,
     "metadata": {},
     "output_type": "execute_result"
    }
   ],
   "source": [
    "best_forest_reg = grid_search.best_estimator_\n",
    "best_forest_reg"
   ]
  },
  {
   "cell_type": "code",
   "execution_count": 61,
   "id": "01376234",
   "metadata": {},
   "outputs": [
    {
     "name": "stdout",
     "output_type": "stream",
     "text": [
      "0.4183062633562634\n",
      "0.8394350375949323\n"
     ]
    },
    {
     "data": {
      "image/png": "[encoded data removed]",
      "text/plain": [
       "<Figure size 720x360 with 1 Axes>"
      ]
     },
     "metadata": {
      "needs_background": "light"
     },
     "output_type": "display_data"
    }
   ],
   "source": [
    "%%time\n",
    "\n",
    "best_forest_reg.fit(X_train_unscaled, y_train)\n",
    "fitted_values = bound_predict(best_forest_reg.predict(X_train_unscaled))\n",
    "print(mean_absolute_error(y_train, fitted_values))\n",
    "print(r2_score(y_train, fitted_values))\n",
    "plot_fitted_values(fitted_values, y_train, 'Optimized Random Forest')"
   ]
  },
  {
   "cell_type": "code",
   "execution_count": 62,
   "id": "5d19e2af",
   "metadata": {},
   "outputs": [
    {
     "name": "stdout",
     "output_type": "stream",
     "text": [
      "0.7347719523064744\n",
      "0.5210542469631001\n"
     ]
    },
    {
     "data": {
      "image/png": "[encoded data removed]",
      "text/plain": [
       "<Figure size 720x360 with 1 Axes>"
      ]
     },
     "metadata": {
      "needs_background": "light"
     },
     "output_type": "display_data"
    }
   ],
   "source": [
    "fitted_values = bound_predict(best_forest_reg.predict(X_test_unscaled))\n",
    "print(mean_absolute_error(y_test, fitted_values))\n",
    "print(r2_score(y_test, fitted_values))\n",
    "plot_fitted_values(fitted_values, y_test, 'Optimized Decision Tree')"
   ]
  },
  {
   "cell_type": "code",
   "execution_count": null,
   "id": "cf707728",
   "metadata": {},
   "outputs": [],
   "source": []
  },
  {
   "cell_type": "code",
   "execution_count": null,
   "id": "e0eb56f8",
   "metadata": {},
   "outputs": [],
   "source": []
  }
 ],
 "metadata": {
  "kernelspec": {
   "display_name": "yelp_capstone",
   "language": "python",
   "name": "yelp_capstone"
  },
  "language_info": {
   "codemirror_mode": {
    "name": "ipython",
    "version": 3
   },
   "file_extension": ".py",
   "mimetype": "text/x-python",
   "name": "python",
   "nbconvert_exporter": "python",
   "pygments_lexer": "ipython3",
   "version": "3.8.12"
  },
  "toc": {
   "base_numbering": 1,
   "nav_menu": {},
   "number_sections": true,
   "sideBar": true,
   "skip_h1_title": true,
   "title_cell": "Table of Contents",
   "title_sidebar": "Contents",
   "toc_cell": false,
   "toc_position": {
    "height": "calc(100% - 180px)",
    "left": "10px",
    "top": "150px",
    "width": "247.088px"
   },
   "toc_section_display": true,
   "toc_window_display": true
  },
  "varInspector": {
   "cols": {
    "lenName": 16,
    "lenType": 16,
    "lenVar": 40
   },
   "kernels_config": {
    "python": {
     "delete_cmd_postfix": "",
     "delete_cmd_prefix": "del ",
     "library": "var_list.py",
     "varRefreshCmd": "print(var_dic_list())"
    },
    "r": {
     "delete_cmd_postfix": ") ",
     "delete_cmd_prefix": "rm(",
     "library": "var_list.r",
     "varRefreshCmd": "cat(var_dic_list()) "
    }
   },
   "types_to_exclude": [
    "module",
    "function",
    "builtin_function_or_method",
    "instance",
    "_Feature"
   ],
   "window_display": false
  }
 },
 "nbformat": 4,
 "nbformat_minor": 5
}
