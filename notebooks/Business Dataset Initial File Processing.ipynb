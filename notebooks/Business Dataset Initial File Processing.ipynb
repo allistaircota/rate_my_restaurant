{
 "cells": [
  {
   "cell_type": "markdown",
   "metadata": {
    "id": "bBNqnntMxPSs"
   },
   "source": [
    "# Exploring the Business Dataset"
   ]
  },
  {
   "cell_type": "code",
   "execution_count": 1,
   "metadata": {
    "id": "7znLVFYkNXFf"
   },
   "outputs": [],
   "source": [
    "import numpy as np\n",
    "import pandas as pd\n",
    "#from time import sleep"
   ]
  },
  {
   "cell_type": "code",
   "execution_count": 2,
   "metadata": {
    "colab": {
     "base_uri": "https://localhost:8080/",
     "height": 289
    },
    "id": "5Mj9oXdjR4F9",
    "outputId": "18f2251c-560e-4fde-fc97-deec24d12dc9"
   },
   "outputs": [
    {
     "name": "stdout",
     "output_type": "stream",
     "text": [
      "CPU times: user 2.9 s, sys: 662 ms, total: 3.56 s\n",
      "Wall time: 3.57 s\n"
     ]
    },
    {
     "data": {
      "text/html": [
       "<div>\n",
       "<style scoped>\n",
       "    .dataframe tbody tr th:only-of-type {\n",
       "        vertical-align: middle;\n",
       "    }\n",
       "\n",
       "    .dataframe tbody tr th {\n",
       "        vertical-align: top;\n",
       "    }\n",
       "\n",
       "    .dataframe thead th {\n",
       "        text-align: right;\n",
       "    }\n",
       "</style>\n",
       "<table border=\"1\" class=\"dataframe\">\n",
       "  <thead>\n",
       "    <tr style=\"text-align: right;\">\n",
       "      <th></th>\n",
       "      <th>business_id</th>\n",
       "      <th>name</th>\n",
       "      <th>address</th>\n",
       "      <th>city</th>\n",
       "      <th>state</th>\n",
       "      <th>postal_code</th>\n",
       "      <th>latitude</th>\n",
       "      <th>longitude</th>\n",
       "      <th>stars</th>\n",
       "      <th>review_count</th>\n",
       "      <th>is_open</th>\n",
       "      <th>attributes</th>\n",
       "      <th>categories</th>\n",
       "      <th>hours</th>\n",
       "    </tr>\n",
       "  </thead>\n",
       "  <tbody>\n",
       "    <tr>\n",
       "      <th>0</th>\n",
       "      <td>6iYb2HFDywm3zjuRg0shjw</td>\n",
       "      <td>Oskar Blues Taproom</td>\n",
       "      <td>921 Pearl St</td>\n",
       "      <td>Boulder</td>\n",
       "      <td>CO</td>\n",
       "      <td>80302</td>\n",
       "      <td>40.017544</td>\n",
       "      <td>-105.283348</td>\n",
       "      <td>4.0</td>\n",
       "      <td>86</td>\n",
       "      <td>1</td>\n",
       "      <td>{'RestaurantsTableService': 'True', 'WiFi': 'u...</td>\n",
       "      <td>Gastropubs, Food, Beer Gardens, Restaurants, B...</td>\n",
       "      <td>{'Monday': '11:0-23:0', 'Tuesday': '11:0-23:0'...</td>\n",
       "    </tr>\n",
       "    <tr>\n",
       "      <th>1</th>\n",
       "      <td>tCbdrRPZA0oiIYSmHG3J0w</td>\n",
       "      <td>Flying Elephants at PDX</td>\n",
       "      <td>7000 NE Airport Way</td>\n",
       "      <td>Portland</td>\n",
       "      <td>OR</td>\n",
       "      <td>97218</td>\n",
       "      <td>45.588906</td>\n",
       "      <td>-122.593331</td>\n",
       "      <td>4.0</td>\n",
       "      <td>126</td>\n",
       "      <td>1</td>\n",
       "      <td>{'RestaurantsTakeOut': 'True', 'RestaurantsAtt...</td>\n",
       "      <td>Salad, Soup, Sandwiches, Delis, Restaurants, C...</td>\n",
       "      <td>{'Monday': '5:0-18:0', 'Tuesday': '5:0-17:0', ...</td>\n",
       "    </tr>\n",
       "    <tr>\n",
       "      <th>2</th>\n",
       "      <td>bvN78flM8NLprQ1a1y5dRg</td>\n",
       "      <td>The Reclaimory</td>\n",
       "      <td>4720 Hawthorne Ave</td>\n",
       "      <td>Portland</td>\n",
       "      <td>OR</td>\n",
       "      <td>97214</td>\n",
       "      <td>45.511907</td>\n",
       "      <td>-122.613693</td>\n",
       "      <td>4.5</td>\n",
       "      <td>13</td>\n",
       "      <td>1</td>\n",
       "      <td>{'BusinessAcceptsCreditCards': 'True', 'Restau...</td>\n",
       "      <td>Antiques, Fashion, Used, Vintage &amp; Consignment...</td>\n",
       "      <td>{'Thursday': '11:0-18:0', 'Friday': '11:0-18:0...</td>\n",
       "    </tr>\n",
       "    <tr>\n",
       "      <th>3</th>\n",
       "      <td>oaepsyvc0J17qwi8cfrOWg</td>\n",
       "      <td>Great Clips</td>\n",
       "      <td>2566 Enterprise Rd</td>\n",
       "      <td>Orange City</td>\n",
       "      <td>FL</td>\n",
       "      <td>32763</td>\n",
       "      <td>28.914482</td>\n",
       "      <td>-81.295979</td>\n",
       "      <td>3.0</td>\n",
       "      <td>8</td>\n",
       "      <td>1</td>\n",
       "      <td>{'RestaurantsPriceRange2': '1', 'BusinessAccep...</td>\n",
       "      <td>Beauty &amp; Spas, Hair Salons</td>\n",
       "      <td>None</td>\n",
       "    </tr>\n",
       "    <tr>\n",
       "      <th>4</th>\n",
       "      <td>PE9uqAjdw0E4-8mjGl3wVA</td>\n",
       "      <td>Crossfit Terminus</td>\n",
       "      <td>1046 Memorial Dr SE</td>\n",
       "      <td>Atlanta</td>\n",
       "      <td>GA</td>\n",
       "      <td>30316</td>\n",
       "      <td>33.747027</td>\n",
       "      <td>-84.353424</td>\n",
       "      <td>4.0</td>\n",
       "      <td>14</td>\n",
       "      <td>1</td>\n",
       "      <td>{'GoodForKids': 'False', 'BusinessParking': '{...</td>\n",
       "      <td>Gyms, Active Life, Interval Training Gyms, Fit...</td>\n",
       "      <td>{'Monday': '16:0-19:0', 'Tuesday': '16:0-19:0'...</td>\n",
       "    </tr>\n",
       "  </tbody>\n",
       "</table>\n",
       "</div>"
      ],
      "text/plain": [
       "              business_id                     name              address  \\\n",
       "0  6iYb2HFDywm3zjuRg0shjw      Oskar Blues Taproom         921 Pearl St   \n",
       "1  tCbdrRPZA0oiIYSmHG3J0w  Flying Elephants at PDX  7000 NE Airport Way   \n",
       "2  bvN78flM8NLprQ1a1y5dRg           The Reclaimory   4720 Hawthorne Ave   \n",
       "3  oaepsyvc0J17qwi8cfrOWg              Great Clips   2566 Enterprise Rd   \n",
       "4  PE9uqAjdw0E4-8mjGl3wVA        Crossfit Terminus  1046 Memorial Dr SE   \n",
       "\n",
       "          city state postal_code   latitude   longitude  stars  review_count  \\\n",
       "0      Boulder    CO       80302  40.017544 -105.283348    4.0            86   \n",
       "1     Portland    OR       97218  45.588906 -122.593331    4.0           126   \n",
       "2     Portland    OR       97214  45.511907 -122.613693    4.5            13   \n",
       "3  Orange City    FL       32763  28.914482  -81.295979    3.0             8   \n",
       "4      Atlanta    GA       30316  33.747027  -84.353424    4.0            14   \n",
       "\n",
       "   is_open                                         attributes  \\\n",
       "0        1  {'RestaurantsTableService': 'True', 'WiFi': 'u...   \n",
       "1        1  {'RestaurantsTakeOut': 'True', 'RestaurantsAtt...   \n",
       "2        1  {'BusinessAcceptsCreditCards': 'True', 'Restau...   \n",
       "3        1  {'RestaurantsPriceRange2': '1', 'BusinessAccep...   \n",
       "4        1  {'GoodForKids': 'False', 'BusinessParking': '{...   \n",
       "\n",
       "                                          categories  \\\n",
       "0  Gastropubs, Food, Beer Gardens, Restaurants, B...   \n",
       "1  Salad, Soup, Sandwiches, Delis, Restaurants, C...   \n",
       "2  Antiques, Fashion, Used, Vintage & Consignment...   \n",
       "3                         Beauty & Spas, Hair Salons   \n",
       "4  Gyms, Active Life, Interval Training Gyms, Fit...   \n",
       "\n",
       "                                               hours  \n",
       "0  {'Monday': '11:0-23:0', 'Tuesday': '11:0-23:0'...  \n",
       "1  {'Monday': '5:0-18:0', 'Tuesday': '5:0-17:0', ...  \n",
       "2  {'Thursday': '11:0-18:0', 'Friday': '11:0-18:0...  \n",
       "3                                               None  \n",
       "4  {'Monday': '16:0-19:0', 'Tuesday': '16:0-19:0'...  "
      ]
     },
     "execution_count": 2,
     "metadata": {},
     "output_type": "execute_result"
    }
   ],
   "source": [
    "%%time\n",
    "business_df = pd.read_json('../data/business.json', lines=True)\n",
    "business_df.head()"
   ]
  },
  {
   "cell_type": "code",
   "execution_count": 3,
   "metadata": {
    "colab": {
     "base_uri": "https://localhost:8080/"
    },
    "id": "z_rcj7AQw1hD",
    "outputId": "100cf5ff-141f-4a01-f39f-38990f5ab383"
   },
   "outputs": [
    {
     "name": "stdout",
     "output_type": "stream",
     "text": [
      "<class 'pandas.core.frame.DataFrame'>\n",
      "RangeIndex: 160585 entries, 0 to 160584\n",
      "Data columns (total 14 columns):\n",
      " #   Column        Non-Null Count   Dtype  \n",
      "---  ------        --------------   -----  \n",
      " 0   business_id   160585 non-null  object \n",
      " 1   name          160585 non-null  object \n",
      " 2   address       160585 non-null  object \n",
      " 3   city          160585 non-null  object \n",
      " 4   state         160585 non-null  object \n",
      " 5   postal_code   160585 non-null  object \n",
      " 6   latitude      160585 non-null  float64\n",
      " 7   longitude     160585 non-null  float64\n",
      " 8   stars         160585 non-null  float64\n",
      " 9   review_count  160585 non-null  int64  \n",
      " 10  is_open       160585 non-null  int64  \n",
      " 11  attributes    145593 non-null  object \n",
      " 12  categories    160470 non-null  object \n",
      " 13  hours         133244 non-null  object \n",
      "dtypes: float64(3), int64(2), object(9)\n",
      "memory usage: 17.2+ MB\n"
     ]
    }
   ],
   "source": [
    "business_df.info()"
   ]
  },
  {
   "cell_type": "code",
   "execution_count": 4,
   "metadata": {
    "id": "wc6J8Rh4xtg9"
   },
   "outputs": [
    {
     "data": {
      "text/html": [
       "<div>\n",
       "<style scoped>\n",
       "    .dataframe tbody tr th:only-of-type {\n",
       "        vertical-align: middle;\n",
       "    }\n",
       "\n",
       "    .dataframe tbody tr th {\n",
       "        vertical-align: top;\n",
       "    }\n",
       "\n",
       "    .dataframe thead th {\n",
       "        text-align: right;\n",
       "    }\n",
       "</style>\n",
       "<table border=\"1\" class=\"dataframe\">\n",
       "  <thead>\n",
       "    <tr style=\"text-align: right;\">\n",
       "      <th></th>\n",
       "      <th>business_id</th>\n",
       "      <th>name</th>\n",
       "      <th>address</th>\n",
       "      <th>city</th>\n",
       "      <th>state</th>\n",
       "      <th>postal_code</th>\n",
       "      <th>latitude</th>\n",
       "      <th>longitude</th>\n",
       "      <th>stars</th>\n",
       "      <th>review_count</th>\n",
       "      <th>is_open</th>\n",
       "      <th>attributes</th>\n",
       "      <th>categories</th>\n",
       "      <th>hours</th>\n",
       "    </tr>\n",
       "  </thead>\n",
       "  <tbody>\n",
       "    <tr>\n",
       "      <th>0</th>\n",
       "      <td>6iYb2HFDywm3zjuRg0shjw</td>\n",
       "      <td>Oskar Blues Taproom</td>\n",
       "      <td>921 Pearl St</td>\n",
       "      <td>Boulder</td>\n",
       "      <td>CO</td>\n",
       "      <td>80302</td>\n",
       "      <td>40.017544</td>\n",
       "      <td>-105.283348</td>\n",
       "      <td>4.0</td>\n",
       "      <td>86</td>\n",
       "      <td>1</td>\n",
       "      <td>{'RestaurantsTableService': 'True', 'WiFi': 'u...</td>\n",
       "      <td>Gastropubs</td>\n",
       "      <td>{'Monday': '11:0-23:0', 'Tuesday': '11:0-23:0'...</td>\n",
       "    </tr>\n",
       "    <tr>\n",
       "      <th>0</th>\n",
       "      <td>6iYb2HFDywm3zjuRg0shjw</td>\n",
       "      <td>Oskar Blues Taproom</td>\n",
       "      <td>921 Pearl St</td>\n",
       "      <td>Boulder</td>\n",
       "      <td>CO</td>\n",
       "      <td>80302</td>\n",
       "      <td>40.017544</td>\n",
       "      <td>-105.283348</td>\n",
       "      <td>4.0</td>\n",
       "      <td>86</td>\n",
       "      <td>1</td>\n",
       "      <td>{'RestaurantsTableService': 'True', 'WiFi': 'u...</td>\n",
       "      <td>Food</td>\n",
       "      <td>{'Monday': '11:0-23:0', 'Tuesday': '11:0-23:0'...</td>\n",
       "    </tr>\n",
       "    <tr>\n",
       "      <th>0</th>\n",
       "      <td>6iYb2HFDywm3zjuRg0shjw</td>\n",
       "      <td>Oskar Blues Taproom</td>\n",
       "      <td>921 Pearl St</td>\n",
       "      <td>Boulder</td>\n",
       "      <td>CO</td>\n",
       "      <td>80302</td>\n",
       "      <td>40.017544</td>\n",
       "      <td>-105.283348</td>\n",
       "      <td>4.0</td>\n",
       "      <td>86</td>\n",
       "      <td>1</td>\n",
       "      <td>{'RestaurantsTableService': 'True', 'WiFi': 'u...</td>\n",
       "      <td>Beer Gardens</td>\n",
       "      <td>{'Monday': '11:0-23:0', 'Tuesday': '11:0-23:0'...</td>\n",
       "    </tr>\n",
       "    <tr>\n",
       "      <th>0</th>\n",
       "      <td>6iYb2HFDywm3zjuRg0shjw</td>\n",
       "      <td>Oskar Blues Taproom</td>\n",
       "      <td>921 Pearl St</td>\n",
       "      <td>Boulder</td>\n",
       "      <td>CO</td>\n",
       "      <td>80302</td>\n",
       "      <td>40.017544</td>\n",
       "      <td>-105.283348</td>\n",
       "      <td>4.0</td>\n",
       "      <td>86</td>\n",
       "      <td>1</td>\n",
       "      <td>{'RestaurantsTableService': 'True', 'WiFi': 'u...</td>\n",
       "      <td>Restaurants</td>\n",
       "      <td>{'Monday': '11:0-23:0', 'Tuesday': '11:0-23:0'...</td>\n",
       "    </tr>\n",
       "    <tr>\n",
       "      <th>0</th>\n",
       "      <td>6iYb2HFDywm3zjuRg0shjw</td>\n",
       "      <td>Oskar Blues Taproom</td>\n",
       "      <td>921 Pearl St</td>\n",
       "      <td>Boulder</td>\n",
       "      <td>CO</td>\n",
       "      <td>80302</td>\n",
       "      <td>40.017544</td>\n",
       "      <td>-105.283348</td>\n",
       "      <td>4.0</td>\n",
       "      <td>86</td>\n",
       "      <td>1</td>\n",
       "      <td>{'RestaurantsTableService': 'True', 'WiFi': 'u...</td>\n",
       "      <td>Bars</td>\n",
       "      <td>{'Monday': '11:0-23:0', 'Tuesday': '11:0-23:0'...</td>\n",
       "    </tr>\n",
       "    <tr>\n",
       "      <th>...</th>\n",
       "      <td>...</td>\n",
       "      <td>...</td>\n",
       "      <td>...</td>\n",
       "      <td>...</td>\n",
       "      <td>...</td>\n",
       "      <td>...</td>\n",
       "      <td>...</td>\n",
       "      <td>...</td>\n",
       "      <td>...</td>\n",
       "      <td>...</td>\n",
       "      <td>...</td>\n",
       "      <td>...</td>\n",
       "      <td>...</td>\n",
       "      <td>...</td>\n",
       "    </tr>\n",
       "    <tr>\n",
       "      <th>160584</th>\n",
       "      <td>ngmLL5Y5OT-bYHKU0kKrYA</td>\n",
       "      <td>Zora Grille</td>\n",
       "      <td>1370 E Altamonte Dr</td>\n",
       "      <td>Altamonte Springs</td>\n",
       "      <td>FL</td>\n",
       "      <td>32701</td>\n",
       "      <td>28.663047</td>\n",
       "      <td>-81.346728</td>\n",
       "      <td>4.5</td>\n",
       "      <td>82</td>\n",
       "      <td>0</td>\n",
       "      <td>{'RestaurantsReservations': 'True', 'OutdoorSe...</td>\n",
       "      <td>Restaurants</td>\n",
       "      <td>{'Tuesday': '17:0-21:0', 'Wednesday': '17:0-21...</td>\n",
       "    </tr>\n",
       "    <tr>\n",
       "      <th>160584</th>\n",
       "      <td>ngmLL5Y5OT-bYHKU0kKrYA</td>\n",
       "      <td>Zora Grille</td>\n",
       "      <td>1370 E Altamonte Dr</td>\n",
       "      <td>Altamonte Springs</td>\n",
       "      <td>FL</td>\n",
       "      <td>32701</td>\n",
       "      <td>28.663047</td>\n",
       "      <td>-81.346728</td>\n",
       "      <td>4.5</td>\n",
       "      <td>82</td>\n",
       "      <td>0</td>\n",
       "      <td>{'RestaurantsReservations': 'True', 'OutdoorSe...</td>\n",
       "      <td>Middle Eastern</td>\n",
       "      <td>{'Tuesday': '17:0-21:0', 'Wednesday': '17:0-21...</td>\n",
       "    </tr>\n",
       "    <tr>\n",
       "      <th>160584</th>\n",
       "      <td>ngmLL5Y5OT-bYHKU0kKrYA</td>\n",
       "      <td>Zora Grille</td>\n",
       "      <td>1370 E Altamonte Dr</td>\n",
       "      <td>Altamonte Springs</td>\n",
       "      <td>FL</td>\n",
       "      <td>32701</td>\n",
       "      <td>28.663047</td>\n",
       "      <td>-81.346728</td>\n",
       "      <td>4.5</td>\n",
       "      <td>82</td>\n",
       "      <td>0</td>\n",
       "      <td>{'RestaurantsReservations': 'True', 'OutdoorSe...</td>\n",
       "      <td>Mediterranean</td>\n",
       "      <td>{'Tuesday': '17:0-21:0', 'Wednesday': '17:0-21...</td>\n",
       "    </tr>\n",
       "    <tr>\n",
       "      <th>160584</th>\n",
       "      <td>ngmLL5Y5OT-bYHKU0kKrYA</td>\n",
       "      <td>Zora Grille</td>\n",
       "      <td>1370 E Altamonte Dr</td>\n",
       "      <td>Altamonte Springs</td>\n",
       "      <td>FL</td>\n",
       "      <td>32701</td>\n",
       "      <td>28.663047</td>\n",
       "      <td>-81.346728</td>\n",
       "      <td>4.5</td>\n",
       "      <td>82</td>\n",
       "      <td>0</td>\n",
       "      <td>{'RestaurantsReservations': 'True', 'OutdoorSe...</td>\n",
       "      <td>Persian/Iranian</td>\n",
       "      <td>{'Tuesday': '17:0-21:0', 'Wednesday': '17:0-21...</td>\n",
       "    </tr>\n",
       "    <tr>\n",
       "      <th>160584</th>\n",
       "      <td>ngmLL5Y5OT-bYHKU0kKrYA</td>\n",
       "      <td>Zora Grille</td>\n",
       "      <td>1370 E Altamonte Dr</td>\n",
       "      <td>Altamonte Springs</td>\n",
       "      <td>FL</td>\n",
       "      <td>32701</td>\n",
       "      <td>28.663047</td>\n",
       "      <td>-81.346728</td>\n",
       "      <td>4.5</td>\n",
       "      <td>82</td>\n",
       "      <td>0</td>\n",
       "      <td>{'RestaurantsReservations': 'True', 'OutdoorSe...</td>\n",
       "      <td>Salad</td>\n",
       "      <td>{'Tuesday': '17:0-21:0', 'Wednesday': '17:0-21...</td>\n",
       "    </tr>\n",
       "  </tbody>\n",
       "</table>\n",
       "<p>709083 rows × 14 columns</p>\n",
       "</div>"
      ],
      "text/plain": [
       "                   business_id                 name              address  \\\n",
       "0       6iYb2HFDywm3zjuRg0shjw  Oskar Blues Taproom         921 Pearl St   \n",
       "0       6iYb2HFDywm3zjuRg0shjw  Oskar Blues Taproom         921 Pearl St   \n",
       "0       6iYb2HFDywm3zjuRg0shjw  Oskar Blues Taproom         921 Pearl St   \n",
       "0       6iYb2HFDywm3zjuRg0shjw  Oskar Blues Taproom         921 Pearl St   \n",
       "0       6iYb2HFDywm3zjuRg0shjw  Oskar Blues Taproom         921 Pearl St   \n",
       "...                        ...                  ...                  ...   \n",
       "160584  ngmLL5Y5OT-bYHKU0kKrYA          Zora Grille  1370 E Altamonte Dr   \n",
       "160584  ngmLL5Y5OT-bYHKU0kKrYA          Zora Grille  1370 E Altamonte Dr   \n",
       "160584  ngmLL5Y5OT-bYHKU0kKrYA          Zora Grille  1370 E Altamonte Dr   \n",
       "160584  ngmLL5Y5OT-bYHKU0kKrYA          Zora Grille  1370 E Altamonte Dr   \n",
       "160584  ngmLL5Y5OT-bYHKU0kKrYA          Zora Grille  1370 E Altamonte Dr   \n",
       "\n",
       "                     city state postal_code   latitude   longitude  stars  \\\n",
       "0                 Boulder    CO       80302  40.017544 -105.283348    4.0   \n",
       "0                 Boulder    CO       80302  40.017544 -105.283348    4.0   \n",
       "0                 Boulder    CO       80302  40.017544 -105.283348    4.0   \n",
       "0                 Boulder    CO       80302  40.017544 -105.283348    4.0   \n",
       "0                 Boulder    CO       80302  40.017544 -105.283348    4.0   \n",
       "...                   ...   ...         ...        ...         ...    ...   \n",
       "160584  Altamonte Springs    FL       32701  28.663047  -81.346728    4.5   \n",
       "160584  Altamonte Springs    FL       32701  28.663047  -81.346728    4.5   \n",
       "160584  Altamonte Springs    FL       32701  28.663047  -81.346728    4.5   \n",
       "160584  Altamonte Springs    FL       32701  28.663047  -81.346728    4.5   \n",
       "160584  Altamonte Springs    FL       32701  28.663047  -81.346728    4.5   \n",
       "\n",
       "        review_count  is_open  \\\n",
       "0                 86        1   \n",
       "0                 86        1   \n",
       "0                 86        1   \n",
       "0                 86        1   \n",
       "0                 86        1   \n",
       "...              ...      ...   \n",
       "160584            82        0   \n",
       "160584            82        0   \n",
       "160584            82        0   \n",
       "160584            82        0   \n",
       "160584            82        0   \n",
       "\n",
       "                                               attributes       categories  \\\n",
       "0       {'RestaurantsTableService': 'True', 'WiFi': 'u...       Gastropubs   \n",
       "0       {'RestaurantsTableService': 'True', 'WiFi': 'u...             Food   \n",
       "0       {'RestaurantsTableService': 'True', 'WiFi': 'u...     Beer Gardens   \n",
       "0       {'RestaurantsTableService': 'True', 'WiFi': 'u...      Restaurants   \n",
       "0       {'RestaurantsTableService': 'True', 'WiFi': 'u...             Bars   \n",
       "...                                                   ...              ...   \n",
       "160584  {'RestaurantsReservations': 'True', 'OutdoorSe...      Restaurants   \n",
       "160584  {'RestaurantsReservations': 'True', 'OutdoorSe...   Middle Eastern   \n",
       "160584  {'RestaurantsReservations': 'True', 'OutdoorSe...    Mediterranean   \n",
       "160584  {'RestaurantsReservations': 'True', 'OutdoorSe...  Persian/Iranian   \n",
       "160584  {'RestaurantsReservations': 'True', 'OutdoorSe...            Salad   \n",
       "\n",
       "                                                    hours  \n",
       "0       {'Monday': '11:0-23:0', 'Tuesday': '11:0-23:0'...  \n",
       "0       {'Monday': '11:0-23:0', 'Tuesday': '11:0-23:0'...  \n",
       "0       {'Monday': '11:0-23:0', 'Tuesday': '11:0-23:0'...  \n",
       "0       {'Monday': '11:0-23:0', 'Tuesday': '11:0-23:0'...  \n",
       "0       {'Monday': '11:0-23:0', 'Tuesday': '11:0-23:0'...  \n",
       "...                                                   ...  \n",
       "160584  {'Tuesday': '17:0-21:0', 'Wednesday': '17:0-21...  \n",
       "160584  {'Tuesday': '17:0-21:0', 'Wednesday': '17:0-21...  \n",
       "160584  {'Tuesday': '17:0-21:0', 'Wednesday': '17:0-21...  \n",
       "160584  {'Tuesday': '17:0-21:0', 'Wednesday': '17:0-21...  \n",
       "160584  {'Tuesday': '17:0-21:0', 'Wednesday': '17:0-21...  \n",
       "\n",
       "[709083 rows x 14 columns]"
      ]
     },
     "execution_count": 4,
     "metadata": {},
     "output_type": "execute_result"
    }
   ],
   "source": [
    "business_df = business_df.assign(categories = business_df['categories'].str.split(', ')).explode('categories')\n",
    "business_df"
   ]
  },
  {
   "cell_type": "markdown",
   "metadata": {},
   "source": [
    "Note that the method above will actually create additional rows which are essentially duplicates, except that each row will contain one of the categories that were previously grouped together. We will deal with these duplicate rows later. Let us double check the shape of our dataset - the number of rows should have increased."
   ]
  },
  {
   "cell_type": "code",
   "execution_count": 5,
   "metadata": {
    "colab": {
     "base_uri": "https://localhost:8080/"
    },
    "id": "A_RjQjuOfhgd",
    "outputId": "e2763b86-c982-48ed-d541-2f5bf2f4f197"
   },
   "outputs": [
    {
     "data": {
      "text/plain": [
       "(709083, 14)"
      ]
     },
     "execution_count": 5,
     "metadata": {},
     "output_type": "execute_result"
    }
   ],
   "source": [
    "business_df.shape"
   ]
  },
  {
   "cell_type": "markdown",
   "metadata": {},
   "source": [
    "As expected, the number of rows has increased from 160,585 to 709,083.\n",
    "\n",
    "Let us examine the number of different categories in this dataset."
   ]
  },
  {
   "cell_type": "code",
   "execution_count": 10,
   "metadata": {},
   "outputs": [
    {
     "data": {
      "text/plain": [
       "1331"
      ]
     },
     "execution_count": 10,
     "metadata": {},
     "output_type": "execute_result"
    }
   ],
   "source": [
    "len(business_df['categories'].unique())"
   ]
  },
  {
   "cell_type": "markdown",
   "metadata": {},
   "source": [
    "There are 1,331 unique business categories in this dataset! Let's look at the top 40 categories."
   ]
  },
  {
   "cell_type": "code",
   "execution_count": 11,
   "metadata": {
    "colab": {
     "base_uri": "https://localhost:8080/"
    },
    "id": "wTINjvmcyJc7",
    "outputId": "d2a5d7fb-3c99-4b2b-d467-f2ffd05ad330"
   },
   "outputs": [
    {
     "data": {
      "text/plain": [
       "Restaurants                  50763\n",
       "Food                         29469\n",
       "Shopping                     26205\n",
       "Beauty & Spas                16574\n",
       "Home Services                16465\n",
       "Health & Medical             15102\n",
       "Local Services               12192\n",
       "Nightlife                    11990\n",
       "Bars                         10741\n",
       "Automotive                   10119\n",
       "Event Planning & Services     9644\n",
       "Active Life                   9231\n",
       "Coffee & Tea                  7725\n",
       "Sandwiches                    7272\n",
       "Fashion                       6599\n",
       "American (Traditional)        6541\n",
       "Hair Salons                   5900\n",
       "Pizza                         5756\n",
       "Hotels & Travel               5703\n",
       "Breakfast & Brunch            5505\n",
       "Home & Garden                 5499\n",
       "American (New)                5458\n",
       "Real Estate                   5361\n",
       "Arts & Entertainment          5314\n",
       "Fast Food                     5300\n",
       "Auto Repair                   5039\n",
       "Professional Services         4845\n",
       "Fitness & Instruction         4741\n",
       "Doctors                       4700\n",
       "Burgers                       4445\n",
       "Specialty Food                4272\n",
       "Nail Salons                   4179\n",
       "Mexican                       4110\n",
       "Hair Removal                  3833\n",
       "Chinese                       3694\n",
       "Pets                          3647\n",
       "Italian                       3580\n",
       "Bakeries                      3427\n",
       "Skin Care                     3391\n",
       "Desserts                      3295\n",
       "Name: categories, dtype: int64"
      ]
     },
     "execution_count": 11,
     "metadata": {},
     "output_type": "execute_result"
    }
   ],
   "source": [
    "business_df['categories'].value_counts().head(40)"
   ]
  },
  {
   "cell_type": "markdown",
   "metadata": {},
   "source": [
    "We now filter for establishments with the category names of restaurant, food, brunch, and breakfast as save those establishments to a new dataframe."
   ]
  },
  {
   "cell_type": "code",
   "execution_count": 12,
   "metadata": {
    "colab": {
     "base_uri": "https://localhost:8080/",
     "height": 289
    },
    "id": "QKyXDU2JyxnI",
    "outputId": "89dbc6d7-f8dd-4f2f-f74b-89d42a16f1e8"
   },
   "outputs": [
    {
     "data": {
      "text/html": [
       "<div>\n",
       "<style scoped>\n",
       "    .dataframe tbody tr th:only-of-type {\n",
       "        vertical-align: middle;\n",
       "    }\n",
       "\n",
       "    .dataframe tbody tr th {\n",
       "        vertical-align: top;\n",
       "    }\n",
       "\n",
       "    .dataframe thead th {\n",
       "        text-align: right;\n",
       "    }\n",
       "</style>\n",
       "<table border=\"1\" class=\"dataframe\">\n",
       "  <thead>\n",
       "    <tr style=\"text-align: right;\">\n",
       "      <th></th>\n",
       "      <th>business_id</th>\n",
       "      <th>name</th>\n",
       "      <th>address</th>\n",
       "      <th>city</th>\n",
       "      <th>state</th>\n",
       "      <th>postal_code</th>\n",
       "      <th>latitude</th>\n",
       "      <th>longitude</th>\n",
       "      <th>stars</th>\n",
       "      <th>review_count</th>\n",
       "      <th>is_open</th>\n",
       "      <th>attributes</th>\n",
       "      <th>categories</th>\n",
       "      <th>hours</th>\n",
       "    </tr>\n",
       "  </thead>\n",
       "  <tbody>\n",
       "    <tr>\n",
       "      <th>0</th>\n",
       "      <td>6iYb2HFDywm3zjuRg0shjw</td>\n",
       "      <td>Oskar Blues Taproom</td>\n",
       "      <td>921 Pearl St</td>\n",
       "      <td>Boulder</td>\n",
       "      <td>CO</td>\n",
       "      <td>80302</td>\n",
       "      <td>40.017544</td>\n",
       "      <td>-105.283348</td>\n",
       "      <td>4.0</td>\n",
       "      <td>86</td>\n",
       "      <td>1</td>\n",
       "      <td>{'RestaurantsTableService': 'True', 'WiFi': 'u...</td>\n",
       "      <td>Food</td>\n",
       "      <td>{'Monday': '11:0-23:0', 'Tuesday': '11:0-23:0'...</td>\n",
       "    </tr>\n",
       "    <tr>\n",
       "      <th>1</th>\n",
       "      <td>6iYb2HFDywm3zjuRg0shjw</td>\n",
       "      <td>Oskar Blues Taproom</td>\n",
       "      <td>921 Pearl St</td>\n",
       "      <td>Boulder</td>\n",
       "      <td>CO</td>\n",
       "      <td>80302</td>\n",
       "      <td>40.017544</td>\n",
       "      <td>-105.283348</td>\n",
       "      <td>4.0</td>\n",
       "      <td>86</td>\n",
       "      <td>1</td>\n",
       "      <td>{'RestaurantsTableService': 'True', 'WiFi': 'u...</td>\n",
       "      <td>Restaurants</td>\n",
       "      <td>{'Monday': '11:0-23:0', 'Tuesday': '11:0-23:0'...</td>\n",
       "    </tr>\n",
       "    <tr>\n",
       "      <th>2</th>\n",
       "      <td>tCbdrRPZA0oiIYSmHG3J0w</td>\n",
       "      <td>Flying Elephants at PDX</td>\n",
       "      <td>7000 NE Airport Way</td>\n",
       "      <td>Portland</td>\n",
       "      <td>OR</td>\n",
       "      <td>97218</td>\n",
       "      <td>45.588906</td>\n",
       "      <td>-122.593331</td>\n",
       "      <td>4.0</td>\n",
       "      <td>126</td>\n",
       "      <td>1</td>\n",
       "      <td>{'RestaurantsTakeOut': 'True', 'RestaurantsAtt...</td>\n",
       "      <td>Restaurants</td>\n",
       "      <td>{'Monday': '5:0-18:0', 'Tuesday': '5:0-17:0', ...</td>\n",
       "    </tr>\n",
       "    <tr>\n",
       "      <th>3</th>\n",
       "      <td>D4JtQNTI4X3KcbzacDJsMw</td>\n",
       "      <td>Bob Likes Thai Food</td>\n",
       "      <td>3755 Main St</td>\n",
       "      <td>Vancouver</td>\n",
       "      <td>BC</td>\n",
       "      <td>V5V</td>\n",
       "      <td>49.251342</td>\n",
       "      <td>-123.101333</td>\n",
       "      <td>3.5</td>\n",
       "      <td>169</td>\n",
       "      <td>1</td>\n",
       "      <td>{'GoodForKids': 'True', 'Alcohol': 'u'none'', ...</td>\n",
       "      <td>Restaurants</td>\n",
       "      <td>{'Monday': '17:0-21:0', 'Tuesday': '17:0-21:0'...</td>\n",
       "    </tr>\n",
       "    <tr>\n",
       "      <th>4</th>\n",
       "      <td>jFYIsSb7r1QeESVUnXPHBw</td>\n",
       "      <td>Boxwood Biscuit</td>\n",
       "      <td>740 S High St</td>\n",
       "      <td>Columbus</td>\n",
       "      <td>OH</td>\n",
       "      <td>43206</td>\n",
       "      <td>39.947007</td>\n",
       "      <td>-82.997471</td>\n",
       "      <td>4.5</td>\n",
       "      <td>11</td>\n",
       "      <td>1</td>\n",
       "      <td>None</td>\n",
       "      <td>Breakfast &amp; Brunch</td>\n",
       "      <td>{'Saturday': '8:0-14:0', 'Sunday': '8:0-14:0'}</td>\n",
       "    </tr>\n",
       "  </tbody>\n",
       "</table>\n",
       "</div>"
      ],
      "text/plain": [
       "              business_id                     name              address  \\\n",
       "0  6iYb2HFDywm3zjuRg0shjw      Oskar Blues Taproom         921 Pearl St   \n",
       "1  6iYb2HFDywm3zjuRg0shjw      Oskar Blues Taproom         921 Pearl St   \n",
       "2  tCbdrRPZA0oiIYSmHG3J0w  Flying Elephants at PDX  7000 NE Airport Way   \n",
       "3  D4JtQNTI4X3KcbzacDJsMw      Bob Likes Thai Food         3755 Main St   \n",
       "4  jFYIsSb7r1QeESVUnXPHBw          Boxwood Biscuit        740 S High St   \n",
       "\n",
       "        city state postal_code   latitude   longitude  stars  review_count  \\\n",
       "0    Boulder    CO       80302  40.017544 -105.283348    4.0            86   \n",
       "1    Boulder    CO       80302  40.017544 -105.283348    4.0            86   \n",
       "2   Portland    OR       97218  45.588906 -122.593331    4.0           126   \n",
       "3  Vancouver    BC         V5V  49.251342 -123.101333    3.5           169   \n",
       "4   Columbus    OH       43206  39.947007  -82.997471    4.5            11   \n",
       "\n",
       "   is_open                                         attributes  \\\n",
       "0        1  {'RestaurantsTableService': 'True', 'WiFi': 'u...   \n",
       "1        1  {'RestaurantsTableService': 'True', 'WiFi': 'u...   \n",
       "2        1  {'RestaurantsTakeOut': 'True', 'RestaurantsAtt...   \n",
       "3        1  {'GoodForKids': 'True', 'Alcohol': 'u'none'', ...   \n",
       "4        1                                               None   \n",
       "\n",
       "           categories                                              hours  \n",
       "0                Food  {'Monday': '11:0-23:0', 'Tuesday': '11:0-23:0'...  \n",
       "1         Restaurants  {'Monday': '11:0-23:0', 'Tuesday': '11:0-23:0'...  \n",
       "2         Restaurants  {'Monday': '5:0-18:0', 'Tuesday': '5:0-17:0', ...  \n",
       "3         Restaurants  {'Monday': '17:0-21:0', 'Tuesday': '17:0-21:0'...  \n",
       "4  Breakfast & Brunch     {'Saturday': '8:0-14:0', 'Sunday': '8:0-14:0'}  "
      ]
     },
     "execution_count": 12,
     "metadata": {},
     "output_type": "execute_result"
    }
   ],
   "source": [
    "restaurant_df = (business_df[business_df['categories'].str.contains('restaurant|food|brunch|breakfast', case=False) == True]).reset_index(drop=True)\n",
    "restaurant_df.head()"
   ]
  },
  {
   "cell_type": "code",
   "execution_count": 13,
   "metadata": {
    "colab": {
     "base_uri": "https://localhost:8080/"
    },
    "id": "qvKLX4RZ3V-C",
    "outputId": "5336b60e-7c0a-449c-b0aa-c14223438c39"
   },
   "outputs": [
    {
     "data": {
      "text/plain": [
       "(106453, 14)"
      ]
     },
     "execution_count": 13,
     "metadata": {},
     "output_type": "execute_result"
    }
   ],
   "source": [
    "restaurant_df.shape"
   ]
  },
  {
   "cell_type": "code",
   "execution_count": 14,
   "metadata": {},
   "outputs": [
    {
     "data": {
      "text/plain": [
       "26"
      ]
     },
     "execution_count": 14,
     "metadata": {},
     "output_type": "execute_result"
    }
   ],
   "source": [
    "len(restaurant_df['categories'].unique())"
   ]
  },
  {
   "cell_type": "markdown",
   "metadata": {},
   "source": [
    "There are less unique number of categories in our dataset. Let's see what these are."
   ]
  },
  {
   "cell_type": "code",
   "execution_count": 15,
   "metadata": {
    "colab": {
     "base_uri": "https://localhost:8080/"
    },
    "id": "FMUvmSgt3ap5",
    "outputId": "942ae941-49ba-4061-8911-dd357852d4b8"
   },
   "outputs": [
    {
     "data": {
      "text/plain": [
       "array(['Food', 'Restaurants', 'Breakfast & Brunch', 'Food Court',\n",
       "       'Seafood', 'Food Delivery Services', 'Food Trucks',\n",
       "       'Specialty Food', 'Ethnic Food', 'Fast Food', 'Food Stands',\n",
       "       'Do-It-Yourself Food', 'Seafood Markets', 'Bed & Breakfast',\n",
       "       'Comfort Food', 'Soul Food', 'Food Safety Training', 'Food Tours',\n",
       "       'Live/Raw Food', 'Restaurant Supplies', 'Imported Food',\n",
       "       'Pop-Up Restaurants', 'Food Banks', 'Swiss Food',\n",
       "       'Dance Restaurants', 'Pub Food'], dtype=object)"
      ]
     },
     "execution_count": 15,
     "metadata": {},
     "output_type": "execute_result"
    }
   ],
   "source": [
    "restaurant_df['categories'].unique()"
   ]
  },
  {
   "cell_type": "code",
   "execution_count": null,
   "metadata": {
    "colab": {
     "base_uri": "https://localhost:8080/"
    },
    "id": "pJMFebcuj5_H",
    "outputId": "dd608cfd-e0ff-4175-90a9-945f249836ba"
   },
   "outputs": [
    {
     "data": {
      "text/plain": [
       "Restaurants               50763\n",
       "Food                      29469\n",
       "Breakfast & Brunch         5505\n",
       "Fast Food                  5300\n",
       "Specialty Food             4272\n",
       "Seafood                    2958\n",
       "Food Trucks                2537\n",
       "Food Stands                1321\n",
       "Food Delivery Services      960\n",
       "Ethnic Food                 859\n",
       "Comfort Food                721\n",
       "Soul Food                   323\n",
       "Bed & Breakfast             265\n",
       "Seafood Markets             249\n",
       "Imported Food               247\n",
       "Food Court                  214\n",
       "Do-It-Yourself Food         188\n",
       "Live/Raw Food               118\n",
       "Food Tours                   67\n",
       "Pop-Up Restaurants           62\n",
       "Restaurant Supplies          33\n",
       "Food Banks                   16\n",
       "Food Safety Training          2\n",
       "Pub Food                      2\n",
       "Swiss Food                    1\n",
       "Dance Restaurants             1\n",
       "Name: categories, dtype: int64"
      ]
     },
     "execution_count": 11,
     "metadata": {},
     "output_type": "execute_result"
    }
   ],
   "source": [
    "restaurant_df['categories'].value_counts()"
   ]
  },
  {
   "cell_type": "markdown",
   "metadata": {},
   "source": [
    "There are some categories here which are not related to our analysis. We will drop any rows associated with these categories below."
   ]
  },
  {
   "cell_type": "code",
   "execution_count": 17,
   "metadata": {
    "colab": {
     "base_uri": "https://localhost:8080/"
    },
    "id": "iHyuXFwmkJm8",
    "outputId": "e0679b65-8293-4631-f8b5-d45d64081802"
   },
   "outputs": [
    {
     "data": {
      "text/plain": [
       "(100874, 14)"
      ]
     },
     "execution_count": 17,
     "metadata": {},
     "output_type": "execute_result"
    }
   ],
   "source": [
    "categories_to_drop = ['Food Safety Training','Food Trucks', 'Food Delivery Services',\n",
    "                      'Food Stands', 'Food Court','Restaurant Supplies', 'Food Banks',\n",
    "                      'Seafood Markets','Imported Food']\n",
    "\n",
    "# Save the rows that are not categorized by the labels in categories_to_drop\n",
    "restaurant_df = restaurant_df[~restaurant_df['categories'].isin(categories_to_drop)]\n",
    "restaurant_df.shape"
   ]
  },
  {
   "cell_type": "markdown",
   "metadata": {},
   "source": [
    "As mentioned earlier, the explode() method created duplicate rows for each business with unique category identifiers. Let's drop those duplicates now."
   ]
  },
  {
   "cell_type": "code",
   "execution_count": 18,
   "metadata": {
    "colab": {
     "base_uri": "https://localhost:8080/"
    },
    "id": "SFZUK09ub9zA",
    "outputId": "db9b5363-ab02-4e79-aa82-911e8d16f074"
   },
   "outputs": [
    {
     "data": {
      "text/html": [
       "<div>\n",
       "<style scoped>\n",
       "    .dataframe tbody tr th:only-of-type {\n",
       "        vertical-align: middle;\n",
       "    }\n",
       "\n",
       "    .dataframe tbody tr th {\n",
       "        vertical-align: top;\n",
       "    }\n",
       "\n",
       "    .dataframe thead th {\n",
       "        text-align: right;\n",
       "    }\n",
       "</style>\n",
       "<table border=\"1\" class=\"dataframe\">\n",
       "  <thead>\n",
       "    <tr style=\"text-align: right;\">\n",
       "      <th></th>\n",
       "      <th>business_id</th>\n",
       "      <th>name</th>\n",
       "      <th>address</th>\n",
       "      <th>city</th>\n",
       "      <th>state</th>\n",
       "      <th>postal_code</th>\n",
       "      <th>latitude</th>\n",
       "      <th>longitude</th>\n",
       "      <th>stars</th>\n",
       "      <th>review_count</th>\n",
       "      <th>is_open</th>\n",
       "      <th>attributes</th>\n",
       "      <th>categories</th>\n",
       "      <th>hours</th>\n",
       "    </tr>\n",
       "  </thead>\n",
       "  <tbody>\n",
       "    <tr>\n",
       "      <th>0</th>\n",
       "      <td>6iYb2HFDywm3zjuRg0shjw</td>\n",
       "      <td>Oskar Blues Taproom</td>\n",
       "      <td>921 Pearl St</td>\n",
       "      <td>Boulder</td>\n",
       "      <td>CO</td>\n",
       "      <td>80302</td>\n",
       "      <td>40.017544</td>\n",
       "      <td>-105.283348</td>\n",
       "      <td>4.0</td>\n",
       "      <td>86</td>\n",
       "      <td>1</td>\n",
       "      <td>{'RestaurantsTableService': 'True', 'WiFi': 'u...</td>\n",
       "      <td>Food</td>\n",
       "      <td>{'Monday': '11:0-23:0', 'Tuesday': '11:0-23:0'...</td>\n",
       "    </tr>\n",
       "    <tr>\n",
       "      <th>1</th>\n",
       "      <td>tCbdrRPZA0oiIYSmHG3J0w</td>\n",
       "      <td>Flying Elephants at PDX</td>\n",
       "      <td>7000 NE Airport Way</td>\n",
       "      <td>Portland</td>\n",
       "      <td>OR</td>\n",
       "      <td>97218</td>\n",
       "      <td>45.588906</td>\n",
       "      <td>-122.593331</td>\n",
       "      <td>4.0</td>\n",
       "      <td>126</td>\n",
       "      <td>1</td>\n",
       "      <td>{'RestaurantsTakeOut': 'True', 'RestaurantsAtt...</td>\n",
       "      <td>Restaurants</td>\n",
       "      <td>{'Monday': '5:0-18:0', 'Tuesday': '5:0-17:0', ...</td>\n",
       "    </tr>\n",
       "    <tr>\n",
       "      <th>2</th>\n",
       "      <td>D4JtQNTI4X3KcbzacDJsMw</td>\n",
       "      <td>Bob Likes Thai Food</td>\n",
       "      <td>3755 Main St</td>\n",
       "      <td>Vancouver</td>\n",
       "      <td>BC</td>\n",
       "      <td>V5V</td>\n",
       "      <td>49.251342</td>\n",
       "      <td>-123.101333</td>\n",
       "      <td>3.5</td>\n",
       "      <td>169</td>\n",
       "      <td>1</td>\n",
       "      <td>{'GoodForKids': 'True', 'Alcohol': 'u'none'', ...</td>\n",
       "      <td>Restaurants</td>\n",
       "      <td>{'Monday': '17:0-21:0', 'Tuesday': '17:0-21:0'...</td>\n",
       "    </tr>\n",
       "    <tr>\n",
       "      <th>3</th>\n",
       "      <td>jFYIsSb7r1QeESVUnXPHBw</td>\n",
       "      <td>Boxwood Biscuit</td>\n",
       "      <td>740 S High St</td>\n",
       "      <td>Columbus</td>\n",
       "      <td>OH</td>\n",
       "      <td>43206</td>\n",
       "      <td>39.947007</td>\n",
       "      <td>-82.997471</td>\n",
       "      <td>4.5</td>\n",
       "      <td>11</td>\n",
       "      <td>1</td>\n",
       "      <td>None</td>\n",
       "      <td>Breakfast &amp; Brunch</td>\n",
       "      <td>{'Saturday': '8:0-14:0', 'Sunday': '8:0-14:0'}</td>\n",
       "    </tr>\n",
       "    <tr>\n",
       "      <th>4</th>\n",
       "      <td>rYs_1pNB_RMtn5WQh55QDA</td>\n",
       "      <td>Chautauqua General Store</td>\n",
       "      <td>100 Clematis Dr</td>\n",
       "      <td>Boulder</td>\n",
       "      <td>CO</td>\n",
       "      <td>80302</td>\n",
       "      <td>39.998449</td>\n",
       "      <td>-105.281006</td>\n",
       "      <td>3.5</td>\n",
       "      <td>5</td>\n",
       "      <td>1</td>\n",
       "      <td>{'BikeParking': 'True', 'RestaurantsTakeOut': ...</td>\n",
       "      <td>Food</td>\n",
       "      <td>{'Monday': '8:0-20:0', 'Tuesday': '8:0-20:0', ...</td>\n",
       "    </tr>\n",
       "  </tbody>\n",
       "</table>\n",
       "</div>"
      ],
      "text/plain": [
       "              business_id                      name              address  \\\n",
       "0  6iYb2HFDywm3zjuRg0shjw       Oskar Blues Taproom         921 Pearl St   \n",
       "1  tCbdrRPZA0oiIYSmHG3J0w   Flying Elephants at PDX  7000 NE Airport Way   \n",
       "2  D4JtQNTI4X3KcbzacDJsMw       Bob Likes Thai Food         3755 Main St   \n",
       "3  jFYIsSb7r1QeESVUnXPHBw           Boxwood Biscuit        740 S High St   \n",
       "4  rYs_1pNB_RMtn5WQh55QDA  Chautauqua General Store      100 Clematis Dr   \n",
       "\n",
       "        city state postal_code   latitude   longitude  stars  review_count  \\\n",
       "0    Boulder    CO       80302  40.017544 -105.283348    4.0            86   \n",
       "1   Portland    OR       97218  45.588906 -122.593331    4.0           126   \n",
       "2  Vancouver    BC         V5V  49.251342 -123.101333    3.5           169   \n",
       "3   Columbus    OH       43206  39.947007  -82.997471    4.5            11   \n",
       "4    Boulder    CO       80302  39.998449 -105.281006    3.5             5   \n",
       "\n",
       "   is_open                                         attributes  \\\n",
       "0        1  {'RestaurantsTableService': 'True', 'WiFi': 'u...   \n",
       "1        1  {'RestaurantsTakeOut': 'True', 'RestaurantsAtt...   \n",
       "2        1  {'GoodForKids': 'True', 'Alcohol': 'u'none'', ...   \n",
       "3        1                                               None   \n",
       "4        1  {'BikeParking': 'True', 'RestaurantsTakeOut': ...   \n",
       "\n",
       "           categories                                              hours  \n",
       "0                Food  {'Monday': '11:0-23:0', 'Tuesday': '11:0-23:0'...  \n",
       "1         Restaurants  {'Monday': '5:0-18:0', 'Tuesday': '5:0-17:0', ...  \n",
       "2         Restaurants  {'Monday': '17:0-21:0', 'Tuesday': '17:0-21:0'...  \n",
       "3  Breakfast & Brunch     {'Saturday': '8:0-14:0', 'Sunday': '8:0-14:0'}  \n",
       "4                Food  {'Monday': '8:0-20:0', 'Tuesday': '8:0-20:0', ...  "
      ]
     },
     "execution_count": 18,
     "metadata": {},
     "output_type": "execute_result"
    }
   ],
   "source": [
    "restaurant_df = restaurant_df.drop_duplicates(subset=['business_id'], ignore_index=True)\n",
    "restaurant_df.head()"
   ]
  },
  {
   "cell_type": "code",
   "execution_count": 19,
   "metadata": {
    "colab": {
     "base_uri": "https://localhost:8080/",
     "height": 289
    },
    "id": "FqtWvYGTdRz7",
    "outputId": "7ff1b6a9-fb99-4287-97d3-db895e2ddaac"
   },
   "outputs": [
    {
     "data": {
      "text/plain": [
       "(64079, 14)"
      ]
     },
     "execution_count": 19,
     "metadata": {},
     "output_type": "execute_result"
    }
   ],
   "source": [
    "restaurant_df.shape"
   ]
  },
  {
   "cell_type": "markdown",
   "metadata": {},
   "source": [
    "We now have 64,079 restaurants in this dataframe."
   ]
  },
  {
   "cell_type": "code",
   "execution_count": 20,
   "metadata": {},
   "outputs": [
    {
     "data": {
      "text/plain": [
       "64079"
      ]
     },
     "execution_count": 20,
     "metadata": {},
     "output_type": "execute_result"
    }
   ],
   "source": [
    "len(restaurant_df['business_id'].unique())"
   ]
  },
  {
   "cell_type": "code",
   "execution_count": 34,
   "metadata": {
    "colab": {
     "base_uri": "https://localhost:8080/"
    },
    "id": "OeDRXDm1nmwl",
    "outputId": "2ff3aca8-8dbe-456e-e129-e7f1fc1183b3"
   },
   "outputs": [
    {
     "name": "stdout",
     "output_type": "stream",
     "text": [
      "CPU times: user 15.6 s, sys: 161 ms, total: 15.8 s\n",
      "Wall time: 15.8 s\n"
     ]
    }
   ],
   "source": [
    "%%time\n",
    "restaurant_df = pd.concat([restaurant_df, restaurant_df['attributes'].apply(pd.Series)], axis=1).drop('attributes', axis=1)"
   ]
  },
  {
   "cell_type": "code",
   "execution_count": 35,
   "metadata": {},
   "outputs": [
    {
     "data": {
      "text/plain": [
       "(64079, 52)"
      ]
     },
     "execution_count": 35,
     "metadata": {},
     "output_type": "execute_result"
    }
   ],
   "source": [
    "restaurant_df.shape"
   ]
  },
  {
   "cell_type": "code",
   "execution_count": 36,
   "metadata": {
    "colab": {
     "base_uri": "https://localhost:8080/",
     "height": 1000
    },
    "id": "1o1VlFGH3aXd",
    "outputId": "9fa5bcac-178a-4700-8ce3-0c36b32a1277"
   },
   "outputs": [
    {
     "data": {
      "text/plain": [
       "Index(['business_id', 'name', 'address', 'city', 'state', 'postal_code',\n",
       "       'latitude', 'longitude', 'stars', 'review_count', 'is_open',\n",
       "       'categories', 'hours', 'RestaurantsTableService', 'WiFi', 'BikeParking',\n",
       "       'BusinessParking', 'BusinessAcceptsCreditCards',\n",
       "       'RestaurantsReservations', 'WheelchairAccessible', 'Caters',\n",
       "       'OutdoorSeating', 'RestaurantsGoodForGroups', 'HappyHour',\n",
       "       'BusinessAcceptsBitcoin', 'RestaurantsPriceRange2', 'Ambience', 'HasTV',\n",
       "       'Alcohol', 'GoodForMeal', 'DogsAllowed', 'RestaurantsTakeOut',\n",
       "       'NoiseLevel', 'RestaurantsAttire', 'RestaurantsDelivery', 'GoodForKids',\n",
       "       'ByAppointmentOnly', 'Music', 'GoodForDancing', 'BestNights', 'BYOB',\n",
       "       'CoatCheck', 'Smoking', 'DriveThru', 'BYOBCorkage', 'Corkage',\n",
       "       'RestaurantsCounterService', 'AcceptsInsurance', 'DietaryRestrictions',\n",
       "       'AgesAllowed', 'Open24Hours', 'HairSpecializesIn'],\n",
       "      dtype='object')"
      ]
     },
     "execution_count": 36,
     "metadata": {},
     "output_type": "execute_result"
    }
   ],
   "source": [
    "restaurant_df.columns"
   ]
  },
  {
   "cell_type": "markdown",
   "metadata": {},
   "source": []
  },
  {
   "cell_type": "code",
   "execution_count": null,
   "metadata": {
    "id": "9mGwa731XPg3"
   },
   "outputs": [],
   "source": []
  }
 ],
 "metadata": {
  "colab": {
   "collapsed_sections": [],
   "name": "YelpDataset.ipynb",
   "provenance": []
  },
  "kernelspec": {
   "display_name": "Python 3",
   "language": "python",
   "name": "python3"
  },
  "language_info": {
   "codemirror_mode": {
    "name": "ipython",
    "version": 3
   },
   "file_extension": ".py",
   "mimetype": "text/x-python",
   "name": "python",
   "nbconvert_exporter": "python",
   "pygments_lexer": "ipython3",
   "version": "3.8.8"
  }
 },
 "nbformat": 4,
 "nbformat_minor": 4
}
