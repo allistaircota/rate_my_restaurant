{
 "cells": [
  {
   "cell_type": "markdown",
   "id": "0e8075d2",
   "metadata": {},
   "source": [
    "# Review Data Loading"
   ]
  },
  {
   "cell_type": "markdown",
   "id": "f6cdd147",
   "metadata": {},
   "source": [
    "## Introduction\n",
    "\n",
    "For my capstone project, I will be using machine learning on the Yelp Open Dataset to predict the rating of a restaurant given its characteristics. The motivation behind building a restaurant rating predictor is to help future restaurant owners anticipate the requirements that a restaurant must meet in order to receive a desirable star rating and achieve success for the business.\n",
    "\n",
    "## Methodology\n",
    "\n",
    "In this notebook, we will load the required JSON files from the Yelp Open dataset, keeping only the required records that pertain to restaurants in Massachusetts, and export the data into CSV files for the next step in this project which is data cleaning and EDA."
   ]
  },
  {
   "cell_type": "markdown",
   "id": "0a4c5d02",
   "metadata": {},
   "source": [
    "## Import the Required Libraries\n",
    "\n",
    "We will require the Pandas and JSON libraries for this notebook."
   ]
  },
  {
   "cell_type": "code",
   "execution_count": 1,
   "id": "e82719f3",
   "metadata": {},
   "outputs": [],
   "source": [
    "import pandas as pd\n",
    "import json"
   ]
  },
  {
   "cell_type": "markdown",
   "id": "1e9e73d4",
   "metadata": {},
   "source": [
    "## Load the Business Dataset"
   ]
  },
  {
   "cell_type": "markdown",
   "id": "5bfbb298",
   "metadata": {},
   "source": [
    "We will begin by loading business dataset JSON file into a Pandas data frame."
   ]
  },
  {
   "cell_type": "code",
   "execution_count": 4,
   "id": "bbe87ae8",
   "metadata": {},
   "outputs": [
    {
     "name": "stdout",
     "output_type": "stream",
     "text": [
      "CPU times: user 2.84 s, sys: 717 ms, total: 3.56 s\n",
      "Wall time: 3.63 s\n"
     ]
    },
    {
     "data": {
      "text/html": [
       "<div>\n",
       "<style scoped>\n",
       "    .dataframe tbody tr th:only-of-type {\n",
       "        vertical-align: middle;\n",
       "    }\n",
       "\n",
       "    .dataframe tbody tr th {\n",
       "        vertical-align: top;\n",
       "    }\n",
       "\n",
       "    .dataframe thead th {\n",
       "        text-align: right;\n",
       "    }\n",
       "</style>\n",
       "<table border=\"1\" class=\"dataframe\">\n",
       "  <thead>\n",
       "    <tr style=\"text-align: right;\">\n",
       "      <th></th>\n",
       "      <th>business_id</th>\n",
       "      <th>name</th>\n",
       "      <th>address</th>\n",
       "      <th>city</th>\n",
       "      <th>state</th>\n",
       "      <th>postal_code</th>\n",
       "      <th>latitude</th>\n",
       "      <th>longitude</th>\n",
       "      <th>stars</th>\n",
       "      <th>review_count</th>\n",
       "      <th>is_open</th>\n",
       "      <th>attributes</th>\n",
       "      <th>categories</th>\n",
       "      <th>hours</th>\n",
       "    </tr>\n",
       "  </thead>\n",
       "  <tbody>\n",
       "    <tr>\n",
       "      <th>0</th>\n",
       "      <td>6iYb2HFDywm3zjuRg0shjw</td>\n",
       "      <td>Oskar Blues Taproom</td>\n",
       "      <td>921 Pearl St</td>\n",
       "      <td>Boulder</td>\n",
       "      <td>CO</td>\n",
       "      <td>80302</td>\n",
       "      <td>40.017544</td>\n",
       "      <td>-105.283348</td>\n",
       "      <td>4.0</td>\n",
       "      <td>86</td>\n",
       "      <td>1</td>\n",
       "      <td>{'RestaurantsTableService': 'True', 'WiFi': 'u...</td>\n",
       "      <td>Gastropubs, Food, Beer Gardens, Restaurants, B...</td>\n",
       "      <td>{'Monday': '11:0-23:0', 'Tuesday': '11:0-23:0'...</td>\n",
       "    </tr>\n",
       "    <tr>\n",
       "      <th>1</th>\n",
       "      <td>tCbdrRPZA0oiIYSmHG3J0w</td>\n",
       "      <td>Flying Elephants at PDX</td>\n",
       "      <td>7000 NE Airport Way</td>\n",
       "      <td>Portland</td>\n",
       "      <td>OR</td>\n",
       "      <td>97218</td>\n",
       "      <td>45.588906</td>\n",
       "      <td>-122.593331</td>\n",
       "      <td>4.0</td>\n",
       "      <td>126</td>\n",
       "      <td>1</td>\n",
       "      <td>{'RestaurantsTakeOut': 'True', 'RestaurantsAtt...</td>\n",
       "      <td>Salad, Soup, Sandwiches, Delis, Restaurants, C...</td>\n",
       "      <td>{'Monday': '5:0-18:0', 'Tuesday': '5:0-17:0', ...</td>\n",
       "    </tr>\n",
       "    <tr>\n",
       "      <th>2</th>\n",
       "      <td>bvN78flM8NLprQ1a1y5dRg</td>\n",
       "      <td>The Reclaimory</td>\n",
       "      <td>4720 Hawthorne Ave</td>\n",
       "      <td>Portland</td>\n",
       "      <td>OR</td>\n",
       "      <td>97214</td>\n",
       "      <td>45.511907</td>\n",
       "      <td>-122.613693</td>\n",
       "      <td>4.5</td>\n",
       "      <td>13</td>\n",
       "      <td>1</td>\n",
       "      <td>{'BusinessAcceptsCreditCards': 'True', 'Restau...</td>\n",
       "      <td>Antiques, Fashion, Used, Vintage &amp; Consignment...</td>\n",
       "      <td>{'Thursday': '11:0-18:0', 'Friday': '11:0-18:0...</td>\n",
       "    </tr>\n",
       "    <tr>\n",
       "      <th>3</th>\n",
       "      <td>oaepsyvc0J17qwi8cfrOWg</td>\n",
       "      <td>Great Clips</td>\n",
       "      <td>2566 Enterprise Rd</td>\n",
       "      <td>Orange City</td>\n",
       "      <td>FL</td>\n",
       "      <td>32763</td>\n",
       "      <td>28.914482</td>\n",
       "      <td>-81.295979</td>\n",
       "      <td>3.0</td>\n",
       "      <td>8</td>\n",
       "      <td>1</td>\n",
       "      <td>{'RestaurantsPriceRange2': '1', 'BusinessAccep...</td>\n",
       "      <td>Beauty &amp; Spas, Hair Salons</td>\n",
       "      <td>None</td>\n",
       "    </tr>\n",
       "    <tr>\n",
       "      <th>4</th>\n",
       "      <td>PE9uqAjdw0E4-8mjGl3wVA</td>\n",
       "      <td>Crossfit Terminus</td>\n",
       "      <td>1046 Memorial Dr SE</td>\n",
       "      <td>Atlanta</td>\n",
       "      <td>GA</td>\n",
       "      <td>30316</td>\n",
       "      <td>33.747027</td>\n",
       "      <td>-84.353424</td>\n",
       "      <td>4.0</td>\n",
       "      <td>14</td>\n",
       "      <td>1</td>\n",
       "      <td>{'GoodForKids': 'False', 'BusinessParking': '{...</td>\n",
       "      <td>Gyms, Active Life, Interval Training Gyms, Fit...</td>\n",
       "      <td>{'Monday': '16:0-19:0', 'Tuesday': '16:0-19:0'...</td>\n",
       "    </tr>\n",
       "  </tbody>\n",
       "</table>\n",
       "</div>"
      ],
      "text/plain": [
       "              business_id                     name              address  \\\n",
       "0  6iYb2HFDywm3zjuRg0shjw      Oskar Blues Taproom         921 Pearl St   \n",
       "1  tCbdrRPZA0oiIYSmHG3J0w  Flying Elephants at PDX  7000 NE Airport Way   \n",
       "2  bvN78flM8NLprQ1a1y5dRg           The Reclaimory   4720 Hawthorne Ave   \n",
       "3  oaepsyvc0J17qwi8cfrOWg              Great Clips   2566 Enterprise Rd   \n",
       "4  PE9uqAjdw0E4-8mjGl3wVA        Crossfit Terminus  1046 Memorial Dr SE   \n",
       "\n",
       "          city state postal_code   latitude   longitude  stars  review_count  \\\n",
       "0      Boulder    CO       80302  40.017544 -105.283348    4.0            86   \n",
       "1     Portland    OR       97218  45.588906 -122.593331    4.0           126   \n",
       "2     Portland    OR       97214  45.511907 -122.613693    4.5            13   \n",
       "3  Orange City    FL       32763  28.914482  -81.295979    3.0             8   \n",
       "4      Atlanta    GA       30316  33.747027  -84.353424    4.0            14   \n",
       "\n",
       "   is_open                                         attributes  \\\n",
       "0        1  {'RestaurantsTableService': 'True', 'WiFi': 'u...   \n",
       "1        1  {'RestaurantsTakeOut': 'True', 'RestaurantsAtt...   \n",
       "2        1  {'BusinessAcceptsCreditCards': 'True', 'Restau...   \n",
       "3        1  {'RestaurantsPriceRange2': '1', 'BusinessAccep...   \n",
       "4        1  {'GoodForKids': 'False', 'BusinessParking': '{...   \n",
       "\n",
       "                                          categories  \\\n",
       "0  Gastropubs, Food, Beer Gardens, Restaurants, B...   \n",
       "1  Salad, Soup, Sandwiches, Delis, Restaurants, C...   \n",
       "2  Antiques, Fashion, Used, Vintage & Consignment...   \n",
       "3                         Beauty & Spas, Hair Salons   \n",
       "4  Gyms, Active Life, Interval Training Gyms, Fit...   \n",
       "\n",
       "                                               hours  \n",
       "0  {'Monday': '11:0-23:0', 'Tuesday': '11:0-23:0'...  \n",
       "1  {'Monday': '5:0-18:0', 'Tuesday': '5:0-17:0', ...  \n",
       "2  {'Thursday': '11:0-18:0', 'Friday': '11:0-18:0...  \n",
       "3                                               None  \n",
       "4  {'Monday': '16:0-19:0', 'Tuesday': '16:0-19:0'...  "
      ]
     },
     "execution_count": 4,
     "metadata": {},
     "output_type": "execute_result"
    }
   ],
   "source": [
    "%%time\n",
    "business_df = pd.read_json('../data/business.json', lines=True)\n",
    "business_df.head()"
   ]
  },
  {
   "cell_type": "markdown",
   "id": "b2c4831e",
   "metadata": {},
   "source": [
    "We can see that there is a `categories` column that includes string descriptions of the business category. We will filter for the word *'restaurant'* which is the category of interest for this project."
   ]
  },
  {
   "cell_type": "code",
   "execution_count": 5,
   "id": "fc67ad5e",
   "metadata": {},
   "outputs": [
    {
     "data": {
      "text/html": [
       "<div>\n",
       "<style scoped>\n",
       "    .dataframe tbody tr th:only-of-type {\n",
       "        vertical-align: middle;\n",
       "    }\n",
       "\n",
       "    .dataframe tbody tr th {\n",
       "        vertical-align: top;\n",
       "    }\n",
       "\n",
       "    .dataframe thead th {\n",
       "        text-align: right;\n",
       "    }\n",
       "</style>\n",
       "<table border=\"1\" class=\"dataframe\">\n",
       "  <thead>\n",
       "    <tr style=\"text-align: right;\">\n",
       "      <th></th>\n",
       "      <th>business_id</th>\n",
       "      <th>name</th>\n",
       "      <th>address</th>\n",
       "      <th>city</th>\n",
       "      <th>state</th>\n",
       "      <th>postal_code</th>\n",
       "      <th>latitude</th>\n",
       "      <th>longitude</th>\n",
       "      <th>stars</th>\n",
       "      <th>review_count</th>\n",
       "      <th>is_open</th>\n",
       "      <th>attributes</th>\n",
       "      <th>categories</th>\n",
       "      <th>hours</th>\n",
       "    </tr>\n",
       "  </thead>\n",
       "  <tbody>\n",
       "    <tr>\n",
       "      <th>0</th>\n",
       "      <td>6iYb2HFDywm3zjuRg0shjw</td>\n",
       "      <td>Oskar Blues Taproom</td>\n",
       "      <td>921 Pearl St</td>\n",
       "      <td>Boulder</td>\n",
       "      <td>CO</td>\n",
       "      <td>80302</td>\n",
       "      <td>40.017544</td>\n",
       "      <td>-105.283348</td>\n",
       "      <td>4.0</td>\n",
       "      <td>86</td>\n",
       "      <td>1</td>\n",
       "      <td>{'RestaurantsTableService': 'True', 'WiFi': 'u...</td>\n",
       "      <td>Gastropubs, Food, Beer Gardens, Restaurants, B...</td>\n",
       "      <td>{'Monday': '11:0-23:0', 'Tuesday': '11:0-23:0'...</td>\n",
       "    </tr>\n",
       "    <tr>\n",
       "      <th>1</th>\n",
       "      <td>tCbdrRPZA0oiIYSmHG3J0w</td>\n",
       "      <td>Flying Elephants at PDX</td>\n",
       "      <td>7000 NE Airport Way</td>\n",
       "      <td>Portland</td>\n",
       "      <td>OR</td>\n",
       "      <td>97218</td>\n",
       "      <td>45.588906</td>\n",
       "      <td>-122.593331</td>\n",
       "      <td>4.0</td>\n",
       "      <td>126</td>\n",
       "      <td>1</td>\n",
       "      <td>{'RestaurantsTakeOut': 'True', 'RestaurantsAtt...</td>\n",
       "      <td>Salad, Soup, Sandwiches, Delis, Restaurants, C...</td>\n",
       "      <td>{'Monday': '5:0-18:0', 'Tuesday': '5:0-17:0', ...</td>\n",
       "    </tr>\n",
       "    <tr>\n",
       "      <th>2</th>\n",
       "      <td>D4JtQNTI4X3KcbzacDJsMw</td>\n",
       "      <td>Bob Likes Thai Food</td>\n",
       "      <td>3755 Main St</td>\n",
       "      <td>Vancouver</td>\n",
       "      <td>BC</td>\n",
       "      <td>V5V</td>\n",
       "      <td>49.251342</td>\n",
       "      <td>-123.101333</td>\n",
       "      <td>3.5</td>\n",
       "      <td>169</td>\n",
       "      <td>1</td>\n",
       "      <td>{'GoodForKids': 'True', 'Alcohol': 'u'none'', ...</td>\n",
       "      <td>Restaurants, Thai</td>\n",
       "      <td>{'Monday': '17:0-21:0', 'Tuesday': '17:0-21:0'...</td>\n",
       "    </tr>\n",
       "    <tr>\n",
       "      <th>3</th>\n",
       "      <td>jFYIsSb7r1QeESVUnXPHBw</td>\n",
       "      <td>Boxwood Biscuit</td>\n",
       "      <td>740 S High St</td>\n",
       "      <td>Columbus</td>\n",
       "      <td>OH</td>\n",
       "      <td>43206</td>\n",
       "      <td>39.947007</td>\n",
       "      <td>-82.997471</td>\n",
       "      <td>4.5</td>\n",
       "      <td>11</td>\n",
       "      <td>1</td>\n",
       "      <td>None</td>\n",
       "      <td>Breakfast &amp; Brunch, Restaurants</td>\n",
       "      <td>{'Saturday': '8:0-14:0', 'Sunday': '8:0-14:0'}</td>\n",
       "    </tr>\n",
       "    <tr>\n",
       "      <th>4</th>\n",
       "      <td>HPA_qyMEddpAEtFof02ixg</td>\n",
       "      <td>Mr G's Pizza &amp; Subs</td>\n",
       "      <td>474 Lowell St</td>\n",
       "      <td>Peabody</td>\n",
       "      <td>MA</td>\n",
       "      <td>01960</td>\n",
       "      <td>42.541155</td>\n",
       "      <td>-70.973438</td>\n",
       "      <td>4.0</td>\n",
       "      <td>39</td>\n",
       "      <td>1</td>\n",
       "      <td>{'RestaurantsGoodForGroups': 'True', 'HasTV': ...</td>\n",
       "      <td>Food, Pizza, Restaurants</td>\n",
       "      <td>{'Monday': '11:0-21:0', 'Tuesday': '11:0-21:0'...</td>\n",
       "    </tr>\n",
       "  </tbody>\n",
       "</table>\n",
       "</div>"
      ],
      "text/plain": [
       "              business_id                     name              address  \\\n",
       "0  6iYb2HFDywm3zjuRg0shjw      Oskar Blues Taproom         921 Pearl St   \n",
       "1  tCbdrRPZA0oiIYSmHG3J0w  Flying Elephants at PDX  7000 NE Airport Way   \n",
       "2  D4JtQNTI4X3KcbzacDJsMw      Bob Likes Thai Food         3755 Main St   \n",
       "3  jFYIsSb7r1QeESVUnXPHBw          Boxwood Biscuit        740 S High St   \n",
       "4  HPA_qyMEddpAEtFof02ixg      Mr G's Pizza & Subs        474 Lowell St   \n",
       "\n",
       "        city state postal_code   latitude   longitude  stars  review_count  \\\n",
       "0    Boulder    CO       80302  40.017544 -105.283348    4.0            86   \n",
       "1   Portland    OR       97218  45.588906 -122.593331    4.0           126   \n",
       "2  Vancouver    BC         V5V  49.251342 -123.101333    3.5           169   \n",
       "3   Columbus    OH       43206  39.947007  -82.997471    4.5            11   \n",
       "4    Peabody    MA       01960  42.541155  -70.973438    4.0            39   \n",
       "\n",
       "   is_open                                         attributes  \\\n",
       "0        1  {'RestaurantsTableService': 'True', 'WiFi': 'u...   \n",
       "1        1  {'RestaurantsTakeOut': 'True', 'RestaurantsAtt...   \n",
       "2        1  {'GoodForKids': 'True', 'Alcohol': 'u'none'', ...   \n",
       "3        1                                               None   \n",
       "4        1  {'RestaurantsGoodForGroups': 'True', 'HasTV': ...   \n",
       "\n",
       "                                          categories  \\\n",
       "0  Gastropubs, Food, Beer Gardens, Restaurants, B...   \n",
       "1  Salad, Soup, Sandwiches, Delis, Restaurants, C...   \n",
       "2                                  Restaurants, Thai   \n",
       "3                    Breakfast & Brunch, Restaurants   \n",
       "4                           Food, Pizza, Restaurants   \n",
       "\n",
       "                                               hours  \n",
       "0  {'Monday': '11:0-23:0', 'Tuesday': '11:0-23:0'...  \n",
       "1  {'Monday': '5:0-18:0', 'Tuesday': '5:0-17:0', ...  \n",
       "2  {'Monday': '17:0-21:0', 'Tuesday': '17:0-21:0'...  \n",
       "3     {'Saturday': '8:0-14:0', 'Sunday': '8:0-14:0'}  \n",
       "4  {'Monday': '11:0-21:0', 'Tuesday': '11:0-21:0'...  "
      ]
     },
     "execution_count": 5,
     "metadata": {},
     "output_type": "execute_result"
    }
   ],
   "source": [
    "# Filter for restaurnts that contain a restauarant description in the categories column\n",
    "# and save to new dataframe\n",
    "restaurant_df = business_df[business_df['categories'].str.contains('restaurant', case=False)==True].reset_index().drop('index', axis=1)\n",
    "restaurant_df.head()"
   ]
  },
  {
   "cell_type": "code",
   "execution_count": 6,
   "id": "86116838",
   "metadata": {},
   "outputs": [
    {
     "data": {
      "text/plain": [
       "(50793, 14)"
      ]
     },
     "execution_count": 6,
     "metadata": {},
     "output_type": "execute_result"
    }
   ],
   "source": [
    "restaurant_df.shape"
   ]
  },
  {
   "cell_type": "markdown",
   "id": "ef638159",
   "metadata": {},
   "source": [
    "The resulting shape of our restaurant data frame is 50,793 rows and 14 columns.\n",
    "\n",
    "We now look at the value counts for the different states in this data frame."
   ]
  },
  {
   "cell_type": "code",
   "execution_count": 7,
   "id": "e85a1c4e",
   "metadata": {},
   "outputs": [
    {
     "data": {
      "text/plain": [
       "MA     10551\n",
       "FL      7711\n",
       "BC      7508\n",
       "OR      7402\n",
       "GA      6142\n",
       "TX      5452\n",
       "OH      4380\n",
       "CO       866\n",
       "WA       774\n",
       "KS         1\n",
       "MN         1\n",
       "VA         1\n",
       "WY         1\n",
       "KY         1\n",
       "NH         1\n",
       "ABE        1\n",
       "Name: state, dtype: int64"
      ]
     },
     "execution_count": 7,
     "metadata": {},
     "output_type": "execute_result"
    }
   ],
   "source": [
    "restaurant_df['state'].value_counts()"
   ]
  },
  {
   "cell_type": "markdown",
   "id": "affa4788",
   "metadata": {},
   "source": [
    "We can see that the state of Massachusetts (abbreviated as MA) has the most restaurants in the dataset. We will now filter for only Massachusetts restaurants."
   ]
  },
  {
   "cell_type": "code",
   "execution_count": 8,
   "id": "58c6ae9d",
   "metadata": {},
   "outputs": [
    {
     "name": "stdout",
     "output_type": "stream",
     "text": [
      "<class 'pandas.core.frame.DataFrame'>\n",
      "RangeIndex: 10551 entries, 0 to 10550\n",
      "Data columns (total 14 columns):\n",
      " #   Column        Non-Null Count  Dtype  \n",
      "---  ------        --------------  -----  \n",
      " 0   business_id   10551 non-null  object \n",
      " 1   name          10551 non-null  object \n",
      " 2   address       10551 non-null  object \n",
      " 3   city          10551 non-null  object \n",
      " 4   state         10551 non-null  object \n",
      " 5   postal_code   10551 non-null  object \n",
      " 6   latitude      10551 non-null  float64\n",
      " 7   longitude     10551 non-null  float64\n",
      " 8   stars         10551 non-null  float64\n",
      " 9   review_count  10551 non-null  int64  \n",
      " 10  is_open       10551 non-null  int64  \n",
      " 11  attributes    10481 non-null  object \n",
      " 12  categories    10551 non-null  object \n",
      " 13  hours         8701 non-null   object \n",
      "dtypes: float64(3), int64(2), object(9)\n",
      "memory usage: 1.1+ MB\n"
     ]
    }
   ],
   "source": [
    "# Extract restaurants in Massachusetts\n",
    "restaurant_df = restaurant_df[restaurant_df['state']=='MA'].reset_index(drop=True)\n",
    "\n",
    "# Delete the business data frame from memory\n",
    "del business_df\n",
    "\n",
    "# View the info summary\n",
    "restaurant_df.info()"
   ]
  },
  {
   "cell_type": "markdown",
   "id": "0cd01071",
   "metadata": {},
   "source": [
    "## Load the Reviews Dataset\n",
    "\n",
    "We now read in the reviews dataset JSON file into a Pandas data frame. Since the JSON file is large (6.94 GB), we will read the file contents in chunks to reduce the data loading time, as proposed by Eve Law in this blog post:\n",
    "https://towardsdatascience.com/load-yelp-reviews-or-other-huge-json-files-with-ease-ad804c2f1537\n",
    "\n",
    "We will only add the records for businesses that are present in the restaurant data frame."
   ]
  },
  {
   "cell_type": "code",
   "execution_count": 7,
   "id": "5ee5c7c5",
   "metadata": {},
   "outputs": [
    {
     "name": "stdout",
     "output_type": "stream",
     "text": [
      "CPU times: user 2min 17s, sys: 5.73 s, total: 2min 23s\n",
      "Wall time: 2min 23s\n"
     ]
    }
   ],
   "source": [
    "%%time\n",
    "data_lines = []\n",
    "\n",
    "with open(\"../data/review.json\", \"r\") as f:\n",
    "    reader = pd.read_json(f, orient=\"records\", lines=True, \n",
    "                          chunksize=1000)\n",
    "        \n",
    "    for chunk in reader:\n",
    "        # Only include records for businesses in restaurant data frame\n",
    "        chunk = chunk[chunk['business_id'].isin(restaurant_df['business_id'])]\n",
    "        data_lines.append(chunk)\n",
    "    \n",
    "review_df = pd.concat(data_lines, ignore_index=True)"
   ]
  },
  {
   "cell_type": "code",
   "execution_count": 8,
   "id": "545599c4",
   "metadata": {},
   "outputs": [
    {
     "data": {
      "text/html": [
       "<div>\n",
       "<style scoped>\n",
       "    .dataframe tbody tr th:only-of-type {\n",
       "        vertical-align: middle;\n",
       "    }\n",
       "\n",
       "    .dataframe tbody tr th {\n",
       "        vertical-align: top;\n",
       "    }\n",
       "\n",
       "    .dataframe thead th {\n",
       "        text-align: right;\n",
       "    }\n",
       "</style>\n",
       "<table border=\"1\" class=\"dataframe\">\n",
       "  <thead>\n",
       "    <tr style=\"text-align: right;\">\n",
       "      <th></th>\n",
       "      <th>review_id</th>\n",
       "      <th>user_id</th>\n",
       "      <th>business_id</th>\n",
       "      <th>stars</th>\n",
       "      <th>useful</th>\n",
       "      <th>funny</th>\n",
       "      <th>cool</th>\n",
       "      <th>text</th>\n",
       "      <th>date</th>\n",
       "    </tr>\n",
       "  </thead>\n",
       "  <tbody>\n",
       "    <tr>\n",
       "      <th>0</th>\n",
       "      <td>lWC-xP3rd6obsecCYsGZRg</td>\n",
       "      <td>ak0TdVmGKo4pwqdJSTLwWw</td>\n",
       "      <td>buF9druCkbuXLX526sGELQ</td>\n",
       "      <td>4</td>\n",
       "      <td>3</td>\n",
       "      <td>1</td>\n",
       "      <td>1</td>\n",
       "      <td>Apparently Prides Osteria had a rough summer a...</td>\n",
       "      <td>2014-10-11 03:34:02</td>\n",
       "    </tr>\n",
       "    <tr>\n",
       "      <th>1</th>\n",
       "      <td>J4a2TuhDasjn2k3wWtHZnQ</td>\n",
       "      <td>RNm_RWkcd02Li2mKPRe7Eg</td>\n",
       "      <td>xGXzsc-hzam-VArK6eTvtw</td>\n",
       "      <td>1</td>\n",
       "      <td>2</td>\n",
       "      <td>0</td>\n",
       "      <td>0</td>\n",
       "      <td>This place used to be a cool, chill place. Now...</td>\n",
       "      <td>2018-01-21 04:41:03</td>\n",
       "    </tr>\n",
       "    <tr>\n",
       "      <th>2</th>\n",
       "      <td>28gGfkLs3igtjVy61lh77Q</td>\n",
       "      <td>Q8c91v7luItVB0cMFF_mRA</td>\n",
       "      <td>EXOsmAB1s71WePlQk0WZrA</td>\n",
       "      <td>2</td>\n",
       "      <td>0</td>\n",
       "      <td>0</td>\n",
       "      <td>0</td>\n",
       "      <td>The setting is perfectly adequate, and the foo...</td>\n",
       "      <td>2006-04-16 02:58:44</td>\n",
       "    </tr>\n",
       "    <tr>\n",
       "      <th>3</th>\n",
       "      <td>KKVFopqzcVfcubIBxmIjVA</td>\n",
       "      <td>99RsBrARhhx60UnAC4yDoA</td>\n",
       "      <td>EEHhKSxUvJkoPSzeGKkpVg</td>\n",
       "      <td>5</td>\n",
       "      <td>0</td>\n",
       "      <td>0</td>\n",
       "      <td>0</td>\n",
       "      <td>I work in the Pru and this is the most afforda...</td>\n",
       "      <td>2014-05-07 18:10:21</td>\n",
       "    </tr>\n",
       "    <tr>\n",
       "      <th>4</th>\n",
       "      <td>btNWW2kdJYfwpTDyzJO3Iw</td>\n",
       "      <td>DECuRZwkUw8ELQZfNGef2Q</td>\n",
       "      <td>zmZ3HkVCeZPBefJJxzdJ7A</td>\n",
       "      <td>4</td>\n",
       "      <td>0</td>\n",
       "      <td>0</td>\n",
       "      <td>0</td>\n",
       "      <td>Nothing special but good enough.  I like anoth...</td>\n",
       "      <td>2012-12-04 04:29:47</td>\n",
       "    </tr>\n",
       "  </tbody>\n",
       "</table>\n",
       "</div>"
      ],
      "text/plain": [
       "                review_id                 user_id             business_id  \\\n",
       "0  lWC-xP3rd6obsecCYsGZRg  ak0TdVmGKo4pwqdJSTLwWw  buF9druCkbuXLX526sGELQ   \n",
       "1  J4a2TuhDasjn2k3wWtHZnQ  RNm_RWkcd02Li2mKPRe7Eg  xGXzsc-hzam-VArK6eTvtw   \n",
       "2  28gGfkLs3igtjVy61lh77Q  Q8c91v7luItVB0cMFF_mRA  EXOsmAB1s71WePlQk0WZrA   \n",
       "3  KKVFopqzcVfcubIBxmIjVA  99RsBrARhhx60UnAC4yDoA  EEHhKSxUvJkoPSzeGKkpVg   \n",
       "4  btNWW2kdJYfwpTDyzJO3Iw  DECuRZwkUw8ELQZfNGef2Q  zmZ3HkVCeZPBefJJxzdJ7A   \n",
       "\n",
       "   stars  useful  funny  cool  \\\n",
       "0      4       3      1     1   \n",
       "1      1       2      0     0   \n",
       "2      2       0      0     0   \n",
       "3      5       0      0     0   \n",
       "4      4       0      0     0   \n",
       "\n",
       "                                                text                date  \n",
       "0  Apparently Prides Osteria had a rough summer a... 2014-10-11 03:34:02  \n",
       "1  This place used to be a cool, chill place. Now... 2018-01-21 04:41:03  \n",
       "2  The setting is perfectly adequate, and the foo... 2006-04-16 02:58:44  \n",
       "3  I work in the Pru and this is the most afforda... 2014-05-07 18:10:21  \n",
       "4  Nothing special but good enough.  I like anoth... 2012-12-04 04:29:47  "
      ]
     },
     "execution_count": 8,
     "metadata": {},
     "output_type": "execute_result"
    }
   ],
   "source": [
    "review_df.head()"
   ]
  },
  {
   "cell_type": "code",
   "execution_count": 9,
   "id": "bd0ff83c",
   "metadata": {},
   "outputs": [
    {
     "name": "stdout",
     "output_type": "stream",
     "text": [
      "<class 'pandas.core.frame.DataFrame'>\n",
      "RangeIndex: 1365575 entries, 0 to 1365574\n",
      "Data columns (total 9 columns):\n",
      " #   Column       Non-Null Count    Dtype         \n",
      "---  ------       --------------    -----         \n",
      " 0   review_id    1365575 non-null  object        \n",
      " 1   user_id      1365575 non-null  object        \n",
      " 2   business_id  1365575 non-null  object        \n",
      " 3   stars        1365575 non-null  int64         \n",
      " 4   useful       1365575 non-null  int64         \n",
      " 5   funny        1365575 non-null  int64         \n",
      " 6   cool         1365575 non-null  int64         \n",
      " 7   text         1365575 non-null  object        \n",
      " 8   date         1365575 non-null  datetime64[ns]\n",
      "dtypes: datetime64[ns](1), int64(4), object(4)\n",
      "memory usage: 93.8+ MB\n"
     ]
    }
   ],
   "source": [
    "review_df.info()"
   ]
  },
  {
   "cell_type": "markdown",
   "id": "07f17acd",
   "metadata": {},
   "source": [
    "## Load the User Dataset\n",
    "\n",
    "We now read in the user dataset. This file is also large at 3.68 GB, so we will once again read in its contents in chunks."
   ]
  },
  {
   "cell_type": "code",
   "execution_count": 10,
   "id": "da27609a",
   "metadata": {},
   "outputs": [
    {
     "name": "stdout",
     "output_type": "stream",
     "text": [
      "CPU times: user 50.5 s, sys: 3.7 s, total: 54.2 s\n",
      "Wall time: 54.3 s\n"
     ]
    }
   ],
   "source": [
    "%%time\n",
    "data_lines = []\n",
    "\n",
    "with open(\"../data/user.json\", \"r\") as f:\n",
    "    reader = pd.read_json(f, orient=\"records\", lines=True, \n",
    "                         chunksize=1000)\n",
    "        \n",
    "    for chunk in reader:\n",
    "        data_lines.append(chunk)\n",
    "    \n",
    "user_df = pd.concat(data_lines, ignore_index=True)"
   ]
  },
  {
   "cell_type": "code",
   "execution_count": 11,
   "id": "3d5927da",
   "metadata": {},
   "outputs": [
    {
     "data": {
      "text/html": [
       "<div>\n",
       "<style scoped>\n",
       "    .dataframe tbody tr th:only-of-type {\n",
       "        vertical-align: middle;\n",
       "    }\n",
       "\n",
       "    .dataframe tbody tr th {\n",
       "        vertical-align: top;\n",
       "    }\n",
       "\n",
       "    .dataframe thead th {\n",
       "        text-align: right;\n",
       "    }\n",
       "</style>\n",
       "<table border=\"1\" class=\"dataframe\">\n",
       "  <thead>\n",
       "    <tr style=\"text-align: right;\">\n",
       "      <th></th>\n",
       "      <th>user_id</th>\n",
       "      <th>name</th>\n",
       "      <th>review_count</th>\n",
       "      <th>yelping_since</th>\n",
       "      <th>useful</th>\n",
       "      <th>funny</th>\n",
       "      <th>cool</th>\n",
       "      <th>elite</th>\n",
       "      <th>friends</th>\n",
       "      <th>fans</th>\n",
       "      <th>...</th>\n",
       "      <th>compliment_more</th>\n",
       "      <th>compliment_profile</th>\n",
       "      <th>compliment_cute</th>\n",
       "      <th>compliment_list</th>\n",
       "      <th>compliment_note</th>\n",
       "      <th>compliment_plain</th>\n",
       "      <th>compliment_cool</th>\n",
       "      <th>compliment_funny</th>\n",
       "      <th>compliment_writer</th>\n",
       "      <th>compliment_photos</th>\n",
       "    </tr>\n",
       "  </thead>\n",
       "  <tbody>\n",
       "    <tr>\n",
       "      <th>0</th>\n",
       "      <td>q_QQ5kBBwlCcbL1s4NVK3g</td>\n",
       "      <td>Jane</td>\n",
       "      <td>1220</td>\n",
       "      <td>2005-03-14 20:26:35</td>\n",
       "      <td>15038</td>\n",
       "      <td>10030</td>\n",
       "      <td>11291</td>\n",
       "      <td>2006,2007,2008,2009,2010,2011,2012,2013,2014</td>\n",
       "      <td>xBDpTUbai0DXrvxCe3X16Q, 7GPNBO496aecrjJfW6UWtg...</td>\n",
       "      <td>1357</td>\n",
       "      <td>...</td>\n",
       "      <td>163</td>\n",
       "      <td>190</td>\n",
       "      <td>361</td>\n",
       "      <td>147</td>\n",
       "      <td>1212</td>\n",
       "      <td>5691</td>\n",
       "      <td>2541</td>\n",
       "      <td>2541</td>\n",
       "      <td>815</td>\n",
       "      <td>323</td>\n",
       "    </tr>\n",
       "    <tr>\n",
       "      <th>1</th>\n",
       "      <td>dIIKEfOgo0KqUfGQvGikPg</td>\n",
       "      <td>Gabi</td>\n",
       "      <td>2136</td>\n",
       "      <td>2007-08-10 19:01:51</td>\n",
       "      <td>21272</td>\n",
       "      <td>10289</td>\n",
       "      <td>18046</td>\n",
       "      <td>2007,2008,2009,2010,2011,2012,2013,2014,2015,2...</td>\n",
       "      <td>XPzYf9_mwG2eXYP2BAGSTA, 2LooM5dcIk2o01nftYdPIg...</td>\n",
       "      <td>1025</td>\n",
       "      <td>...</td>\n",
       "      <td>87</td>\n",
       "      <td>94</td>\n",
       "      <td>232</td>\n",
       "      <td>96</td>\n",
       "      <td>1187</td>\n",
       "      <td>3293</td>\n",
       "      <td>2205</td>\n",
       "      <td>2205</td>\n",
       "      <td>472</td>\n",
       "      <td>294</td>\n",
       "    </tr>\n",
       "    <tr>\n",
       "      <th>2</th>\n",
       "      <td>D6ErcUnFALnCQN4b1W_TlA</td>\n",
       "      <td>Jason</td>\n",
       "      <td>119</td>\n",
       "      <td>2007-02-07 15:47:53</td>\n",
       "      <td>188</td>\n",
       "      <td>128</td>\n",
       "      <td>130</td>\n",
       "      <td>2010,2011</td>\n",
       "      <td>GfB6sC4NJQvSI2ewbQrDNA, jhZtzZNNZJOU2YSZ6jPlXQ...</td>\n",
       "      <td>16</td>\n",
       "      <td>...</td>\n",
       "      <td>1</td>\n",
       "      <td>3</td>\n",
       "      <td>0</td>\n",
       "      <td>0</td>\n",
       "      <td>5</td>\n",
       "      <td>20</td>\n",
       "      <td>31</td>\n",
       "      <td>31</td>\n",
       "      <td>3</td>\n",
       "      <td>1</td>\n",
       "    </tr>\n",
       "    <tr>\n",
       "      <th>3</th>\n",
       "      <td>JnPIjvC0cmooNDfsa9BmXg</td>\n",
       "      <td>Kat</td>\n",
       "      <td>987</td>\n",
       "      <td>2009-02-09 16:14:29</td>\n",
       "      <td>7234</td>\n",
       "      <td>4722</td>\n",
       "      <td>4035</td>\n",
       "      <td>2009,2010,2011,2012,2013,2014</td>\n",
       "      <td>HQZPQhKMwRAyS6BCselVWQ, kP2U1s_sjQfHO9grxiyDTA...</td>\n",
       "      <td>420</td>\n",
       "      <td>...</td>\n",
       "      <td>129</td>\n",
       "      <td>93</td>\n",
       "      <td>219</td>\n",
       "      <td>90</td>\n",
       "      <td>1120</td>\n",
       "      <td>4510</td>\n",
       "      <td>1566</td>\n",
       "      <td>1566</td>\n",
       "      <td>391</td>\n",
       "      <td>326</td>\n",
       "    </tr>\n",
       "    <tr>\n",
       "      <th>4</th>\n",
       "      <td>37Hc8hr3cw0iHLoPzLK6Ow</td>\n",
       "      <td>Christine</td>\n",
       "      <td>495</td>\n",
       "      <td>2008-03-03 04:57:05</td>\n",
       "      <td>1577</td>\n",
       "      <td>727</td>\n",
       "      <td>1124</td>\n",
       "      <td>2009,2010,2011</td>\n",
       "      <td>-Q88pZUcrfN0BLBDp-bkAQ, etPn4Pv1Gc4cRZjRgB_BOw...</td>\n",
       "      <td>47</td>\n",
       "      <td>...</td>\n",
       "      <td>19</td>\n",
       "      <td>32</td>\n",
       "      <td>16</td>\n",
       "      <td>15</td>\n",
       "      <td>77</td>\n",
       "      <td>131</td>\n",
       "      <td>310</td>\n",
       "      <td>310</td>\n",
       "      <td>98</td>\n",
       "      <td>44</td>\n",
       "    </tr>\n",
       "  </tbody>\n",
       "</table>\n",
       "<p>5 rows × 22 columns</p>\n",
       "</div>"
      ],
      "text/plain": [
       "                  user_id       name  review_count        yelping_since  \\\n",
       "0  q_QQ5kBBwlCcbL1s4NVK3g       Jane          1220  2005-03-14 20:26:35   \n",
       "1  dIIKEfOgo0KqUfGQvGikPg       Gabi          2136  2007-08-10 19:01:51   \n",
       "2  D6ErcUnFALnCQN4b1W_TlA      Jason           119  2007-02-07 15:47:53   \n",
       "3  JnPIjvC0cmooNDfsa9BmXg        Kat           987  2009-02-09 16:14:29   \n",
       "4  37Hc8hr3cw0iHLoPzLK6Ow  Christine           495  2008-03-03 04:57:05   \n",
       "\n",
       "   useful  funny   cool                                              elite  \\\n",
       "0   15038  10030  11291       2006,2007,2008,2009,2010,2011,2012,2013,2014   \n",
       "1   21272  10289  18046  2007,2008,2009,2010,2011,2012,2013,2014,2015,2...   \n",
       "2     188    128    130                                          2010,2011   \n",
       "3    7234   4722   4035                      2009,2010,2011,2012,2013,2014   \n",
       "4    1577    727   1124                                     2009,2010,2011   \n",
       "\n",
       "                                             friends  fans  ...  \\\n",
       "0  xBDpTUbai0DXrvxCe3X16Q, 7GPNBO496aecrjJfW6UWtg...  1357  ...   \n",
       "1  XPzYf9_mwG2eXYP2BAGSTA, 2LooM5dcIk2o01nftYdPIg...  1025  ...   \n",
       "2  GfB6sC4NJQvSI2ewbQrDNA, jhZtzZNNZJOU2YSZ6jPlXQ...    16  ...   \n",
       "3  HQZPQhKMwRAyS6BCselVWQ, kP2U1s_sjQfHO9grxiyDTA...   420  ...   \n",
       "4  -Q88pZUcrfN0BLBDp-bkAQ, etPn4Pv1Gc4cRZjRgB_BOw...    47  ...   \n",
       "\n",
       "   compliment_more  compliment_profile  compliment_cute  compliment_list  \\\n",
       "0              163                 190              361              147   \n",
       "1               87                  94              232               96   \n",
       "2                1                   3                0                0   \n",
       "3              129                  93              219               90   \n",
       "4               19                  32               16               15   \n",
       "\n",
       "   compliment_note  compliment_plain  compliment_cool  compliment_funny  \\\n",
       "0             1212              5691             2541              2541   \n",
       "1             1187              3293             2205              2205   \n",
       "2                5                20               31                31   \n",
       "3             1120              4510             1566              1566   \n",
       "4               77               131              310               310   \n",
       "\n",
       "   compliment_writer  compliment_photos  \n",
       "0                815                323  \n",
       "1                472                294  \n",
       "2                  3                  1  \n",
       "3                391                326  \n",
       "4                 98                 44  \n",
       "\n",
       "[5 rows x 22 columns]"
      ]
     },
     "execution_count": 11,
     "metadata": {},
     "output_type": "execute_result"
    }
   ],
   "source": [
    "user_df.head()"
   ]
  },
  {
   "cell_type": "code",
   "execution_count": 27,
   "id": "a42fcf9f",
   "metadata": {},
   "outputs": [
    {
     "name": "stdout",
     "output_type": "stream",
     "text": [
      "<class 'pandas.core.frame.DataFrame'>\n",
      "RangeIndex: 2189457 entries, 0 to 2189456\n",
      "Data columns (total 22 columns):\n",
      " #   Column              Dtype  \n",
      "---  ------              -----  \n",
      " 0   user_id             object \n",
      " 1   name                object \n",
      " 2   review_count        int64  \n",
      " 3   yelping_since       object \n",
      " 4   useful              int64  \n",
      " 5   funny               int64  \n",
      " 6   cool                int64  \n",
      " 7   elite               object \n",
      " 8   friends             object \n",
      " 9   fans                int64  \n",
      " 10  average_stars       float64\n",
      " 11  compliment_hot      int64  \n",
      " 12  compliment_more     int64  \n",
      " 13  compliment_profile  int64  \n",
      " 14  compliment_cute     int64  \n",
      " 15  compliment_list     int64  \n",
      " 16  compliment_note     int64  \n",
      " 17  compliment_plain    int64  \n",
      " 18  compliment_cool     int64  \n",
      " 19  compliment_funny    int64  \n",
      " 20  compliment_writer   int64  \n",
      " 21  compliment_photos   int64  \n",
      "dtypes: float64(1), int64(16), object(5)\n",
      "memory usage: 367.5+ MB\n"
     ]
    }
   ],
   "source": [
    "user_df.info()"
   ]
  },
  {
   "cell_type": "markdown",
   "id": "8f204934",
   "metadata": {},
   "source": [
    "We now filter for only the users who are present in our review data frame, which mean that they are users who have left reviews for restaurants in Massachusetts."
   ]
  },
  {
   "cell_type": "code",
   "execution_count": 28,
   "id": "808bea5f",
   "metadata": {},
   "outputs": [
    {
     "data": {
      "text/html": [
       "<div>\n",
       "<style scoped>\n",
       "    .dataframe tbody tr th:only-of-type {\n",
       "        vertical-align: middle;\n",
       "    }\n",
       "\n",
       "    .dataframe tbody tr th {\n",
       "        vertical-align: top;\n",
       "    }\n",
       "\n",
       "    .dataframe thead th {\n",
       "        text-align: right;\n",
       "    }\n",
       "</style>\n",
       "<table border=\"1\" class=\"dataframe\">\n",
       "  <thead>\n",
       "    <tr style=\"text-align: right;\">\n",
       "      <th></th>\n",
       "      <th>user_id</th>\n",
       "      <th>name</th>\n",
       "      <th>review_count</th>\n",
       "      <th>yelping_since</th>\n",
       "      <th>useful</th>\n",
       "      <th>funny</th>\n",
       "      <th>cool</th>\n",
       "      <th>elite</th>\n",
       "      <th>friends</th>\n",
       "      <th>fans</th>\n",
       "      <th>...</th>\n",
       "      <th>compliment_more</th>\n",
       "      <th>compliment_profile</th>\n",
       "      <th>compliment_cute</th>\n",
       "      <th>compliment_list</th>\n",
       "      <th>compliment_note</th>\n",
       "      <th>compliment_plain</th>\n",
       "      <th>compliment_cool</th>\n",
       "      <th>compliment_funny</th>\n",
       "      <th>compliment_writer</th>\n",
       "      <th>compliment_photos</th>\n",
       "    </tr>\n",
       "  </thead>\n",
       "  <tbody>\n",
       "    <tr>\n",
       "      <th>0</th>\n",
       "      <td>q_QQ5kBBwlCcbL1s4NVK3g</td>\n",
       "      <td>Jane</td>\n",
       "      <td>1220</td>\n",
       "      <td>2005-03-14 20:26:35</td>\n",
       "      <td>15038</td>\n",
       "      <td>10030</td>\n",
       "      <td>11291</td>\n",
       "      <td>2006,2007,2008,2009,2010,2011,2012,2013,2014</td>\n",
       "      <td>xBDpTUbai0DXrvxCe3X16Q, 7GPNBO496aecrjJfW6UWtg...</td>\n",
       "      <td>1357</td>\n",
       "      <td>...</td>\n",
       "      <td>163</td>\n",
       "      <td>190</td>\n",
       "      <td>361</td>\n",
       "      <td>147</td>\n",
       "      <td>1212</td>\n",
       "      <td>5691</td>\n",
       "      <td>2541</td>\n",
       "      <td>2541</td>\n",
       "      <td>815</td>\n",
       "      <td>323</td>\n",
       "    </tr>\n",
       "    <tr>\n",
       "      <th>1</th>\n",
       "      <td>JnPIjvC0cmooNDfsa9BmXg</td>\n",
       "      <td>Kat</td>\n",
       "      <td>987</td>\n",
       "      <td>2009-02-09 16:14:29</td>\n",
       "      <td>7234</td>\n",
       "      <td>4722</td>\n",
       "      <td>4035</td>\n",
       "      <td>2009,2010,2011,2012,2013,2014</td>\n",
       "      <td>HQZPQhKMwRAyS6BCselVWQ, kP2U1s_sjQfHO9grxiyDTA...</td>\n",
       "      <td>420</td>\n",
       "      <td>...</td>\n",
       "      <td>129</td>\n",
       "      <td>93</td>\n",
       "      <td>219</td>\n",
       "      <td>90</td>\n",
       "      <td>1120</td>\n",
       "      <td>4510</td>\n",
       "      <td>1566</td>\n",
       "      <td>1566</td>\n",
       "      <td>391</td>\n",
       "      <td>326</td>\n",
       "    </tr>\n",
       "    <tr>\n",
       "      <th>2</th>\n",
       "      <td>37Hc8hr3cw0iHLoPzLK6Ow</td>\n",
       "      <td>Christine</td>\n",
       "      <td>495</td>\n",
       "      <td>2008-03-03 04:57:05</td>\n",
       "      <td>1577</td>\n",
       "      <td>727</td>\n",
       "      <td>1124</td>\n",
       "      <td>2009,2010,2011</td>\n",
       "      <td>-Q88pZUcrfN0BLBDp-bkAQ, etPn4Pv1Gc4cRZjRgB_BOw...</td>\n",
       "      <td>47</td>\n",
       "      <td>...</td>\n",
       "      <td>19</td>\n",
       "      <td>32</td>\n",
       "      <td>16</td>\n",
       "      <td>15</td>\n",
       "      <td>77</td>\n",
       "      <td>131</td>\n",
       "      <td>310</td>\n",
       "      <td>310</td>\n",
       "      <td>98</td>\n",
       "      <td>44</td>\n",
       "    </tr>\n",
       "    <tr>\n",
       "      <th>3</th>\n",
       "      <td>1jXmzuIFKxTnEnR0pxO0Hg</td>\n",
       "      <td>Clara</td>\n",
       "      <td>299</td>\n",
       "      <td>2010-10-01 17:29:36</td>\n",
       "      <td>381</td>\n",
       "      <td>106</td>\n",
       "      <td>121</td>\n",
       "      <td>2010,2011,2012,2013,2014,2015</td>\n",
       "      <td>VGfzq5na6LZUwxwWO5eVLA, 35uHDsVOEsWbLdEg8Ttobg...</td>\n",
       "      <td>23</td>\n",
       "      <td>...</td>\n",
       "      <td>8</td>\n",
       "      <td>2</td>\n",
       "      <td>6</td>\n",
       "      <td>0</td>\n",
       "      <td>17</td>\n",
       "      <td>47</td>\n",
       "      <td>30</td>\n",
       "      <td>30</td>\n",
       "      <td>4</td>\n",
       "      <td>1</td>\n",
       "    </tr>\n",
       "    <tr>\n",
       "      <th>4</th>\n",
       "      <td>cxS6dbjyPgPS1S890u_khA</td>\n",
       "      <td>Joe</td>\n",
       "      <td>65</td>\n",
       "      <td>2005-07-22 11:07:20</td>\n",
       "      <td>116</td>\n",
       "      <td>66</td>\n",
       "      <td>77</td>\n",
       "      <td></td>\n",
       "      <td>ISN91YL7nkU_X_bovO2Lyg, sxsXw8QrbFTUzVVGGLNdOg...</td>\n",
       "      <td>2</td>\n",
       "      <td>...</td>\n",
       "      <td>2</td>\n",
       "      <td>0</td>\n",
       "      <td>3</td>\n",
       "      <td>1</td>\n",
       "      <td>1</td>\n",
       "      <td>2</td>\n",
       "      <td>2</td>\n",
       "      <td>2</td>\n",
       "      <td>1</td>\n",
       "      <td>0</td>\n",
       "    </tr>\n",
       "  </tbody>\n",
       "</table>\n",
       "<p>5 rows × 22 columns</p>\n",
       "</div>"
      ],
      "text/plain": [
       "                  user_id       name  review_count        yelping_since  \\\n",
       "0  q_QQ5kBBwlCcbL1s4NVK3g       Jane          1220  2005-03-14 20:26:35   \n",
       "1  JnPIjvC0cmooNDfsa9BmXg        Kat           987  2009-02-09 16:14:29   \n",
       "2  37Hc8hr3cw0iHLoPzLK6Ow  Christine           495  2008-03-03 04:57:05   \n",
       "3  1jXmzuIFKxTnEnR0pxO0Hg      Clara           299  2010-10-01 17:29:36   \n",
       "4  cxS6dbjyPgPS1S890u_khA        Joe            65  2005-07-22 11:07:20   \n",
       "\n",
       "   useful  funny   cool                                         elite  \\\n",
       "0   15038  10030  11291  2006,2007,2008,2009,2010,2011,2012,2013,2014   \n",
       "1    7234   4722   4035                 2009,2010,2011,2012,2013,2014   \n",
       "2    1577    727   1124                                2009,2010,2011   \n",
       "3     381    106    121                 2010,2011,2012,2013,2014,2015   \n",
       "4     116     66     77                                                 \n",
       "\n",
       "                                             friends  fans  ...  \\\n",
       "0  xBDpTUbai0DXrvxCe3X16Q, 7GPNBO496aecrjJfW6UWtg...  1357  ...   \n",
       "1  HQZPQhKMwRAyS6BCselVWQ, kP2U1s_sjQfHO9grxiyDTA...   420  ...   \n",
       "2  -Q88pZUcrfN0BLBDp-bkAQ, etPn4Pv1Gc4cRZjRgB_BOw...    47  ...   \n",
       "3  VGfzq5na6LZUwxwWO5eVLA, 35uHDsVOEsWbLdEg8Ttobg...    23  ...   \n",
       "4  ISN91YL7nkU_X_bovO2Lyg, sxsXw8QrbFTUzVVGGLNdOg...     2  ...   \n",
       "\n",
       "   compliment_more  compliment_profile  compliment_cute  compliment_list  \\\n",
       "0              163                 190              361              147   \n",
       "1              129                  93              219               90   \n",
       "2               19                  32               16               15   \n",
       "3                8                   2                6                0   \n",
       "4                2                   0                3                1   \n",
       "\n",
       "   compliment_note  compliment_plain  compliment_cool  compliment_funny  \\\n",
       "0             1212              5691             2541              2541   \n",
       "1             1120              4510             1566              1566   \n",
       "2               77               131              310               310   \n",
       "3               17                47               30                30   \n",
       "4                1                 2                2                 2   \n",
       "\n",
       "   compliment_writer  compliment_photos  \n",
       "0                815                323  \n",
       "1                391                326  \n",
       "2                 98                 44  \n",
       "3                  4                  1  \n",
       "4                  1                  0  \n",
       "\n",
       "[5 rows x 22 columns]"
      ]
     },
     "execution_count": 28,
     "metadata": {},
     "output_type": "execute_result"
    }
   ],
   "source": [
    "user_df = user_df[user_df['user_id'].isin(review_df['user_id'])].reset_index(drop=True)\n",
    "user_df.head()"
   ]
  },
  {
   "cell_type": "code",
   "execution_count": 29,
   "id": "8d9bf15f",
   "metadata": {},
   "outputs": [
    {
     "data": {
      "text/plain": [
       "(377202, 22)"
      ]
     },
     "execution_count": 29,
     "metadata": {},
     "output_type": "execute_result"
    }
   ],
   "source": [
    "user_df.shape"
   ]
  },
  {
   "cell_type": "markdown",
   "id": "183891bd",
   "metadata": {},
   "source": [
    "After filtering for users who only reviewed restaurants in Massachusetts, the resulting data frame has 377,202 users with 22 columns."
   ]
  },
  {
   "cell_type": "markdown",
   "id": "8d1f2444",
   "metadata": {},
   "source": [
    "## Load the Check-In dataset\n",
    "\n",
    "We now read in the check-in dataset."
   ]
  },
  {
   "cell_type": "code",
   "execution_count": 30,
   "id": "1ec79b10",
   "metadata": {},
   "outputs": [
    {
     "name": "stdout",
     "output_type": "stream",
     "text": [
      "CPU times: user 1.91 s, sys: 888 ms, total: 2.8 s\n",
      "Wall time: 2.8 s\n"
     ]
    },
    {
     "data": {
      "text/html": [
       "<div>\n",
       "<style scoped>\n",
       "    .dataframe tbody tr th:only-of-type {\n",
       "        vertical-align: middle;\n",
       "    }\n",
       "\n",
       "    .dataframe tbody tr th {\n",
       "        vertical-align: top;\n",
       "    }\n",
       "\n",
       "    .dataframe thead th {\n",
       "        text-align: right;\n",
       "    }\n",
       "</style>\n",
       "<table border=\"1\" class=\"dataframe\">\n",
       "  <thead>\n",
       "    <tr style=\"text-align: right;\">\n",
       "      <th></th>\n",
       "      <th>business_id</th>\n",
       "      <th>date</th>\n",
       "    </tr>\n",
       "  </thead>\n",
       "  <tbody>\n",
       "    <tr>\n",
       "      <th>0</th>\n",
       "      <td>--0r8K_AQ4FZfLsX3ZYRDA</td>\n",
       "      <td>2017-09-03 17:13:59</td>\n",
       "    </tr>\n",
       "    <tr>\n",
       "      <th>1</th>\n",
       "      <td>--0zrn43LEaB4jUWTQH_Bg</td>\n",
       "      <td>2010-10-08 22:21:20, 2010-11-01 21:29:14, 2010...</td>\n",
       "    </tr>\n",
       "    <tr>\n",
       "      <th>2</th>\n",
       "      <td>--164t1nclzzmca7eDiJMw</td>\n",
       "      <td>2010-02-26 02:06:53, 2010-02-27 08:00:09, 2010...</td>\n",
       "    </tr>\n",
       "    <tr>\n",
       "      <th>3</th>\n",
       "      <td>--2aF9NhXnNVpDV0KS3xBQ</td>\n",
       "      <td>2014-11-03 16:35:35, 2015-01-30 18:16:03, 2015...</td>\n",
       "    </tr>\n",
       "    <tr>\n",
       "      <th>4</th>\n",
       "      <td>--2mEJ63SC_8_08_jGgVIg</td>\n",
       "      <td>2010-12-15 17:10:46, 2013-12-28 00:27:54, 2015...</td>\n",
       "    </tr>\n",
       "  </tbody>\n",
       "</table>\n",
       "</div>"
      ],
      "text/plain": [
       "              business_id                                               date\n",
       "0  --0r8K_AQ4FZfLsX3ZYRDA                                2017-09-03 17:13:59\n",
       "1  --0zrn43LEaB4jUWTQH_Bg  2010-10-08 22:21:20, 2010-11-01 21:29:14, 2010...\n",
       "2  --164t1nclzzmca7eDiJMw  2010-02-26 02:06:53, 2010-02-27 08:00:09, 2010...\n",
       "3  --2aF9NhXnNVpDV0KS3xBQ  2014-11-03 16:35:35, 2015-01-30 18:16:03, 2015...\n",
       "4  --2mEJ63SC_8_08_jGgVIg  2010-12-15 17:10:46, 2013-12-28 00:27:54, 2015..."
      ]
     },
     "execution_count": 30,
     "metadata": {},
     "output_type": "execute_result"
    }
   ],
   "source": [
    "%%time\n",
    "checkin_df = pd.read_json('../data/checkin.json', lines=True)\n",
    "checkin_df.head()"
   ]
  },
  {
   "cell_type": "code",
   "execution_count": 31,
   "id": "bf2fb11f",
   "metadata": {},
   "outputs": [
    {
     "name": "stdout",
     "output_type": "stream",
     "text": [
      "<class 'pandas.core.frame.DataFrame'>\n",
      "RangeIndex: 138876 entries, 0 to 138875\n",
      "Data columns (total 2 columns):\n",
      " #   Column       Non-Null Count   Dtype \n",
      "---  ------       --------------   ----- \n",
      " 0   business_id  138876 non-null  object\n",
      " 1   date         138876 non-null  object\n",
      "dtypes: object(2)\n",
      "memory usage: 2.1+ MB\n"
     ]
    }
   ],
   "source": [
    "checkin_df.info()"
   ]
  },
  {
   "cell_type": "markdown",
   "id": "4c141de7",
   "metadata": {},
   "source": [
    "We will filter for the data frame to only include check-ins at businesses present in our restaurant data frame."
   ]
  },
  {
   "cell_type": "code",
   "execution_count": 32,
   "id": "74fafb6c",
   "metadata": {},
   "outputs": [
    {
     "data": {
      "text/html": [
       "<div>\n",
       "<style scoped>\n",
       "    .dataframe tbody tr th:only-of-type {\n",
       "        vertical-align: middle;\n",
       "    }\n",
       "\n",
       "    .dataframe tbody tr th {\n",
       "        vertical-align: top;\n",
       "    }\n",
       "\n",
       "    .dataframe thead th {\n",
       "        text-align: right;\n",
       "    }\n",
       "</style>\n",
       "<table border=\"1\" class=\"dataframe\">\n",
       "  <thead>\n",
       "    <tr style=\"text-align: right;\">\n",
       "      <th></th>\n",
       "      <th>business_id</th>\n",
       "      <th>date</th>\n",
       "    </tr>\n",
       "  </thead>\n",
       "  <tbody>\n",
       "    <tr>\n",
       "      <th>0</th>\n",
       "      <td>-00d-Qb0q2TcWn-8LBHDZg</td>\n",
       "      <td>2012-09-18 21:21:30, 2012-10-01 21:26:39, 2012...</td>\n",
       "    </tr>\n",
       "    <tr>\n",
       "      <th>1</th>\n",
       "      <td>-0Gbsd7ztvTyFpl7jF0DIw</td>\n",
       "      <td>2013-04-25 16:08:05, 2013-05-14 16:28:21, 2013...</td>\n",
       "    </tr>\n",
       "    <tr>\n",
       "      <th>2</th>\n",
       "      <td>-0iqnv7MjKrgh7Q7bYRlUQ</td>\n",
       "      <td>2011-02-09 19:13:57, 2011-02-12 18:32:40, 2011...</td>\n",
       "    </tr>\n",
       "    <tr>\n",
       "      <th>3</th>\n",
       "      <td>-0xezDAvKicBZpVx9GU3Wg</td>\n",
       "      <td>2011-09-05 18:40:44, 2011-10-30 22:54:12, 2012...</td>\n",
       "    </tr>\n",
       "    <tr>\n",
       "      <th>4</th>\n",
       "      <td>-1UjMOUU9BGNOGj9KaT64w</td>\n",
       "      <td>2010-02-02 19:34:27, 2010-05-18 11:07:54, 2010...</td>\n",
       "    </tr>\n",
       "  </tbody>\n",
       "</table>\n",
       "</div>"
      ],
      "text/plain": [
       "              business_id                                               date\n",
       "0  -00d-Qb0q2TcWn-8LBHDZg  2012-09-18 21:21:30, 2012-10-01 21:26:39, 2012...\n",
       "1  -0Gbsd7ztvTyFpl7jF0DIw  2013-04-25 16:08:05, 2013-05-14 16:28:21, 2013...\n",
       "2  -0iqnv7MjKrgh7Q7bYRlUQ  2011-02-09 19:13:57, 2011-02-12 18:32:40, 2011...\n",
       "3  -0xezDAvKicBZpVx9GU3Wg  2011-09-05 18:40:44, 2011-10-30 22:54:12, 2012...\n",
       "4  -1UjMOUU9BGNOGj9KaT64w  2010-02-02 19:34:27, 2010-05-18 11:07:54, 2010..."
      ]
     },
     "execution_count": 32,
     "metadata": {},
     "output_type": "execute_result"
    }
   ],
   "source": [
    "checkin_df = checkin_df[checkin_df['business_id'].isin(restaurant_df['business_id'])].reset_index(drop=True)\n",
    "checkin_df.head()"
   ]
  },
  {
   "cell_type": "code",
   "execution_count": 33,
   "id": "1445fee1",
   "metadata": {},
   "outputs": [
    {
     "data": {
      "text/plain": [
       "(10030, 2)"
      ]
     },
     "execution_count": 33,
     "metadata": {},
     "output_type": "execute_result"
    }
   ],
   "source": [
    "checkin_df.shape"
   ]
  },
  {
   "cell_type": "markdown",
   "id": "34d8bb4d",
   "metadata": {},
   "source": [
    "The resulting shape of this data frame is 10,030 rows with 2 columns."
   ]
  },
  {
   "cell_type": "markdown",
   "id": "de48a546",
   "metadata": {},
   "source": [
    "## Load the Tip Dataset\n",
    "\n",
    "We now load the tip dataset. We will use the chunks method again."
   ]
  },
  {
   "cell_type": "code",
   "execution_count": 34,
   "id": "fb65103d",
   "metadata": {},
   "outputs": [
    {
     "name": "stdout",
     "output_type": "stream",
     "text": [
      "CPU times: user 8.64 s, sys: 302 ms, total: 8.95 s\n",
      "Wall time: 8.95 s\n"
     ]
    }
   ],
   "source": [
    "%%time\n",
    "data_lines = []\n",
    "\n",
    "with open(\"../data/tip.json\", \"r\") as f:\n",
    "    reader = pd.read_json(f, orient=\"records\", lines=True, \n",
    "                          chunksize=1000)\n",
    "        \n",
    "    for chunk in reader:\n",
    "        data_lines.append(chunk)\n",
    "    \n",
    "tip_df = pd.concat(data_lines, ignore_index=True)"
   ]
  },
  {
   "cell_type": "code",
   "execution_count": 35,
   "id": "8509160a",
   "metadata": {},
   "outputs": [
    {
     "data": {
      "text/html": [
       "<div>\n",
       "<style scoped>\n",
       "    .dataframe tbody tr th:only-of-type {\n",
       "        vertical-align: middle;\n",
       "    }\n",
       "\n",
       "    .dataframe tbody tr th {\n",
       "        vertical-align: top;\n",
       "    }\n",
       "\n",
       "    .dataframe thead th {\n",
       "        text-align: right;\n",
       "    }\n",
       "</style>\n",
       "<table border=\"1\" class=\"dataframe\">\n",
       "  <thead>\n",
       "    <tr style=\"text-align: right;\">\n",
       "      <th></th>\n",
       "      <th>user_id</th>\n",
       "      <th>business_id</th>\n",
       "      <th>text</th>\n",
       "      <th>date</th>\n",
       "      <th>compliment_count</th>\n",
       "    </tr>\n",
       "  </thead>\n",
       "  <tbody>\n",
       "    <tr>\n",
       "      <th>0</th>\n",
       "      <td>WCjg0jdHXMlwbqS9tZUx8Q</td>\n",
       "      <td>ENwBByjpoa5Gg7tKgxqwLg</td>\n",
       "      <td>Carne asada chips...</td>\n",
       "      <td>2011-07-22 19:07:35</td>\n",
       "      <td>0</td>\n",
       "    </tr>\n",
       "    <tr>\n",
       "      <th>1</th>\n",
       "      <td>42-Z02y9bABShAGZhuSzrQ</td>\n",
       "      <td>jKO4Og6ucdX2-YCTKQVYjg</td>\n",
       "      <td>Best happy hour from 3pm to 6pm! $1 off martin...</td>\n",
       "      <td>2014-09-10 07:33:29</td>\n",
       "      <td>0</td>\n",
       "    </tr>\n",
       "    <tr>\n",
       "      <th>2</th>\n",
       "      <td>5u7E3LYp_3eB8dLuUBazXQ</td>\n",
       "      <td>9Bto7mky640ocgezVKSfVg</td>\n",
       "      <td>Nice people, skilled staff, clean location - b...</td>\n",
       "      <td>2013-12-13 23:23:41</td>\n",
       "      <td>0</td>\n",
       "    </tr>\n",
       "    <tr>\n",
       "      <th>3</th>\n",
       "      <td>wDWoMG5N9oI4DJ-p7z8EBg</td>\n",
       "      <td>XWFjKtRGZ9khRGtGg2ZvaA</td>\n",
       "      <td>1/2-price bowling &amp; the \"Very\" Old Fashion are...</td>\n",
       "      <td>2017-07-11 23:07:16</td>\n",
       "      <td>0</td>\n",
       "    </tr>\n",
       "    <tr>\n",
       "      <th>4</th>\n",
       "      <td>JmuFlorjjRshHTKzTwNtgg</td>\n",
       "      <td>mkrx0VhSMU3p3uhyJGCoWA</td>\n",
       "      <td>Solid gold's. Great sauna. Great staff, too. E...</td>\n",
       "      <td>2016-11-30 08:46:36</td>\n",
       "      <td>0</td>\n",
       "    </tr>\n",
       "  </tbody>\n",
       "</table>\n",
       "</div>"
      ],
      "text/plain": [
       "                  user_id             business_id  \\\n",
       "0  WCjg0jdHXMlwbqS9tZUx8Q  ENwBByjpoa5Gg7tKgxqwLg   \n",
       "1  42-Z02y9bABShAGZhuSzrQ  jKO4Og6ucdX2-YCTKQVYjg   \n",
       "2  5u7E3LYp_3eB8dLuUBazXQ  9Bto7mky640ocgezVKSfVg   \n",
       "3  wDWoMG5N9oI4DJ-p7z8EBg  XWFjKtRGZ9khRGtGg2ZvaA   \n",
       "4  JmuFlorjjRshHTKzTwNtgg  mkrx0VhSMU3p3uhyJGCoWA   \n",
       "\n",
       "                                                text                date  \\\n",
       "0                               Carne asada chips... 2011-07-22 19:07:35   \n",
       "1  Best happy hour from 3pm to 6pm! $1 off martin... 2014-09-10 07:33:29   \n",
       "2  Nice people, skilled staff, clean location - b... 2013-12-13 23:23:41   \n",
       "3  1/2-price bowling & the \"Very\" Old Fashion are... 2017-07-11 23:07:16   \n",
       "4  Solid gold's. Great sauna. Great staff, too. E... 2016-11-30 08:46:36   \n",
       "\n",
       "   compliment_count  \n",
       "0                 0  \n",
       "1                 0  \n",
       "2                 0  \n",
       "3                 0  \n",
       "4                 0  "
      ]
     },
     "execution_count": 35,
     "metadata": {},
     "output_type": "execute_result"
    }
   ],
   "source": [
    "tip_df.head()"
   ]
  },
  {
   "cell_type": "code",
   "execution_count": 36,
   "id": "fcee2890",
   "metadata": {},
   "outputs": [
    {
     "data": {
      "text/plain": [
       "(1162119, 5)"
      ]
     },
     "execution_count": 36,
     "metadata": {},
     "output_type": "execute_result"
    }
   ],
   "source": [
    "tip_df.shape"
   ]
  },
  {
   "cell_type": "markdown",
   "id": "1f138432",
   "metadata": {},
   "source": [
    "We now filter for tips related to only the business in our restaurant data frame."
   ]
  },
  {
   "cell_type": "code",
   "execution_count": 37,
   "id": "09686351",
   "metadata": {},
   "outputs": [
    {
     "data": {
      "text/html": [
       "<div>\n",
       "<style scoped>\n",
       "    .dataframe tbody tr th:only-of-type {\n",
       "        vertical-align: middle;\n",
       "    }\n",
       "\n",
       "    .dataframe tbody tr th {\n",
       "        vertical-align: top;\n",
       "    }\n",
       "\n",
       "    .dataframe thead th {\n",
       "        text-align: right;\n",
       "    }\n",
       "</style>\n",
       "<table border=\"1\" class=\"dataframe\">\n",
       "  <thead>\n",
       "    <tr style=\"text-align: right;\">\n",
       "      <th></th>\n",
       "      <th>user_id</th>\n",
       "      <th>business_id</th>\n",
       "      <th>text</th>\n",
       "      <th>date</th>\n",
       "      <th>compliment_count</th>\n",
       "    </tr>\n",
       "  </thead>\n",
       "  <tbody>\n",
       "    <tr>\n",
       "      <th>0</th>\n",
       "      <td>fTsVDajAyDJ-YzsSdfXSDw</td>\n",
       "      <td>oQyf1788YWsiDLupGva6sw</td>\n",
       "      <td>Cold cuts are the best</td>\n",
       "      <td>2015-06-09 14:35:57</td>\n",
       "      <td>0</td>\n",
       "    </tr>\n",
       "    <tr>\n",
       "      <th>1</th>\n",
       "      <td>TOkW-RuqftALEh8E99UazQ</td>\n",
       "      <td>tdIyREwlre3SVU41a4eBgA</td>\n",
       "      <td>Clam chowder is fantastic!</td>\n",
       "      <td>2014-03-16 18:01:55</td>\n",
       "      <td>0</td>\n",
       "    </tr>\n",
       "    <tr>\n",
       "      <th>2</th>\n",
       "      <td>9D7pKuioWzigvboVqIcftQ</td>\n",
       "      <td>0895JZogvun_IO5fQqY6Ag</td>\n",
       "      <td>here's the greatest tip of all.. stay away fro...</td>\n",
       "      <td>2012-10-30 19:33:09</td>\n",
       "      <td>0</td>\n",
       "    </tr>\n",
       "    <tr>\n",
       "      <th>3</th>\n",
       "      <td>Atxahsei73oG3sMLhnPRaw</td>\n",
       "      <td>Tbq4hgX7uUzgFUWDlmqnBw</td>\n",
       "      <td>Don't get their cocktails. There is absolutely...</td>\n",
       "      <td>2012-05-23 21:18:48</td>\n",
       "      <td>0</td>\n",
       "    </tr>\n",
       "    <tr>\n",
       "      <th>4</th>\n",
       "      <td>t903_es-gp3abvdrIQutQA</td>\n",
       "      <td>W-u23r-Qf2OJ6MgFXeFm9A</td>\n",
       "      <td>Free parking in the rear. Great margaritas!</td>\n",
       "      <td>2010-05-16 01:19:47</td>\n",
       "      <td>0</td>\n",
       "    </tr>\n",
       "  </tbody>\n",
       "</table>\n",
       "</div>"
      ],
      "text/plain": [
       "                  user_id             business_id  \\\n",
       "0  fTsVDajAyDJ-YzsSdfXSDw  oQyf1788YWsiDLupGva6sw   \n",
       "1  TOkW-RuqftALEh8E99UazQ  tdIyREwlre3SVU41a4eBgA   \n",
       "2  9D7pKuioWzigvboVqIcftQ  0895JZogvun_IO5fQqY6Ag   \n",
       "3  Atxahsei73oG3sMLhnPRaw  Tbq4hgX7uUzgFUWDlmqnBw   \n",
       "4  t903_es-gp3abvdrIQutQA  W-u23r-Qf2OJ6MgFXeFm9A   \n",
       "\n",
       "                                                text                date  \\\n",
       "0                             Cold cuts are the best 2015-06-09 14:35:57   \n",
       "1                         Clam chowder is fantastic! 2014-03-16 18:01:55   \n",
       "2  here's the greatest tip of all.. stay away fro... 2012-10-30 19:33:09   \n",
       "3  Don't get their cocktails. There is absolutely... 2012-05-23 21:18:48   \n",
       "4        Free parking in the rear. Great margaritas! 2010-05-16 01:19:47   \n",
       "\n",
       "   compliment_count  \n",
       "0                 0  \n",
       "1                 0  \n",
       "2                 0  \n",
       "3                 0  \n",
       "4                 0  "
      ]
     },
     "execution_count": 37,
     "metadata": {},
     "output_type": "execute_result"
    }
   ],
   "source": [
    "tip_df = tip_df[tip_df['business_id'].isin(restaurant_df['business_id'])].reset_index(drop=True)\n",
    "tip_df.head()"
   ]
  },
  {
   "cell_type": "code",
   "execution_count": 38,
   "id": "dadb94fd",
   "metadata": {},
   "outputs": [
    {
     "data": {
      "text/plain": [
       "(148977, 5)"
      ]
     },
     "execution_count": 38,
     "metadata": {},
     "output_type": "execute_result"
    }
   ],
   "source": [
    "tip_df.shape"
   ]
  },
  {
   "cell_type": "markdown",
   "id": "dcf9426f",
   "metadata": {},
   "source": [
    "The resulting shape of the tip data frame is 148,977 rows and 5 columns."
   ]
  },
  {
   "cell_type": "markdown",
   "id": "da1bf34f",
   "metadata": {},
   "source": [
    "## Photo Captions"
   ]
  },
  {
   "cell_type": "code",
   "execution_count": 9,
   "id": "475a840c",
   "metadata": {},
   "outputs": [
    {
     "name": "stdout",
     "output_type": "stream",
     "text": [
      "CPU times: user 699 ms, sys: 134 ms, total: 832 ms\n",
      "Wall time: 833 ms\n"
     ]
    },
    {
     "data": {
      "text/html": [
       "<div>\n",
       "<style scoped>\n",
       "    .dataframe tbody tr th:only-of-type {\n",
       "        vertical-align: middle;\n",
       "    }\n",
       "\n",
       "    .dataframe tbody tr th {\n",
       "        vertical-align: top;\n",
       "    }\n",
       "\n",
       "    .dataframe thead th {\n",
       "        text-align: right;\n",
       "    }\n",
       "</style>\n",
       "<table border=\"1\" class=\"dataframe\">\n",
       "  <thead>\n",
       "    <tr style=\"text-align: right;\">\n",
       "      <th></th>\n",
       "      <th>photo_id</th>\n",
       "      <th>business_id</th>\n",
       "      <th>caption</th>\n",
       "      <th>label</th>\n",
       "    </tr>\n",
       "  </thead>\n",
       "  <tbody>\n",
       "    <tr>\n",
       "      <th>0</th>\n",
       "      <td>Un_Og6jfhazVn7CxszkKEw</td>\n",
       "      <td>R1sIqGfKpF5f3HV3vyNsbg</td>\n",
       "      <td>Drinks! Front is beer obviously. The pink one ...</td>\n",
       "      <td>drink</td>\n",
       "    </tr>\n",
       "    <tr>\n",
       "      <th>1</th>\n",
       "      <td>BFE1AFOs27scnnfeBf99ZA</td>\n",
       "      <td>vdT7zlrLB2DL9pStDUs91A</td>\n",
       "      <td></td>\n",
       "      <td>drink</td>\n",
       "    </tr>\n",
       "    <tr>\n",
       "      <th>2</th>\n",
       "      <td>7t-C0r1JRdoVD9FS7M-N7Q</td>\n",
       "      <td>c5GzrObEdj7eNVOdAxrppg</td>\n",
       "      <td>Stella on draft</td>\n",
       "      <td>drink</td>\n",
       "    </tr>\n",
       "    <tr>\n",
       "      <th>3</th>\n",
       "      <td>rLnw0d-YYZvT9kR4y7h7_Q</td>\n",
       "      <td>aQa7N5ZbPhCoKYGGB-gqfg</td>\n",
       "      <td></td>\n",
       "      <td>drink</td>\n",
       "    </tr>\n",
       "    <tr>\n",
       "      <th>4</th>\n",
       "      <td>Cv5M8MDw8a5NEWvw2AQ4nw</td>\n",
       "      <td>B-s6qOFD75syhwWjp518aA</td>\n",
       "      <td></td>\n",
       "      <td>drink</td>\n",
       "    </tr>\n",
       "  </tbody>\n",
       "</table>\n",
       "</div>"
      ],
      "text/plain": [
       "                 photo_id             business_id  \\\n",
       "0  Un_Og6jfhazVn7CxszkKEw  R1sIqGfKpF5f3HV3vyNsbg   \n",
       "1  BFE1AFOs27scnnfeBf99ZA  vdT7zlrLB2DL9pStDUs91A   \n",
       "2  7t-C0r1JRdoVD9FS7M-N7Q  c5GzrObEdj7eNVOdAxrppg   \n",
       "3  rLnw0d-YYZvT9kR4y7h7_Q  aQa7N5ZbPhCoKYGGB-gqfg   \n",
       "4  Cv5M8MDw8a5NEWvw2AQ4nw  B-s6qOFD75syhwWjp518aA   \n",
       "\n",
       "                                             caption  label  \n",
       "0  Drinks! Front is beer obviously. The pink one ...  drink  \n",
       "1                                                     drink  \n",
       "2                                    Stella on draft  drink  \n",
       "3                                                     drink  \n",
       "4                                                     drink  "
      ]
     },
     "execution_count": 9,
     "metadata": {},
     "output_type": "execute_result"
    }
   ],
   "source": [
    "%%time\n",
    "caption_df = pd.read_json('../data/photos.json', lines=True)\n",
    "caption_df.head()"
   ]
  },
  {
   "cell_type": "code",
   "execution_count": 10,
   "id": "f2923fff",
   "metadata": {},
   "outputs": [
    {
     "data": {
      "text/plain": [
       "(200000, 4)"
      ]
     },
     "execution_count": 10,
     "metadata": {},
     "output_type": "execute_result"
    }
   ],
   "source": [
    "caption_df.shape"
   ]
  },
  {
   "cell_type": "code",
   "execution_count": 11,
   "id": "0528a22f",
   "metadata": {},
   "outputs": [
    {
     "data": {
      "text/html": [
       "<div>\n",
       "<style scoped>\n",
       "    .dataframe tbody tr th:only-of-type {\n",
       "        vertical-align: middle;\n",
       "    }\n",
       "\n",
       "    .dataframe tbody tr th {\n",
       "        vertical-align: top;\n",
       "    }\n",
       "\n",
       "    .dataframe thead th {\n",
       "        text-align: right;\n",
       "    }\n",
       "</style>\n",
       "<table border=\"1\" class=\"dataframe\">\n",
       "  <thead>\n",
       "    <tr style=\"text-align: right;\">\n",
       "      <th></th>\n",
       "      <th>photo_id</th>\n",
       "      <th>business_id</th>\n",
       "      <th>caption</th>\n",
       "      <th>label</th>\n",
       "    </tr>\n",
       "  </thead>\n",
       "  <tbody>\n",
       "    <tr>\n",
       "      <th>0</th>\n",
       "      <td>bnJDeS7YSX7jZM6pTsss2Q</td>\n",
       "      <td>1E2KcGtzZO5v_LgrTiQl9A</td>\n",
       "      <td></td>\n",
       "      <td>drink</td>\n",
       "    </tr>\n",
       "    <tr>\n",
       "      <th>1</th>\n",
       "      <td>hW-4Q4Tk8uWz6YxBhvK-7A</td>\n",
       "      <td>A4js3H3Icd45DaaqfD5dQw</td>\n",
       "      <td>Sex on the beach</td>\n",
       "      <td>drink</td>\n",
       "    </tr>\n",
       "    <tr>\n",
       "      <th>2</th>\n",
       "      <td>Wre7MLQVlzYFk1F_xEao6Q</td>\n",
       "      <td>UXb5pTNPf31BpJ2oiDZBXQ</td>\n",
       "      <td></td>\n",
       "      <td>drink</td>\n",
       "    </tr>\n",
       "    <tr>\n",
       "      <th>3</th>\n",
       "      <td>OT3yqNuH06nZln2utQogAg</td>\n",
       "      <td>xVxjzyMqghCYwVe_dwJzJw</td>\n",
       "      <td>michelada\\, I guess</td>\n",
       "      <td>drink</td>\n",
       "    </tr>\n",
       "    <tr>\n",
       "      <th>4</th>\n",
       "      <td>5oWMVtV136CYv_vjaGU-2A</td>\n",
       "      <td>A7oeXiStIt3uTU9OT07Qpw</td>\n",
       "      <td>Drink choices.</td>\n",
       "      <td>drink</td>\n",
       "    </tr>\n",
       "  </tbody>\n",
       "</table>\n",
       "</div>"
      ],
      "text/plain": [
       "                 photo_id             business_id              caption  label\n",
       "0  bnJDeS7YSX7jZM6pTsss2Q  1E2KcGtzZO5v_LgrTiQl9A                       drink\n",
       "1  hW-4Q4Tk8uWz6YxBhvK-7A  A4js3H3Icd45DaaqfD5dQw     Sex on the beach  drink\n",
       "2  Wre7MLQVlzYFk1F_xEao6Q  UXb5pTNPf31BpJ2oiDZBXQ                       drink\n",
       "3  OT3yqNuH06nZln2utQogAg  xVxjzyMqghCYwVe_dwJzJw  michelada\\, I guess  drink\n",
       "4  5oWMVtV136CYv_vjaGU-2A  A7oeXiStIt3uTU9OT07Qpw       Drink choices.  drink"
      ]
     },
     "execution_count": 11,
     "metadata": {},
     "output_type": "execute_result"
    }
   ],
   "source": [
    "caption_df = caption_df[caption_df['business_id'].isin(restaurant_df['business_id'])].reset_index(drop=True)\n",
    "caption_df.head()"
   ]
  },
  {
   "cell_type": "code",
   "execution_count": 12,
   "id": "88a34660",
   "metadata": {},
   "outputs": [
    {
     "data": {
      "text/plain": [
       "(27053, 4)"
      ]
     },
     "execution_count": 12,
     "metadata": {},
     "output_type": "execute_result"
    }
   ],
   "source": [
    "caption_df.shape"
   ]
  },
  {
   "cell_type": "markdown",
   "id": "f53a774b",
   "metadata": {},
   "source": [
    "We can now export our data frames to CSV files for use in upcoming notebooks for this project."
   ]
  },
  {
   "cell_type": "code",
   "execution_count": 40,
   "id": "bdab4bd4",
   "metadata": {},
   "outputs": [
    {
     "name": "stdout",
     "output_type": "stream",
     "text": [
      "CPU times: user 32.6 s, sys: 1.62 s, total: 34.2 s\n",
      "Wall time: 35.1 s\n"
     ]
    }
   ],
   "source": [
    "%%time\n",
    "restaurant_df.to_csv('../data/ma_restaurant.csv', index=False)\n",
    "review_df.to_csv('../data/ma_review.csv', index=False)\n",
    "user_df.to_csv('../data/ma_user.csv', index=False)\n",
    "checkin_df.to_csv('../data/ma_checkin.csv', index=False)\n",
    "tip_df.to_csv('../data/ma_tip.csv', index=False)\n"
   ]
  }
 ],
 "metadata": {
  "kernelspec": {
   "display_name": "yelp_capstone",
   "language": "python",
   "name": "yelp_capstone"
  },
  "language_info": {
   "codemirror_mode": {
    "name": "ipython",
    "version": 3
   },
   "file_extension": ".py",
   "mimetype": "text/x-python",
   "name": "python",
   "nbconvert_exporter": "python",
   "pygments_lexer": "ipython3",
   "version": "3.8.12"
  },
  "toc": {
   "base_numbering": 1,
   "nav_menu": {},
   "number_sections": true,
   "sideBar": true,
   "skip_h1_title": true,
   "title_cell": "Table of Contents",
   "title_sidebar": "Contents",
   "toc_cell": false,
   "toc_position": {},
   "toc_section_display": true,
   "toc_window_display": true
  },
  "varInspector": {
   "cols": {
    "lenName": 16,
    "lenType": 16,
    "lenVar": 40
   },
   "kernels_config": {
    "python": {
     "delete_cmd_postfix": "",
     "delete_cmd_prefix": "del ",
     "library": "var_list.py",
     "varRefreshCmd": "print(var_dic_list())"
    },
    "r": {
     "delete_cmd_postfix": ") ",
     "delete_cmd_prefix": "rm(",
     "library": "var_list.r",
     "varRefreshCmd": "cat(var_dic_list()) "
    }
   },
   "position": {
    "height": "372.699px",
    "left": "1123.43px",
    "right": "20px",
    "top": "124.989px",
    "width": "350px"
   },
   "types_to_exclude": [
    "module",
    "function",
    "builtin_function_or_method",
    "instance",
    "_Feature"
   ],
   "window_display": false
  }
 },
 "nbformat": 4,
 "nbformat_minor": 5
}
